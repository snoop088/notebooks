{
 "cells": [
  {
   "cell_type": "markdown",
   "id": "a245ed6a-8aeb-42b2-98ef-dc5553e30c37",
   "metadata": {},
   "source": [
    "# Exploring Instructor for Structured Output\n",
    "\n",
    "Instructor makes it easy to get structured data like JSON from LLMs like GPT-3.5, GPT-4, GPT-4-Vision, and open-source models including Mistral/Mixtral, Ollama, and llama-cpp-python.\n",
    "\n",
    "[Link to GitHub](https://python.useinstructor.com)\n",
    "\n",
    "## Structured outputs with Ollama"
   ]
  },
  {
   "cell_type": "code",
   "execution_count": 1,
   "id": "bb249180-1a7e-445e-8c47-19fc654c7305",
   "metadata": {
    "collapsed": true,
    "jupyter": {
     "outputs_hidden": true
    }
   },
   "outputs": [
    {
     "name": "stdout",
     "output_type": "stream",
     "text": [
      "Collecting instructor\n",
      "  Downloading instructor-1.6.4-py3-none-any.whl.metadata (17 kB)\n",
      "Requirement already satisfied: aiohttp<4.0.0,>=3.9.1 in /opt/conda/lib/python3.12/site-packages (from instructor) (3.11.1)\n",
      "Collecting docstring-parser<0.17,>=0.16 (from instructor)\n",
      "  Downloading docstring_parser-0.16-py3-none-any.whl.metadata (3.0 kB)\n",
      "Requirement already satisfied: jinja2<4.0.0,>=3.1.4 in /opt/conda/lib/python3.12/site-packages (from instructor) (3.1.4)\n",
      "Collecting jiter<0.7,>=0.6.1 (from instructor)\n",
      "  Downloading jiter-0.6.1-cp312-cp312-manylinux_2_17_x86_64.manylinux2014_x86_64.whl.metadata (5.2 kB)\n",
      "Requirement already satisfied: openai<2.0.0,>=1.52.0 in /opt/conda/lib/python3.12/site-packages (from instructor) (1.54.4)\n",
      "Requirement already satisfied: pydantic<3.0.0,>=2.8.0 in /opt/conda/lib/python3.12/site-packages (from instructor) (2.9.2)\n",
      "Requirement already satisfied: pydantic-core<3.0.0,>=2.18.0 in /opt/conda/lib/python3.12/site-packages (from instructor) (2.23.4)\n",
      "Requirement already satisfied: requests<3.0.0,>=2.32.3 in /opt/conda/lib/python3.12/site-packages (from instructor) (2.32.3)\n",
      "Requirement already satisfied: rich<14.0.0,>=13.7.0 in /opt/conda/lib/python3.12/site-packages (from instructor) (13.9.4)\n",
      "Requirement already satisfied: tenacity<10.0.0,>=9.0.0 in /opt/conda/lib/python3.12/site-packages (from instructor) (9.0.0)\n",
      "Requirement already satisfied: typer<1.0.0,>=0.9.0 in /opt/conda/lib/python3.12/site-packages (from instructor) (0.13.0)\n",
      "Requirement already satisfied: aiohappyeyeballs>=2.3.0 in /opt/conda/lib/python3.12/site-packages (from aiohttp<4.0.0,>=3.9.1->instructor) (2.4.3)\n",
      "Requirement already satisfied: aiosignal>=1.1.2 in /opt/conda/lib/python3.12/site-packages (from aiohttp<4.0.0,>=3.9.1->instructor) (1.3.1)\n",
      "Requirement already satisfied: attrs>=17.3.0 in /opt/conda/lib/python3.12/site-packages (from aiohttp<4.0.0,>=3.9.1->instructor) (24.2.0)\n",
      "Requirement already satisfied: frozenlist>=1.1.1 in /opt/conda/lib/python3.12/site-packages (from aiohttp<4.0.0,>=3.9.1->instructor) (1.5.0)\n",
      "Requirement already satisfied: multidict<7.0,>=4.5 in /opt/conda/lib/python3.12/site-packages (from aiohttp<4.0.0,>=3.9.1->instructor) (6.1.0)\n",
      "Requirement already satisfied: propcache>=0.2.0 in /opt/conda/lib/python3.12/site-packages (from aiohttp<4.0.0,>=3.9.1->instructor) (0.2.0)\n",
      "Requirement already satisfied: yarl<2.0,>=1.17.0 in /opt/conda/lib/python3.12/site-packages (from aiohttp<4.0.0,>=3.9.1->instructor) (1.17.1)\n",
      "Requirement already satisfied: MarkupSafe>=2.0 in /opt/conda/lib/python3.12/site-packages (from jinja2<4.0.0,>=3.1.4->instructor) (3.0.2)\n",
      "Requirement already satisfied: anyio<5,>=3.5.0 in /opt/conda/lib/python3.12/site-packages (from openai<2.0.0,>=1.52.0->instructor) (4.6.2.post1)\n",
      "Requirement already satisfied: distro<2,>=1.7.0 in /opt/conda/lib/python3.12/site-packages (from openai<2.0.0,>=1.52.0->instructor) (1.9.0)\n",
      "Requirement already satisfied: httpx<1,>=0.23.0 in /opt/conda/lib/python3.12/site-packages (from openai<2.0.0,>=1.52.0->instructor) (0.27.2)\n",
      "Requirement already satisfied: sniffio in /opt/conda/lib/python3.12/site-packages (from openai<2.0.0,>=1.52.0->instructor) (1.3.1)\n",
      "Requirement already satisfied: tqdm>4 in /opt/conda/lib/python3.12/site-packages (from openai<2.0.0,>=1.52.0->instructor) (4.67.0)\n",
      "Requirement already satisfied: typing-extensions<5,>=4.11 in /opt/conda/lib/python3.12/site-packages (from openai<2.0.0,>=1.52.0->instructor) (4.12.2)\n",
      "Requirement already satisfied: annotated-types>=0.6.0 in /opt/conda/lib/python3.12/site-packages (from pydantic<3.0.0,>=2.8.0->instructor) (0.7.0)\n",
      "Requirement already satisfied: charset-normalizer<4,>=2 in /opt/conda/lib/python3.12/site-packages (from requests<3.0.0,>=2.32.3->instructor) (3.4.0)\n",
      "Requirement already satisfied: idna<4,>=2.5 in /opt/conda/lib/python3.12/site-packages (from requests<3.0.0,>=2.32.3->instructor) (3.10)\n",
      "Requirement already satisfied: urllib3<3,>=1.21.1 in /opt/conda/lib/python3.12/site-packages (from requests<3.0.0,>=2.32.3->instructor) (2.2.3)\n",
      "Requirement already satisfied: certifi>=2017.4.17 in /opt/conda/lib/python3.12/site-packages (from requests<3.0.0,>=2.32.3->instructor) (2024.8.30)\n",
      "Requirement already satisfied: markdown-it-py>=2.2.0 in /opt/conda/lib/python3.12/site-packages (from rich<14.0.0,>=13.7.0->instructor) (3.0.0)\n",
      "Requirement already satisfied: pygments<3.0.0,>=2.13.0 in /opt/conda/lib/python3.12/site-packages (from rich<14.0.0,>=13.7.0->instructor) (2.18.0)\n",
      "Requirement already satisfied: click>=8.0.0 in /opt/conda/lib/python3.12/site-packages (from typer<1.0.0,>=0.9.0->instructor) (8.1.7)\n",
      "Requirement already satisfied: shellingham>=1.3.0 in /opt/conda/lib/python3.12/site-packages (from typer<1.0.0,>=0.9.0->instructor) (1.5.4)\n",
      "Requirement already satisfied: httpcore==1.* in /opt/conda/lib/python3.12/site-packages (from httpx<1,>=0.23.0->openai<2.0.0,>=1.52.0->instructor) (1.0.6)\n",
      "Requirement already satisfied: h11<0.15,>=0.13 in /opt/conda/lib/python3.12/site-packages (from httpcore==1.*->httpx<1,>=0.23.0->openai<2.0.0,>=1.52.0->instructor) (0.14.0)\n",
      "Requirement already satisfied: mdurl~=0.1 in /opt/conda/lib/python3.12/site-packages (from markdown-it-py>=2.2.0->rich<14.0.0,>=13.7.0->instructor) (0.1.2)\n",
      "Downloading instructor-1.6.4-py3-none-any.whl (70 kB)\n",
      "Downloading docstring_parser-0.16-py3-none-any.whl (36 kB)\n",
      "Downloading jiter-0.6.1-cp312-cp312-manylinux_2_17_x86_64.manylinux2014_x86_64.whl (324 kB)\n",
      "Installing collected packages: jiter, docstring-parser, instructor\n",
      "  Attempting uninstall: jiter\n",
      "    Found existing installation: jiter 0.7.1\n",
      "    Uninstalling jiter-0.7.1:\n",
      "      Successfully uninstalled jiter-0.7.1\n",
      "Successfully installed docstring-parser-0.16 instructor-1.6.4 jiter-0.6.1\n"
     ]
    }
   ],
   "source": [
    "!pip install instructor"
   ]
  },
  {
   "cell_type": "code",
   "execution_count": 1,
   "id": "02e7960b-a654-4de8-a98c-65e88de6e3a8",
   "metadata": {},
   "outputs": [],
   "source": [
    "from openai import OpenAI\n",
    "from pydantic import BaseModel, Field\n",
    "from typing import List\n",
    "from pprint import pprint\n",
    "from langchain_ollama import ChatOllama\n",
    "from langchain_core.messages import HumanMessage, SystemMessage, AIMessage\n",
    "\n",
    "import instructor"
   ]
  },
  {
   "cell_type": "code",
   "execution_count": 2,
   "id": "eda2f999-fbc8-472a-83cd-761102efa37e",
   "metadata": {},
   "outputs": [],
   "source": [
    "from dotenv import load_dotenv, find_dotenv\n",
    "_ = load_dotenv(find_dotenv()) # read local .env file"
   ]
  },
  {
   "cell_type": "code",
   "execution_count": 38,
   "id": "3c9a580e-2976-46ce-a2d4-9bcfa92149eb",
   "metadata": {},
   "outputs": [],
   "source": [
    "llm = instructor.from_openai(OpenAI(\n",
    "        base_url=\"http://ollama:11434/v1\",\n",
    "        api_key=\"ollama\",  # required, but unused\n",
    "    ),\n",
    "    mode=instructor.Mode.JSON,\n",
    "    temperature=0.1\n",
    ")"
   ]
  },
  {
   "cell_type": "code",
   "execution_count": 29,
   "id": "b0ba294c-d3c6-4328-a2c8-a8b32b8fee87",
   "metadata": {},
   "outputs": [],
   "source": [
    "llm = instructor.from_openai(OpenAI(), mode=instructor.Mode.JSON)"
   ]
  },
  {
   "cell_type": "code",
   "execution_count": 4,
   "id": "7b6e9360-945f-4395-acb5-df9361d51ff4",
   "metadata": {},
   "outputs": [
    {
     "data": {
      "text/plain": [
       "<instructor.client.Instructor at 0x7c5b2bd2d730>"
      ]
     },
     "execution_count": 4,
     "metadata": {},
     "output_type": "execute_result"
    }
   ],
   "source": [
    "llm"
   ]
  },
  {
   "cell_type": "code",
   "execution_count": 39,
   "id": "1409af64-10b4-4946-928f-d58279cc1c1c",
   "metadata": {},
   "outputs": [],
   "source": [
    "class Person(BaseModel):\n",
    "    name: str = Field(description=\"Person's name\")\n",
    "    span: str = Field(description=\"Years active in sports\")\n",
    "    facts: List[str] = Field(description=\"A list of 5 interesting facts about the person\")\n"
   ]
  },
  {
   "cell_type": "code",
   "execution_count": 55,
   "id": "d69cc8f0-ba8c-4fb4-adbb-80548d5f7053",
   "metadata": {},
   "outputs": [],
   "source": [
    "# messages = [SystemMessage(\"You are a helpful assistant with profound knowledge in history. You are helping your human friends by answering their questions on important people of the past.\"),\n",
    "#            HumanMessage(\"Can you tell me about 4 important people who lived in the 16th century.\")]"
   ]
  },
  {
   "cell_type": "code",
   "execution_count": 49,
   "id": "42f90636-9837-49b0-88cc-f53123d78ae7",
   "metadata": {},
   "outputs": [],
   "source": [
    "messages_alt = [\n",
    "    {\"role\": \"system\", \"content\": \"You are a helpful assistant with profound knowledge in world sport. You are helping your human friends by answering their questions on famous people in sports.\"},\n",
    "    {\"role\": \"user\", \"content\": \"Can you compare and contrast between Dimitar Berbatov and Hristo Stoichkov\"}\n",
    "]"
   ]
  },
  {
   "cell_type": "code",
   "execution_count": 50,
   "id": "999a0fa9-3271-41a0-af88-c5127210493d",
   "metadata": {},
   "outputs": [],
   "source": [
    "resp = llm.chat.completions.create(\n",
    "    model=\"llama3.1:8b-instruct-fp16\",\n",
    "    messages=messages_alt,\n",
    "    response_model=List[Person])"
   ]
  },
  {
   "cell_type": "code",
   "execution_count": 51,
   "id": "f9911b0e-9046-4586-8e4c-cfa35db832b1",
   "metadata": {},
   "outputs": [
    {
     "name": "stdout",
     "output_type": "stream",
     "text": [
      "{\n",
      "  \"name\": \"Dimitar Berbatov\",\n",
      "  \"span\": \"1996-2017\",\n",
      "  \"facts\": [\n",
      "    \"He is a Bulgarian former professional footballer who played as a striker.\",\n",
      "    \"Berbatov has won numerous titles, including the Premier League Golden Boot in 2009 and the UEFA Cup with Tottenham Hotspur in 2008.\",\n",
      "    \"He was named the Bulgarian Footballer of the Year five times between 2004 and 2010.\",\n",
      "    \"Berbatov made his international debut for Bulgaria in 1999 and earned over 80 caps, scoring 48 goals.\",\n",
      "    \"He played for clubs such as Bayer Leverkusen, Tottenham Hotspur, Manchester United, Fulham, and Monaco during his career.\"\n",
      "  ]\n",
      "}\n",
      "{\n",
      "  \"name\": \"Hristo Stoichkov\",\n",
      "  \"span\": \"1982-2003\",\n",
      "  \"facts\": [\n",
      "    \"He is a Bulgarian former professional footballer who played as an attacking midfielder or forward.\",\n",
      "    \"Stoichkov won the Golden Boot at the 1994 FIFA World Cup, scoring six goals in the tournament.\",\n",
      "    \"He was named the European Footballer of the Year in 1994 and the FIFA World Player of the Year in 1992.\",\n",
      "    \"Stoichkov played for clubs such as CSKA Sofia, Barcelona, Parma, and Al-Nasr during his career.\",\n",
      "    \"He earned over 80 caps for Bulgaria, scoring 48 goals and helping the team reach the quarterfinals at the 1994 FIFA World Cup.\"\n",
      "  ]\n",
      "}\n"
     ]
    }
   ],
   "source": [
    "for i in resp:\n",
    "    print(i.model_dump_json(indent=2))"
   ]
  },
  {
   "cell_type": "code",
   "execution_count": 27,
   "id": "8c091982-02b7-4718-850d-6a67bbac224e",
   "metadata": {},
   "outputs": [
    {
     "data": {
      "text/plain": [
       "'Isaac Newton'"
      ]
     },
     "execution_count": 27,
     "metadata": {},
     "output_type": "execute_result"
    }
   ],
   "source": [
    "resp[1].name"
   ]
  },
  {
   "cell_type": "markdown",
   "id": "5cc519de-3579-405a-bbe2-3a408625edd2",
   "metadata": {},
   "source": [
    "### Defining additional Ollama models\n",
    "\n",
    "So far we are only dealing with publicly available models, but it would be worth while to try and build one which is fine tuned."
   ]
  },
  {
   "cell_type": "code",
   "execution_count": 70,
   "id": "19aa7b9b-37fc-41b7-8e5b-12fd7d897d16",
   "metadata": {},
   "outputs": [],
   "source": [
    "from ollama import Client\n",
    "\n",
    "cl = Client(host=\"ollama\")\n"
   ]
  },
  {
   "cell_type": "code",
   "execution_count": 71,
   "id": "5b31cd11-5071-45c0-8dba-5feef0abe4a0",
   "metadata": {},
   "outputs": [
    {
     "data": {
      "text/plain": [
       "{'status': 'success'}"
      ]
     },
     "execution_count": 71,
     "metadata": {},
     "output_type": "execute_result"
    }
   ],
   "source": [
    "cl.pull(model=\"llama3.1:8b-instruct-fp16\")"
   ]
  }
 ],
 "metadata": {
  "kernelspec": {
   "display_name": "Python 3 (ipykernel)",
   "language": "python",
   "name": "python3"
  },
  "language_info": {
   "codemirror_mode": {
    "name": "ipython",
    "version": 3
   },
   "file_extension": ".py",
   "mimetype": "text/x-python",
   "name": "python",
   "nbconvert_exporter": "python",
   "pygments_lexer": "ipython3",
   "version": "3.12.7"
  }
 },
 "nbformat": 4,
 "nbformat_minor": 5
}
