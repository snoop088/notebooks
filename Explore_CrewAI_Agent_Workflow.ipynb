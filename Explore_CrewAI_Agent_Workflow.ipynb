{
 "cells": [
  {
   "cell_type": "markdown",
   "id": "ad8107b7-9787-431c-b26a-1881222788dd",
   "metadata": {},
   "source": [
    "# Lets Explore Crew AI Agentic Workflow\n",
    "\n",
    "**Task**: How to build a workflow that prepares steps for a business plan??\n",
    "\n",
    "Lets Research the topic with Claude first"
   ]
  },
  {
   "cell_type": "markdown",
   "id": "771d8250-0fa4-4899-9d24-cbcde2b63f40",
   "metadata": {},
   "source": []
  }
 ],
 "metadata": {
  "kernelspec": {
   "display_name": "Python 3 (ipykernel)",
   "language": "python",
   "name": "python3"
  },
  "language_info": {
   "codemirror_mode": {
    "name": "ipython",
    "version": 3
   },
   "file_extension": ".py",
   "mimetype": "text/x-python",
   "name": "python",
   "nbconvert_exporter": "python",
   "pygments_lexer": "ipython3",
   "version": "3.11.9"
  }
 },
 "nbformat": 4,
 "nbformat_minor": 5
}
