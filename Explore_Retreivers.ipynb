{
 "cells": [
  {
   "cell_type": "markdown",
   "id": "eac4947c-8f4d-4fd0-92da-6555c8ff0ad8",
   "metadata": {},
   "source": [
    "## Various Retreivers and Experiments\n",
    "\n",
    "### ChromaDB For Similarity Searches\n",
    "\n",
    "Exploring the ChromaDB with LangChain for various document searches.\n",
    "\n",
    "Reranking is another field to explore at some point.\n",
    "\n",
    "Playground is IMDB Movie Review scraped data and Streameye Blog"
   ]
  },
  {
   "cell_type": "code",
   "execution_count": null,
   "id": "a3fec800-96a0-40a9-96bf-d6f1e133dd7d",
   "metadata": {},
   "outputs": [],
   "source": []
  }
 ],
 "metadata": {
  "kernelspec": {
   "display_name": "Python 3 (ipykernel)",
   "language": "python",
   "name": "python3"
  },
  "language_info": {
   "codemirror_mode": {
    "name": "ipython",
    "version": 3
   },
   "file_extension": ".py",
   "mimetype": "text/x-python",
   "name": "python",
   "nbconvert_exporter": "python",
   "pygments_lexer": "ipython3",
   "version": "3.11.6"
  }
 },
 "nbformat": 4,
 "nbformat_minor": 5
}
