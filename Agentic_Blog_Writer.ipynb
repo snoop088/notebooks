{
 "cells": [
  {
   "cell_type": "code",
   "execution_count": 80,
   "id": "be0f18b5-3bde-4a26-9a52-77e35f903ddc",
   "metadata": {
    "collapsed": true,
    "jupyter": {
     "outputs_hidden": true
    }
   },
   "outputs": [
    {
     "name": "stdout",
     "output_type": "stream",
     "text": [
      "Requirement already satisfied: instructor in /opt/conda/lib/python3.12/site-packages (1.7.2)\n",
      "Requirement already satisfied: aiohttp<4.0.0,>=3.9.1 in /opt/conda/lib/python3.12/site-packages (from instructor) (3.11.1)\n",
      "Requirement already satisfied: docstring-parser<1.0,>=0.16 in /opt/conda/lib/python3.12/site-packages (from instructor) (0.16)\n",
      "Requirement already satisfied: jinja2<4.0.0,>=3.1.4 in /opt/conda/lib/python3.12/site-packages (from instructor) (3.1.4)\n",
      "Requirement already satisfied: jiter<0.9,>=0.6.1 in /opt/conda/lib/python3.12/site-packages (from instructor) (0.7.1)\n",
      "Requirement already satisfied: openai<2.0.0,>=1.52.0 in /opt/conda/lib/python3.12/site-packages (from instructor) (1.65.1)\n",
      "Requirement already satisfied: pydantic-core<3.0.0,>=2.18.0 in /opt/conda/lib/python3.12/site-packages (from instructor) (2.23.4)\n",
      "Requirement already satisfied: pydantic<3.0.0,>=2.8.0 in /opt/conda/lib/python3.12/site-packages (from instructor) (2.9.2)\n",
      "Requirement already satisfied: requests<3.0.0,>=2.32.3 in /opt/conda/lib/python3.12/site-packages (from instructor) (2.32.3)\n",
      "Requirement already satisfied: rich<14.0.0,>=13.7.0 in /opt/conda/lib/python3.12/site-packages (from instructor) (13.9.4)\n",
      "Requirement already satisfied: tenacity<10.0.0,>=9.0.0 in /opt/conda/lib/python3.12/site-packages (from instructor) (9.0.0)\n",
      "Requirement already satisfied: typer<1.0.0,>=0.9.0 in /opt/conda/lib/python3.12/site-packages (from instructor) (0.13.0)\n",
      "Requirement already satisfied: aiohappyeyeballs>=2.3.0 in /opt/conda/lib/python3.12/site-packages (from aiohttp<4.0.0,>=3.9.1->instructor) (2.4.3)\n",
      "Requirement already satisfied: aiosignal>=1.1.2 in /opt/conda/lib/python3.12/site-packages (from aiohttp<4.0.0,>=3.9.1->instructor) (1.3.1)\n",
      "Requirement already satisfied: attrs>=17.3.0 in /opt/conda/lib/python3.12/site-packages (from aiohttp<4.0.0,>=3.9.1->instructor) (24.2.0)\n",
      "Requirement already satisfied: frozenlist>=1.1.1 in /opt/conda/lib/python3.12/site-packages (from aiohttp<4.0.0,>=3.9.1->instructor) (1.5.0)\n",
      "Requirement already satisfied: multidict<7.0,>=4.5 in /opt/conda/lib/python3.12/site-packages (from aiohttp<4.0.0,>=3.9.1->instructor) (6.1.0)\n",
      "Requirement already satisfied: propcache>=0.2.0 in /opt/conda/lib/python3.12/site-packages (from aiohttp<4.0.0,>=3.9.1->instructor) (0.2.0)\n",
      "Requirement already satisfied: yarl<2.0,>=1.17.0 in /opt/conda/lib/python3.12/site-packages (from aiohttp<4.0.0,>=3.9.1->instructor) (1.17.1)\n",
      "Requirement already satisfied: MarkupSafe>=2.0 in /opt/conda/lib/python3.12/site-packages (from jinja2<4.0.0,>=3.1.4->instructor) (2.1.5)\n",
      "Requirement already satisfied: anyio<5,>=3.5.0 in /opt/conda/lib/python3.12/site-packages (from openai<2.0.0,>=1.52.0->instructor) (4.6.2.post1)\n",
      "Requirement already satisfied: distro<2,>=1.7.0 in /opt/conda/lib/python3.12/site-packages (from openai<2.0.0,>=1.52.0->instructor) (1.9.0)\n",
      "Requirement already satisfied: httpx<1,>=0.23.0 in /opt/conda/lib/python3.12/site-packages (from openai<2.0.0,>=1.52.0->instructor) (0.27.2)\n",
      "Requirement already satisfied: sniffio in /opt/conda/lib/python3.12/site-packages (from openai<2.0.0,>=1.52.0->instructor) (1.3.1)\n",
      "Requirement already satisfied: tqdm>4 in /opt/conda/lib/python3.12/site-packages (from openai<2.0.0,>=1.52.0->instructor) (4.67.0)\n",
      "Requirement already satisfied: typing-extensions<5,>=4.11 in /opt/conda/lib/python3.12/site-packages (from openai<2.0.0,>=1.52.0->instructor) (4.12.2)\n",
      "Requirement already satisfied: annotated-types>=0.6.0 in /opt/conda/lib/python3.12/site-packages (from pydantic<3.0.0,>=2.8.0->instructor) (0.7.0)\n",
      "Requirement already satisfied: charset-normalizer<4,>=2 in /opt/conda/lib/python3.12/site-packages (from requests<3.0.0,>=2.32.3->instructor) (3.4.0)\n",
      "Requirement already satisfied: idna<4,>=2.5 in /opt/conda/lib/python3.12/site-packages (from requests<3.0.0,>=2.32.3->instructor) (3.10)\n",
      "Requirement already satisfied: urllib3<3,>=1.21.1 in /opt/conda/lib/python3.12/site-packages (from requests<3.0.0,>=2.32.3->instructor) (2.2.3)\n",
      "Requirement already satisfied: certifi>=2017.4.17 in /opt/conda/lib/python3.12/site-packages (from requests<3.0.0,>=2.32.3->instructor) (2024.8.30)\n",
      "Requirement already satisfied: markdown-it-py>=2.2.0 in /opt/conda/lib/python3.12/site-packages (from rich<14.0.0,>=13.7.0->instructor) (3.0.0)\n",
      "Requirement already satisfied: pygments<3.0.0,>=2.13.0 in /opt/conda/lib/python3.12/site-packages (from rich<14.0.0,>=13.7.0->instructor) (2.18.0)\n",
      "Requirement already satisfied: click>=8.0.0 in /opt/conda/lib/python3.12/site-packages (from typer<1.0.0,>=0.9.0->instructor) (8.1.7)\n",
      "Requirement already satisfied: shellingham>=1.3.0 in /opt/conda/lib/python3.12/site-packages (from typer<1.0.0,>=0.9.0->instructor) (1.5.4)\n",
      "Requirement already satisfied: httpcore==1.* in /opt/conda/lib/python3.12/site-packages (from httpx<1,>=0.23.0->openai<2.0.0,>=1.52.0->instructor) (1.0.6)\n",
      "Requirement already satisfied: h11<0.15,>=0.13 in /opt/conda/lib/python3.12/site-packages (from httpcore==1.*->httpx<1,>=0.23.0->openai<2.0.0,>=1.52.0->instructor) (0.14.0)\n",
      "Requirement already satisfied: mdurl~=0.1 in /opt/conda/lib/python3.12/site-packages (from markdown-it-py>=2.2.0->rich<14.0.0,>=13.7.0->instructor) (0.1.2)\n",
      "Note: you may need to restart the kernel to use updated packages.\n",
      "Requirement already satisfied: langgraph-checkpoint-sqlite in /opt/conda/lib/python3.12/site-packages (2.0.5)\n",
      "Requirement already satisfied: aiosqlite<0.21.0,>=0.20.0 in /opt/conda/lib/python3.12/site-packages (from langgraph-checkpoint-sqlite) (0.20.0)\n",
      "Requirement already satisfied: langgraph-checkpoint<3.0.0,>=2.0.15 in /opt/conda/lib/python3.12/site-packages (from langgraph-checkpoint-sqlite) (2.0.15)\n",
      "Requirement already satisfied: typing_extensions>=4.0 in /opt/conda/lib/python3.12/site-packages (from aiosqlite<0.21.0,>=0.20.0->langgraph-checkpoint-sqlite) (4.12.2)\n",
      "Requirement already satisfied: langchain-core<0.4,>=0.2.38 in /opt/conda/lib/python3.12/site-packages (from langgraph-checkpoint<3.0.0,>=2.0.15->langgraph-checkpoint-sqlite) (0.3.35)\n",
      "Requirement already satisfied: msgpack<2.0.0,>=1.1.0 in /opt/conda/lib/python3.12/site-packages (from langgraph-checkpoint<3.0.0,>=2.0.15->langgraph-checkpoint-sqlite) (1.1.0)\n",
      "Requirement already satisfied: langsmith<0.4,>=0.1.125 in /opt/conda/lib/python3.12/site-packages (from langchain-core<0.4,>=0.2.38->langgraph-checkpoint<3.0.0,>=2.0.15->langgraph-checkpoint-sqlite) (0.1.143)\n",
      "Requirement already satisfied: tenacity!=8.4.0,<10.0.0,>=8.1.0 in /opt/conda/lib/python3.12/site-packages (from langchain-core<0.4,>=0.2.38->langgraph-checkpoint<3.0.0,>=2.0.15->langgraph-checkpoint-sqlite) (9.0.0)\n",
      "Requirement already satisfied: jsonpatch<2.0,>=1.33 in /opt/conda/lib/python3.12/site-packages (from langchain-core<0.4,>=0.2.38->langgraph-checkpoint<3.0.0,>=2.0.15->langgraph-checkpoint-sqlite) (1.33)\n",
      "Requirement already satisfied: PyYAML>=5.3 in /opt/conda/lib/python3.12/site-packages (from langchain-core<0.4,>=0.2.38->langgraph-checkpoint<3.0.0,>=2.0.15->langgraph-checkpoint-sqlite) (6.0.2)\n",
      "Requirement already satisfied: packaging<25,>=23.2 in /opt/conda/lib/python3.12/site-packages (from langchain-core<0.4,>=0.2.38->langgraph-checkpoint<3.0.0,>=2.0.15->langgraph-checkpoint-sqlite) (24.1)\n",
      "Requirement already satisfied: pydantic<3.0.0,>=2.7.4 in /opt/conda/lib/python3.12/site-packages (from langchain-core<0.4,>=0.2.38->langgraph-checkpoint<3.0.0,>=2.0.15->langgraph-checkpoint-sqlite) (2.9.2)\n",
      "Requirement already satisfied: jsonpointer>=1.9 in /opt/conda/lib/python3.12/site-packages (from jsonpatch<2.0,>=1.33->langchain-core<0.4,>=0.2.38->langgraph-checkpoint<3.0.0,>=2.0.15->langgraph-checkpoint-sqlite) (3.0.0)\n",
      "Requirement already satisfied: httpx<1,>=0.23.0 in /opt/conda/lib/python3.12/site-packages (from langsmith<0.4,>=0.1.125->langchain-core<0.4,>=0.2.38->langgraph-checkpoint<3.0.0,>=2.0.15->langgraph-checkpoint-sqlite) (0.27.2)\n",
      "Requirement already satisfied: orjson<4.0.0,>=3.9.14 in /opt/conda/lib/python3.12/site-packages (from langsmith<0.4,>=0.1.125->langchain-core<0.4,>=0.2.38->langgraph-checkpoint<3.0.0,>=2.0.15->langgraph-checkpoint-sqlite) (3.10.11)\n",
      "Requirement already satisfied: requests<3,>=2 in /opt/conda/lib/python3.12/site-packages (from langsmith<0.4,>=0.1.125->langchain-core<0.4,>=0.2.38->langgraph-checkpoint<3.0.0,>=2.0.15->langgraph-checkpoint-sqlite) (2.32.3)\n",
      "Requirement already satisfied: requests-toolbelt<2.0.0,>=1.0.0 in /opt/conda/lib/python3.12/site-packages (from langsmith<0.4,>=0.1.125->langchain-core<0.4,>=0.2.38->langgraph-checkpoint<3.0.0,>=2.0.15->langgraph-checkpoint-sqlite) (1.0.0)\n",
      "Requirement already satisfied: annotated-types>=0.6.0 in /opt/conda/lib/python3.12/site-packages (from pydantic<3.0.0,>=2.7.4->langchain-core<0.4,>=0.2.38->langgraph-checkpoint<3.0.0,>=2.0.15->langgraph-checkpoint-sqlite) (0.7.0)\n",
      "Requirement already satisfied: pydantic-core==2.23.4 in /opt/conda/lib/python3.12/site-packages (from pydantic<3.0.0,>=2.7.4->langchain-core<0.4,>=0.2.38->langgraph-checkpoint<3.0.0,>=2.0.15->langgraph-checkpoint-sqlite) (2.23.4)\n",
      "Requirement already satisfied: anyio in /opt/conda/lib/python3.12/site-packages (from httpx<1,>=0.23.0->langsmith<0.4,>=0.1.125->langchain-core<0.4,>=0.2.38->langgraph-checkpoint<3.0.0,>=2.0.15->langgraph-checkpoint-sqlite) (4.6.2.post1)\n",
      "Requirement already satisfied: certifi in /opt/conda/lib/python3.12/site-packages (from httpx<1,>=0.23.0->langsmith<0.4,>=0.1.125->langchain-core<0.4,>=0.2.38->langgraph-checkpoint<3.0.0,>=2.0.15->langgraph-checkpoint-sqlite) (2024.8.30)\n",
      "Requirement already satisfied: httpcore==1.* in /opt/conda/lib/python3.12/site-packages (from httpx<1,>=0.23.0->langsmith<0.4,>=0.1.125->langchain-core<0.4,>=0.2.38->langgraph-checkpoint<3.0.0,>=2.0.15->langgraph-checkpoint-sqlite) (1.0.6)\n",
      "Requirement already satisfied: idna in /opt/conda/lib/python3.12/site-packages (from httpx<1,>=0.23.0->langsmith<0.4,>=0.1.125->langchain-core<0.4,>=0.2.38->langgraph-checkpoint<3.0.0,>=2.0.15->langgraph-checkpoint-sqlite) (3.10)\n",
      "Requirement already satisfied: sniffio in /opt/conda/lib/python3.12/site-packages (from httpx<1,>=0.23.0->langsmith<0.4,>=0.1.125->langchain-core<0.4,>=0.2.38->langgraph-checkpoint<3.0.0,>=2.0.15->langgraph-checkpoint-sqlite) (1.3.1)\n",
      "Requirement already satisfied: h11<0.15,>=0.13 in /opt/conda/lib/python3.12/site-packages (from httpcore==1.*->httpx<1,>=0.23.0->langsmith<0.4,>=0.1.125->langchain-core<0.4,>=0.2.38->langgraph-checkpoint<3.0.0,>=2.0.15->langgraph-checkpoint-sqlite) (0.14.0)\n",
      "Requirement already satisfied: charset-normalizer<4,>=2 in /opt/conda/lib/python3.12/site-packages (from requests<3,>=2->langsmith<0.4,>=0.1.125->langchain-core<0.4,>=0.2.38->langgraph-checkpoint<3.0.0,>=2.0.15->langgraph-checkpoint-sqlite) (3.4.0)\n",
      "Requirement already satisfied: urllib3<3,>=1.21.1 in /opt/conda/lib/python3.12/site-packages (from requests<3,>=2->langsmith<0.4,>=0.1.125->langchain-core<0.4,>=0.2.38->langgraph-checkpoint<3.0.0,>=2.0.15->langgraph-checkpoint-sqlite) (2.2.3)\n",
      "Note: you may need to restart the kernel to use updated packages.\n",
      "Collecting pdfplumber\n",
      "  Downloading pdfplumber-0.11.5-py3-none-any.whl.metadata (42 kB)\n",
      "Collecting pdfminer.six==20231228 (from pdfplumber)\n",
      "  Downloading pdfminer.six-20231228-py3-none-any.whl.metadata (4.2 kB)\n",
      "Requirement already satisfied: Pillow>=9.1 in /opt/conda/lib/python3.12/site-packages (from pdfplumber) (11.0.0)\n",
      "Collecting pypdfium2>=4.18.0 (from pdfplumber)\n",
      "  Downloading pypdfium2-4.30.1-py3-none-manylinux_2_17_x86_64.manylinux2014_x86_64.whl.metadata (48 kB)\n",
      "Requirement already satisfied: charset-normalizer>=2.0.0 in /opt/conda/lib/python3.12/site-packages (from pdfminer.six==20231228->pdfplumber) (3.4.0)\n",
      "Requirement already satisfied: cryptography>=36.0.0 in /opt/conda/lib/python3.12/site-packages (from pdfminer.six==20231228->pdfplumber) (43.0.3)\n",
      "Requirement already satisfied: cffi>=1.12 in /opt/conda/lib/python3.12/site-packages (from cryptography>=36.0.0->pdfminer.six==20231228->pdfplumber) (1.17.1)\n",
      "Requirement already satisfied: pycparser in /opt/conda/lib/python3.12/site-packages (from cffi>=1.12->cryptography>=36.0.0->pdfminer.six==20231228->pdfplumber) (2.22)\n",
      "Downloading pdfplumber-0.11.5-py3-none-any.whl (59 kB)\n",
      "Downloading pdfminer.six-20231228-py3-none-any.whl (5.6 MB)\n",
      "\u001b[2K   \u001b[90m━━━━━━━━━━━━━━━━━━━━━━━━━━━━━━━━━━━━━━━━\u001b[0m \u001b[32m5.6/5.6 MB\u001b[0m \u001b[31m64.5 MB/s\u001b[0m eta \u001b[36m0:00:00\u001b[0m\n",
      "\u001b[?25hDownloading pypdfium2-4.30.1-py3-none-manylinux_2_17_x86_64.manylinux2014_x86_64.whl (2.9 MB)\n",
      "\u001b[2K   \u001b[90m━━━━━━━━━━━━━━━━━━━━━━━━━━━━━━━━━━━━━━━━\u001b[0m \u001b[32m2.9/2.9 MB\u001b[0m \u001b[31m53.9 MB/s\u001b[0m eta \u001b[36m0:00:00\u001b[0m\n",
      "\u001b[?25hInstalling collected packages: pypdfium2, pdfminer.six, pdfplumber\n",
      "Successfully installed pdfminer.six-20231228 pdfplumber-0.11.5 pypdfium2-4.30.1\n",
      "Note: you may need to restart the kernel to use updated packages.\n"
     ]
    }
   ],
   "source": [
    "%pip install instructor\n",
    "%pip install langgraph-checkpoint-sqlite\n",
    "%pip install pdfplumber\n",
    "%pip install aiohttp nest_asyncio\n",
    "# %pip install -U langgraph\n",
    "# %pip install \"python-lsp-server[yapf]\""
   ]
  },
  {
   "cell_type": "markdown",
   "id": "889b0870-e812-4fff-8043-183323ffb744",
   "metadata": {},
   "source": [
    "# The Agentic Blog Writer\n",
    "\n",
    "> A study to create agentic process for writing blogs on given topics. The solution should include few agents organised in a graph. The input should be the topic to research\n",
    "\n",
    "## Agent Definitions\n",
    "\n",
    "The agents that would formulate the graph are the following:\n",
    "\n",
    "- Topics Writer\n",
    "    - It will take in company specifics - previous articles and usps\n",
    "    - It will analyse the industry which the company belongs to\n",
    "    - It will take in a target for the company, e.g.\n",
    "      - increase company popularity (awareness)\n",
    "      - promote company services\n",
    "      - find technology trends that relate to the company's industry\n",
    "    - It will produce 3 directions to research\n",
    "- Researcher(s)\n",
    "  - For each of the topics span a researcher\n",
    "  - Researches would take in the topic and rationale\n",
    "  - They will produce search prompts\n",
    "  - They will take in questions by the copywriter to produce additional prompts until a total of search iterations\n",
    "  - The output should be a writing plan for a blog post on the topic\n"
   ]
  },
  {
   "cell_type": "code",
   "execution_count": 97,
   "id": "29328bfa-a628-467b-bdfd-5bb039e6ac1b",
   "metadata": {},
   "outputs": [],
   "source": [
    "from typing import List\n",
    "from typing_extensions import TypedDict, Literal, Annotated\n",
    "from pydantic import BaseModel, Field\n",
    "from langchain_ollama import ChatOllama\n",
    "from langchain_openai import ChatOpenAI\n",
    "from ollama import Client\n",
    "\n",
    "from IPython.display import Image, Markdown, display\n",
    "from langgraph.graph import START, END, StateGraph, MessagesState\n",
    "from langgraph.checkpoint.memory import MemorySaver\n",
    "from langchain_core.messages import AIMessage, HumanMessage, SystemMessage\n",
    "from langchain_core.messages.utils import get_buffer_string\n",
    "\n",
    "import concurrent.futures\n",
    "\n",
    "from langgraph.constants import Send\n",
    "\n",
    "import operator, os, json, random, re\n",
    "os.environ['USER_AGENT'] = 'Mozilla/5.0 (platform; rv:gecko-version) Gecko/gecko-trail Firefox/firefox-version'\n",
    "from langchain_community.document_loaders import WebBaseLoader, SeleniumURLLoader\n",
    "import instructor\n",
    "from openai import OpenAI\n",
    "\n",
    "import asyncio\n",
    "from aiohttp import ClientSession, ClientError\n",
    "from bs4 import BeautifulSoup\n",
    "import pdfplumber, io\n",
    "\n",
    "# Define the timeout\n",
    "TIMEOUT = 10  # seconds\n",
    "\n",
    "from dotenv import load_dotenv, find_dotenv\n",
    "_ = load_dotenv(find_dotenv()) # read local .env file"
   ]
  },
  {
   "cell_type": "code",
   "execution_count": 6,
   "id": "13ffaeec-621b-4da2-84a5-b91090b59ca5",
   "metadata": {},
   "outputs": [],
   "source": [
    "# Access a specific environment variable\n",
    "my_variable = os.getenv('OPENAI_API_KEY')\n",
    "\n"
   ]
  },
  {
   "cell_type": "markdown",
   "id": "4d1dba3d-a333-4641-a53a-14f205c19632",
   "metadata": {},
   "source": [
    "#### Helpers\n",
    "\n",
    "Some utility functions that are used below:\n"
   ]
  },
  {
   "cell_type": "code",
   "execution_count": 8,
   "id": "c8c4ee96-78f3-4ec2-9bec-14f9075e5a37",
   "metadata": {},
   "outputs": [
    {
     "data": {
      "text/plain": [
       "ListResponse(models=[Model(model='qwen2.5:14b', modified_at=datetime.datetime(2025, 3, 8, 13, 16, 8, 873753, tzinfo=TzInfo(UTC)), digest='7cdf5a0187d5c58cc5d369b255592f7841d1c4696d45a8c8a9489440385b22f6', size=8988124069, details=ModelDetails(parent_model='', format='gguf', family='qwen2', families=['qwen2'], parameter_size='14.8B', quantization_level='Q4_K_M')), Model(model='deepseek-r1:32b', modified_at=datetime.datetime(2025, 2, 3, 7, 45, 31, 124246, tzinfo=TzInfo(UTC)), digest='38056bbcbb2d068501ecb2d5ea9cea9dd4847465f1ab88c4d4a412a9f7792717', size=19851337640, details=ModelDetails(parent_model='', format='gguf', family='qwen2', families=['qwen2'], parameter_size='32.8B', quantization_level='Q4_K_M')), Model(model='qwen2.5-coder:32b', modified_at=datetime.datetime(2025, 1, 26, 14, 18, 39, 353482, tzinfo=TzInfo(UTC)), digest='4bd6cbf2d094264457a17aab6bd6acd1ed7a72fb8f8be3cfb193f63c78dd56df', size=19851349856, details=ModelDetails(parent_model='', format='gguf', family='qwen2', families=['qwen2'], parameter_size='32.8B', quantization_level='Q4_K_M')), Model(model='llama3.1:8b-instruct-fp16', modified_at=datetime.datetime(2024, 11, 20, 15, 44, 2, 680559, tzinfo=TzInfo(UTC)), digest='4aacac4194543ff7f70dab3f2ebc169c132d5319bb36f7a7e99c4ff525ebcc09', size=16068910253, details=ModelDetails(parent_model='', format='gguf', family='llama', families=['llama'], parameter_size='8.0B', quantization_level='F16')), Model(model='llama3.2:latest', modified_at=datetime.datetime(2024, 11, 15, 15, 18, 17, 22783, tzinfo=TzInfo(UTC)), digest='a80c4f17acd55265feec403c7aef86be0c25983ab279d83f3bcd3abbcb5b8b72', size=2019393189, details=ModelDetails(parent_model='', format='gguf', family='llama', families=['llama'], parameter_size='3.2B', quantization_level='Q4_K_M'))])"
      ]
     },
     "execution_count": 8,
     "metadata": {},
     "output_type": "execute_result"
    }
   ],
   "source": [
    "client = Client(\n",
    "      host='ollama',\n",
    "    )\n",
    "client.list()"
   ]
  },
  {
   "cell_type": "code",
   "execution_count": 3,
   "id": "3abfe573-9927-423d-b244-6e1267714b71",
   "metadata": {},
   "outputs": [],
   "source": [
    "def find_article_data(md: TypedDict, all_articles: List) -> TypedDict:\n",
    "    return next(({\"title\": selected[\"id\"], \n",
    "                  \"content\": md[\"content\"],\n",
    "                  \"short_copy\": selected[\"shortCopy\"],\n",
    "                  \"date\": selected[\"date\"]\n",
    "                } for selected in all_articles if selected[\"id\"] == md[\"id\"]), None)\n",
    "\n",
    "def company_context_builder(blog_articles_src: str, articles_meta_src: str, usps_src: str):\n",
    "    files = os.listdir(blog_articles_src)\n",
    "    arr_of_md = []\n",
    "    for file in files:\n",
    "        if \".md\" in file:\n",
    "            with open(blog_articles_src + file, 'r', encoding=\"utf-8-sig\") as md:\n",
    "                arr_of_md.append({\"id\": file.split('.')[0], \"content\": md.read()})\n",
    "    with open(articles_meta_src, 'r') as articles_json:\n",
    "        loaded = json.load(articles_json)\n",
    "        articles = loaded.get(\"articles\", [])\n",
    "    \n",
    "    combined = [find_article_data(md, articles) for md in arr_of_md if find_article_data(md, articles) != None]\n",
    "\n",
    "    usp_files = os.listdir(usps_src)\n",
    "\n",
    "    usps = []\n",
    "    for usp_file in usp_files:\n",
    "        if \".md\" in usp_file:\n",
    "            with open(usps_src + usp_file, 'r', encoding=\"utf-8-sig\") as usp:\n",
    "                usps.append(usp.read())\n",
    "    \n",
    "        \n",
    "    return (combined, usps)"
   ]
  },
  {
   "cell_type": "markdown",
   "id": "1944be2e-8be0-4a20-9689-94cd1371be08",
   "metadata": {},
   "source": [
    "### The Topics Writer"
   ]
  },
  {
   "cell_type": "markdown",
   "id": "373ba5aa-e7e1-4899-b63c-a527b96ca0cb",
   "metadata": {},
   "source": [
    "#### Data Structures:"
   ]
  },
  {
   "cell_type": "code",
   "execution_count": 4,
   "id": "205e62e0-9798-4f3e-9445-12133c465e79",
   "metadata": {},
   "outputs": [],
   "source": [
    "class Topic(BaseModel):\n",
    "    title: str = Field(\n",
    "        description=\"Proposed title for a blog post.\",\n",
    "    )\n",
    "    rationale: str = Field(\n",
    "        description=\"The rationale why this topic title has been chosen.\"\n",
    "    )\n",
    "class TopicSelection(BaseModel):\n",
    "    topics: List[Topic]\n",
    "\n",
    "class CompanyProfile(BaseModel):\n",
    "    name: str = Field(description=\"Company name\")\n",
    "    description: str = Field(description=\"Company description\")\n",
    "\n",
    "class Article(BaseModel):\n",
    "    title: str = Field(description=\"Blog article title\")\n",
    "    content: str = Field(description=\"Blog article content in markdown\")\n",
    "    short_copy: str = Field(description=\"Article summary and essence\")\n",
    "    date: str = Field(description=\"Article publish date\")\n",
    "\n",
    "    "
   ]
  },
  {
   "cell_type": "markdown",
   "id": "85101030-d7c0-4d04-aa97-c1dc2629a5fa",
   "metadata": {},
   "source": [
    "#### The Graph State"
   ]
  },
  {
   "cell_type": "code",
   "execution_count": 5,
   "id": "a0e3dd57-6820-4997-8ee0-2d8141d21ad5",
   "metadata": {},
   "outputs": [],
   "source": [
    "class TopicAnalyserState(TypedDict):\n",
    "    goal: str\n",
    "    company_profile: CompanyProfile\n",
    "    previous_articles: List[Article]\n",
    "    usps: List[str]\n",
    "    max_questions: int\n",
    "    topics: List[Topic]\n",
    "\n"
   ]
  },
  {
   "cell_type": "code",
   "execution_count": 6,
   "id": "e8877049-ef37-4379-b810-fffd5e1b7078",
   "metadata": {},
   "outputs": [],
   "source": [
    "def generate_research_direction_prompt() -> str:\n",
    "    \n",
    "    return f\"\"\"\n",
    "        You are a senior marketing executive. Your job is to understand marketing trends and propose topics for blog posts.\n",
    "        Your copywriting collegue will have a goal to achieve. You are to analyse this goal and based on the company profile\n",
    "        suggest a blog post direction for further research. Please only answer the questions posed by your human copywriter.\n",
    "    \"\"\"\n",
    "\n",
    "def generate_research_user_prompt(company_articles: List[Article], company_usps: List[str], company_profile: CompanyProfile, goal):\n",
    "    titles = \"\".join([f\"{' '.join(article['title'].split('_'))}\\n\\n========================\\n\\n\" for article in company_articles])\n",
    "    usps = \"\".join([f\"{usp}\\n\\n=====================\\n\\n\" for usp in company_usps])\n",
    "    return f\"\"\"\n",
    "    {goal}\n",
    "    \n",
    "    Here is relevant data to take in consideration.\n",
    "     \n",
    "    Company name: {company_profile[\"name\"]}\n",
    "        \n",
    "    Short description: {company_profile[\"description\"]}\n",
    "    \n",
    "    Previous example articles titles: \n",
    "    \n",
    "    {titles}\n",
    "    \n",
    "    Company USPs in markdown: \n",
    "    \n",
    "    {usps}\n",
    "    \"\"\"\n",
    "\n",
    "    examples = \"\"\"\n",
    "    Examples of good directions would be:\n",
    "\n",
    "    >> Create content on the following topic: Digital trends in 2025 for display advertising. I propose this direction to research because...\n",
    "\n",
    "    >> Create new blog post or case study outlining the phasing out of 3rd party cookies by Google. I propose this direction to research because...\n",
    "    \"\"\""
   ]
  },
  {
   "cell_type": "code",
   "execution_count": 9,
   "id": "8f41f0fa-df6d-4b6e-8b5a-5ace773a930e",
   "metadata": {},
   "outputs": [],
   "source": [
    "c, u = company_context_builder(\"./data/streameye_context_data/articles/\", \n",
    "                            './data/streameye_context_data/articles/articles.json',\n",
    "                            './data/streameye_context_data/usps/')"
   ]
  },
  {
   "cell_type": "code",
   "execution_count": 5,
   "id": "b30ae28a-a027-4a5d-a5f1-7f16e40be7f5",
   "metadata": {},
   "outputs": [
    {
     "data": {
      "text/plain": [
       "list"
      ]
     },
     "execution_count": 5,
     "metadata": {},
     "output_type": "execute_result"
    }
   ],
   "source": [
    "type(c)"
   ]
  },
  {
   "cell_type": "code",
   "execution_count": 47,
   "id": "0bb8e601-0ca8-4f22-b8f7-4963273e855b",
   "metadata": {
    "collapsed": true,
    "jupyter": {
     "outputs_hidden": true
    }
   },
   "outputs": [
    {
     "ename": "NameError",
     "evalue": "name 'c' is not defined",
     "output_type": "error",
     "traceback": [
      "\u001b[0;31m---------------------------------------------------------------------------\u001b[0m",
      "\u001b[0;31mNameError\u001b[0m                                 Traceback (most recent call last)",
      "Cell \u001b[0;32mIn[47], line 13\u001b[0m\n\u001b[1;32m      8\u001b[0m goal \u001b[38;5;241m=\u001b[39m \u001b[38;5;124m\"\"\"\u001b[39m\n\u001b[1;32m      9\u001b[0m \u001b[38;5;124mHaving in mind the company data supplied below, suggest 2 different titles for new blog posts that would help me increase Streameye\u001b[39m\u001b[38;5;124m'\u001b[39m\u001b[38;5;124ms awareness across CMOs of\u001b[39m\n\u001b[1;32m     10\u001b[0m \u001b[38;5;124mbetting companies. Below each title please explain your rationale for selecting it!\u001b[39m\n\u001b[1;32m     11\u001b[0m \u001b[38;5;124m\"\"\"\u001b[39m\n\u001b[1;32m     12\u001b[0m system \u001b[38;5;241m=\u001b[39m generate_research_direction_prompt()\n\u001b[0;32m---> 13\u001b[0m user \u001b[38;5;241m=\u001b[39m generate_research_user_prompt(\u001b[43mc\u001b[49m, u, company_profile, goal)\n",
      "\u001b[0;31mNameError\u001b[0m: name 'c' is not defined"
     ]
    }
   ],
   "source": [
    "company_profile = {\n",
    "    \"name\": \"StreamEye LTD\",\n",
    "    \"description\": \"\"\"\n",
    "        Streameye is the creative management platform for fast-moving brands that allows you \n",
    "        to mass-produce creatives in a manner of minutes.\n",
    "    \"\"\"\n",
    "}\n",
    "goal = \"\"\"\n",
    "Having in mind the company data supplied below, suggest 3 different titles for new blog posts that would help me increase Streameye's awareness across CMOs of\n",
    "betting companies. Below each title please explain your rationale for selecting it!\n",
    "\"\"\"\n",
    "system = generate_research_direction_prompt()\n",
    "user = generate_research_user_prompt(c, u, company_profile, goal)"
   ]
  },
  {
   "cell_type": "code",
   "execution_count": 89,
   "id": "00629dfb-089c-4e66-8a76-b4a45f7658bb",
   "metadata": {},
   "outputs": [],
   "source": [
    "llm = ChatOllama(\n",
    "    model=\"llama3.1:8b-instruct-fp16\",\n",
    "    temperature=0.05,\n",
    "    num_ctx=16000,\n",
    "    base_url=\"ollama\",\n",
    ")"
   ]
  },
  {
   "cell_type": "code",
   "execution_count": 9,
   "id": "eb205d84-8637-410a-ab84-613678690526",
   "metadata": {},
   "outputs": [],
   "source": [
    "structured_llm = llm.with_structured_output(schema=TopicSelection)"
   ]
  },
  {
   "cell_type": "code",
   "execution_count": 24,
   "id": "a9345790-2685-41e9-858d-5c65e6e44e32",
   "metadata": {},
   "outputs": [],
   "source": [
    "# r = structured_llm.invoke([SystemMessage(system), HumanMessage(user)])\n",
    "instructed_r = llm.chat.completions.create(\n",
    "    model=\"llama3.1:8b-instruct-fp16\",\n",
    "    messages=[{\"role\": \"system\", \"content\": system}, {\"role\": \"user\", \"content\": user}],\n",
    "    response_model=TopicSelection)"
   ]
  },
  {
   "cell_type": "code",
   "execution_count": 7,
   "id": "736986a1-3d08-43f7-b0aa-bafd27a8ba77",
   "metadata": {},
   "outputs": [],
   "source": [
    "def generate_topic_ideas(state: TopicAnalyserState):\n",
    "\n",
    "    required_keys = {\n",
    "        \"goal\": \"Goal\",\n",
    "        \"company_profile\": \"Company Profile\",\n",
    "        \"usps\": \"USPs\",\n",
    "        \"previous_articles\": \"Previous Articles\"\n",
    "    }\n",
    "    \n",
    "    missing_keys = [name for key, name in required_keys.items() if not state.get(key)]\n",
    "    if missing_keys:\n",
    "        raise ValueError(f\"Missing required fields: {', '.join(missing_keys)}\")\n",
    "    \n",
    "    goal = state[\"goal\"]\n",
    "    company_profile = state[\"company_profile\"]\n",
    "    usps = state[\"usps\"]\n",
    "    previous_articles = state[\"previous_articles\"]\n",
    "\n",
    "    topic_goal = f\"\"\"Having in mind the company data supplied below, suggest 2 titles for blog posts that would help me {goal}.\n",
    "    Below the title please explain your rationale for selecting it! When suggesting titles, make them sound intriguing and avoid\n",
    "    direct sales pitches.\n",
    "    \"\"\"\n",
    "    system = generate_research_direction_prompt()\n",
    "    user = generate_research_user_prompt(company_articles=previous_articles, \n",
    "                                         company_profile=company_profile,\n",
    "                                         company_usps=usps,\n",
    "                                         goal=topic_goal\n",
    "                                        )\n",
    "\n",
    "    llm = instructor.from_openai(OpenAI(\n",
    "            base_url=\"http://ollama:11434/v1\",\n",
    "            api_key=\"ollama\",  # required, but unused\n",
    "        ),\n",
    "        mode=instructor.Mode.JSON,\n",
    "        temperature=0.05, top_p=0.8\n",
    "    )\n",
    "\n",
    "    instructed_r = llm.chat.completions.create(\n",
    "        model=\"llama3.1:8b-instruct-fp16\",\n",
    "        messages=[{\"role\": \"system\", \"content\": system}, {\"role\": \"user\", \"content\": user}],\n",
    "        response_model=TopicSelection\n",
    "    )\n",
    "    return {\"topics\": instructed_r.topics}\n",
    "    "
   ]
  },
  {
   "cell_type": "markdown",
   "id": "d95e512c-fa0a-4bbc-8bee-1d3ec293bee2",
   "metadata": {},
   "source": [
    "Sending it to Researcher for all topics:"
   ]
  },
  {
   "cell_type": "code",
   "execution_count": 8,
   "id": "0d17960d-94ff-4a79-b2a1-fe4f170bc835",
   "metadata": {},
   "outputs": [],
   "source": [
    "def initiate_all_researchers(state: TopicAnalyserState): \n",
    "\n",
    "    \"\"\" node that distributes topics to researcher subgraphs \"\"\"\n",
    "    \n",
    "    topics = state.get(\"topics\", [])\n",
    "    max_questions = state.get(\"max_questions\", 2)\n",
    "    goal = state.get(\"goal\", None)\n",
    "    \n",
    "    if len(topics) == 0:\n",
    "        raise ValueError(\"Error fetching topics from state\")\n",
    "\n",
    "    if not goal:\n",
    "        raise ValueError(\"You have not set a research goal. Try again\")\n",
    "\n",
    "    return [Send(\"perform_research\", {\"topic\": topic, \n",
    "                                      \"messages\": [HumanMessage(f\"So you are writing about {topic.title}\")], \n",
    "                                      \"max_questions\": max_questions, \n",
    "                                      \"goal\": goal\n",
    "                                     }) for topic in topics]"
   ]
  },
  {
   "cell_type": "code",
   "execution_count": 25,
   "id": "a91b21af-3272-4574-9b96-26048d06a3f1",
   "metadata": {},
   "outputs": [
    {
     "name": "stdout",
     "output_type": "stream",
     "text": [
      "topics=[Topic(title='5 Ways Betting Companies Can Boost Brand Consistency Across Ad Campaigns', rationale=\"This title is chosen because it directly addresses the pain point of CMOs in betting companies who struggle to maintain brand consistency across different ad campaigns. Streameye's USP 'Own Your Brand' can be highlighted as a solution to this problem, showcasing how our platform helps brands stay on-brand and maintain creative control.\"), Topic(title='The Future of Ad Production: How Automation Can Revolutionize Betting Company Marketing', rationale=\"This title is chosen because it taps into the current trend of automation in marketing. Streameye's USP 'Creative Assets Production' can be highlighted as a solution that helps betting companies save time and costs by making ad creation easy and efficient, showcasing our platform's ability to automate creative production.\"), Topic(title='Streamlining Ad Production for Betting Companies: The Benefits of an Adaptive Platform', rationale=\"This title is chosen because it highlights the importance of having a platform that adapts to the unique needs of betting companies. Streameye's USP 'Platform That Follows You' can be highlighted as a solution that makes our platform fit the company's workflow, rather than requiring them to change their process.\")]\n"
     ]
    }
   ],
   "source": [
    "print(instructed_r)"
   ]
  },
  {
   "cell_type": "markdown",
   "id": "1732a49b-5886-41d9-90d4-63b624f709b4",
   "metadata": {},
   "source": [
    "#### Building the Analyser"
   ]
  },
  {
   "cell_type": "code",
   "execution_count": 9,
   "id": "9faa2dfa-9a4c-4aed-8683-e855b3af0aa5",
   "metadata": {},
   "outputs": [
    {
     "data": {
      "text/plain": [
       "<langgraph.graph.state.StateGraph at 0x764f0a7ec800>"
      ]
     },
     "execution_count": 9,
     "metadata": {},
     "output_type": "execute_result"
    }
   ],
   "source": [
    "builder_analyser = StateGraph(TopicAnalyserState)\n",
    "\n",
    "builder_analyser.add_node(\"generate_topic_ideas\", generate_topic_ideas)\n",
    "\n",
    "builder_analyser.add_edge(START, \"generate_topic_ideas\")\n",
    "builder_analyser.add_edge(\"generate_topic_ideas\", END)\n",
    "\n",
    "\n",
    "# memory = MemorySaver()\n",
    "# graph_analyser = builder_analyser.compile(checkpointer=memory)\n",
    "# display(Image(graph_analyser.get_graph().draw_mermaid_png()))"
   ]
  },
  {
   "cell_type": "code",
   "execution_count": 9,
   "id": "24c85575-e048-4f7c-a6cd-6b3c9de69dd0",
   "metadata": {},
   "outputs": [],
   "source": [
    "articles, usps = company_context_builder(\"./data/streameye_context_data/articles/\", \n",
    "                            './data/streameye_context_data/articles/articles.json',\n",
    "                            './data/streameye_context_data/usps/')\n",
    "company_profile = {\n",
    "    \"name\": \"StreamEye LTD\",\n",
    "    \"description\": \"\"\"\n",
    "        Streameye is the creative management platform for fast-moving brands that allows you \n",
    "        to mass-produce creatives in a manner of minutes.\n",
    "    \"\"\"\n",
    "}\n",
    "goal = \"\"\"increase Streameye's awareness across CMOs of betting companies.\"\"\"\n",
    "thread = {\"configurable\": {\"thread_id\": 230}}"
   ]
  },
  {
   "cell_type": "code",
   "execution_count": 10,
   "id": "cd9efb38-c57e-4099-a5d9-fe8c6b60f589",
   "metadata": {},
   "outputs": [],
   "source": [
    "result = graph.invoke({\"goal\": goal, \"previous_articles\": articles, \"usps\": usps, \"company_profile\": company_profile, \"max_questions\": 3}, config=thread)"
   ]
  },
  {
   "cell_type": "code",
   "execution_count": 11,
   "id": "5da0999f-bcb5-49ff-9813-4ed6ba958615",
   "metadata": {},
   "outputs": [
    {
     "name": "stdout",
     "output_type": "stream",
     "text": [
      "[Topic(title='How Betting Companies Can Streamline Their Ad Production Process', rationale=\"This title is chosen because it directly addresses the pain points of betting companies, which is often struggling with ad production. By highlighting Streameye's ability to streamline this process, we can attract CMOs who are looking for solutions to improve their efficiency.\"), Topic(title='The Importance of Brand Consistency in Betting Advertising', rationale=\"This title is chosen because it speaks directly to the 'Own Your Brand' USP of Streameye. By emphasizing the importance of brand consistency, we can attract CMOs who are looking for ways to maintain their brand identity across different advertising channels.\"), Topic(title='Revolutionizing Betting Ad Campaigns with Automated Creative Assets Production', rationale=\"This title is chosen because it highlights Streameye's ability to automate creative assets production, which is a key benefit of the platform. By using words like 'revolutionize', we can create a sense of excitement and attract CMOs who are looking for innovative solutions to improve their ad campaigns.\")]\n"
     ]
    }
   ],
   "source": [
    "print(result[\"topics\"])"
   ]
  },
  {
   "cell_type": "markdown",
   "id": "2c567187-129a-43d8-a8da-038ad03ddee8",
   "metadata": {},
   "source": [
    "### The Researcher\n",
    "\n",
    "The researcher should take in suggested topics, together with communication with the copywriter and provide search results to complement existing knowledge on the topic.\n",
    "\n",
    "It will be split into few nodes and will also take in maximum recurrence in search attempts.\n",
    "\n",
    "- Produce Search Prompts\n",
    "- Review search and ask questions\n",
    "- Continue until max search reached\n",
    "- Create an article plan as a result, together with resource URLs\n",
    "\n",
    "#### Data Structures"
   ]
  },
  {
   "cell_type": "code",
   "execution_count": 10,
   "id": "02fb8e24-5266-4369-a6e0-93d776c73084",
   "metadata": {},
   "outputs": [],
   "source": [
    "from langchain_community.tools.tavily_search import TavilySearchResults\n",
    "\n",
    "class Report(BaseModel):\n",
    "    conversaion: str = Field(description=\"The conversation between copywriter and expert as a string with concatenated sources\")\n",
    "    context: str = Field(description=\"The returned search documents used to generate the conversation\")\n",
    "    report_plan: str = Field(description=\"A plan of key points for writing the final report\")\n",
    "    title: str = Field(description=\"The title of the blog post\")\n",
    "    rationale: str = Field(description=\"Rationale about writing blog post with this title\")\n",
    "\n",
    "\n",
    "class ResearcherStateInput(TypedDict):\n",
    "    topic: Topic\n",
    "    goal: str\n",
    "    messages: List\n",
    "    max_questions: int\n",
    "\n",
    "class ResearcherStateOutput(TypedDict):\n",
    "    reports: List[Report]\n",
    "\n",
    "class ResearcherState(MessagesState):\n",
    "    topic: Topic\n",
    "    goal: str\n",
    "    max_questions: int\n",
    "    search_query: str\n",
    "    researcher_question: str\n",
    "    expert_answer: str\n",
    "    search_results: Annotated[List[str], operator.add]\n",
    "    report: Annotated[List[Report], operator.add]\n",
    "\n",
    "class SearchQuery(BaseModel):\n",
    "    query: str = Field(description=\"Well formatted search query\", \n",
    "                       examples=[\"pain points of betting providers when delivering ads\",\n",
    "                                \"top CMPs to mitigate scarce design resource\"])\n",
    "\n",
    "llm = ChatOllama(\n",
    "    model=\"llama3.1:8b-instruct-fp16\",\n",
    "    temperature=0.05,\n",
    "    num_ctx=12000,\n",
    "    base_url=\"ollama\",\n",
    ")\n",
    "instructed_llm = instructor.from_openai(OpenAI(\n",
    "        base_url=\"http://ollama:11434/v1\",\n",
    "        api_key=\"ollama\",  # required, but unused\n",
    "    ),\n",
    "    mode=instructor.Mode.JSON,\n",
    "    temperature=0.05\n",
    ")\n",
    "\n",
    "open_ai_llm = ChatOpenAI(\n",
    "    model=\"gpt-4o\",\n",
    "    temperature=0.05,\n",
    "    max_tokens=16384,\n",
    "    timeout=None,\n",
    "    max_retries=1\n",
    ")\n",
    "\n",
    "tavily_search = TavilySearchResults(max_results=3)"
   ]
  },
  {
   "cell_type": "code",
   "execution_count": 11,
   "id": "24796db6-11d0-4e50-96a6-cb181d64ebd3",
   "metadata": {},
   "outputs": [],
   "source": [
    "open_ai_llm_mini = ChatOpenAI(\n",
    "    model=\"gpt-4o-mini\",\n",
    "    temperature=0.05,\n",
    "    max_tokens=16384,    \n",
    ")\n",
    "llm_small = ChatOllama(\n",
    "    model=\"llama3.2\",\n",
    "    temperature=0.05,\n",
    "    num_ctx=12000,\n",
    "    base_url=\"ollama\",\n",
    ")"
   ]
  },
  {
   "cell_type": "code",
   "execution_count": 12,
   "id": "7589c0ed-a2ea-456c-a27c-daf5c761e5e6",
   "metadata": {},
   "outputs": [
    {
     "data": {
      "text/plain": [
       "ChatOpenAI(client=<openai.resources.chat.completions.completions.Completions object at 0x78647580d160>, async_client=<openai.resources.chat.completions.completions.AsyncCompletions object at 0x78647580ede0>, root_client=<openai.OpenAI object at 0x786475807620>, root_async_client=<openai.AsyncOpenAI object at 0x786475719490>, model_name='gpt-4o-mini', temperature=0.05, model_kwargs={}, openai_api_key=SecretStr('**********'), max_tokens=16384)"
      ]
     },
     "execution_count": 12,
     "metadata": {},
     "output_type": "execute_result"
    }
   ],
   "source": [
    "open_ai_llm_mini"
   ]
  },
  {
   "cell_type": "code",
   "execution_count": 13,
   "id": "bc13278e-75fe-4605-81c8-aa89f0b7236a",
   "metadata": {},
   "outputs": [
    {
     "data": {
      "text/plain": [
       "AIMessage(content='Hello! How can I assist you today?', additional_kwargs={'refusal': None}, response_metadata={'token_usage': {'completion_tokens': 10, 'prompt_tokens': 9, 'total_tokens': 19, 'completion_tokens_details': {'accepted_prediction_tokens': 0, 'audio_tokens': 0, 'reasoning_tokens': 0, 'rejected_prediction_tokens': 0}, 'prompt_tokens_details': {'audio_tokens': 0, 'cached_tokens': 0}}, 'model_name': 'gpt-4o-mini-2024-07-18', 'system_fingerprint': 'fp_06737a9306', 'finish_reason': 'stop', 'logprobs': None}, id='run-74820010-eec0-4dc0-9f72-36a17130990d-0', usage_metadata={'input_tokens': 9, 'output_tokens': 10, 'total_tokens': 19, 'input_token_details': {'audio': 0, 'cache_read': 0}, 'output_token_details': {'audio': 0, 'reasoning': 0}})"
      ]
     },
     "execution_count": 13,
     "metadata": {},
     "output_type": "execute_result"
    }
   ],
   "source": [
    "open_ai_llm_mini.invoke([HumanMessage(\"hi there\")])"
   ]
  },
  {
   "cell_type": "markdown",
   "id": "79321151-d0a4-4e8a-89b0-48bf9c422a95",
   "metadata": {},
   "source": [
    "#### The Graph State"
   ]
  },
  {
   "cell_type": "code",
   "execution_count": 12,
   "id": "6c487eb2-4185-4ef1-a43c-18de4d27ff8d",
   "metadata": {},
   "outputs": [],
   "source": [
    "def gen_copywrite_question_system_prompt(topic: Topic, goal: str) -> str:\n",
    "\n",
    "    return f\"\"\"\n",
    "    You are a copywriter that needs to write about a topic in order to achieve set goals by your chief marketing officer. Your name is Suzan and \n",
    "    you have a great researcher colleague who is an expert in the field and will help you by answering your questions. Conduct a conversation \n",
    "    with your colleague to obtain more information on the topic.\n",
    "    \n",
    "    Here is the topic you need to write about:\n",
    "\n",
    "    Topic: {topic.title}\n",
    "    Here is a rationale why you need to write about it:\n",
    "    {topic.rationale}\n",
    "\n",
    "    Here is your ultimate goal set by your boss: {goal}\n",
    "    \n",
    "    Start by introducing yourself and continue to ask questions to drill down and refine your understanding of the topic.\n",
    "            \n",
    "    Remember to stay in character throughout your response, reflecting your professional occupation as the company copywriter \n",
    "    and goals provided to you. \n",
    "    \"\"\"\n",
    "def generate_question(state: ResearcherState):\n",
    "\n",
    "    \"\"\" Node to generate a question \"\"\"\n",
    "\n",
    "    # Get state\n",
    "    topic = state[\"topic\"]\n",
    "    messages = state[\"messages\"]\n",
    "    goal = state[\"goal\"]\n",
    "    # Generate question \n",
    "    system_prompt = gen_copywrite_question_system_prompt(topic=topic, goal=goal)\n",
    "    \n",
    "    question = llm.invoke([SystemMessage(system_prompt)] + messages + [HumanMessage(\"Ask another question as the company copywriter. If you are satisfied with the answers above, say: 'Thanks so much for your time'.\")])\n",
    "                          \n",
    "        \n",
    "    # lets disguise this as a human message?\n",
    "    return {\"messages\": [HumanMessage(question.content)]}\n",
    "\n",
    "def gen_expert_answer_system_prompt(goal: str, topic: Topic, context: str ) -> str: \n",
    "    return f\"\"\"\n",
    "    You are a distinguished expert in online marketing. You are here to help your copywriter colleague by answering their questions by\n",
    "    analysing supplied context from web search. When answering the questions always adhere to the following rules:\n",
    "\n",
    "    1. Aim to help your colleague write a blog about this topic: {topic.title}\n",
    "    2. Be aware that the goal of your marketing team is to: {goal}\n",
    "    3. ONLY use the supplied context when answering the questions in the conversation. You should not delve into nor elaborate on any unverified knowledge \n",
    "    outside the scope of the context.\n",
    "    4. Provide the sources from the context in the following way:\n",
    "        - Include these sources as URLs in your answer next to any relevant statements. For example, for source # 1 use [1]\n",
    "        - List your sources in order at the bottom of your answer. [1] Source 1, [2] Source 2, etc\n",
    "        - If the source is: <Document source=\"assistant/docs/llama3_1.pdf\" page=\"7\"/>' then just list: [1] assistant/docs/llama3_1.pdf, page 7 \n",
    "        - Skip the addition of the brackets as well as the Document source preamble in your citation\n",
    "    \n",
    "    Here is the context:\n",
    "    {context}\n",
    "    \n",
    "    \"\"\"\n",
    "\n",
    "\n",
    "def generate_expert_answer(state: ResearcherState):\n",
    "\n",
    "    \"\"\" The expert answer based on context and last question \"\"\"\n",
    "\n",
    "    messages = state[\"messages\"]\n",
    "    context = state[\"search_results\"]\n",
    "    goal = state[\"goal\"]\n",
    "    topic = state[\"topic\"]\n",
    "\n",
    "    system_message = gen_expert_answer_system_prompt(goal=goal, topic=topic, context=context)\n",
    "\n",
    "    answer = llm.invoke([SystemMessage(system_message)] + messages)\n",
    "    # Name the message as coming from the expert\n",
    "    answer.name = \"expert\"\n",
    "    \n",
    "    return {\"messages\": [answer]}"
   ]
  },
  {
   "cell_type": "code",
   "execution_count": 13,
   "id": "ffed6bc6-303a-4dff-adf1-511c93f5cdbd",
   "metadata": {},
   "outputs": [],
   "source": [
    "def gen_search_prompt_system(topic: Topic) -> str:\n",
    "    return f\"\"\"\n",
    "    You are a brilliant assistant who specialises in web search. You will help your colleagues in generating well structured search query that \n",
    "    should return optimal search results. You will take into consideration the topic to research and any additional questions by your fellow human\n",
    "\n",
    "    Topic to search for:\n",
    "    {topic.title}\n",
    "\n",
    "    Remember:\n",
    "    1. Only provide one well structured web search prompt to help research the topic and the copywriter's questions.\n",
    "    2. Do not answer the question yourself. \n",
    "    3. Do not provide a list of queries - just one.\n",
    "    \"\"\"\n",
    "\n",
    "def generate_search_query(state: ResearcherState) -> str:\n",
    "\n",
    "    messages = state.get(\"messages\", [])\n",
    "    topic = state.get(\"topic\", None)\n",
    "\n",
    "    if topic and len(messages) > 0:\n",
    "        \n",
    "        system = gen_search_prompt_system(topic)\n",
    "        user = messages[-1].content\n",
    "        structured_llm = llm.with_structured_output(SearchQuery)\n",
    "        result = structured_llm.invoke([SystemMessage(system), HumanMessage(user)])\n",
    "        return {\"search_query\": result.query}\n",
    "    else:\n",
    "        raise ValueError(f\"Missing topic or previous messages\")\n",
    "        \n",
    "    "
   ]
  },
  {
   "cell_type": "code",
   "execution_count": 14,
   "id": "2a997337-e895-4ca2-9eec-59c60398c463",
   "metadata": {},
   "outputs": [],
   "source": [
    "def search_with_tavily(state: ResearcherState):\n",
    "    \n",
    "    \"\"\" Retrieve docs from Tavily \"\"\"\n",
    "\n",
    "    # Search\n",
    "    search_docs = tavily_search.invoke(state[\"search_query\"])\n",
    "\n",
    "     # Format\n",
    "    formatted_search_docs = \"\\n\\n---\\n\\n\".join(\n",
    "        [\n",
    "            f'<Document href=\"{doc[\"url\"]}\"/>\\n{doc[\"content\"]}\\n</Document>'\n",
    "            for doc in search_docs\n",
    "        ]\n",
    "    )\n",
    "\n",
    "    return {\"search_results\": [formatted_search_docs]} "
   ]
  },
  {
   "cell_type": "code",
   "execution_count": 15,
   "id": "276abf8f-685e-4cb0-9a25-5c4ea2e44f1c",
   "metadata": {},
   "outputs": [],
   "source": [
    "def conditional_ask_another_question(state: ResearcherState) -> Literal[\"generate_question\", \"report_writer\"]:\n",
    "     \n",
    "    \"\"\" Route between asking more questions or writing up the blog plan \"\"\"\n",
    "    \n",
    "    messages = state[\"messages\"]\n",
    "    max_questions = state.get('max_questions',2)\n",
    "\n",
    "    num_questions = len([msg for msg in messages if isinstance(msg, AIMessage) and msg.name == \"expert\"])\n",
    "\n",
    "    if num_questions < max_questions:\n",
    "        return \"generate_question\"\n",
    "    else:\n",
    "        return \"report_writer\""
   ]
  },
  {
   "cell_type": "code",
   "execution_count": 16,
   "id": "bd79ac35-7823-4674-bc81-7bedd7a36f35",
   "metadata": {},
   "outputs": [],
   "source": [
    "def gen_report_writer_user_prompt(topic: Topic, goal: str, conversation: str) -> str:\n",
    "    return f\"\"\"\n",
    "    Write the conspect for a corporate blog post for our company with title: \n",
    "    {topic.title}\n",
    "    \n",
    "    Here is a rationale why this blog post would contribute towards our marketing goal:\n",
    "    \n",
    "    Rationale:\n",
    "    {topic.rationale}\n",
    "\n",
    "    Goal:\n",
    "    {goal}\n",
    "\n",
    "    Here is the conversation between our copywriter and a marketing expert:\n",
    "    {conversation}\n",
    "    \"\"\"\n",
    "\n",
    "def report_writer(state: ResearcherState):\n",
    "\n",
    "    \"\"\" Write a report on the potential blog post based on research \"\"\"\n",
    "\n",
    "    topic = state[\"topic\"]\n",
    "    goal = state[\"goal\"]\n",
    "    context = state[\"search_results\"]\n",
    "\n",
    "    conversation = get_buffer_string(state[\"messages\"])\n",
    "\n",
    "    system = \"\"\"\n",
    "    You are the senior copywriter who's task is to write a conspect/ digest on a blog post. \n",
    "    \n",
    "    The conspect should contain the essence of a conversation between your colleague and an expert answering her questions. \n",
    "    \n",
    "    Produce a paragraph summary of the conversation as well as a plan for the blog post as bullet points.\n",
    "    When creating the plan, emphasize more on knowledge base obtained in the conversation rather than direct sales pitch\n",
    "    for the company. \n",
    "    \n",
    "    Remember, we need to achieve the goal set, but noone likes a direct sales pitch.\n",
    "    \n",
    "    We need the article to be informative with subtle mentions of the company as a process enabler and solver\n",
    "    of any pain points that may have surfaced.\n",
    "    \n",
    "    Stick to maximum of 10 bullet points to outline how the blog article will achieve its goal.\n",
    "    \"\"\"\n",
    "\n",
    "    user = gen_report_writer_user_prompt(topic=topic, goal=goal, conversation=conversation)\n",
    "\n",
    "    report = llm.invoke([SystemMessage(system), HumanMessage(user)])\n",
    "    print(\"report generated\")\n",
    "    return {\"reports\": \n",
    "            [{\n",
    "                \"report_plan\": report.content,\n",
    "                \"context\": context,\n",
    "                \"conversation\": conversation,\n",
    "                \"title\": topic.title,\n",
    "                \"rationale\": topic.rationale\n",
    "            }]\n",
    "           }\n",
    "\n",
    "    "
   ]
  },
  {
   "cell_type": "code",
   "execution_count": 17,
   "id": "78ce024f-cdde-4513-b184-7b0f2f55652c",
   "metadata": {},
   "outputs": [
    {
     "data": {
      "text/plain": [
       "<langgraph.graph.state.StateGraph at 0x764eff3bce90>"
      ]
     },
     "execution_count": 17,
     "metadata": {},
     "output_type": "execute_result"
    }
   ],
   "source": [
    "builder_research = StateGraph(ResearcherState, input=ResearcherStateInput, output=ResearcherStateOutput)\n",
    "\n",
    "builder_research.add_node(\"generate_question\", generate_question)\n",
    "builder_research.add_node(\"generate_search_query\", generate_search_query)\n",
    "builder_research.add_node(\"search_with_tavily\", search_with_tavily)\n",
    "builder_research.add_node(\"generate_expert_answer\", generate_expert_answer)\n",
    "builder_research.add_node(\"report_writer\", report_writer)\n",
    "\n",
    "builder_research.add_edge(START, \"generate_question\")\n",
    "builder_research.add_edge(\"generate_question\", \"generate_search_query\")\n",
    "builder_research.add_edge(\"generate_search_query\", \"search_with_tavily\")\n",
    "builder_research.add_edge(\"search_with_tavily\", \"generate_expert_answer\")\n",
    "builder_research.add_conditional_edges(\"generate_expert_answer\", conditional_ask_another_question, [\"generate_question\", \"report_writer\"])\n",
    "builder_research.add_edge(\"report_writer\", END)\n",
    "\n",
    "\n",
    "# memory = MemorySaver()\n",
    "# graph_research = builder_research.compile(checkpointer=memory)\n",
    "# display(Image(graph_research.get_graph().draw_mermaid_png()))"
   ]
  },
  {
   "cell_type": "code",
   "execution_count": null,
   "id": "0e322d57-0865-4cf4-a27e-ee2a08ca221d",
   "metadata": {},
   "outputs": [],
   "source": [
    "result[\"topics\"][0]"
   ]
  },
  {
   "cell_type": "code",
   "execution_count": 20,
   "id": "0440e8be-052e-4c68-ad07-22e2d5dccdaa",
   "metadata": {},
   "outputs": [
    {
     "ename": "NameError",
     "evalue": "name 'graph' is not defined",
     "output_type": "error",
     "traceback": [
      "\u001b[0;31m---------------------------------------------------------------------------\u001b[0m",
      "\u001b[0;31mNameError\u001b[0m                                 Traceback (most recent call last)",
      "Cell \u001b[0;32mIn[20], line 2\u001b[0m\n\u001b[1;32m      1\u001b[0m \u001b[38;5;66;03m## Testing it\u001b[39;00m\n\u001b[0;32m----> 2\u001b[0m graph_state \u001b[38;5;241m=\u001b[39m \u001b[43mgraph\u001b[49m\u001b[38;5;241m.\u001b[39mget_state(config\u001b[38;5;241m=\u001b[39mthread)\n\u001b[1;32m      3\u001b[0m goal \u001b[38;5;241m=\u001b[39m graph_state\u001b[38;5;241m.\u001b[39mvalues[\u001b[38;5;124m\"\u001b[39m\u001b[38;5;124mgoal\u001b[39m\u001b[38;5;124m\"\u001b[39m]\n\u001b[1;32m      4\u001b[0m \u001b[38;5;28mprint\u001b[39m(goal)\n",
      "\u001b[0;31mNameError\u001b[0m: name 'graph' is not defined"
     ]
    }
   ],
   "source": [
    "## Testing it\n",
    "graph_state = graph.get_state(config=thread)\n",
    "goal = graph_state.values[\"goal\"]\n",
    "print(goal)\n",
    "thread_research = {\"configurable\": {\"thread_id\": 704}}\n"
   ]
  },
  {
   "cell_type": "code",
   "execution_count": 54,
   "id": "8d6a172c-653b-43e9-80a1-776989b780e3",
   "metadata": {},
   "outputs": [
    {
     "name": "stdout",
     "output_type": "stream",
     "text": [
      "QUESTION content=\"I'm Suzan, a copywriter at Streameye, and I'm excited to dive into this topic. I've been tasked with creating content that showcases our company's ability to help betting companies streamline their ad production process.\\n\\nTo get started, can you tell me a bit about the current pain points that betting companies face when it comes to ad production? What are some of the common challenges they encounter?\\n\\nAlso, what is the typical workflow like for a betting company when producing ads? Do they have in-house teams handling everything from concept to delivery, or do they outsource certain aspects of the process?\" additional_kwargs={} response_metadata={'model': 'llama3.1:8b-instruct-fp16', 'created_at': '2025-02-12T10:03:52.144052312Z', 'message': {'role': 'assistant', 'content': ''}, 'done_reason': 'stop', 'done': True, 'total_duration': 5057950253, 'load_duration': 1886631505, 'prompt_eval_count': 303, 'prompt_eval_duration': 86000000, 'eval_count': 123, 'eval_duration': 2800000000} id='run-10ddfbd3-19cb-4f1e-a3d7-7141e23a6a4a-0' usage_metadata={'input_tokens': 303, 'output_tokens': 123, 'total_tokens': 426}\n",
      "QUESTION content=\"\\n\\nCan you tell me more about how Streameye's solution addresses these pain points and challenges? How does it help betting companies streamline their ad production process, and what specific benefits can they expect from using your platform?\" additional_kwargs={} response_metadata={'model': 'llama3.1:8b-instruct-fp16', 'created_at': '2025-02-12T10:04:03.621740797Z', 'message': {'role': 'assistant', 'content': ''}, 'done_reason': 'stop', 'done': True, 'total_duration': 1342447613, 'load_duration': 10918685, 'prompt_eval_count': 702, 'prompt_eval_duration': 124000000, 'eval_count': 45, 'eval_duration': 1204000000} id='run-45594c54-3bdd-427f-97fa-86c3c1506f8e-0' usage_metadata={'input_tokens': 702, 'output_tokens': 45, 'total_tokens': 747}\n",
      "I am the master summariser\n"
     ]
    }
   ],
   "source": [
    "result_reasearch = graph_research.invoke({\"topic\": result[\"topics\"][0], \n",
    "                                          \"goal\": goal, \n",
    "                                          \"messages\": [HumanMessage(f\"So you are writing about {result[\"topics\"][0].title}?\")] }, config=thread_research)"
   ]
  },
  {
   "cell_type": "code",
   "execution_count": 68,
   "id": "df1a9d06-1fda-4c56-b223-3d3e14fe7e26",
   "metadata": {},
   "outputs": [
    {
     "ename": "NameError",
     "evalue": "name 'graph_research' is not defined",
     "output_type": "error",
     "traceback": [
      "\u001b[0;31m---------------------------------------------------------------------------\u001b[0m",
      "\u001b[0;31mNameError\u001b[0m                                 Traceback (most recent call last)",
      "Cell \u001b[0;32mIn[68], line 1\u001b[0m\n\u001b[0;32m----> 1\u001b[0m gr \u001b[38;5;241m=\u001b[39m \u001b[43mgraph_research\u001b[49m\u001b[38;5;241m.\u001b[39mget_state(config\u001b[38;5;241m=\u001b[39mthread_research)\n\u001b[1;32m      2\u001b[0m gr\u001b[38;5;241m.\u001b[39mvalues\u001b[38;5;241m.\u001b[39mget(\u001b[38;5;124m'\u001b[39m\u001b[38;5;124msearch_query\u001b[39m\u001b[38;5;124m'\u001b[39m)\n",
      "\u001b[0;31mNameError\u001b[0m: name 'graph_research' is not defined"
     ]
    }
   ],
   "source": [
    "gr = graph_research.get_state(config=thread_research)\n",
    "gr.values.get('search_query')"
   ]
  },
  {
   "cell_type": "code",
   "execution_count": 56,
   "id": "ac0892a9-4aa7-4be3-8d5c-6035b328e7c5",
   "metadata": {
    "collapsed": true,
    "jupyter": {
     "outputs_hidden": true
    }
   },
   "outputs": [
    {
     "data": {
      "text/plain": [
       "{'messages': [HumanMessage(content='So you are writing about How Betting Companies Can Streamline Their Ad Production Process?', additional_kwargs={}, response_metadata={}, id='e420e840-b603-4cee-b9f9-ce731f24347d'),\n",
       "  HumanMessage(content=\"I'm Suzan, a copywriter at Streameye, and I'm excited to dive into this topic. I've been tasked with creating content that showcases our company's ability to help betting companies streamline their ad production process.\\n\\nTo get started, can you tell me a bit about the current pain points that betting companies face when it comes to ad production? What are some of the common challenges they encounter?\\n\\nAlso, what is the typical workflow like for a betting company when producing ads? Do they have in-house teams handling everything from concept to delivery, or do they outsource certain aspects of the process?\", additional_kwargs={}, response_metadata={}, id='e055f5b0-c1ed-4517-a38a-11ca41e53fe0'),\n",
       "  AIMessage(content=\"Suzan! It's great to help you with this topic.\\n\\nFrom the context, I can see that lack of time and high costs are two essential pain points when it comes to creativity for betting companies [1]. This suggests that they may struggle to produce ads efficiently and effectively within their existing resources.\\n\\nIn terms of common challenges, one potential issue is the outsourcing team having inadequate knowledge of the company and its products, projects, ideas, and vision [2]. This could lead to misaligned ad production efforts or a lack of understanding of the target audience's needs.\\n\\nRegarding the typical workflow for betting companies, it seems that they may face difficulties in scaling ad production across channels and optimizing programmatic efforts [3]. This implies that their current processes might not be agile enough to keep up with changing market conditions or customer preferences.\\n\\nAs for whether they have in-house teams handling everything from concept to delivery, the context doesn't provide a clear answer. However, it's likely that many betting companies outsource certain aspects of the ad production process to specialized agencies or vendors.\\n\\nSources:\\n[1] https://www.bannerflow.com/resources/ultimate-guides/in-house-marketing\\n[2] https://www.quora.com/What-is-your-greatest-pain-point-with-outsourcing-software-development\\n[3] https://www.bannerflow.com/resources/ultimate-guides/in-house-marketing\", additional_kwargs={}, response_metadata={'model': 'llama3.1:8b-instruct-fp16', 'created_at': '2025-02-12T10:04:02.276059323Z', 'message': {'role': 'assistant', 'content': ''}, 'done_reason': 'stop', 'done': True, 'total_duration': 7677875814, 'load_duration': 25994711, 'prompt_eval_count': 632, 'prompt_eval_duration': 175000000, 'eval_count': 278, 'eval_duration': 7470000000}, name='expert', id='run-b803d3e7-14f9-4d6f-96b8-974d5105fbb7-0', usage_metadata={'input_tokens': 632, 'output_tokens': 278, 'total_tokens': 910}),\n",
       "  HumanMessage(content=\"\\n\\nCan you tell me more about how Streameye's solution addresses these pain points and challenges? How does it help betting companies streamline their ad production process, and what specific benefits can they expect from using your platform?\", additional_kwargs={}, response_metadata={}, id='8296b62b-0a9d-46ef-85db-b0d1bd4d1e40'),\n",
       "  AIMessage(content=\"Suzan! I'd be happy to elaborate on how Streameye's solution addresses the pain points and challenges faced by betting companies.\\n\\nFrom the context, we see that after the merger of Betfair and Paddy Power, StreamEye (that's us!) helped automate and grow their digital ad production [4]. This suggests that our platform can help betting companies optimize their ad production processes, allowing them to spend more time on creation and further enriching the quality and effectiveness of their ads [5].\\n\\nOur solution, Streameye, is a complete platform for online active businesses to create and export animated and dynamic ads for display, CRM communication, or social networks [6]. By using our platform, betting companies can streamline their ad production process in several ways:\\n\\n* Automate repetitive tasks and workflows\\n* Easily manage and optimize ad campaigns across multiple channels\\n* Create high-quality, engaging ads quickly and efficiently\\n* Gain insights into ad performance and make data-driven decisions\\n\\nBy leveraging Streameye's solution, betting companies can expect to benefit from increased efficiency, improved ad quality, and better ROI on their marketing spend.\\n\\nSources:\\n[4] https://www.streameye.com/case-studies/ppb\\n[5] https://chromeye.com/our-work/streameye-powered-dynamic-ads\\n[6] https://bg.linkedin.com/company/streameye\", additional_kwargs={}, response_metadata={'model': 'llama3.1:8b-instruct-fp16', 'created_at': '2025-02-12T10:04:15.518231076Z', 'message': {'role': 'assistant', 'content': ''}, 'done_reason': 'stop', 'done': True, 'total_duration': 7819773349, 'load_duration': 24661250, 'prompt_eval_count': 1134, 'prompt_eval_duration': 158000000, 'eval_count': 280, 'eval_duration': 7628000000}, name='expert', id='run-2855ab4b-a2ec-4bb6-a158-77ce1dd5dc2b-0', usage_metadata={'input_tokens': 1134, 'output_tokens': 280, 'total_tokens': 1414})],\n",
       " 'topic': Topic(title='How Betting Companies Can Streamline Their Ad Production Process', rationale=\"This title is chosen because it directly addresses the pain points of betting companies, which is often struggling with ad production. By highlighting Streameye's ability to streamline this process, we can attract CMOs who are looking for solutions to improve their efficiency.\"),\n",
       " 'goal': \"increase Streameye's awareness across CMOs of betting companies.\",\n",
       " 'search_query': 'Streameye solution for betting companies ad production process optimization',\n",
       " 'search_results': ['<Document href=\"https://www.bannerflow.com/resources/ultimate-guides/in-house-marketing\"/>\\nLack of time and high costs are two essential pain points when it comes to creativity. ... Scaling ad production across channels; Optimising programmatic\\n</Document>\\n\\n---\\n\\n<Document href=\"https://www.quora.com/What-is-your-greatest-pain-point-with-outsourcing-software-development\"/>\\nOne of the general ones is the outsourcing team has inadequate knowledge of your company and your products, projects, ideas, and vision.\\n</Document>\\n\\n---\\n\\n<Document href=\"https://www.reddit.com/r/AroundTheNFL/comments/194gjcq/sports_betting_ads_are_spam/\"/>\\nThe NFL glamorizing and pushing gambling is really distasteful. Allow sports betting, sure, but maybe don\\'t advertise for it. Just like alcohol, a lot of\\n</Document>',\n",
       "  '<Document href=\"https://www.streameye.com/case-studies/ppb\"/>\\nAfter the merger of Betfair and Paddy Power, StreamEye has helped automate and grow their digital ad production.\\n</Document>\\n\\n---\\n\\n<Document href=\"https://www.chromeye.com/our-work/streameye-powered-dynamic-ads\"/>\\nThe Solution\\u200b\\u200b By optimising the production processes, PPB creative team and ours were able to spend more time on creation and further enriching the quality and\\n</Document>\\n\\n---\\n\\n<Document href=\"https://bg.linkedin.com/company/streameye\"/>\\nStreameye is the complete solution for online active businesses to create and export animated and dynamic ads for display, CRM communication or social networks\\n</Document>']}"
      ]
     },
     "execution_count": 56,
     "metadata": {},
     "output_type": "execute_result"
    }
   ],
   "source": [
    "result_reasearch"
   ]
  },
  {
   "cell_type": "markdown",
   "id": "ad507262-3db5-428a-83a9-a08b6e5c1bcf",
   "metadata": {},
   "source": [
    "## The Big Graph\n",
    "\n",
    "Here is the definition of the final graph. This is still incomplete, but will put the Topic creation and Research together for testing.\n",
    "\n",
    "### State"
   ]
  },
  {
   "cell_type": "code",
   "execution_count": 18,
   "id": "32f966db-eb3f-4dbc-a084-5f9eb66c7210",
   "metadata": {},
   "outputs": [],
   "source": [
    "class BlogWriter(TypedDict):\n",
    "    goal: str\n",
    "    company_profile: CompanyProfile\n",
    "    previous_articles: List[Article]\n",
    "    usps: List[str]\n",
    "    max_questions: int\n",
    "    topics: List[Topic]\n",
    "    reports: Annotated[List[Report], operator.add]\n",
    "    selected_report: Report\n",
    "    final_documents: str\n",
    "    human_article_feedback: Literal[str, 'AI', 'END']\n",
    "    ai_article_feedback: str\n",
    "    final_article: str\n",
    "    \n",
    "class BlogWriterInput(TypedDict):\n",
    "    goal: str\n",
    "    company_profile: CompanyProfile\n",
    "    previous_articles: List[Article]\n",
    "    usps: List[str]\n",
    "    max_questions: int\n",
    "\n",
    "class BlogWriterOutput(TypedDict):\n",
    "    final_article: str\n",
    "    \n"
   ]
  },
  {
   "cell_type": "markdown",
   "id": "879fff36-8ebe-41ec-98c7-f90f5488d652",
   "metadata": {},
   "source": [
    "### The Nodes"
   ]
  },
  {
   "cell_type": "code",
   "execution_count": 19,
   "id": "aff45c37-367d-4264-9ac8-4b271e4509ef",
   "metadata": {},
   "outputs": [],
   "source": [
    "def human_decision_which_topic(state: BlogWriter):\n",
    "\n",
    "    \"\"\" Print reports to Human console and ask for input for selected report \"\"\"\n",
    "\n",
    "    pass"
   ]
  },
  {
   "cell_type": "code",
   "execution_count": 20,
   "id": "936fbdb8-7c59-4d84-9d93-66499f859ccf",
   "metadata": {},
   "outputs": [],
   "source": [
    "def human_decision_article_feedback(state: BlogWriter):\n",
    "\n",
    "    \"\"\" Ask for feedback on article. Acceptable responses: feedback text, 'AI' for AI generated feedback or 'END' to exit \"\"\"\n",
    "\n",
    "    pass"
   ]
  },
  {
   "cell_type": "code",
   "execution_count": 130,
   "id": "4e07acac-b4a1-4b2a-a49a-7eb6b5d6ad4b",
   "metadata": {},
   "outputs": [],
   "source": [
    "## In jupyter lab we use:\n",
    "\n",
    "import nest_asyncio\n",
    "nest_asyncio.apply()\n",
    "\n",
    "def find_doc_source(document: str)-> str:\n",
    "\n",
    "    link_with_extra = document.split('href=\"')[1]\n",
    "    second_quote = link_with_extra.find('\"')\n",
    "    link = link_with_extra[:second_quote]\n",
    "    return link\n",
    "\n",
    "def summarise_document(document: str) -> str:\n",
    "\n",
    "    system = SystemMessage(\"You are an expert document summariser\")\n",
    "    user = HumanMessage(f\"Please summarise the following document in up to 1500 words. Keep important points and structure. Discard any repetitions of ideas and ambiguity: \\n\\n {document}\")\n",
    "\n",
    "    result = llm_small.invoke([system, user])\n",
    "    print(\"summarised content\")\n",
    "    return result.content\n",
    "    \n",
    "def trim_content(content: str) -> str:\n",
    "\n",
    "    \"\"\" Trim multiple new lines, summarise or discard long documents \"\"\"\n",
    "\n",
    "    trimmed = re.sub(r'\\n{3,}', '\\n\\n', content)\n",
    "    content_est_tokens = len(trimmed) / 4\n",
    "\n",
    "    if content_est_tokens > 15000:\n",
    "        print(\"Too long, skip\")\n",
    "        return None # remove ultra long docs, wasted GPU\n",
    "    elif content_est_tokens > 3500:\n",
    "        print(\"Summarising...\")\n",
    "        return summarise_document(trimmed)\n",
    "    else:\n",
    "        print(\"Trimmed and ready\")\n",
    "        return trimmed\n",
    "\n",
    "def extract_body_content(html):\n",
    "    soup = BeautifulSoup(html, 'html.parser')\n",
    "    body_tag = soup.find('body')\n",
    "    if body_tag:\n",
    "        return body_tag.get_text(separator='\\n', strip=True)\n",
    "    return ''\n",
    "\n",
    "# Function to extract text from PDF\n",
    "def extract_pdf_content(pdf_bytes):\n",
    "    with io.BytesIO(pdf_bytes) as pdf_file:  # Convert bytes to file-like object\n",
    "        with pdfplumber.open(pdf_file) as pdf:\n",
    "            text = ''\n",
    "            for page in pdf.pages:\n",
    "                text += page.extract_text() + '\\n'\n",
    "    return text.strip()\n",
    "\n",
    "async def fetch_url(session, url):\n",
    "    try:\n",
    "        async with session.get(url) as response:\n",
    "            if response.status == 200:\n",
    "                content_type = response.headers.get('Content-Type', '').lower()\n",
    "                \n",
    "                if 'application/pdf' in content_type or 'pdf' in url:\n",
    "                    # Handle PDF data\n",
    "                    pdf_bytes = await response.read()\n",
    "                    text_content = extract_pdf_content(pdf_bytes)\n",
    "                    return {\"page_content\": text_content, \"url\": url, \"type\": \"pdf\"}\n",
    "                elif 'text/html' in content_type:\n",
    "                    # Handle HTML data\n",
    "                    html_content = await response.text()\n",
    "                    body_text = extract_body_content(html_content)\n",
    "                    return {\"page_content\": body_text, \"url\": url, \"type\": \"html\"}\n",
    "                else:\n",
    "                    print(f\"Unsupported content type: {content_type} for URL: {url}\")\n",
    "                    return {\"page_content\": None, \"url\": url, \"type\": \"Unsupported\"}\n",
    "            else:\n",
    "                print(f\"Failed to load {url} with status code: {response.status}\")\n",
    "                return {\"page_content\": None, \"url\": url, \"type\": \"Error\"}\n",
    "    except asyncio.TimeoutError:\n",
    "        print(f\"Timeout occurred while loading {url}\")\n",
    "        return {\"page_content\": None, \"url\": url, \"type\": \"Timeout\"}\n",
    "    except ClientError as e:\n",
    "        print(f\"Client error for {url}: {e}\")\n",
    "        return {\"page_content\": None, \"url\": url, \"type\": \"Client Error\"}\n",
    "        \n",
    "async def load_docs(links):\n",
    "    async with ClientSession() as session:\n",
    "        tasks = [fetch_url(session, url) for url in links]\n",
    "        results = await asyncio.gather(*tasks)\n",
    "        \n",
    "        # Filter out None values (failed loads)\n",
    "        successful_loads = [doc for doc in results if doc['type'] in ['html', 'pdf']]\n",
    "\n",
    "        # Process the loaded documents here\n",
    "        print(f\"Successfully loaded {len(successful_loads)} documents.\")\n",
    "        return successful_loads\n",
    "\n",
    "async def sources_consolidator(state: BlogWriter):\n",
    "\n",
    "    \"\"\" Examine the sources used in the conversation and download their full pages \"\"\"\n",
    "\n",
    "    selected_report = state.get(\"selected_report\", None)\n",
    "\n",
    "    if selected_report is None:\n",
    "        raise ValueError(\"No report was selected. Please rerun the App\")\n",
    "    documents = \"\\n\\n---\\n\\n\".join(selected_report[\"context\"]).split(\"\\n\\n---\\n\\n\")\n",
    "    links = [find_doc_source(document) for document in documents]\n",
    "    used_links = [link for link in links if selected_report[\"conversation\"].find(link) > -1]\n",
    "    \n",
    "    if len(used_links) == 0:\n",
    "        raise ValueError(\"Problem with sources.\")\n",
    "        \n",
    "    full_docs = await load_docs(used_links)\n",
    "    \n",
    "    trimmed_docs = []\n",
    "    filtered_docs = [doc for doc in full_docs if doc['page_content']]\n",
    "    for doc in filtered_docs:\n",
    "        trimmed = trim_content(doc[\"page_content\"])\n",
    "        if trimmed:\n",
    "            doc[\"page_content\"] = trimmed\n",
    "            trimmed_docs.append(doc)\n",
    "    \n",
    "    formatted_docs = \"\\n\\n---\\n\\n\".join(\n",
    "        [\n",
    "            f'''<Document href=\"{doc['url']}\" type=\"{doc['type']}\"/>\n",
    "            \\n{doc[\"page_content\"]}\\n</Document>'''\n",
    "            for doc in trimmed_docs\n",
    "        ]\n",
    "    )\n",
    "\n",
    "    return {\"final_documents\": formatted_docs} \n",
    "\n",
    "\n",
    "   "
   ]
  },
  {
   "cell_type": "markdown",
   "id": "3ac8ba84-55c8-4ae6-929e-d5999b711e03",
   "metadata": {},
   "source": [
    "#### Alternative MultiProcessing. "
   ]
  },
  {
   "cell_type": "code",
   "execution_count": 90,
   "id": "6b52ca87-685a-47c5-aa8b-a55b8645c1bc",
   "metadata": {
    "jupyter": {
     "source_hidden": true
    }
   },
   "outputs": [],
   "source": [
    "from multiprocessing.pool import ThreadPool\n",
    "from multiprocessing import Queue\n",
    "\n",
    "def sources_consolidator(state: BlogWriter):\n",
    "    \n",
    "    \"\"\" Examine the sources used in the conversation and download their full pages \"\"\"\n",
    "\n",
    "    selected_report = state.get(\"selected_report\", None)\n",
    "\n",
    "    if selected_report is None:\n",
    "        raise ValueError(\"No report was selected. Please rerun the App\")\n",
    "    documents = \"\\n\\n---\\n\\n\".join(selected_report[\"context\"]).split(\"\\n\\n---\\n\\n\")\n",
    "    links = [find_doc_source(document) for document in documents]\n",
    "    used_links = [link for link in links if selected_report[\"conversation\"].find(link) > -1]\n",
    "    \n",
    "    if len(used_links) == 0:\n",
    "        raise ValueError(\"Problem with sources.\")\n",
    "\n",
    "    loader = WebBaseLoader(used_links, show_progress=True)\n",
    "    full_docs = []\n",
    "    processed = 0\n",
    "    \n",
    "    # Create a queue to hold the documents\n",
    "    doc_queue = Queue()\n",
    "    \n",
    "    def fetch_and_enqueue(iterator):\n",
    "        for page in iterator:\n",
    "            doc_queue.put(page)\n",
    "        doc_queue.put(\"STOP\")  # Signal that we're done\n",
    "\n",
    "    # Start a separate thread to fill the queue\n",
    "    with ThreadPool(processes=1) as pool:\n",
    "        pool.apply_async(fetch_and_enqueue, (loader.lazy_load(),))\n",
    "    \n",
    "    while True:\n",
    "        page = load_page_safe(doc_queue)\n",
    "        if page == \"STOP\":\n",
    "            print(\" STOP\")\n",
    "            break\n",
    "\n",
    "        if page is None:\n",
    "            print(\"PAGE IS skipped, continuing\")\n",
    "            continue\n",
    "\n",
    "        print(\"appending.. \" + page.metadata[\"source\"])\n",
    "        full_docs.append(page)\n",
    "\n",
    "    trimmed_docs = []\n",
    "    for doc in full_docs:\n",
    "        trimmed = trim_content(doc.page_content)\n",
    "        if trimmed:\n",
    "            doc.page_content = trimmed\n",
    "            trimmed_docs.append(doc)\n",
    "    \n",
    "    formatted_docs = \"\\n\\n---\\n\\n\".join(\n",
    "        [\n",
    "            f'''<Document href=\"{doc.metadata['source']}\" title=\"{doc.metadata.get('title', '')}\" description=\"{doc.metadata.get('description', '')}\"/>\n",
    "            \\n{doc.page_content}\\n</Document>'''\n",
    "            for doc in trimmed_docs\n",
    "        ]\n",
    "    )\n",
    "\n",
    "    return {\"final_documents\": formatted_docs} \n",
    "\n",
    "def load_page_safe(queue):\n",
    "    \"\"\"Runs queue.get() in a separate thread to enforce timeout.\"\"\"\n",
    "    with ThreadPool(processes=1) as pool:\n",
    "        future = pool.apply_async(queue.get)\n",
    "        try:\n",
    "            return future.get(timeout=10)  # Enforce timeout\n",
    "        except multiprocessing.TimeoutError:\n",
    "            print(\"Skipping a page due to timeout.\")\n",
    "            return None\n",
    "        except Exception as e:\n",
    "            print(f\"Error loading page: {e}\")\n",
    "            return None\n"
   ]
  },
  {
   "cell_type": "code",
   "execution_count": 22,
   "id": "a4b233e4-4395-4568-8599-68a517a29493",
   "metadata": {},
   "outputs": [],
   "source": [
    "def gen_master_blogger_system_prompt(company, goal) -> str:\n",
    "    return f\"\"\"You now have all the pieces together to produce the final blog for the company: {company}.\n",
    "Being the chief copywriter it is your responsibility to deliver an article that will help towards the goal set by the CEO,\n",
    "namely: {goal}. When delivering the piece pay close attention to the research that has been carried out thus far:\n",
    "- an interview/ conversation between your colleague Suzan and a marketing expert\n",
    "- search results that the expert has used\n",
    "- the full documents that were involved in the conversation\n",
    "- a plan for the blog post created by your senior copywriter\n",
    "- 3 previous blog posts in md format for reference of how to format the new piece\n",
    "- When using 3rd party sources, remember to quote them in the article\n",
    "\"\"\"\n",
    "    \n",
    "def gen_master_blogger_user_prompt(**kwargs) -> str:\n",
    "    return f\"\"\"Hi there. I am the CEO of {kwargs[\"company\"]}. Here is the gathered information for you to write the blog\n",
    "    article on the following topic. Please write the final article. Do not mention the article plan or the interview. Include any\n",
    "    sources directly in the article body. Base the article entirely on the collected information. Do not make any assumptions.\n",
    "\n",
    "    You need to adhere as closely to the approved plan for the article as possible. Change any points that\n",
    "    you deem fit in order to to produce an article to reach the goal that I have set forth. \n",
    "    \n",
    "    Title: {kwargs[\"title\"]}\n",
    "    Rationale to write this article: {kwargs[\"rationale\"]}\n",
    "    \n",
    "    Goal: {kwargs[\"goal\"]}\n",
    "\n",
    "    Blog article plan to adhere to:\n",
    "    {kwargs[\"plan\"]}\n",
    "    \n",
    "    The research that our marketing has collected follows below. Please remember to produce the final piece\n",
    "    in markdown and conform to the formatting of the few example articles on our blog page to keep the consistency \n",
    "    in place. Only produce the article mentioning any sources that you have used from the knowledge base and their links \n",
    "    directly in the article. Do not include any mention on the interview, it is solely for internal use.\n",
    "\n",
    "    Interview of expert by our copywriter:\n",
    "    {kwargs[\"conversation\"]}\n",
    "\n",
    "    Knowledge base of documents\n",
    "    {kwargs[\"documents\"]}\n",
    "\n",
    "    Examples of previous articles\n",
    "    {kwargs[\"articles\"]}\n",
    "\n",
    "    Based on the above information, write a blog article that is informative. It needs to engage the readers with information \n",
    "    that is interesting, insightful and ultimately helpful for them in addressing pain points.\n",
    "    \"\"\"\n",
    "\n",
    "def master_blogger_writer(state: BlogWriter):\n",
    "    \n",
    "    \"\"\" Write the final article based on collected sources, plan and conversaion. \"\"\"\n",
    "\n",
    "    client = Client(\n",
    "      host='ollama',\n",
    "    )\n",
    "    required_keys = {\n",
    "        \"goal\": \"Goal\",\n",
    "        \"company_profile\": \"Company Profile\",\n",
    "        \"selected_report\": \"Selected Report\",\n",
    "        \"previous_articles\": \"Previous Articles\",\n",
    "        \"final_documents\": \"Final Documents\"\n",
    "    }\n",
    "    \n",
    "    missing_keys = [name for key, name in required_keys.items() if not state.get(key)]\n",
    "    if missing_keys:\n",
    "        raise ValueError(f\"Missing required fields: {', '.join(missing_keys)}\")\n",
    "\n",
    "    goal = state[\"goal\"]\n",
    "    company = state[\"company_profile\"][\"name\"]\n",
    "    title = state[\"selected_report\"][\"title\"]\n",
    "    rationale = state[\"selected_report\"][\"rationale\"]\n",
    "    plan = state[\"selected_report\"][\"report_plan\"]\n",
    "    conversation = state[\"selected_report\"][\"conversation\"]\n",
    "    \n",
    "    previous_articles = state[\"previous_articles\"]\n",
    "    article_indices = random.sample(range(len(previous_articles)), 3)\n",
    "    sample_articles = [previous_articles[i] for i in article_indices]\n",
    "\n",
    "    final_documents = state[\"final_documents\"]\n",
    "    system = gen_master_blogger_system_prompt(company=company, goal=goal)\n",
    "    user = gen_master_blogger_user_prompt(\n",
    "        company=company,\n",
    "        title=title,\n",
    "        rationale=rationale,\n",
    "        goal=goal,\n",
    "        plan=plan,\n",
    "        conversation=conversation,\n",
    "        documents=final_documents,\n",
    "        articles=sample_articles\n",
    "    )\n",
    "    messages = [{\"role\": \"system\", \n",
    "                 \"content\": system\n",
    "                },\n",
    "                {\"role\": \"user\", \n",
    "                 \"content\": user\n",
    "                 }\n",
    "               ]\n",
    "    # result = client.chat(\n",
    "    #     model=\"deepseek-r1:32b\",\n",
    "    #     messages=messages,\n",
    "    #     stream=False,\n",
    "    #     options={\"temperature\": 0.15,\n",
    "    #             \"top_p\": 0.8,\n",
    "    #              \"num_ctx\": 20000\n",
    "    #             }\n",
    "    # )\n",
    "    result = open_ai_llm_mini.invoke([SystemMessage(system), HumanMessage(user)])\n",
    "    # result = llm.invoke([SystemMessage(system), HumanMessage(user)])\n",
    "    # return {\"final_article\": result[\"message\"][\"content\"]}\n",
    "    return {\"final_article\": result.content}"
   ]
  },
  {
   "cell_type": "markdown",
   "id": "82b7c041-cce2-4f04-9415-4408da40bfa9",
   "metadata": {},
   "source": [
    "#### Human Article Feedback nodes"
   ]
  },
  {
   "cell_type": "code",
   "execution_count": 23,
   "id": "d1ab9983-783e-4e4a-b542-9994a86c0f4b",
   "metadata": {},
   "outputs": [],
   "source": [
    "def gen_apply_feedback_system_prompt(company: str) -> str:\n",
    "    return f\"\"\"You are the head of copy at {company}. You have writen a remarkable blog article. Following is a \n",
    "    feedback from your colleague with some recommendations for improvement. When considering the feedback to produce a\n",
    "    new version of the article please bear in mind that you need to stick strictly to sources provided. Do not make any\n",
    "    assumptions or digress.\n",
    "    \"\"\"\n",
    "def gen_apply_feedback_user_prompt(**kwargs) -> str:\n",
    "    return f\"\"\"Please apply the following changes to the article below. When modifying the article follow similar structure\n",
    "    and produce the new article in markdown. If the feedback says that no further changes are needed, do not apply any changes\n",
    "    and return the original article.\n",
    "    \n",
    "    Please only use information that we have gathered in our research and the supplied feedback when you modify the article. \n",
    "    \n",
    "    The research comprises of:\n",
    "\n",
    "    - Conversation between our copywriter and an expert:\n",
    "    {kwargs[\"conversation\"]}\n",
    "\n",
    "    - Sources that have been used in the conversation:\n",
    "    {kwargs[\"documents\"]}\n",
    "\n",
    "    Here is the feedback to incorporate in the new version of the article:\n",
    "    {kwargs[\"feedback\"]}\n",
    "\n",
    "    And finally below is the existing article to modify incorporating the feedback and research specified above:\n",
    "    {kwargs[\"article\"]}\n",
    "    \"\"\"\n",
    "\n",
    "def gen_ai_feedback_system_prompt(company: str):\n",
    "    return f\"\"\"You are the lead editor for {company}. Your task is to write a review with suggestions for improvements for a blog\n",
    "    post supplied by the company's copy team. When writing the review and recommendations, please keep in mind few things.\n",
    "\n",
    "    1. the ultimate marketing goal that the blog post needs to help achieving.\n",
    "    2. the company's USPs\n",
    "    3. the rationale why this blog post was written in the first place.\n",
    "    4. the article should be informative and help the readers with their pain points, not directly sell the company\n",
    "\n",
    "    Provide your feedback as a list of concise bullet points that the copy team need to follow.\n",
    "    \"\"\"\n",
    "\n",
    "def gen_ai_feedback_user_prompt(**kwargs):\n",
    "    return f\"\"\"Please find my artice for review. I have tried to produce a blog article that would help our marketing team achieve their\n",
    "    goal, namely: {kwargs[\"goal\"]}. Please suggest some points to edit in order to improve the article further. If the article is optimal\n",
    "    the way it is, just say \"Nothing to improve!\" and we'll get it published :>\n",
    "    \n",
    "    Here is some additional information that will be helpful:\n",
    "\n",
    "    Company name: {kwargs[\"company\"]}\n",
    "    Company usps: {kwargs[\"usps\"]}\n",
    "    Rationale for writing this article: {kwargs[\"rationale\"]}\n",
    "\n",
    "    The article to potentially improve:\n",
    "\n",
    "    {kwargs[\"article\"]}\n",
    "    \n",
    "    \"\"\"\n",
    "\n",
    "def apply_feedback_to_article(state: BlogWriter):\n",
    "\n",
    "    required_keys = {\n",
    "        \"company_profile\": \"Company Profile\",\n",
    "        \"selected_report\": \"Selected Report\",\n",
    "        \"final_documents\": \"Final Documents\",\n",
    "        \"final_article\": \"Final Article\"\n",
    "    }\n",
    "    \n",
    "    missing_keys = [name for key, name in required_keys.items() if not state.get(key)]\n",
    "\n",
    "    if missing_keys:\n",
    "        raise ValueError(f\"Missing required fields: {', '.join(missing_keys)}\")\n",
    "\n",
    "    company = state[\"company_profile\"][\"name\"]\n",
    "    conversation = state[\"selected_report\"][\"conversation\"]\n",
    "    final_documents = state[\"final_documents\"]\n",
    "    final_article = state[\"final_article\"]\n",
    "    \n",
    "    human_feedback = state.get(\"human_article_feedback\")\n",
    "    ai_feedback = state.get(\"ai_article_feedback\")\n",
    "    \n",
    "    if human_feedback or ai_feedback:\n",
    "        system = gen_apply_feedback_system_prompt(company)\n",
    "        user = gen_apply_feedback_user_prompt(conversation=conversation, \n",
    "                                              documents=final_documents,\n",
    "                                              feedback=human_feedback if human_feedback else ai_feedback,\n",
    "                                              article=final_article\n",
    "                                             )\n",
    "        result = open_ai_llm_mini.invoke([SystemMessage(system), HumanMessage(user)])\n",
    "        \n",
    "        return {\"final_article\": result.content}\n",
    "    else:\n",
    "        raise ValueError(\"Feedback should be present!\")\n",
    "\n",
    "def get_ai_feedback(state: BlogWriter):\n",
    "    \n",
    "    \"\"\" This node should get article improvement suggestions from a powerful AI model \"\"\"\n",
    "\n",
    "    required_keys = {\n",
    "        \"goal\": \"Goal\",\n",
    "        \"company_profile\": \"Company Profile\",\n",
    "        \"selected_report\": \"Selected Report\",\n",
    "        \"usps\": \"Company USPs\",\n",
    "        \"final_article\": \"Final Article\"\n",
    "    }\n",
    "    \n",
    "    missing_keys = [name for key, name in required_keys.items() if not state.get(key)]\n",
    "\n",
    "    if missing_keys:\n",
    "        raise ValueError(f\"Missing required fields: {', '.join(missing_keys)}\")\n",
    "\n",
    "    company = state[\"company_profile\"][\"name\"]\n",
    "    goal = state[\"goal\"]\n",
    "    usps = state[\"usps\"]\n",
    "    rationale = state[\"selected_report\"][\"rationale\"]\n",
    "    article = state[\"final_article\"]\n",
    "    \n",
    "    system = gen_ai_feedback_system_prompt(company=company)\n",
    "    user = gen_ai_feedback_user_prompt(goal=goal, \n",
    "                                       company=company, \n",
    "                                       rationale=rationale, \n",
    "                                       usps=usps, article=article)\n",
    "\n",
    "    result = open_ai_llm.invoke([SystemMessage(system), HumanMessage(user)])\n",
    "    print('RESULT', result)\n",
    "    # we need to provide the ai feedback and clear the human choice\n",
    "    return {\"ai_article_feedback\": result.content, \"human_article_feedback\": None}\n",
    "    "
   ]
  },
  {
   "cell_type": "code",
   "execution_count": 24,
   "id": "fe0827dd-807f-46a3-a995-800fe3cb9b34",
   "metadata": {},
   "outputs": [],
   "source": [
    "def feedback_router(state: BlogWriter):\n",
    "\n",
    "    \"\"\" Route according to user feedback \"\"\" \n",
    "\n",
    "    feedback = state.get(\"human_article_feedback\", None)\n",
    "\n",
    "    if feedback is not None:\n",
    "        if feedback.lower() == 'end':\n",
    "            return END\n",
    "        elif feedback.lower() == 'ai':\n",
    "            return 'get_ai_feedback'\n",
    "        else:\n",
    "            return 'apply_feedback_to_article'\n",
    "    else:\n",
    "        raise ValueError(\"feedback should not be None. Valid entries: str, END, AI\")\n",
    "\n",
    "    \n",
    "    "
   ]
  },
  {
   "cell_type": "markdown",
   "id": "5b072d3f-5988-44c4-ab6c-a066f0df8357",
   "metadata": {},
   "source": [
    "### The Graph"
   ]
  },
  {
   "cell_type": "code",
   "execution_count": 131,
   "id": "7fcdf4e6-5073-49f8-93f0-af5ee768df95",
   "metadata": {},
   "outputs": [
    {
     "data": {
      "text/plain": [
       "<langgraph.graph.state.StateGraph at 0x764ed6316690>"
      ]
     },
     "execution_count": 131,
     "metadata": {},
     "output_type": "execute_result"
    }
   ],
   "source": [
    "builder = StateGraph(BlogWriter, input=BlogWriterInput, output=BlogWriterOutput)\n",
    "\n",
    "builder.add_node(\"topic_analyser\", builder_analyser.compile())\n",
    "builder.add_node(\"perform_research\", builder_research.compile())\n",
    "builder.add_node(\"human_decision_which_topic\", human_decision_which_topic)\n",
    "builder.add_node(\"sources_consolidator\", sources_consolidator)\n",
    "builder.add_node(\"master_blogger_writer\", master_blogger_writer)\n",
    "builder.add_node(\"human_decision_article_feedback\", human_decision_article_feedback)\n",
    "builder.add_node(\"apply_feedback_to_article\", apply_feedback_to_article)\n",
    "builder.add_node(\"get_ai_feedback\", get_ai_feedback)\n",
    "builder.add_edge(START, \"topic_analyser\")\n",
    "builder.add_conditional_edges(\"topic_analyser\", initiate_all_researchers, [\"perform_research\"])\n",
    "builder.add_edge(\"perform_research\", \"human_decision_which_topic\")\n",
    "builder.add_edge(\"human_decision_which_topic\", \"sources_consolidator\")\n",
    "builder.add_edge(\"sources_consolidator\", \"master_blogger_writer\")\n",
    "builder.add_edge(\"master_blogger_writer\", \"human_decision_article_feedback\")\n",
    "builder.add_conditional_edges(\"human_decision_article_feedback\", feedback_router, [\"get_ai_feedback\", \"apply_feedback_to_article\", END])\n",
    "builder.add_edge(\"get_ai_feedback\", \"apply_feedback_to_article\")\n",
    "builder.add_edge(\"apply_feedback_to_article\", \"human_decision_article_feedback\")"
   ]
  },
  {
   "cell_type": "code",
   "execution_count": 26,
   "id": "3bed076d-f871-45f8-93b2-33f227135123",
   "metadata": {},
   "outputs": [],
   "source": [
    "## Some DB management...\n",
    "\n",
    "import aiosqlite\n",
    "\n",
    "async with aiosqlite.connect(\"./data/streameye_context_data/conn_db.sqlite\") as db:\n",
    "    await db.execute(\"PRAGMA journal_mode=WAL;\")\n",
    "    await db.execute(\"PRAGMA synchronous=NORMAL;\")\n",
    "    await db.execute(\"PRAGMA wal_autocheckpoint=100;\")  # Frequent checkpoints\n",
    "    await db.commit()\n",
    "\n"
   ]
  },
  {
   "cell_type": "code",
   "execution_count": 27,
   "id": "c66cb1ed-1304-47a6-be62-53116a23dabc",
   "metadata": {},
   "outputs": [],
   "source": [
    "import asyncio\n",
    "from langgraph.checkpoint.sqlite.aio import AsyncSqliteSaver\n",
    "from langgraph.graph import StateGraph\n",
    "\n",
    "memory_cm = AsyncSqliteSaver.from_conn_string(\"./data/streameye_context_data/conn_db.sqlite\")\n",
    "memory = await memory_cm.__aenter__()"
   ]
  },
  {
   "cell_type": "code",
   "execution_count": 56,
   "id": "9ab51d7a-4215-4b7c-877b-597743bdb892",
   "metadata": {},
   "outputs": [
    {
     "data": {
      "text/plain": [
       "False"
      ]
     },
     "execution_count": 56,
     "metadata": {},
     "output_type": "execute_result"
    }
   ],
   "source": [
    "await memory_cm.__aexit__(None, None, None)\n"
   ]
  },
  {
   "cell_type": "code",
   "execution_count": 132,
   "id": "3049d182-020d-4691-a69f-b8adbe00e3f7",
   "metadata": {},
   "outputs": [
    {
     "data": {
      "image/png": "[encoded data removed]",
      "text/plain": [
       "<IPython.core.display.Image object>"
      ]
     },
     "metadata": {},
     "output_type": "display_data"
    }
   ],
   "source": [
    "graph = builder.compile(interrupt_before=[\"human_decision_which_topic\", \"human_decision_article_feedback\"],\n",
    "                        checkpointer=memory)\n",
    "    \n",
    "display(Image(graph.get_graph(xray=1).draw_mermaid_png()))\n",
    "# with sqlite3.connect(\"./data/streameye_context_data/conn_db.sqlite\") as conn:\n",
    "#     memory = SqliteSaver(conn)\n",
    "#     graph = builder.compile(interrupt_before=[\"human_decision_which_topic\", \"human_decision_article_feedback\"],checkpointer=memory)\n",
    "    "
   ]
  },
  {
   "cell_type": "code",
   "execution_count": 29,
   "id": "412d73c7-425a-422a-adc2-ea460bac6146",
   "metadata": {},
   "outputs": [],
   "source": [
    "company_profile = {\n",
    "    \"name\": \"StreamEye LTD\",\n",
    "    \"description\": \"\"\"\n",
    "        Streameye is the creative management platform for fast-moving brands that allows you \n",
    "        to mass-produce creatives in a manner of minutes.\n",
    "    \"\"\"\n",
    "}\n",
    "articles, usps = company_context_builder(\"./data/streameye_context_data/articles/\", \n",
    "                            './data/streameye_context_data/articles/articles.json',\n",
    "                            './data/streameye_context_data/usps/')\n",
    "thread = {\"configurable\": {\"thread_id\": 1006}}\n",
    "\n"
   ]
  },
  {
   "cell_type": "code",
   "execution_count": 133,
   "id": "7cdd044e-c343-478d-8aab-6f62f0a8ab3e",
   "metadata": {},
   "outputs": [],
   "source": [
    "thread = {\"configurable\": {\"thread_id\": 1005}}"
   ]
  },
  {
   "cell_type": "code",
   "execution_count": 134,
   "id": "e0a72682-8817-43e7-8e74-b083a3a19db1",
   "metadata": {},
   "outputs": [],
   "source": [
    "recovered_state = await graph.aget_state(config=thread)\n",
    "recovered_history = [state async for state in graph.aget_state_history(config=thread)]"
   ]
  },
  {
   "cell_type": "code",
   "execution_count": 135,
   "id": "60d4e1e1-5136-401e-9eec-735b62906002",
   "metadata": {},
   "outputs": [
    {
     "data": {
      "text/plain": [
       "15"
      ]
     },
     "execution_count": 135,
     "metadata": {},
     "output_type": "execute_result"
    }
   ],
   "source": [
    "len(recovered_history)"
   ]
  },
  {
   "cell_type": "code",
   "execution_count": 137,
   "id": "7d14ef8f-ed77-41ea-885b-13623c99033e",
   "metadata": {},
   "outputs": [
    {
     "data": {
      "text/plain": [
       "('sources_consolidator',)"
      ]
     },
     "execution_count": 137,
     "metadata": {},
     "output_type": "execute_result"
    }
   ],
   "source": [
    "recovered_history[10].next\n"
   ]
  },
  {
   "cell_type": "code",
   "execution_count": null,
   "id": "ca50074f-5ae5-4ac7-907a-a7636ffd4003",
   "metadata": {},
   "outputs": [],
   "source": [
    "# recovered_history.values.get()"
   ]
  },
  {
   "cell_type": "code",
   "execution_count": 138,
   "id": "c7099c24-7b53-4080-b18c-432ad3bd61fd",
   "metadata": {},
   "outputs": [],
   "source": [
    "recovered_config = recovered_history[10].config"
   ]
  },
  {
   "cell_type": "code",
   "execution_count": 107,
   "id": "eb289018-2fd7-4daf-9d88-ca36770f9cc7",
   "metadata": {},
   "outputs": [],
   "source": [
    "selected_report = recovered_state.values.get(\"selected_report\")"
   ]
  },
  {
   "cell_type": "code",
   "execution_count": 62,
   "id": "7ff5a15f-14b7-46fe-ba5c-8960363eccd0",
   "metadata": {
    "collapsed": true,
    "jupyter": {
     "outputs_hidden": true
    }
   },
   "outputs": [
    {
     "name": "stdout",
     "output_type": "stream",
     "text": [
      "Requirement already satisfied: aiohttp in /opt/conda/lib/python3.12/site-packages (3.11.1)\n",
      "Requirement already satisfied: nest_asyncio in /opt/conda/lib/python3.12/site-packages (1.6.0)\n",
      "Requirement already satisfied: aiohappyeyeballs>=2.3.0 in /opt/conda/lib/python3.12/site-packages (from aiohttp) (2.4.3)\n",
      "Requirement already satisfied: aiosignal>=1.1.2 in /opt/conda/lib/python3.12/site-packages (from aiohttp) (1.3.1)\n",
      "Requirement already satisfied: attrs>=17.3.0 in /opt/conda/lib/python3.12/site-packages (from aiohttp) (24.2.0)\n",
      "Requirement already satisfied: frozenlist>=1.1.1 in /opt/conda/lib/python3.12/site-packages (from aiohttp) (1.5.0)\n",
      "Requirement already satisfied: multidict<7.0,>=4.5 in /opt/conda/lib/python3.12/site-packages (from aiohttp) (6.1.0)\n",
      "Requirement already satisfied: propcache>=0.2.0 in /opt/conda/lib/python3.12/site-packages (from aiohttp) (0.2.0)\n",
      "Requirement already satisfied: yarl<2.0,>=1.17.0 in /opt/conda/lib/python3.12/site-packages (from aiohttp) (1.17.1)\n",
      "Requirement already satisfied: idna>=2.0 in /opt/conda/lib/python3.12/site-packages (from yarl<2.0,>=1.17.0->aiohttp) (3.10)\n"
     ]
    }
   ],
   "source": []
  },
  {
   "cell_type": "code",
   "execution_count": 38,
   "id": "a4ed2906-e691-4104-ab41-15797ab1d528",
   "metadata": {},
   "outputs": [
    {
     "data": {
      "text/plain": [
       "['https://www.admetrics.io/en/post/tiktok-advertising-trends',\n",
       " 'https://ads.tiktok.com/business/library/TikTok_Whats_Next_2025_Trend_Report_en_AUNZ.pdf',\n",
       " 'https://inbeat.agency/blog/tiktok-ugc',\n",
       " 'https://sproutsocial.com/insights/tiktok-ads/']"
      ]
     },
     "execution_count": 38,
     "metadata": {},
     "output_type": "execute_result"
    }
   ],
   "source": [
    "documents = \"\\n\\n---\\n\\n\".join(selected_report[\"context\"]).split(\"\\n\\n---\\n\\n\")\n",
    "\n",
    "\n",
    "links = [find_doc_source(document) for document in documents]\n",
    "used_links = [link for link in links if selected_report[\"conversation\"].find(link) > -1]\n",
    "used_links"
   ]
  },
  {
   "cell_type": "code",
   "execution_count": 39,
   "id": "e3c35883-656f-4216-989b-d2266bfbddbe",
   "metadata": {},
   "outputs": [
    {
     "data": {
      "text/plain": [
       "langchain_community.document_loaders.web_base.WebBaseLoader"
      ]
     },
     "execution_count": 39,
     "metadata": {},
     "output_type": "execute_result"
    }
   ],
   "source": [
    "loader = WebBaseLoader(used_links, show_progress=True)\n",
    "type(loader)"
   ]
  },
  {
   "cell_type": "code",
   "execution_count": 90,
   "id": "8a2d49e9-fb96-4cf2-81dd-9ef40abec2cf",
   "metadata": {
    "jupyter": {
     "source_hidden": true
    }
   },
   "outputs": [],
   "source": [
    "import asyncio\n",
    "from aiohttp import ClientSession, ClientError\n",
    "from bs4 import BeautifulSoup\n",
    "import pdfplumber, io\n",
    "\n",
    "# Define the timeout\n",
    "TIMEOUT = 10  # seconds\n",
    "\n",
    "def extract_body_content(html):\n",
    "    soup = BeautifulSoup(html, 'html.parser')\n",
    "    body_tag = soup.find('body')\n",
    "    if body_tag:\n",
    "        return body_tag.get_text(separator='\\n', strip=True)\n",
    "    return ''\n",
    "\n",
    "# Function to extract text from PDF\n",
    "def extract_pdf_content(pdf_bytes):\n",
    "    with io.BytesIO(pdf_bytes) as pdf_file:  # Convert bytes to file-like object\n",
    "        with pdfplumber.open(pdf_file) as pdf:\n",
    "            text = ''\n",
    "            for page in pdf.pages:\n",
    "                text += page.extract_text() + '\\n'\n",
    "    return text.strip()\n",
    "\n",
    "async def fetch_url(session, url):\n",
    "    try:\n",
    "        async with session.get(url) as response:\n",
    "            if response.status == 200:\n",
    "                content_type = response.headers.get('Content-Type', '').lower()\n",
    "                \n",
    "                if 'application/pdf' in content_type or 'pdf' in url:\n",
    "                    # Handle PDF data\n",
    "                    pdf_bytes = await response.read()\n",
    "                    text_content = extract_pdf_content(pdf_bytes)\n",
    "                    return text_content, url, 'pdf'\n",
    "                elif 'text/html' in content_type:\n",
    "                    # Handle HTML data\n",
    "                    html_content = await response.text()\n",
    "                    body_text = extract_body_content(html_content)\n",
    "                    return body_text, url, 'html'\n",
    "                else:\n",
    "                    print(f\"Unsupported content type: {content_type} for URL: {url}\")\n",
    "                    return None, url, 'unsupported'\n",
    "            else:\n",
    "                print(f\"Failed to load {url} with status code: {response.status}\")\n",
    "                return None, url, 'error'\n",
    "    except asyncio.TimeoutError:\n",
    "        print(f\"Timeout occurred while loading {url}\")\n",
    "        return None, url, 'timeout'\n",
    "    except ClientError as e:\n",
    "        print(f\"Client error for {url}: {e}\")\n",
    "        return None, url, 'client_error'\n",
    "        \n",
    "async def load_docs(links):\n",
    "    async with ClientSession() as session:\n",
    "        tasks = [fetch_url(session, url) for url in links]\n",
    "        results = await asyncio.gather(*tasks)\n",
    "        \n",
    "        # Filter out None values (failed loads)\n",
    "        successful_loads = [(content, url, status) for content, url, status in results if status in ['html', 'pdf']]\n",
    "\n",
    "        # Process the loaded documents here\n",
    "        print(f\"Successfully loaded {len(successful_loads)} documents.\")\n",
    "        return successful_loads\n",
    "\n",
    "# Apply nest_asyncio to allow nested event loops in Jupyter\n",
    "import nest_asyncio\n",
    "nest_asyncio.apply()\n",
    "\n",
    "# Run the main function directly in a Jupyter cell"
   ]
  },
  {
   "cell_type": "code",
   "execution_count": 128,
   "id": "6bcdcf40-b3e6-46af-9819-9df705481688",
   "metadata": {},
   "outputs": [
    {
     "name": "stdout",
     "output_type": "stream",
     "text": [
      "Successfully loaded 0 documents.\n"
     ]
    },
    {
     "name": "stderr",
     "output_type": "stream",
     "text": [
      "/opt/conda/lib/python3.12/site-packages/pdfminer/converter.py:220: RuntimeWarning: coroutine 'load_docs' was never awaited\n",
      "  def render_char(\n",
      "RuntimeWarning: Enable tracemalloc to get the object allocation traceback\n"
     ]
    }
   ],
   "source": [
    "successful_documents = await load_docs(used_links)"
   ]
  },
  {
   "cell_type": "code",
   "execution_count": 96,
   "id": "109daf85-0382-466e-8004-9e3dd896fe9d",
   "metadata": {
    "collapsed": true,
    "jupyter": {
     "outputs_hidden": true
    }
   },
   "outputs": [
    {
     "data": {
      "text/plain": [
       "'Services\\nServices\\nUGC Marketing\\nTiktok Marketing\\nTiktok Shop\\nPerformance Creative\\nUser Acquisition\\nPaid Media\\nPanel Recruitment\\nCase studies\\nTake a deeper dive into our client’s results & view all of our client stories.\\nUGC Marketing\\nTiktok Marketing\\nInfluencer Marketing\\nInfluencer Focus Group\\nInstagram Influencer Marketing\\nNano-Influencer Marketing\\nProduct Sampling\\nMicro-Influencer Marketing\\nPaid Advertising\\nTiktok Advertising\\nMeta Advertising\\nSnapchat Advertising\\nPanel Recruitement\\nIndustries\\nIndustries\\nMobile Apps\\nConsumer Packaged Goods\\nDirect to Consumer\\nHealthcare\\nHigh School Advertising\\nCase studies\\nTake a deeper dive into our client’s results & view all of our client stories.\\nMobile Apps\\nConsumer Packaged Goods\\nDirect to Consumer\\nHealthcare\\nHigh School Advertising\\nMarketing\\nInfluencer Marketing\\nInfluencer Focus Group\\nInstagram Influencer\\nB2B Influencer\\nLinkedIn Influencer\\nMicro-Influencer\\nNano-Influencer\\nProduct Sampling\\nGrowth Marketing Agency\\nInfluencer Marketing\\nPaid Advertising\\nTiktok Advertising\\nMeta Advertising\\nSnapchat Advertising\\nPPC and Google ads\\nBook a Call\\nGive your clients access to world-class influencer marketing without doing the work\\nUGC Marketing\\nTiktok Marketing\\nInfluencer Marketing\\nInfluencer Focus Group\\nInstagram Influencer Marketing\\nNano-Influencer Marketing\\nProduct Sampling\\nMicro-Influencer Marketing\\nPaid Advertising\\nTiktok Advertising\\nMeta Advertising\\nSnapchat Advertising\\nPanel Recruitement\\nOur Work\\nOur work\\nCase studies\\nContent highlights\\nFeatured\\nNYC Votes\\nBumble\\nNative\\nHurom\\nNielsenIQ\\nNew Balance\\nProse\\nJoin the newsletter\\nGet complete ad studies & breakdowns, Top performing ads, industry insights & more\\nApply As Creator\\nBook a Call\\nServices\\nServices Marketing\\nUGC Marketing\\nTiktok Marketing\\nTiktok Shop\\nPerformance Creative\\nUser Acquisition\\nPaid Media\\nInfluencer Focus Group\\nInstagram Influencer Marketing\\nNano-Influencer Marketing\\nProduct Sampling\\nTiktok Advertising\\nMeta Advertising\\nSnapchat Advertising\\nSnapchat Advertising\\nPanel Recruitement\\nInfluencer Marketing\\nInfluencer Focus Group\\nInstagram Influencer Marketing\\nB2B Influencer Marketing\\nMicro-Influencer Marketing\\nLinkedIn Influencer Marketing\\nNano-Influencer Marketing\\nProduct Sampling\\nPaid Advertising\\nTiktok Advertising\\nMeta Advertising\\nSnapchat Advertising\\nPPC and Google ads\\nIndustries\\nMobile Apps\\nConsumer Packaged Goods\\nDirect to Consumer\\nHealthcare\\nHigh School Advertising\\nCase Studies\\nBlog\\nOur Work\\nApply As Creator\\nGet Started\\nTikTok UGC: Everything You Need to Know in 2025 (Agency\\'s Insider Info)\\nIoana Cozma\\nFebruary 17, 2025\\nMay 30, 2024\\nBoth TikTok and UGC are becoming increasingly prevalent in the world of social media marketing. We’ve written about it before. Our competitors have too.\\nSo this time, we want to show you something different.\\nOur\\nTikTok UGC agency\\nwants to let you in on our home process for user-generated content creation.\\nWe’ll take you through our usual frame, strategies, and opportunities.\\nAlso, we’ll discuss insider secrets, our personal experiences, and the lessons we learned.\\nAs always, you can find plenty of examples in this article, so keep reading below.\\nTL;DR\\nTikTok UGC is a valuable strategy targeting young audiences, with persuasive power for products/services.\\nSuccessful TikTok UGC campaigns adapt strategies, set measurable goals, and leverage influencers.\\nKey metrics include CPI, ad spend, CPM, and average watch time.\\nEffective content relies on engaging hooks and testing different approaches.\\nInfluencers bring variety, resonating with broad audiences.\\nA/B and hook testing optimize content, leading to scaling in a three-month timeline.\\nSmall businesses can start with authentic videos, while expert assistance and cross-channel promotion enhance results.\\nWhat Is TikTok UGC?\\nUser-generated content (UGC) on TikTok refers to original content created by real users, showcasing their creativity and authenticity.\\nIt encompasses various content types, including viral videos, dance moves, how-to videos, and product reviews.\\nTikTok UGC fosters genuine connections and a sense of community, making TikTok a perfect platform for brands to engage with potential audiences through authentic content.\\nThis type of content can influence purchasing decisions and enhance community engagement.\\nBut let\\'s see some real numbers to prove those claims:\\nWhy Use TikTok UGC?\\nTikTok UGC is a fruitful strategy for companies of all sizes. Research shows that:\\n44.1% of TikTok users\\nare 20 to 39 years old, and\\n37% of them\\nare in the top third of spenders.\\nTikTok is replacing Google as a search engine, with\\n40% of young people\\nturning to TikTok when they search for specific products or services\\nTikTok users are\\ntwice as likely\\nto recommend products/services discovered on TikTok compared to other social channel users. They’re also 1.5x more likely to successfully persuade their friends to try that product/service.\\nUGC is more persuasive than branded content because\\n90% of people\\ntrust UGC, but\\nonly 4%\\ntrust branded messages.\\nNumerous companies are already on TikTok, creating successful campaigns. inBeat’s results with this channel have also been extraordinary.\\n1) We helped Hopper scale UGC ads on TikTok to\\navoid ad fatigue\\nand drive down CPAs.\\nOur results include ongoing genuine high-performing creatives:\\n2) We also cut down CPAs by 75% and increased downloads to over 100, 000 per month for Unroll.me:\\nAnd these are just two of the companies we’ve worked with. Annually, more and more companies set larger portions of their marketing budgets towards TikTok UGC.\\nThat means they have also seen some good results on the platform, or at least convincing evidence that they could reach their goals.\\nSuch advantages include:\\nIncreased organic reach\\nTighter engagement\\nMore sales\\nMost chances to reach Gen Z\\nCheaper ads compared to Meta\\nGet the most out of your TikTok campaigns with our\\nfull-service UGC agency\\n!\\nOur Creative Growth Agency\\'s TikTok UGC Plan\\nThe TikTok train is on the move, so you can hop onboard or be left behind.\\nHere’s the problem:\\nTikTok is not like most channels, and its audience is not like most audiences:\\nTikTok users are extremely creative:\\nTheir videos follow a whole narrative arc from exposition to resolution.\\nTikTok users are part of a generation who isn’t afraid of being controlled by Internet algorithms\\n: That’s because they’ve learned to manipulate those algorithms in their favor, to receive tailored content.\\nTikTok’s algorithm is very volatile:\\nYou cannot really bend it to your usual marketing weapons, like precise targeting. And very similar types of content can provide extremely different results.\\nHere’s the solution:\\nLearn to adapt your strategy to fit this channel and this audience. If you can produce high-quality content, TikTok users will help your brand gain more recognition and conversions than you’ve ever dreamed possible.\\nWe’ll share our secrets below:\\n1. Initial Research\\nThe first stage of any good campaign must be the research, and that’s what we’re doing too. We start by listening to the customer first, analyzing their current problems and the context.\\nThat’s so we can move on to setting goals.\\nWe focus on the company’s:\\nAudience:\\nWho they are, what they need.\\nCompetitors:\\nProducts, communication, customer support, top-performing ads.\\nCompany:\\nHistory, products and services, their top-performing content.\\nWe then integrate this knowledge in a\\nSWOT analysis\\nfocusing on the company’s strengths, weaknesses, opportunities, and threats.\\nPro tip:\\nDo an analysis for your agency too, not just the brand you’re working with.\\nIn this first stage of our campaigns, we’re also looking at:\\nPast campaigns we did for the specific company\\nOur experience\\nWays to measure everything\\nThis last step is specifically important. For example, in the case of a mobile app like Hopper, we considered:\\nThe MMP (mobile measurement partner):\\nTo ensure their third-party data provider could collect and organize all app-related data so we could have the whole picture\\nThe tracking system:\\nThis is an important factor for tracking the cost per download, cost per activation, and so forth\\n2. Goals\\nEach TikTok UGC campaign will have a different goal. Some want to increase awareness, others focus on engagement, and others on sales.\\nSide note:\\nTikTok has been traditionally used to bring more traffic to online stores. However, the platform has recently shown to be an excellent tool for getting more customers to\\noffline stores\\n.\\nSo you can always set that goal too.\\nInsider story:\\nSome companies who come to inBeat aren’t able to create enough high-quality content that performs well. Most have been working with agencies or platforms that cannot provide enough relevant content regularly.\\nFor example, we built a TikTok UGC campaign to drive installs for the Mogo.ca budgeting app. We chose TikTok for this purpose because\\nresearch shows\\n:\\nFinance-related TikTok video views grew 2.7 times.\\n54% of people are more likely to turn to TikTok for finance-related content than other platforms.\\n50% have bought a financial product they saw on TikTok.\\n3. KPIs\\ninBeat chooses KPIs according to the client’s marketing goals.\\nPossible KPIs for TikTok UGC include:\\nCost per install (CPI):\\nThis is the main KPI for a mobile app in the context of a conversion-focus campaign. A paid user within the app counts as a conversion on the website. A successful campaign has a low cost per install.\\nAd spend:\\nA lower ad spend is technically better, but\\nTikTok posts\\nare more expensive than Instagram or Facebook posts. TikTok UGC can help you lower that ad spend, though.\\nCost per mille (CPM):\\nThe average CPM for TikTok ads is $10/1000 views. However, your budget also depends on the type of ad you choose (e.g., in-feed ads, branded takeover, top-view ads). This could get you to $50, 000/day or more.\\nAverage watch time:\\nThe longer people watch your ad, the more successful you are at keeping their attention.\\n4. Strategy\\ninBeat builds the strategy for each campaign based on personalized data. We don’t focus as much on instinct, trends, or opinions.\\nInstead, we measure everything as we explained in the above stages. After that, we choose the right tactic and instruments.\\nIn this case, let’s say we have already decided the tactic is using TikTok UGC. Our go-to instrument here is creator UGC.\\nSide note:\\nOrganizing UGC campaigns using content from real customers is a lengthy process that can use up many resources.\\nYou have to collect that content, pick the best pieces, edit those, and then repurpose them in other channels. We’re not saying it’s not doable – but it’s definitely not the smoothest road to take.\\nThat’s where we have the advantage:\\ninBeat has a massive database of content creators, chosen from the top-performing 2% of influencers.\\n\\u200d\\nWe have worked with many of them, so we know what they can do in terms of content, deadlines, and team collaboration.\\nJust to get an idea, the average TikTok engagement rate is 6.72%, but our creators can reach 20% or more. That means they already have a captive audience that’s more likely to follow these influencers’ advice.\\nAnd remember that UGC is already a very persuasive type of content.\\nOur influencers can produce TikTok UGC like unboxing, tutorials, and more. Then, inBeat curates the content and produces UGC ads.\\nPro tip:\\nIf you want seamless UGC, our\\nUGC marketplace\\ncan help you get high-quality content from the best creators too.\\n5. Content\\nAfter selecting the tactic and instruments, we decide on the content. You can use different types of\\nTikTok UGC ads\\ndepending on your goals:\\nIn-feed ads:\\nCheapest and easiest to adapt to demographic factors\\nBrand takeover ads:\\nThe most actionable; best for landing pages\\nChallenge ads:\\nBest for organic traffic\\nShoppable ads:\\nBest for increased conversions\\nInsider tip:\\nThe biggest challenge of creating effective content is to truly understand your audience. What works can vary widely depending on the type of person you’re trying to address.\\nSometimes we do very raw and native-looking UGC:\\nIn this case, the objective is for the content to resemble a regular TikTok clip, not an ad. These videos are best for the middle and bottom of the funnel, where we need to drive more conversions without being too pushy.\\nOther times we create professional-looking UGC:\\nThese TikTok ads mimic the YouTube style more. Although the homemade feeling is still there, these creators have proper lighting and do highly edited videos. These clips are best for creating awareness and explaining more advanced features, so we typically use them for the top of the funnel.\\nPro tip:\\nRegardless of the type of content you choose, focus on the hook. Hooks are so important that they deserve their own section:\\n6. Hooks\\nWhen we run UGC, we do multiple hooks per video.\\nThe first hook is the most important, and we’ll place that during the first five seconds of the video. Those seconds are decisive for keeping your audience interested.\\nRemember:\\nAttention spans are very low, and TikTok users can scroll away after just one second.\\nIf people lose interest and don’t watch your TikTok, they won’t click the link we usually embed. Therefore, they won’t purchase or download the app we’re promoting.\\nPro tip:\\nWe found that the percentage of people who watch the entire hook is closely related to other metrics, such as cost per sale (or cost per install in an app install campaign).\\nHere’s an excellent example of a hook one of our influencers created for Hopper. The 3-second liner is:\\n“Here’s a secret travel hack that I use to book cheaper flights every single time.”\\nAnd here’s how we see their files:\\n7. Influencers\\nAt inBeat, we start with the strategy first and then discover influencers that can match it.\\nOf course, the brands we’re working for can approve or decline the content creators we suggest.\\n\\u200d\\nSide note:\\nYou, too, can access our influencer database for free. It’s\\nright here\\n.\\nAlternatively, read more about how to pick the right content creators in\\nthis article\\n.\\nAfter our clients have given us their go-ahead:\\nWe share the creative brief with our content creators.\\nWe meet with them to ensure we’re on the same page. We want to clarify the campaign goal, underline KPIs, and explain our expectations in terms of content.\\nInsider tip:\\nTikTok UGC works like a charm for wide-appeal brands.\\nThat means your creators must have different personalities and message styles.\\nLet’s explain: TikTok’s targeting algorithm lacks the options marketers are used to from other platforms, like Meta.\\nBut when you target broad, without restrictions for your audience, the TikTok ads algorithm is pretty good at finding who resonates best with a particular ad.\\n\\u200d\\nStorytime:\\nWe experienced this first-hand with one of our clients –\\nUnroll.me\\n.\\nThis inbox-decluttering app has a broad audience.\\nAlmost everyone can relate to having an inbox swamped with subscriptions and newsletters.\\nOur top-performing creators had very different messages, although they are in the same age group and would otherwise have overlapping audiences.\\n\\u200d\\nTikTok’s algorithm decided who to target for each ad:\\nThe slower-paced ads: TikTok automatically targeted them for the 55+ age group.\\nRemember, we didn’t zero in on an audience when we started this campaign.\\nThe faster-paced ads: TikTok targeted them for the 18-24 age group.\\nThe ads were filmed with a high-quality camera, featured fast-paced animated text instead of captions, and had grade-A lighting.\\nLesson learned:\\nThere are fewer TikTok users in the 55+ age group compared to the younger generations.\\nBesides, influencers have less sway in this segment.\\nThat’s why most companies choose not to follow this segment at all on TikTok.\\nHonestly, we didn’t focus on 55+ people, either.\\nBut TikTok’s algorithm showed us that some ads can genuinely become top-performing in this segment.\\nYou just have to create the right content for this audience using the right influencers.\\n8. Running the Ads and A/B Testing\\nAfter creating this content, we build a content library for our clients. Afterward, we run the paid ads.\\nLike we said before, inBeat relies more on hard cold data than instinct. That’s why we test every post or ad we create.\\nInsider tip:\\nSomething that we’re doing at inBeat – and not most other companies do – is hook testing.\\nHere’s how that works:\\nWe typically ask creators to provide one video UGC ad each, but with three different hooks.\\nThat means we have three different options for the first few seconds.\\nWe’re testing all three versions in our campaigns because one usually performs much better than the others.\\nThat’s the winner hook we’ll use in the future.\\nWhy?\\nTikTok is a very unpredictable channel. Even if the ads or posts are very similar, it’s hard to say which will do better.\\nRemember:\\nTikTok is a volatile channel that makes it hard to predict what style of UGC is best for a certain campaign.\\nSo, don’t be disappointed when you (inevitably) make mistakes.\\nInstead, learn from them. Test different approaches and see what works.\\nYou will eventually gain enough experience and start seeing patterns.\\nPro tip:\\nYou can also use our\\nfree TikTok mockup ad generators\\nto test different versions of your ads for free.\\n9. Scaling Your Campaign\\nThe typical timeline for our campaigns is three months.\\nThe first month is about finding the winning strategy and devising the best content.\\nWe run the paid ads during the second month and see what works.\\nMonth three is focused on massive scaling.\\nAfter testing different hooks and ads, we can confidently use what’s been proven to work.\\nSo, we rev our engines and push ahead with the most effective content to drive increased results.\\nPro tip:\\nDuring this stage of your campaign, you can also focus on leveraging other channels.\\nPost the winning TikTok UGC in marketing e-mails, on your website, or on other social platforms.\\nThis tactic will increase your brand visibility and drive more conversions.\\n5 Strategies to Get UGC on TikTok\\nThe strategies below allow you to engage a diverse range of audiences, from fashion enthusiasts and fitness buffs to tech geeks and travel lovers.\\nEach approach taps into the unique preferences of TikTok’s active users, fostering community engagement and building genuine connections through user-generated content.\\nThis creates an excellent opportunity for brands to enhance their digital marketing efforts and reach potential audiences in a more authentic and impactful way.\\nHashtag campaigns\\n: Launch branded hashtag challenges to encourage users to create and share content related to your brand. This strategy can increase visibility and engagement on social media platforms. Brands in the beauty, fashion, and lifestyle sectors can benefit greatly from these campaigns, as they appeal to users who enjoy participating in social media trends and expressing their creativity.\\nCollaborate with micro - influencers\\n: Partner with micro-influencers who have a loyal community. Their genuine content can drive more engagement and reach your target audience effectively. This approach is particularly beneficial for skincare products, fitness brands, and niche markets where influencers can create authentic content that resonates with their followers.\\nAnd apart from our own examples, Sephora offers a great application of long-term UGC by having created its \"Sephora Squad:\"\\n@sephora\\nThis is why we always say listen to your mom. @rachel 🦙\\n#SephoraSquad\\n♬ original sound - sephora\\nRun dance challenges\\n: Create dance moves related to your brand or product. These challenges often go viral, enhancing your brand’s presence on social media feeds. Dance challenges are ideal for brands targeting younger audiences, such as fashion, entertainment, and music-related products, where energetic and fun content can capture attention.\\nEncourage how-to videos\\n: Request users to share how-to videos demonstrating your product in action. This type of UGC provides valuable insights and helps potential customers make informed decisions. Brands offering beauty products, home improvement tools, and tech gadgets can leverage how-to videos to show their products’ effectiveness and ease of use.\\n\\u200d\\nHost competitions\\n: Organize competitions that reward the best user-generated content. This approach can boost content quality and encourage broader audience participation. Competitions are effective for brands across various industries, including sportswear, gaming, and travel, where competitive spirit and creativity can drive user engagement and generate high-quality UGC.\\n7 Best Types of UGC on TikTok\\nHere are the best types of UGC content you can include in your social advertising plan for this platform.\\nProduct reviews\\n: Users sharing their experiences with skincare products or beauty products can build trust and influence purchasing decisions. This type of content is particularly impactful for brands in the beauty and personal care sectors, as it provides genuine content and product feedback.\\nHow-to videos\\n: Tutorials and DIY content showing products in action provide valuable information to viewers. These videos are perfect for tech gadgets, home improvement tools, and fashion brands, helping potential customers make informed decisions by seeing the product in use.\\nReactions\\n: Videos capturing users\\' reactions to products or services can be highly engaging. This content type is effective for entertainment brands, tech products, and food items, where immediate and genuine user feedback can attract broader audiences.\\nBefore-and-after\\n: Transformation videos showcasing the impact of a product over time can be great for brands. Plus, it can lead to larger-scale partnerships if you\\'re using influencers. This type of UGC is ideal for fitness programs, skincare routines, and home décor brands, demonstrating the effectiveness and real-life results of the products.\\nA Day in the Life\\n: Videos that depict how users incorporate a brand’s products into their daily routines can create authentic connections. Lifestyle brands, fashion, and wellness products benefit from this type of content, as it highlights practical use and integrates products seamlessly into everyday life.\\nGRWM (Get Ready With Me)\\n: Users share their daily routines, often featuring beauty, fashion, or fitness products. This content type is highly effective for brands in these industries, showcasing products in an authentic and relatable context and encouraging community engagement through shared routines.\\nStorytelling videos\\n: Videos that tell a story about the user’s experience with a product create emotional connections and foster a sense of community. This type of content is versatile and can be used by any brand looking to build a loyal community and generate emotional connections with its audience.\\nCeraVe offers a solid example, mixing different types of TikTok videos into this how-to-storytelling-before-and-after success:\\n@amanda.makhaye\\n@DrTarrynDerm has taught me that acne-prone skin may be linked to a deficiency of ceramides in the skin. This is why it\\'s important for me to use products for acne-prone skin that also maintain and restore the skin\\'s barrier with essential ceramides. And that is why I love using the CeraVe Blemish Control range as it helps to gently exfoliate without disrupting your skin\\'s barrier.\\n#CeraVePartner\\n#CeraVe\\n#CeraVe_Africa\\n#ClearltUpLikeADerm\\n#CeraVeBlemishControl\\n♬ original sound - Amanda Makhaye\\nOur Growth Marketing Agency\\'s Tips for TikTok UGC Campaigns\\nEmbrace creative freedom\\n: Allow users the freedom to create original videos that align with their style. This leads to more authentic content. Remember that you\\'re not doing brand-created videos, but UGC TikTok videos.\\nFocus on community engagement\\n: Build a loyal community by interacting with users who participate in your UGC campaigns. Genuine connections are key to long-term success. So, praise their dance skills and encourage them to repost in their social feeds.\\nLeverage influencer strategy\\n: Partner with influencers who resonate with your brand. Their content can inspire their followers to create UGC too. Also, create solid future partnerships or ambassador programs with your highest-performing creators to reach your campaign goals.\\nIncorporate product feedback\\n: Use UGC to gather product feedback and show real users using your products. This approach can help you reach your conversion goals, but also provides solid design inspiration for future marketing campaigns.\\nSet clear conversion goals\\n: Define your ultimate goal for the campaign, whether it’s increasing brand awareness or driving sales, and measure success accordingly.\\nBest Advice for Companies Looking into TikTok UGC\\nIf you want to create a TikTok user-generated content campaign yourself, the best advice is to start doing it.\\nDon’t overthink it - it\\'s much easier than traditional advertising.\\nStart with a simple, native video that looks authentic. Filming with your smartphone is better than filming with a proper camera because that’s what TikTok users are filming with too.\\nThat could get you great results.\\nWe’ve seen many small companies whose owners do effective UGC themselves.\\nThe reason is that this type of content is very human and relatable.\\nPeople can listen to the company’s owner directly, and that creates a strong bond. Besides, it\\'s a great tool in a larger word-of-mouth marketing campaign.\\nAfter the first few videos, you can measure your results and see what’s working for you.\\nAlternatively, you can schedule a\\nFREE strategy meeting\\nwith us.\\nWe’ll discuss your goals and see what marketing strategies would suit you best.\\nWant more examples of successful\\nUGC campaigns\\n? Check out case studies of our\\ninfluencer agency in France\\n!\\nTable of contents\\nLet’s make something cool.\\ninBeat is trusted by the world\\'s fastest growing brands\\nGet Started\\nThank you! Your submission has been received!\\nOops! Something went wrong while submitting the form.\\nPages\\nHome\\nLocations\\nTerritories\\nBlog\\nPrivacy Policy\\nOffice Information\\nCase studies\\nGreenpark\\nNordstrom x Wilfang\\nGot Milk?\\nSoylent\\nIndustries\\nMobile Applications\\nDirect To Consumer\\nWhite Label\\nServices\\nContent Creation\\nInstagram Influencers\\nTikTok Influencers\\nPanel Recruitment\\nMicro-Influencer Marketing\\nUGC Marketing\\n© All rights reserved - 2024 - inBeat Agency'"
      ]
     },
     "execution_count": 96,
     "metadata": {},
     "output_type": "execute_result"
    }
   ],
   "source": [
    "successful_documents[2][0]"
   ]
  },
  {
   "cell_type": "code",
   "execution_count": 61,
   "id": "b735b887-49e7-4d66-ad87-e110501d14d3",
   "metadata": {},
   "outputs": [
    {
     "data": {
      "text/plain": [
       "async_generator"
      ]
     },
     "execution_count": 61,
     "metadata": {},
     "output_type": "execute_result"
    }
   ],
   "source": [
    "type(async_iter)"
   ]
  },
  {
   "cell_type": "code",
   "execution_count": 66,
   "id": "e3b464ee-5cbf-42e7-9f7a-34be9e1f6457",
   "metadata": {},
   "outputs": [
    {
     "data": {
      "text/plain": [
       "()"
      ]
     },
     "execution_count": 66,
     "metadata": {},
     "output_type": "execute_result"
    }
   ],
   "source": [
    "recovered_history[0].next"
   ]
  },
  {
   "cell_type": "code",
   "execution_count": 139,
   "id": "7e30b595-499c-49c5-ae27-49b59e160b3c",
   "metadata": {},
   "outputs": [
    {
     "name": "stdout",
     "output_type": "stream",
     "text": [
      "Successfully loaded 4 documents.\n",
      "Trimmed and ready\n",
      "Summarising...\n",
      "summarised content\n",
      "Summarising...\n",
      "summarised content\n",
      "Summarising...\n",
      "summarised content\n",
      "{'sources_consolidator': {'final_documents': '<Document href=\"https://www.admetrics.io/en/post/tiktok-advertising-trends\" type=\"html\"/>\\n            \\nFeatures\\nBusiness Intelligence\\nAttribution\\nMarketing Mix Modeling\\nData Activation\\nExperimentation\\nCustomers\\nResources\\nPricing\\nLog-in\\nGerman\\nBook a demo\\nTikTok Advertising Trends Reshaping Digital Marketing in 2025\\nJanuary 9, 2025\\nTikTok has taken the digital marketing world by storm, evolving into a dominant force for advertisers looking to tap into its massive user base. With over 1.5 billion active users globally, TikTok continues to push the boundaries of creativity and engagement. Businesses are capitalizing on TikTok advertising trends to amplify brand awareness, drive sales, and create viral moments.\\nIn this in-depth analysis, we explore the key TikTok advertising trends shaping 2025, highlight strategies for optimizing performance, and provide insights into leveraging TikTok\\'s unique features for maximum impact. Whether you\\'re a marketer looking to refine your strategy or an agency crafting campaigns for clients, this guide delivers expert-level insights into TikTok advertising trends.\\nTikTok Advertising Trends: The Shift Toward Interactive Ads\\nThe rise of interactive ads has become one of the most impactful TikTok advertising trends. Unlike static or pre-recorded content, interactive ads encourage users to participate, whether through challenges, polls, or hashtag campaigns. These ads blur the lines between entertainment and promotion, making users feel like part of the campaign.\\nWhy Are Interactive Ads Gaining Traction?\\nInteractive advertising taps into TikTok\\'s community-driven culture, where users expect immersive experiences. Features like branded effects and augmented reality (AR) filters further enhance these campaigns, making them memorable and shareable. Marketers are now prioritizing user-generated content (UGC) as a key engagement strategy, allowing brands to harness organic reach and authenticity.\\nExamples of Interactive Ad Formats\\nBranded Hashtag Challenges:\\nInviting users to create content around a specific theme.\\nAR Filters and Lenses:\\nInteractive elements that users can apply while recording videos.\\nPoll Ads:\\nIncorporating polls in TikTok\\'s in-feed ads to collect opinions and drive engagement.\\nThe Power of Influencer Marketing on TikTok\\nCollaborating with influencers is another core component of TikTok advertising trends. Influencers have the trust and attention of their followers, making them effective partners for brands looking to expand their reach.\\nMicro-Influencers vs. Macro-Influencers\\nBrands are increasingly turning to micro-influencers (10,000–50,000 followers) who deliver higher engagement rates than macro-influencers. These creators are seen as relatable and trustworthy, which aligns perfectly with TikTok\\'s authenticity-driven culture.\\nEffective Influencer Campaigns\\nProduct Demos:\\nInfluencers demonstrating products in creative and relatable scenarios.\\nStorytelling Content:\\nUsing narrative techniques to engage audiences emotionally.\\nTrend Participation:\\nInfluencers leveraging trending challenges or memes to integrate sponsored content seamlessly.\\nShort-Form Video Dominance in TikTok Advertising Trends\\nShort-form video remains central to TikTok\\'s success, and brands are optimizing their ads to fit this format. The platform\\'s algorithm favors content that hooks viewers within the first three seconds, encouraging advertisers to create snappy, impactful visuals.\\nCreative Strategies for Short-Form Ads\\nHook-First Approach:\\nStarting with an intriguing question or bold statement to capture attention.\\nLooped Videos:\\nLeveraging auto-play loops to maximize watch time and ad recall.\\nStorytelling in Seconds:\\nCrafting mini-stories with a clear beginning, middle, and end.\\nBest Practices for Short-Form Ads\\nUse captions and on-screen text to convey key messages quickly.\\nAdd trending sounds and music to enhance relatability.\\nOptimize vertical video formats to ensure compatibility with TikTok\\'s mobile-first interface.\\nData-Driven Personalization and Targeted Advertising\\nOne of the most prominent TikTok advertising trends is the integration of AI and machine learning to deliver personalized ad experiences. Advertisers can leverage TikTok\\'s advanced targeting tools to deliver hyper-relevant ads to specific audiences. Learn all about\\nTikTok analytics\\nin this in-depth article here.\\nAI-Powered Ad Targeting\\nTikTok\\'s algorithm uses user behavior data to refine ad targeting, improving accuracy over time. Marketers can target based on demographics, interests, device type, and even browsing habits.\\nDynamic Creative Optimization (DCO)\\nDCO enables brands to create multiple ad variations, testing different creatives, captions, and CTAs to identify the best-performing combination.\\nE-Commerce Integration Through TikTok Ads\\nTikTok\\'s shopping features have redefined social commerce, making it easier than ever for users to discover and purchase products directly within the app.\\nKey E-Commerce Features\\nShoppable Ads:\\nSeamless integration between video ads and product landing pages.\\nTikTok Shop:\\nIn-app storefronts that allow brands to sell directly to consumers.\\nLive Shopping Events:\\nReal-time product showcases that drive urgency and impulse purchases.\\nHow Brands Benefit\\nE-commerce integration reduces friction in the buying process, turning engagement into conversions. Businesses leveraging this trend often report higher ROI and increased sales volumes.\\nUser-Generated Content as the Backbone of TikTok Advertising Trends\\nUser-generated content (UGC) continues to dominate TikTok\\'s advertising landscape. Campaigns that encourage user participation often outperform traditional ads because they align with the platform\\'s community-driven ethos. Here\\'s all you need to know about\\nUGC\\xa0TikTok video\\nand how to use AI\\xa0to create UGC type video content.\\nEncouraging UGC Campaigns\\nOffering incentives for users to create branded content.\\nLaunching contests and giveaways tied to hashtag challenges.\\nFeaturing user-created videos in official brand ads.\\nFAQs\\nHow effective are TikTok ads compared to other platforms?\\nTikTok ads often outperform traditional digital platforms due to their viral potential and engagement-focused algorithm, making them ideal for brand awareness campaigns.\\nWhat are the latest TikTok advertising trends for small businesses?\\nSmall businesses benefit from TikTok\\'s low-cost ad formats, influencer collaborations, and UGC-focused campaigns, which create authentic connections with audiences.\\nHow do I measure success in TikTok advertising campaigns?\\nKey metrics include views, likes, shares, click-through rates, and conversion rates, which provide insights into performance and audience engagement.\\nWhat budget is required for TikTok ads?\\nBudgets can start as low as $20 per day for in-feed ads, making TikTok accessible for small and large businesses alike.\\nAre\\nTikTok\\'s e-commerce ads\\nsuitable for all industries?\\nWhile e-commerce-focused brands see the most success, industries like beauty, fashion, and fitness often perform exceptionally well due to TikTok\\'s visual nature.\\nWhat is the future of TikTok advertising?\\nThe future lies in AI-driven ad personalization, shoppable video content, and deeper integrations with AR and VR technologies.\\nConclusion\\nTikTok advertising trends continue to evolve, offering endless opportunities for brands to connect with audiences in dynamic and creative ways. From influencer collaborations and UGC campaigns to AI-driven targeting and e-commerce integration, TikTok remains at the forefront of digital marketing innovation.\\nBrands that embrace these trends and experiment with interactive formats will undoubtedly thrive in 2025\\'s competitive landscape. As the platform grows, staying ahead of emerging trends and adapting strategies accordingly will be the key to sustained success.\\nContinue reading\\nSocial Media ROI: Maximizing Your Marketing Investment\\nInsights\\nNovember 15, 2024\\nHow Customer Surveys Can Skyrocket Your E-commerce Growth\\nInsights\\nNovember 15, 2024\\nAll resources\\nGet news and updates via email\\nI consent to data processing according to the\\nprivacy policy\\nThank you! Your submission has been received!\\nOops! Something went wrong while submitting the form.\\ncompany\\nContact\\nCareers\\nHiring\\naccount\\nLog-in\\nPrivacy Policy\\nImprint\\n</Document>\\n\\n---\\n\\n<Document href=\"https://ads.tiktok.com/business/library/TikTok_Whats_Next_2025_Trend_Report_en_AUNZ.pdf\" type=\"pdf\"/>\\n            \\nHere is a summary of the document in up to 1500 words, keeping important points and structure:\\n\\n**Introduction**\\n\\nThe report \"What\\'s Next 2025\" by Brand Chem explores the latest trends on TikTok. The report focuses on longer-term trends, including brand fusion, identity osmosis, creative catalysts, and emerging communities.\\n\\n**Methodology**\\n\\nBrand Chem uses a combination of research methods to gather data, including:\\n\\n* Quantitative online surveys\\n* In-depth interviews with senior marketers and industry experts\\n* Advanced analytics\\n* Literature reviews\\n\\nThe report is based on studies from 2022-2024, which are most relevant, innovative, and speak to the larger trend forces at play in 2024.\\n\\n**Trend Themes**\\n\\nThe report identifies three main trend themes:\\n\\n1. **Brand Fusion**: A dynamic state where a brand gains renewed vigor, becoming more responsive and ready to build lasting bonds.\\n2. **Identity Osmosis**: Brands are organically integrating evolving consumer values, allowing these shifting ideals to reshape their identity.\\n3. **Creative Catalysts**: Untapped tools for marketers to ideate, build, learn, and take more exciting creative risks than ever before.\\n\\n**Trend Signal 1: Creator Spread**\\n\\nA wider pool of creators for your brand builds relevance across niches. Brands are partnering with a variety of creators, including quiet reviewers, quirky characters, and niche experts.\\n\\n**Trend Signal 2: Trust Fund**\\n\\nContent that sparks conversations with consumers builds genuine trust. Brands showcasing their personality through content are more relevant to their audience.\\n\\n**Trend Signal 3: Constant Confidant**\\n\\nConsumers will pay attention to the brands that are always there for them. Brands acting as consistent partners, investing in shared growth, and connecting with supportive and joyful messaging create year-round soft-sell moments.\\n\\n**In Action**\\n\\n* **Brand Fusion**: Western Union partnered with TikTok Creative Exchange to develop new creative hypotheses and test the impact of different styles on their audience.\\n* **Identity Osmosis**: RBC Bank launched a talk show with creators to share and resolve emotions around money, fostering trust and community.\\n* **Creative Catalysts**: Adobe Express is introducing quick and easy ways for marketers to harness creative AI superpowers.\\n\\n**Emerging Communities**\\n\\nCommunities on TikTok function like vibrant conversations that continually evolve and branch out into new niches. These communities shape their own lingo, aesthetics, and styles that are distinctly unique to the platform.\\n\\n**Creative Catalysts**\\n\\nCreativity lies in empowering anyone with intuitive tools that transform bold ideas into content that stands out. AI is giving brands a creative edge by enabling faster ideation and production.\\n\\n**Trend Signal 1: AI Eases**\\n\\nAI\\'s potential can spark anxiety, but TikTok is turning it into excitement. Users and brands are embracing AI for tasks like styling outfits, visualizing dream home renovations, illustrating Ancient Rome, or sparking script ideas with Symphony Brands.\\n\\n**In Action**\\n\\n* **AI Eases**: Lidl has embraced the #potaxie trend by using AI tools to creatively reimagine the shopping experience.\\n* **Creative Catalysts**: Meoky used Symphony Creative Studio to automatically generate variations of their business as usual assets, resulting in a 1.8x higher number of purchases and 13% higher return on ad spend.\\n\\n**Ask Symphony Assistant**\\n\\nThe report provides a series of questions that can be answered by the Symphony Assistant, including:\\n\\n* What are emerging communities in Power of Perspectives videos right now?\\n* How should I reply to a constructive comment with a toxic ex from my audience?\\n\\nOverall, the report highlights the importance of brand fusion, identity osmosis, and creative catalysts in shaping the future of marketing on TikTok.\\n</Document>\\n\\n---\\n\\n<Document href=\"https://inbeat.agency/blog/tiktok-ugc\" type=\"html\"/>\\n            \\nHere is a summary of the document, condensed to approximately 1500 words:\\n\\n**Introduction**\\n\\nThe document discusses the importance of User-Generated Content (UGC) marketing on TikTok and provides an overview of the agency\\'s services and expertise in this area.\\n\\n**What is TikTok UGC?**\\n\\nTikTok UGC refers to original content created by real users, showcasing their creativity and authenticity. It encompasses various content types, including viral videos, dance moves, how-to videos, and product reviews. UGC fosters genuine connections and a sense of community, making TikTok a perfect platform for brands to engage with potential audiences through authentic content.\\n\\n**Why Use TikTok UGC?**\\n\\nResearch shows that 44.1% of TikTok users are between 20-39 years old, and 37% of them are in the top third of spenders. TikTok is replacing Google as a search engine, with 40% of young people turning to TikTok when they search for specific products or services. UGC is more persuasive than branded content because 90% of people trust UGC, but only 4% trust branded messages.\\n\\n**inBeat\\'s Approach**\\n\\nThe agency takes a data-driven approach to creating effective TikTok UGC campaigns. They start by conducting research on the brand\\'s audience, competitors, and company history. This is followed by setting clear goals for the campaign, such as increasing awareness or driving sales. The agency then chooses the right tactic and instruments, including creator UGC.\\n\\n**Key Metrics**\\n\\nThe agency tracks key metrics, including Cost Per Install (CPI), Ad Spend, Cost Per Mille (CPM), and Average Watch Time. They also test different hooks and ads to optimize content and scale the campaign.\\n\\n**Strategies for Success**\\n\\nThe agency recommends seven strategies for success on TikTok:\\n\\n1. Hashtag campaigns\\n2. Collaborate with micro-influencers\\n3. Run dance challenges\\n4. Encourage how-to videos\\n5. Host competitions\\n6. Use product reviews\\n7. Incorporate A Day in the Life and GRWM content\\n\\n**Best Advice**\\n\\nThe agency advises companies to start creating their own TikTok UGC campaigns, even if it\\'s just a simple, native video that looks authentic. They recommend filming with a smartphone instead of a proper camera, as this is what TikTok users are used to.\\n\\n**Conclusion**\\n\\nInBeat is a trusted growth marketing agency that specializes in TikTok UGC campaigns. With their data-driven approach and expertise in creating effective content, they can help brands achieve their marketing goals on the platform.\\n\\n**Services**\\n\\nThe agency offers the following services:\\n\\n* Content Creation\\n* Instagram Influencers\\n* TikTok Influencers\\n* Panel Recruitment\\n* Micro-Influencer Marketing\\n* UGC Marketing\\n\\n**Case Studies**\\n\\nThe agency has worked with several high-profile clients, including Greenpark, Nordstrom x Wilfang, and Got Milk?. Their case studies can be found on the agency\\'s website.\\n\\n**Contact Us**\\n\\nIf you\\'re interested in learning more about TikTok UGC marketing or would like to schedule a free strategy meeting, please contact inBeat Agency.\\n</Document>\\n\\n---\\n\\n<Document href=\"https://sproutsocial.com/insights/tiktok-ads/\" type=\"html\"/>\\n            \\n**TikTok Advertising: A Comprehensive Guide**\\n\\nAs a social media platform, TikTok has become an essential tool for businesses looking to reach their target audience. With over a billion monthly active users, TikTok offers a vast and engaged community that can be leveraged through advertising. In this guide, we will explore the world of TikTok advertising, including its features, benefits, and best practices.\\n\\n**What are TikTok Ads?**\\n\\nTikTok ads are paid marketing campaigns that help businesses reach specific audiences on the platform. They are customizable based on specific advertising goals, audience demographics, budgets, and schedules. These ads appear between organic, user-generated content with a \\'sponsored\\' tag and a call-to-action button.\\n\\n**Types of TikTok Ads**\\n\\nTikTok offers several types of ads, including:\\n\\n1. In-feed video: These ads appear in TikTok users\\' native news feed on the For YouPage.\\n2. Spark ads: These ads sponsor popular organic content related to their products.\\n3. TopView ads: These ads are shown to users when they open the app and are great for capturing attention.\\n4. Image ads: These ads include a brand or app name and text.\\n5. Video ads: These are full-screen videos of 5-60 seconds that appear on a user\\'s For You Page.\\n6. Pangle ads: These ads are available only to specific countries and offer video, native, and banner ads.\\n7. Carousel ads: These ads include up to 10 images and appear in TikTok\\'s news feed apps.\\n8. Video shopping ads: These video ads have product tiles that allow people to click through to a shoppable instant gallery page without leaving the app.\\n9. Branded effects: Your ads can also appear as branded stickers, filters, and other AR content so TikTok users can use them in their videos.\\n10. Hashtag challenge: This type of ad is in the form of TikTok challenges that appear in the app\\'s Discovery section and encourage user participation.\\n11. Sponsored influencer content: This is a TikTok advertisement where you get your message across through sponsored content from an influential TikTok user.\\n12. Playable ads: Designed for gaming companies, these interactive ads allow users to try out a game before downloading.\\n\\n**How to Set Up Ads on TikTok**\\n\\nTo set up ads on TikTok, follow these steps:\\n\\n1. Create a TikTok Ads Manager account and verify your email address or phone number.\\n2. Install the TikTok Pixel on your website to gather information about site events.\\n3. Create an ad campaign under the Campaigns tab and click the Create button.\\n4. Choose an ad name and identity, customize ad details, and update tracking settings.\\n5. Measure your ad performance using social media analytics tools.\\n\\n**TikTok Ad Specs**\\n\\nTo ensure that your ads display correctly on TikTok, follow these guidelines:\\n\\n1. Video length: 9-15 seconds\\n2. File type: .mp4, mov., mpeg, .3gp or .avi\\n3. Resolution: 1080p or higher\\n4. Aspect ratio: 9:16\\n\\n**Best Practices for TikTok Advertising**\\n\\nTo get the best results from your TikTok ad campaigns, follow these best practices:\\n\\n1. Think TikTok-first and incorporate platform-specific features like text overlays, voiceovers, green screen, and duets.\\n2. Refresh your creative often to avoid creative fatigue.\\n3. Focus on the hook by communicating your value proposition early and incorporating suspense, surprise, or emotion to capture attention.\\n4. Promote at the right time by posting when your audience is most active.\\n5. Use attention-grabbing sound, text, and editing techniques to increase engagement.\\n\\n**Conclusion**\\n\\nTikTok advertising offers a unique opportunity for businesses to reach their target audience in a creative and engaging way. By following these guidelines and best practices, you can create effective TikTok ad campaigns that drive real results for your business. Remember to think TikTok-first, refresh your creative often, focus on the hook, promote at the right time, and use attention-grabbing sound, text, and editing techniques to increase engagement.\\n\\n**Additional Resources**\\n\\n* Sprout Social: A comprehensive social media management platform that offers a range of tools and features for creating, scheduling, publishing, and engaging with content.\\n* The Sprout Social Index: A report that provides insights into the latest trends and best practices in social media marketing.\\n* Sprout Blog: A resource center that offers articles, guides, and tutorials on social media marketing, management, and advertising.\\n\\n**Try Sprout Social for Free**\\n\\nSprout Social offers a 30-day free trial, allowing you to try out their platform and features before committing to a paid plan. Sign up today and start creating, scheduling, publishing, and engaging with content like a pro!\\n</Document>'}}\n",
      "{'master_blogger_writer': {'final_article': \"# From User-Generated Content to Branded Masterpieces: How Retailers Can Leverage TikTok for Digital Advertising\\n\\nIn the ever-evolving landscape of digital advertising, TikTok has emerged as a powerhouse platform, particularly for retailers looking to engage with their audience through authentic and creative content. The rise of user-generated content (UGC) on TikTok has transformed the way brands connect with consumers, making it essential for retailers to harness this trend effectively. In this article, we will explore the latest tendencies in TikTok advertising, focusing on how retailers can leverage UGC to create branded masterpieces, and how StreamEye's templated video solution can streamline this process.\\n\\n## Current Trends in TikTok Advertising\\n\\nAccording to the latest [TikTok Advertising Trends report](https://www.admetrics.io/en/post/tiktok-advertising-trends), UGC has become a cornerstone of successful advertising strategies on the platform. With over 1.5 billion active users globally, TikTok offers a unique opportunity for brands to tap into a vast and engaged audience. The report highlights that UGC not only fosters authenticity but also enhances engagement, making it a powerful tool for retailers.\\n\\nMoreover, the integration of AI in advertising is reshaping how brands interact with consumers. Retailers are increasingly using AI to create personalized customer experiences, tailoring content to match individual preferences. This trend emphasizes the need for high-quality, branded content that resonates with the target audience.\\n\\n## Pain Points for Retailers\\n\\nDespite the potential of UGC, retailers often face challenges when creating effective ad campaigns on TikTok. Common pain points include:\\n\\n1. **Creating Resonant Content**: With the sheer volume of content on TikTok, standing out and capturing users' attention can be daunting. Retailers must craft messages that resonate with their audience while maintaining brand identity.\\n\\n2. **Maintaining Consistency**: As brands scale their advertising efforts, ensuring consistency across various campaigns becomes increasingly difficult. Inconsistent messaging can dilute brand identity and confuse consumers.\\n\\n3. **Resource Constraints**: Producing high-quality content that aligns with brand standards can be time-consuming and resource-intensive, especially for smaller retailers.\\n\\n## StreamEye's Solution\\n\\nStreamEye offers a solution to these challenges through its templated video solution. By providing pre-designed templates that retailers can customize with their branding and messaging, StreamEye enables brands to create high-quality, branded content efficiently. This approach not only saves time and resources but also ensures consistency across all ad campaigns.\\n\\nRetailers can leverage StreamEye's templated videos to produce engaging UGC that aligns with their brand identity. This allows them to focus on what matters most—connecting with their audience and driving sales.\\n\\n## Measuring Effectiveness\\n\\nTo gauge the success of TikTok ad campaigns, retailers should track key metrics and KPIs, including:\\n\\n- **Cost Per Install (CPI)**\\n- **Cost Per Mille (CPM)**\\n- **Engagement Rates**\\n- **Reach and Impressions**\\n- **Clicks and Conversions**\\n- **Return on Ad Spend (ROAS)**\\n\\nBy monitoring these metrics, retailers can gain insights into the performance of their UGC and branded content, enabling them to make data-driven decisions to optimize their campaigns.\\n\\n## Successful Case Studies\\n\\nSeveral retail brands have successfully leveraged UGC and templated videos on TikTok to drive engagement and sales. For instance, **Fashion Nova** has utilized TikTok's branded effects feature to create engaging ad campaigns that resonate with its audience. Similarly, **Sephora** has partnered with popular TikTok creators to showcase their products authentically, resulting in increased brand awareness and sales.\\n\\nThese case studies illustrate the effectiveness of combining UGC with branded content, highlighting the potential for retailers to achieve similar success through StreamEye's templated video solution.\\n\\n## Best Practices for Creating Effective UGC\\n\\nTo maximize the impact of UGC on TikTok, retailers should consider the following best practices:\\n\\n1. **Adapt Strategies**: Tailor content to fit TikTok's unique culture and trends. This may involve participating in challenges or leveraging popular sounds.\\n\\n2. **Set Measurable Goals**: Establish clear objectives for each campaign, whether it's increasing brand awareness or driving sales.\\n\\n3. **Leverage Influencers**: Collaborate with TikTok influencers who align with your brand values to amplify reach and credibility.\\n\\n4. **Encourage Authenticity**: Foster a sense of community by encouraging users to share their experiences with your products in a genuine way.\\n\\n## Conclusion\\n\\nAs TikTok continues to shape the future of digital advertising, the importance of user-generated content and branded masterpieces cannot be overstated. Retailers that embrace these trends and leverage StreamEye's templated video solution will be well-positioned to create high-quality, engaging content that resonates with their target audience.\\n\\nIf you're ready to take your TikTok advertising to the next level, explore StreamEye's templated video solution today and start creating impactful, branded content that drives results.\\n\\n---\\n\\nBy understanding the latest trends and leveraging innovative solutions, retailers can navigate the challenges of TikTok advertising and unlock the full potential of user-generated content. Embrace the power of creativity and authenticity, and watch your brand thrive on this dynamic platform.\"}}\n",
      "{'__interrupt__': ()}\n"
     ]
    }
   ],
   "source": [
    "# recovered_history[0].next\n",
    "# continue from a point:\n",
    "async for event in graph.astream(None, config=recovered_config, stream_mode=\"updates\"):\n",
    "    print(event)"
   ]
  },
  {
   "cell_type": "code",
   "execution_count": 39,
   "id": "8b832db1-4395-45cc-9140-b45ea7bd7e9c",
   "metadata": {
    "collapsed": true,
    "jupyter": {
     "outputs_hidden": true
    }
   },
   "outputs": [
    {
     "name": "stdout",
     "output_type": "stream",
     "text": [
      "{'topic_analyser': {'goal': 'discover and analyse the latest tendencies of using TikTok for digital advertising. Focus on do it yourself ads where clients generate content about a retailer. Point out that Streameye can generate branded templated videos that can be used for the purpose.', 'company_profile': {'name': 'StreamEye LTD', 'description': '\\n        Streameye is the creative management platform for fast-moving brands that allows you \\n        to mass-produce creatives in a manner of minutes.\\n    '}, 'previous_articles': [{'title': 'Digital_Advertising_Trends_In_2023', 'content': \"With 2023 already underway, the digital advertising landscape is already paving the way for new trends that are expected to stick around for a long time. As a marketer, it's imperative to stay up-to-date with the latest trends to ensure that your ads are effective and engaging. This article highlights the most important guidelines that will shape the next phase of effective advertising.\\n\\nBefore jumping in, make sure to check out our portfolio of [successful HTML5 ad campaigns](/showcase).\\n  \\n\\n## Digital Advertising: Top 6 trends\\n \\n\\n1.  ### Humour/ Make your audience smile\\n Who doesn't love a little bit of humour added to a quality product advertisement? If your ad can make people smile and associate positively with your brand, you're already halfway to winning their hearts. Fun ads do require a bit more creativity, but the payoff is worth it. After all, consumers are already feeling fatigued from the constant negativity that has flooded the online space in recent years. Witty humour can be a powerful tool to create engagement and reach, making your brand more relatable and memorable in the process.\\n\\n  \\n\\nA good example of a humorous ad with positive vibes is [Lidl’s campaign](/showcase/LIDL-Summer-20) created with our Creative Management Platform. The happy coconut is casually swimming in the ocean of high-quality products at reasonable prices inviting the clients to dive in too.\\n\\n  \\n  \\n\\n2.  ### Generic/ One ad, wider audience\\n    \\n\\nAs data privacy concerns continue to rise, marketers may need to get a little more creative with their ad strategies. Instead of hyper-targeted ads, the trend is shifting towards more generic yet engaging ads that can appeal to a wider audience. So, it's not about making bland ads but creating ads that can resonate with a larger group of people.\\n\\n  \\n\\nOne example of a brand with generic banner ads is Coca-Cola. They often use simple and generic designs with their iconic red and white colours and their logo prominently displayed. These ads are not targeting any specific audience but rather casting a wide net to appeal to a broad range of consumers. The focus of their ads is often on their brand message of happiness and refreshment, rather than a specific product or service.\\n\\n  \\n\\n3.  ### Retro/ Flashback to the old days\\n    \\n\\nThe nostalgia trend continues in 2023, and we expect brands to use retro elements in their ad designs. Bright colors, textured backgrounds, simple designs, and expressive fonts are just a few ways to bring a nostalgic feel to your ad. Just check out the [examples here](https://www.designstack.co/2014/08/retro-vintage-ads-for-social-media.html) for inspiration. Did you go back in time? Because we definitely did!\\n\\n  \\n\\n4.  ### Nature/ Eco-friendly ad design\\n    \\n\\nAs consumers become more environmentally conscious, brands must adapt their advertising strategies. Brands that frame themselves as eco-friendly using blues and earth tones can definitely appeal to this growing market.\\n\\n  \\n\\nPatagonia sets a remarkable example of integrating eco-friendly ad design into its advertising strategy. Their ads showcase breathtaking landscapes, while their commitment to using recycled and sustainable materials in their products has helped establish them as leaders in eco-friendly fashion and outdoor gear.\\n\\n  \\n\\n5.  ### Effectiveness/ Ad scoring\\n    \\n\\nAd scoring is a trend that's gaining traction in the advertising industry, especially as companies face budget cuts and want to ensure that their ad campaigns are successful. Ad scoring involves evaluating various qualitative and quantitative factors to determine the potential performance of an ad before it's published. For instance, a company may use ad scoring to assess the effectiveness of a particular ad concept based on factors such as the target audience, the ad's messaging, the call-to-action, the creative elements, and the overall impact on brand awareness and sales. By using ad scoring, companies can make data-driven decisions about their ad campaigns and optimize their marketing strategies for better results.\\n\\n  \\n\\nA real-life example of ad scoring is the recent campaign by Amazon for their Alexa product. The company created multiple ads and tested them across multiple platforms, analyzing which ones resonated with the target audience the most. By using ad scoring, Amazon created ads that delivered better results and increased sales.\\n\\n  \\n\\nIf you need help with creating and testing multiple designs for your next campaign but also want to save time and resources, see how [Streameye’s Creative Management Platform](/features) can give you a push.\\n\\n  \\n\\n6.  ### AI-generated art\\n    \\n\\nAI-generated art is becoming increasingly popular in the creative industry, and more businesses are expected to incorporate it into their workflows in 2023. This technology allows for efficient design processes, and even those without formal design skills can create visually stunning artwork with the help of algorithms. AI-generated art can come in various forms such as images, videos, and music, and it uses complex mathematical computations and machine learning to analyze and replicate patterns in existing artwork. It has the potential to revolutionize the creative industry and make design more accessible to everyone. Here are a few examples of how [AI can be used in marketing and advertising](https://blog.socialmediastrategiessummit.com/10-examples-of-ai-in-marketing/).\\n\\n  \\n  \\n\\nDo you agree with these trends? What is your next move in your digital strategy? No matter what it is, we understand the importance of standing out from the competition in a crowded marketplace. Let us help you make a statement with creative and impactful advertising that gets noticed. [Book your demo now.](/contact)\\n\", 'short_copy': 'Discover the top trends shaping the world of digital advertising in 2023. From incorporating humour and nostalgia to embracing eco-friendly designs and leveraging AI-generated art, this article highlights key guidelines for effective and engaging ads.', 'date': '2023-09-11T15:34+02:00'}, {'title': 'Beyond_2023_Exploring_Social_Media_Trends_And_Future_Projections_For_2024', 'content': \"As we bid farewell to 2023, we decided to take a final look back to examine the Social Media trends of the past 12 months and potentially get some insights on what to expect in the digital realm in the upcoming 2024.\\n \\n\\nThe following article is based on the [Social Media Marketing study](https://www.socialmediaexaminer.com/report/?utm_source=Newsletter&utm_medium=Welcome&utm_campaign=DownloadReport) conducted by Social Media Examiner. In it, more than 2 100 marketers shared their outlook on how they use social media to grow and promote their brands. The results of the study shed light on various topics, including:\\n  \\n\\n-   The advantages of Social media marketing: how social media helps achieve digital marketing goals and how the years of expertise give the upper hand\\n    \\n-   These are the platforms that not only promise but deliver the best exposure, leads, traffic, sales, and client loyalty.\\n    \\n-   Marketers’ favourite social media platforms: how they have been using them so far and their strategic plans for the future\\n    \\n-   Organic reach: how marketers leverage organic activities\\n    \\n-   Video marketing: where videos reach a wider audience and sell more\\n    \\n-   Social Media paid advertising: marketers’ most used platforms\\n    \\n\\n  \\n  \\n\\n## A Quick Overview of the Study’s Findings\\n\\n  \\n\\nFacebook continues to lose its position as the social media giant. Since 2018, marketers have been slowly but steadily switching to other platforms. Since then, their interest in Facebook as a favourite way to connect to clients has declined from 67% to 45%. Only 37% of marketers who took part in the study stated their plans to increase organic activities on Facebook.\\n\\n  \\n\\nDespite this, Facebook's dominance remains strong. An overwhelming 89% of marketers utilize Facebook, with Instagram following closely at 80%. For 45% of marketers, Facebook ranks as their most crucial social platform. Additionally, 67% of them employ Facebook ads, and nearly half (45%) consider the Facebook platform the most pivotal for their advertising efforts. Moreover, Facebook stands out for driving the highest traffic and making the most significant contribution to sales.\\n\\n  \\n\\nYouTube is gaining power. Almost 70% of digital marketers expressed their interest in learning more about organic video reach on the platform and about 60% of them plan on increasing their usage of YouTube video.\\n\\n  \\n\\nInstagram remains a highly favoured social media platform, maintaining its status as one of the top choices among marketers. Alongside YouTube, it continues to attract considerable attention and curiosity in the marketing realm, with 56% of marketers planning to increase their Instagram organic activities.\\n\\n  \\n\\nTikTok is also on the rise. The adoption of TikTok among marketers increased from 18% in 2022 to 22% in 2023. A noteworthy 38% have intentions to boost their engagement on the platform and a substantial 48% express interest in gaining more knowledge about TikTok.\\n\\n  \\n  \\n\\n## Here is the Deep Dive into the Report\\n\\nThe study begins by addressing key questions and common challenges faced by digital marketers, with a primary focus on enhancing sales and generating leads, a priority for over 50% of marketers. Other significant objectives include increasing brand exposure, cultivating a broad base of loyal followers, and boosting traffic to the brand's official platforms.\\n\\n  \\n\\n## Social Media Presence: Benefits for the business\\n\\n  \\n\\nAround 86% of marketers affirmed that their social media efforts have significantly amplified their business exposure and have increased the traffic to the brand’s platforms by 76%. Additionally, it is worth mentioning that marketers with 2 or more years of social media experience demonstrate better sales results. Most of them attribute their success to platforms like Facebook and Instagram. These are also the two leading platforms that they count on to develop a loyal fanbase.\\n\\n  \\n\\nWhen it comes to generating leads, things look a bit different. Here leading platforms are Facebook and LinkedIn.\\n\\n  \\n  \\n\\n## Preference of Social Media Platforms: B2C & B2B\\n\\n  \\n\\nThe most commonly used platforms remain Facebook and Instagram, with TikTok notably gaining power, with growth from 18% in 2022 to 22% in 2023.\\n\\n  \\n\\nThe most favourite channels for B2C marketers are Facebook and Instagram, followed by Linkedin, YouTube, Twitter, and TikTok.\\n\\n  \\n\\nOn the other hand, the most preferred channel for B2B marketers is LinkedIn, closely followed by Facebook Instagram, and the rest of the social media platforms. B2B marketers’ interest in Facebook and Instagram dropped from 51% in 2022 to 43% in 2023.\\n\\n  \\n  \\n\\n## What About Organic Reach Strategies?\\n\\n  \\n\\nAbout 14% of marketers have indicated their decreased interest in Facebook when it comes to organic reach activities, while a significant 37% have stated the opposite - they will be still counting on Facebook as the most important platform for user engagement. 43% of them are not going to take active measures to change their digital strategies.\\n\\n  \\n\\nIn the meantime, 56% of marketers are turning to Instagram to boost their organic reach. 59% of B2C marketers express plans to increase their Instagram presence, compared to 52% of B2B.\\n\\n  \\n\\nFor YouTube, around 63% of marketers will work on increasing organic reach. For LinkedIn, the number is 55%, for TikTok - 38%, and for Twitter - 16%.\\n\\n  \\n\\nMarketers were asked about the social media platforms they are eager to gain more knowledge about. Instagram maintained its top position for the fifth consecutive year, while Facebook slipped to the fourth spot, trailing behind LinkedIn.\\n\\n  \\n\\nNotably, B2C marketers exhibit greater interest in learning about Instagram and Facebook compared to their B2B colleagues. Meanwhile, B2B marketers display a significantly higher interest in acquiring insights about LinkedIn.\\n\\n  \\n  \\n\\n## Which Social Media Platform is Favourite for Video?\\n\\n  \\n\\nThe study indicates that marketers are planning to turn to video marketing. They show the most interest in Instagram videos (66%), YouTube videos (66%), and Facebook videos (53%). As YouTube and Instagram topped the list of video platforms, interest in Facebook has dropped from 63% in 2022 to 57% in 2023.\\n\\n  \\n\\nAgain, there is a slight difference between B2B and B2C. B2C marketers are more open to diving into Instagram videos (72% B2C vs. 59% B2B) and Facebook videos (62% B2C vs. 49% B2B). On the flip side, B2B marketers show a stronger interest in understanding LinkedIn videos (65% B2B vs. 44% B2C).\\n\\n  \\n  \\n  \\n\\n## What About Paid Advertising?\\n\\n  \\n\\nThe ad platform most used by marketers for paid advertising is Facebook (67%), followed by Instagram (52%). B2C marketers are more likely to use Facebook ads (71% B2C vs. 61% B2B) while B2B marketers are prone to using LinkedIn ads (39% B2B vs. 17% B2C).\\n\\n  \\n\\nEven though most marketers pointed out Facebook as their preferred platform for paid ads, the usage percentage has dropped from 51% in 2022 to 46% in 2023. Interestingly, the overall interest in paid social ads has increased from 22% to 25%.\\n\\n  \\n\\nWhen marketers had to identify the platform they wanted to get more insights about, Instagram took first place with 60%. B2C marketers showed consistent interest in Facebook and Instagram, while their B2B counterparts kept their focus on LinkedIn.\\n\\n  \\n\\nWe hope you found these findings as interesting and insightful as we did! On behalf of Streameye’s team, Happy creating and advertising in 2024!\\n\", 'short_copy': \"As 2023 bids adieu, we delve into the past year's Social Media trends and gaze into the digital future of 2024. From Facebook's evolving reign to the ascendancy of YouTube and TikTok, explore insights that will shape your social media playbook.\", 'date': '2023-12-19T13:11+02:00'}, {'title': 'Choose_The_Best_Banner_Software', 'content': 'For businesses trying to get the biggest ROI from their digital marketing, choosing the right banner software carries huge potential upsides. While the banner creation process may seem straightforward, manually creating them at scale is an extremely involved process.\\n\\nIf you’re unfamiliar with the intricate details of banner creation, it can be impossible to choose the right software for your team.From concepts to design to copy, we’ve broken down the most important elements for choosing the best banner software.\\n\\nWhat’s involved in creating ad banners?\\nMany software products promise to empower your marketers and designers, but if you’re a CMO or marketing manager, you might not be familiar with all of the details that go into banner creation.\\n\\nMarketing teams develop concepts and copy, followed by designers who create dozens of different variations (both in terms of content and dimensions). It’s crucial that teams keep a close eye on file sizes to ensure that their banners are not only accepted by publishing platforms but also load quicker than the competition.\\n\\n## What StreamEye offers digital businesses\\n\\nThe right software – like StreamEye – is proven to [save dozens of working hours every month](/blog/What_If_Your_Team_Members_Had_Extra_5_Hours) while empowering your marketing and design teams.\\n\\n## Scalability\\n\\nHow many banners do you need to create and what does scaling look like for your company? When your business environment changes and you need to react quickly with new ads to take advantage, understanding your precise scaling needs will make an enormous difference.\\n\\nThe best banner software automates as much of this process as possible, allowing teams to produce large numbers of custom banners with minimal delay for development and coordination. Specifically, you’ll want to choose software that automatically generates differently-sized banners and unique banner content – both of which we’ll explore in greater detail below.\\n\\n## Quickly & easily change content in multiple banner sizes\\n\\nThere’s nothing particularly complex about it, but it’s one of the most overlooked aspects of banner creation: You design a banner and then need it sized for use across multiple platforms and media types.\\n\\nThe reality? It quickly turns into a burdensome exercise. For example, you may have 10 different content variations and require 10 different sizes for each. You’re asking designers to manually create 100 unique banners. The required time drive up costs and leave your company unable to meet the demand for other new campaigns.\\n\\nInstead of days (or even weeks), the right banner software can create those 100 unique banners within minutes.\\n\\n## Easy to access libraries\\n\\nIn addition to a wide variety of banners, your company might struggle to manage the dozens of images, videos, and other media in your library of content. Having a strong user interface to navigate, organise, and use this content makes an enormous difference in the day-to-day running of campaigns.\\n\\nEven for simpler operations that don’t require much media, [testing different banners](https://www.niche.com/about/enrollment-insights/a-guide-to-digital-marketing-experimentation-and-optimization-in-education/) for different purposes should be carried out regularly. In other words, you’ll see better ROI by testing different permutations of each banner until you find the best performers. As a nice side bonus, you’ll discover what kind of messaging resonates with your audience(s) most.\\n\\n## Instant updates\\n\\nYou want to be able to push new content and offers at the drop of a hat, and manually updating banner content is simply a waste of your marketing team’s time. StreamEye removes the cumbersome operation of exporting banners from your offline tool – as well as the tedious publishing process for every little change.\\n\\n## HTML5 capabilities\\n\\nAutomated and dynamic [HTML5 banner ads perform better than static ones](https://creadits.com/blog/why-use-html5-ad-creatives-better-results/). You need banner software that’s capable of generating HTML5 ads without writing any new lines of code. Consider whether the software you’re considering can create these ads (and how easy they make the process). You can read more about video banners built on HTML 5 here.\\n\\n## Discover why StreamEye is the best banner software anywhere\\n\\nFrom Day 1, our goal was to create the simplest, most comprehensive banner solution. To learn more about how _Streameye_ can transform and improve your digital advertising and ROI, [contact one of our representatives today](/contact).\\n', 'short_copy': 'When choosing the best banner software to supercharge your digital marketing and provide the highest ROI, you need to consider these five major elements.', 'date': '2020-07-02T14:31+02:00'}, {'title': 'How_Animated_Skins_Will_Revolutionize_Big_Ad_Campaigns', 'content': \"In today's digital landscape, it's more important than ever for brands to stand out from the competition. That's why many enterprise brands are turning to animated skins, HTML 5 banners that can be placed on websites with a dedicated space for them. These animated skins can be easily created and positioned on various websites, offering a unique and eye-catching way to reach target audiences.\\n\\nAnimated skins are increasingly being used by advertisers to make their online campaigns more visually appealing and interactive. These skins are essentially background wallpapers that can be used to display ads without interfering with the site’s original content.\\n\\nWhile [takeover skins](/blog/Takeover_Skins_And_Responsive_Banners) have been around for years, they have recently gained attention due to their effectiveness. In fact, many advertisers are turning to takeover skins to make their ads more engaging and memorable.\\n\\n\\n## Isn’t that just a takeover skin?\\n\\nTakeover skins are generally static, but it is possible to create dynamic ones with tools like StreamEye. They are generally created to take advantage of full HD resolution (1920x1080) and are designed to fit the dimensions of the site’s content. However, takeover skins are generally aimed at desktop users because there just isn’t a good way to display content on the margins for a tall and narrow phone screen.\\n\\nResponsive banners, on the other hand, are a newer format that is quickly gaining popularity. Unlike takeover skins, responsive banners are able to automatically adjust to the size of the screen on which they’re viewed. They can function on mobile screens as well as desktops and tablets. However, this does put some limits on the use of animations within the ad because those animations need to work no matter the screen size.\\n\\nOnce you combine the takeover skin placeholder with the responsive banner functions, there comes her majesty, the animated skin, which we are discussing in today’s post.\\n  \\n\\n## The Power of Animated Skins\\n\\nAnimated skins offer a powerful way for brands to make their ads stand out from the competition. With dynamic elements that catch the eye and increase engagement, animated skins can help brands achieve higher retention rates and better ROI. They also offer a way for brands to create campaigns that are more memorable, as they leave a lasting impression on viewers.\\n \\n\\n## The Benefits of Using Animated Skins in Big Ad Campaigns\\n\\nOne of the biggest benefits of animated skins is that animated skins are simply more visually appealing than traditional banner ads. With their dynamic elements and eye-catching designs, animated skins can grab the attention of viewers and encourage them to engage with the ad.\\n\\nAnd while animated skins may be more expensive than traditional HTML5 banners, their effectiveness in engaging audiences makes them a worthwhile investment for bigger campaigns or more specialized ad campaigns.\\n\\nAnother benefit of animated skins is that they offer API integration, which allows viewers to interact with the ad in different ways. For example, viewers can click on elements within the ad to change its behavior or to trigger different events as well as receive up-to-date information about the product offering. This level of interactivity offers a brilliant new way for brands to engage with their target audiences and create more personalized experiences.\\n\\nFinally, animated skins are fully responsive, meaning they can adapt to different screen sizes and devices. This makes them ideal for campaigns that need to reach audiences across different devices and platforms.\\n\\nIf you are aware of all the benefits of such a powerful tool like the animated skins but don’t know how to streamline the creative process for your brand, it is highly probable that you are [ready to implement a CMP](/blog/does_your_business_need_a_cmp_now) as part of your marketing efforts. You may be still wondering [which features would be best to start with](/blog/CMP_Features_To_Up_Your_Marketing_Cheatsheet) as you plan your next marketing campaigns. Either way, congratulations on being ready to join a great list of very successful brands that save time and money when mass-producing ads with us as their partners.\\n\\n  \\n## How Streameye Makes it Easy to Implement Animated Skins\\n\\nWith Streameye's platform, creating and implementing animated skins is a seamless process. The platform offers a flexible UI that adapts to a brand's creative process, rather than requiring them to change their workflow.\\n  \\nAdditionally, Streameye can provide a gallery of tailored templates that fit your brand's specific needs, offering a way to keep full control over content production. With the tremendous help of Streameye's joint efforts with important partners and publishers, Streameye's animated skins can be positioned on various websites, making it easy to reach target audiences.\\n\\nOverall, animated skins offer a powerful and effective way for enterprise brands to engage with their target audiences and achieve better ROI when a big campaign with a lot of dynamic data is on the table.\\n\\nWith the help of Streameye, brands can create and implement animated skins seamlessly, saving time and money while achieving their marketing goals. If you're looking for a way to make your next big ad campaign stand out, consider [booking your demo](/contact) to find out more about using animated skins in your marketing mix.\\n\", 'short_copy': 'Animated skins are increasingly being used by advertisers to make their online campaigns more visually appealing and interactive. What are they and when you should use them? Read this article to find out.', 'date': '2023-03-27T16:33+02:00'}, {'title': 'How_CMPs_Help_Brands_In_2023', 'content': \"## Why are busy marketers not afraid to integrate a CMP tool into their work?\\n\\nYou all have heard about the creative management tools that can help marketing teams produce tons of banners, animated ads, videos, etc. in a matter of minutes, right? And you may be thinking that this sounds great but do you still find it difficult to imagine how a tool like this can be integrated into your team’s daily efforts?\\n\\nBefore diving in, maybe you would like to read our [creative management platform fundamentals piece](/blog/Creative_Management_Platform_When_You_Need_One) first.\\n\\n## How a creative management tool maximizes the efficiency in banner creation for successful brands?\\n\\nAnd so what do creative management tools do to actually help us, marketers? Here’s a list of the most important aspects of working with a CMP in 2023:\\n\\n### It saves time\\n\\nCMP tools help brands go to market in a matter of minutes. They help automate ad production by integrating dynamic data into the ads and updating the display ads quickly and easily. They can produce engaging HTML5 animated ads with the brand’s latest promotions, thus helping their fast communication. And all of this, essentially, saves time.\\n\\n### It saves money\\n\\nUsing a CMP could often help decrease production costs and increase ROI. It is a tool that has the potential to make your marketing self-provisioned when deploying new offers live. And isn’t it an essential part of our job to acquire more leads at a cheaper cost? We bet there is not a single one of you here who doesn’t want better efficiency. Creative management tools can help us achieve it easily.\\n\\n### It frees up resources\\n\\nSacrificing a big part of your best designers’ time to repetitive and tedious tasks is always something good managers try to avoid. CMPs’ automation and creative possibilities free up your team’s time for tasks that are more strategic, creative and inspirational. Let your designer team (be it internal or outsourced) do what they are good at - creating new concepts, working on inspiring projects and exploring their creativity. Let the CMP free up their time for the good stuff.\\n\\n### It helps you create asset galleries with easy access\\n\\nGood CMPs create for your brand a resource bank that can be easily reused across digital ads. You can feed and update the asset bank with relevant imagery at your convenience. The platform provides you with everything ready all in one place with a click of a distance. Best creative management platform providers also offer the feature to connect galleries to APIs to automate image selection in ads. And that is really powerful.\\n\\n### It can help you gain full creative production autonomy\\n\\nIf you feel like you want to make creative work more flexible and agile, you may benefit from a tool that requires less effort from your team. In-housing your creative production is not just more cost-effective – it allows you to become more responsive to market changes and your competitors' actions. With Streameye, you can tweak creatives, update messaging, and change your offers in a matter of minutes, without the help of a developer or even a senior designer. Your custom templates and vast visual library mean you can push that offer out when you see fit – and not a minute later.\\n\\n### It streamlines and optimizes the production processes\\n\\nGood creative management platforms multiply the creative production quickly and effortlessly. Configuring the CMP according to your company’s flows and processes, brands often find a lot of room for improvement. It’s not rare that they get inspired by the platform’s features to optimize their own production process and recreate it to serve them better. With Streameye, you get expert advice and support that will elevate your creative abilities even further. Streameye doesn't just bring you creative templates fit for your brand. Our team will be there to help you get the most out of the platform from the start and stay up to date with the latest digital creative technology. We'll proactively bring you ideas to improve your demand generation results and make use of new creative opportunities. And as much as it’s good if the creative management tool can work according to your internal process flows, it can also be of great help in optimizing it and making it work even better for the company.\\n\\n### It expands the creative resources and marketing assets\\n\\nUsing a CMP can easily empower your marketing team to use formats that usually take more time and effort to create in-house. An example of that could be creating [video ads](/blog/Power_Of_Video_Ads) without blocking any motion team resources for the purpose. Another example could be using [takeover skins or responsive banners](/blog/Takeover_Skins_And_Responsive_Banners) that the team hasn’t prioritized testing out.\\n\\nHaving a professional CMP partner in your company can help get an edge over your competitors with always relevant content. Additionally, it inspires with templates and/or seasonal campaign ideas that you can consider, plan and execute within the blink of an eye.\\n\\n## Do CMPs help in keeping full control over brand consistency?\\n\\nThey are and they’d better.\\n\\nOne characteristic feature of all good creative management platforms is the ability to ensure brand consistency and approved on-brand-only resource use.\\n\\nChoosing a good CMP will also help you get full control over your digital campaigns and create ads that always feel and look like you.\\n\\nAt Streameye, for example, your pre-approved creative templates will consistently maintain your brand style for you. You can lock different creative elements to ensure they stay put across all ads. By doing that, you make sure certain aspects of the branding remain always the same and you simply stop worrying about them.\\n\\nTrusting a CMP tool will oftentimes help you skip the tedious approval back-and-forth with custom creative templates and pre-approved assets that fit your brand. With a good CMP by your side, you are to keep full control of how elements can be changed and eliminate any inconsistencies across your ads. Your team will be able to design dynamic creatives with high impact and you will keep your peace of mind knowing all brand guidelines and industry requirements are kept in check.\\n\\n## Can we use creative management tools without sacrificing the quality or quantity of produced marketing material?\\n\\nNot only!\\n\\nHaving creative management software in your toolset, you will be able to multiply your creative work into different formats and sizes in a matter of seconds. You will be able to dynamically change campaign details within a click of a time.\\n\\nYou will also have access to a lot of templates and other forms of inspiration (e.g. seasonal campaigns). You will be saving both time and effort and you will be doing that without wondering if the creative output will turn out right as it should.\\n\\nYou will be empowered to widen the spectrum of marketing formats your team is regularly using without needing to invest in training, equipment, etc. The best creative management tools will give you options you are hardly able to use without greater investments. Test these out and get the most out of them for your company. You’ll certainly find you are not only keeping the same level of quality but are also further expanding it to an even better state.\\n\\nAre you already curious to see how a CMP looks from the inside and what it can practically do for your business right away? [Book a demo](/contact) with our team and we will be happy to show you around.\\n\", 'short_copy': 'You all have heard about the creative management tools that can help marketing teams produce tons of banners, animated ads, videos, etc. How does a creative management tool maximize the efficiency in ad creation for successful brands?', 'date': '2022-10-04T11:35+02:00'}, {'title': '3_Keys_To_Successfull_Marketing_Design_Collaboration', 'content': \"You’re almost there, you’ve found some top notch marketers and hired an amazingly talented team of designers. All you need is for them to work together to grow your business.\\n\\n_But it’s never that simple._\\n\\nEffective collaboration requires more than just talent: Your marketing and design teams need the right attitude, systems and tools to be effective. Below, we break down the three key areas where you can make an impact to get better results for your business – and how StreamEye makes that possible.\\n\\n## 1. Minimising handoffs\\n\\nNo one likes handoffs, but when your marketing involves creating visuals like banner ads at scale, it seems inevitable. Once you start talking about multiple ads in seemingly endless sizes, various languages and changing offers, there’s an immense amount of back and forth between marketing and design teams.\\n\\nThe key is to use a tool like StreamEye which empowers marketers to take a single design and modify it independently. When the design team only needs to create a single base design (which the marketers can then use to their heart’s content), back and forth between teams is greatly reduced.\\n\\n## 2. Accountability\\n\\nSpeaking of empowering marketing teams, placing more capabilities in their hands is critical for greater accountability. Consider when a mistake ends up in a final ad: who gets the blame? Is it the marketer (who didn’t effectively communicate what had to happen) or the designer (who didn’t ask themselves “is this what marketing wants?”)?\\n\\nIn a world with plenty of handoffs, it’s also easy to pass off the blame when something goes wrong. Giving marketing teams more capabilities to independently create and modify ads means greater accountability. Ultimately, [teams that are accountable](https://www.forbes.com/sites/brentgleeson/2016/12/08/why-accountability-is-critical-for-achieving-winning-results/) are teams that perform better.\\n\\nStreamEye prevents the “it’s not my fault” conversation by giving marketing teams tools to operate more independently with existing designs.\\n\\n## 3. Meaningful work from both ends\\n\\nImagine you’re a designer and are told to take a basic design and create 120 versions of it in 4 languages, 10 designs, and 4 offers.\\n\\nDesigners don’t want to spend their days doing menial tasks like generating dozens of slightly different versions of the same image. Worse, it hurts their productivity.\\n\\nIf your designers are spending their time developing more impactful designs, they’re going to enjoy their work better and produce better results. Better still, when your designers only need to focus on their main work, you’ll need fewer working hours from them.\\n\\nStreamEye automates work that once took hours, ensuring that your marketing and design teams can be more focused on impactful work.\\n\\n## 4. Responsiveness\\n\\nWhen you’re in a fast-changing industry, your marketing team may occasionally need to make critical adjustments to their ads ASAP. Being held up by waiting on designers to make updates is a poor recipe for good collaboration.\\n\\nAvoid wasting golden opportunities (and the need to involve designers) during these critical moments. It is StreamEye's core mission to make your marketers more effective and give your designers a break from playing robots.\\n\\n## StreamEye streamlines marketing and design work\\n\\nThe right tool makes team collaboration far easier, and that’s why StreamEye was created: to make productive collaboration seamless. [Discover](/contact) how StreamEye can transform your PPC marketing.\\n\", 'short_copy': 'Better marketing and design collaboration means better results from both teams. Here’s what you need to do to help your teams perform', 'date': '2020-06-25T11:12+02:00'}, {'title': 'Display_Ad_Retargeting_Why_Your_Business_Needs_It', 'content': 'How often have you seen an ad over and over again while browsing the Internet?\\n\\n  \\n\\nWhile the everyday user may have the feeling that the ad is following him around, you as a marketer, know that this is no coincidence or magic. This phenomenon has a name and it is retargeting, also referred to as remarketing. It is nothing fancy, just sound technology at play.\\n\\n  \\n\\nRetargeting is a technique in the action arsenal of every experienced digital marketer. It is a marketing strategy that allows businesses to retarget and show relevant ads to users that have previously clicked on their ad or have visited the business’s website without completing a desired action, most often a purchase.\\n\\n  \\n\\nIt is all possible thanks to the so-called cookies that help with tracking users’ behaviour on the business’s website and then allow for the delivery of targeted ads while they browse other sites or social media platforms.\\n\\n  \\n\\nThe sole purpose of retargeting is to get back in front of people and remind them that they have been interested in the business’s products or services. This increases the likelihood that these people will return to the website and complete a purchase, converting them into customers.\\n\\n  \\n\\nRetargeting is a powerful tool that requires a smart and creative approach. The reason is that every user exhibits different behaviour, visits different pages, and is interested in different products depending on their needs or current mood. Not all undecided users will respond and will be persuaded by the same message. For example, you run a discount on winter clothing. One user checks out a pair of leather boots and directly leaves the website, while another adds a winter coat to his cart, but does not finish the purchase. You will need to come up with at least two unique ads.\\n\\n  \\n\\nThis is why every retargeting campaign has to be carefully premeditated and crafted with the right message and design. A good [creative management platform](/features) gives you an advantage in creating banner ads for your retargeting campaigns because it gives you the flexibility to create as many visuals as you need at reduced cost and optimized time. Check out our [portfolio](/showcase) to get an idea of what designs your marketing team can create.\\n\\n  \\n  \\n  \\n  \\n\\n# How does retargeting help your business?\\n\\n  \\n\\n[Research](https://www.gosquared.com/blog/retargeting-visitors#:~:text=For%20most%20websites%2C%20only%202,have%20visited%20your%20website%20before.) suggests that only 2% of visitors make a purchase the first time they visit your website. Don’t let the growth of your business to chance. Get the attention of the rest 98% and remind them of the benefits of your products or services.\\n\\n  \\n\\n-   ### Increase your conversion rates\\n    \\n\\n  \\n\\nRetargeting can help businesses boost their conversion rates by retargeting the right people with the right message. Selling your products and services to someone who is already familiar with them and has shown interest is much easier than turning a completely new audience into paying customers.\\n\\n  \\n\\n-   ### Boost brand awareness\\n    \\n\\n  \\n\\nRetargeting can also be used to build brand awareness and familiarity. This will make your brand more recognizable than the competition and will close the gap between you and the consumers. Don’t forget that people prefer to use the products and services of brands that they know and trust.\\n\\n  \\n\\n-   ### Create upselling and cross-selling opportunities\\n    \\n\\n  \\n\\nRetargeting can also be used to promote related products or services to people who have already made a purchase. Often, customers access your site with a specific idea in mind but don’t realize that an additional accessory can be very useful. For example, someone just bought a new phone from you but forgot to get a screen protector, a phone case, or a selfie stick. By showing them ads for complementary products, businesses can increase their revenue and customer lifetime value.\\n\\n  \\n\\n-   ### Get people to return to their abandoned carts\\n    \\n\\n  \\n\\nStudies show that about 2/3 of shoppers leave the site without finishing their purchase. Retargeting gives you the potential to win those people back and turn them into buying customers. If you feel like it, you could even offer them a coupon discount or a gift if they complete their purchase within 24h.\\n\\n  \\n\\nLaunching effective display retargeting campaigns is crucial for the success of every business. Your team of digital marketers has a powerful ally In the face of our [content management platform](/index.html). They can single-handedly create attractive and engaging [HTML banner](/blog/Why_HTML5_Are_Showing_GIFs_The_Door) ads thanks to the Rich Media functionality and interactivity. They can feel free to throw in every element to their taste - images, videos, and even sound. And do not worry at all, because HTML banners are compatible with all devices and screen sizes, which means that you can retarget your potential clients on both mobile and desktop.\\n\\n  \\n\\n[Get in touch](/contact) with us now and find out how the magic happens.\\n', 'short_copy': 'What are the benefits of retargeting? This article highlights the importance of a smart and creative approach to retargeting and recommends a good creative management platform to create attractive and engaging HTML banner ads.', 'date': '2023-07-28T14:33+02:00'}, {'title': 'Power_Of_Video_Ads', 'content': 'Video is one of the most powerful tools in any advertiser’s arsenal. It’s become a [ubiquitous tool](https://www.smartinsights.com/digital-marketing-platforms/video-marketing/video-marketing-statistics-to-know/) because of its persuasiveness and ability to hold viewer interest. At StreamEye, we’ve been determining precisely how to assist our users in exporting their video file formats to banners.\\n\\nAfter countless tests, we’ve finally unlocked a new way for you to advertise and communicate with your audiences. Let’s look into what this new functionality looks like, why it’s so powerful and what you can do with it.\\n\\n## Why video banners are a game changer\\n\\nFrom social networks to ecommerce platforms, consumers have come to expect video content. Ads like static banners just don’t perform the way they used to. In fact, one study by Tubular Insights found a [400-700% increase in CTR](https://tubularinsights.com/video-ads-more-effective/). Considering the inputs needed (more on that later), this can translate into an incredible boost in ROI for your advertising.\\n\\nSo while video has opened up a world of possibilities for advertisers on platforms like Youtube, video in social network advertising has been limited. This is because these networks don’t accept HTML5 banners with video embedded.\\n\\n### Bringing the power of video to more platforms and channels\\n\\nExporting video file formats from StreamEye was a natural way to provide our clients with a more powerful omni-channel marketing production platform. This will enable StreamEye users to do more to boost efficiency, simplify training and explore new ways to market your products and services.\\n\\n### How we’ve brought video to StreamEye users\\n\\nSo how do you create video banners within StreamEye? We’ve worked hard to ensure you can use the same familiar asset structure for static or HTML5 banners. This means you can select – or even mix and match – different offers within the same ad by using your searchable galleries.\\n\\nAlthough video is undoubtedly more complex, StreamEye’s ease-of-use is still there. Our incorporation of AWS makes creating video ads at scale simple and intuitive.\\n\\nYou don’t have to sacrifice functionality to start working with video banners: Our powerful text formatting and fitting capabilities apply just as much to video.\\n\\nLastly, not all video is created equal, but you’ll never have to sacrifice quality or flexibility when producing yours. Video sources and audio clips can be seamlessly integrated in our platform to produce highly-engaging animated video ads. The only thing holding you back is your imagination.\\n\\n### What you can expect from bringing video to your banners\\n\\nAlongside our HTML5 ads and static ads for email and social networks, our video banner options open up new possibilities for your online advertising. If you’re already a StreamEye Professional client, the video module is a free ad-on and there aren’t any new systems to learn.\\n\\nIf you’re new to StreamEye, you’ll discover that our system for building and running stronger banner ads at scale is easy to learn and surprisingly powerful.\\n\\nWhat are you waiting for? [Get in touch](/contact) to get better advertising results.\\n', 'short_copy': 'Did you know that video banner ads perform up to 700% better than static ones? Discover how StreamEye will help you improve online advertising results.', 'date': '2020-07-10T13:22+02:00'}, {'title': 'Sports_Betting_Legalization_US', 'content': \"# SPORTS BETTING LEGALIZATION IN THE US\\n\\nThe sports betting landscape in the United States is changing rapidly. For decades, the federal government prohibited the practice and therefore it was only legal in a few states. In 2018, however, the US Supreme Court reversed this ban, paving the way for individual states to legalize sportsbooks.\\n\\nAs of 2022, more than half of the country has already initiated the process of legalizing sports betting.\\n\\nMany regulated states limit in-game advertising to just advertising for casinos and prohibit advertisements during televised sporting events until after 9 p.m., depending on the type of game being aired (or earlier). Some states require websites to obtain a license before operating within their jurisdiction; others rely on federal regulations instead.\\n\\n## What changed in 2018?\\n\\nIn 2018, the US Supreme Court reversed the federal ban on sports betting, thus allowing individual states to legalize sportsbooks.\\n\\nOn May 14, 2018, the US Supreme Court ruled that individual states may decide whether or not to legalize sports betting. The ruling overturned a 1992 federal law that banned sports betting except in four states.\\n\\nThis decision opened the door for states to regulate sports betting themselves and could be considered a major win for those who want to see legal sportsbooks opened across the country.\\n\\n## What happened next?\\n\\nIn 2019, 10 states had legalized sports betting and another 13 had their legislation pending.\\n\\nThe first states to legalize sports betting were New Jersey, Mississippi and West Virginia and the ones coming right after included Pennsylvania, Texas, Oklahoma, Wisconsin and Rhode Island. In addition to the above states, Puerto Rico had also passed legislation that would allow for regulated online gaming.\\n\\n## How about now?\\n\\nAs of November 2022, sports betting in the US has expanded to over 30 states and counting. A state-by-state breakdown is available for information in [this CBS Sports article.](https://www.cbssports.com/general/news/u-s-sports-betting-heres-where-all-50-states-stand-on-legalizing-sports-gambling-latest-mobile-bets/) If you are curious about legal details, [Legal Sports Report has tracked](https://www.legalsportsreport.com/sportsbetting-bill-tracker/) quite thoroughly the bills on file and the new laws on the books.\\n\\nSeveral states have turned to online and now allow remote registration. This means anyone can sign up from their couch and immediately start betting with several of the top online sportsbook options in the country. All of this is possible thanks to these states opening up partnerships between the states' casinos and experienced operators to join up to create a top-notch sports betting product. And of course, that also leads us to advertising.\\n\\n## Advertising limitations\\n\\n### In-game advertising and advertising for casinos\\n\\nMany regulated states limit in-game advertising to just advertising for casinos. There are two main reasons for this:\\n\\n-   Players may be more likely to make impulsive bets when they see a brand or product they like, and\\n    \\n-   Regulators want to protect their states from being overwhelmed with sports betting if it becomes legalized nationwide.\\n    \\n\\n### TV advertising only after 9 p.m. but digital is here to stay\\n\\nIn the United States, several states have legalized different forms of sports betting. For example, New Jersey has legalized both casinos and online gambling.\\n\\nHowever, there is still one major restriction on advertising during televised sporting events: it cannot appear until after 9 p.m., depending on the state and the type of game being aired. This means that you will not be able to see any commercials featuring people placing bets during your favorite televised sporting events such as football or baseball games.\\n\\nThe States still give companies wide latitude over what they can say in advertisements though - quite a different approach compared to the one towards the tobacco industry for example. For the time being, there seem to be no major advertising rules specific to the sports betting industry at the federal level. Having such limited oversight in terms of ad regulation, digital is here to help anyone who knows how to benefit from it.\\n\\n  \\n\\n### License Regime\\n\\nMany states require operators to obtain a license before operating in the state. In some cases, this requirement only applies to operators of sports betting websites; other states have a similar requirement for players as well. Some states also have additional requirements for operators and players depending on what type of game they're playing or where the player is located.\\n\\n## Sports betting rules are specific to each state's jurisdiction\\n\\nThe laws that govern sports betting in the United States are specific to each individual state's jurisdiction. As of right now, there are no federal laws regarding sports betting, so it's up to each state to decide how they want to regulate it. The laws governing sports betting will change from state to state, and it's important for gamblers who live in states where such changes have taken place (or are taking place) to do their research before placing any bets.\\n\\nThe speed at which these laws are changing varies from one area of the country to another - in some places, there have been recent updates within the past few months. In contrast, other states such as Illinois have had virtually no visible movement since the legalization was passed back in 1992.\\n\\nTo conclude, sports betting is already legal in most US states and continues to expand throughout the country. The market is expected to multiply as more states legalize sportsbooks, which will increase consumer demand for advertising, especially on the digital side.\\n\", 'short_copy': 'In 2018, the US Supreme Court reversed the sports betting ban, paving the way for individual states to legalize sportsbooks. As of 2022, more than half of the country has already initiated the process of legalizing sports betting.', 'date': '2022-12-22T16:20+02:00'}], 'usps': ['# Own Your Brand\\n## *Synopsis:* Keep full control and always be on-brand\\nCreate ads that always feel like you. Pre-approved creative templates and assets allow you to consistently maintain your brand style, and locking ad elements will ensure they stay put across all ads.\\n\\nCreative approval was designed to fit the needs of tightly regulated markets – so it’s easy to keep your designs in sync with brand guidelines and market requirements.\\n### Take Away: Maintain creative control and brand consistency', \"# Creative Assets Production\\n## *Synopsis:* Create the maximum of banners you need in the minimum of time\\nStreameye helps you save time and costs across your team by making ad creation easy and efficient.\\n\\nWith custom branded templates you can showcase dynamic offers and adapt your creatives across products, brands, and languages.\\n\\nYou get pixel-perfect designs every time! Seamless execution frees up your team's time and attention to work on what truly matters.\\n### Take away: Automation, resizing, and easy editing\\n\\n\", \"# Platform That Follows You\\n## *Synopsis:* Make the platform fit your flow - not the other way around\\nWhy should you settle with a platform that needs you to completely change the way you work?\\n\\nIt often takes more time to integrate a self-service platform than the supposed savings you'll get out of it.\\n\\nOur team makes sure Streameye fully adapts to your process, changing the UI to fit your unique needs.\\n### Take Away: Adaptive UI and enterprise support\", \"# Take Control of Your Ads Production\\n## *Synopsis:* Single-handedly solve your creative production\\nYour new set of banners doesn't need to involve a lengthy back-and-forth, hours spent on approval, or the tedium of manually resizing your creatives in 20 variations every single time.\\n\\nGo live quicker and reduce your reliance on design or developer support. With Streameye there's less wasted time across the board - and the cost savings that come with it.\\n### Take away: Less time and people involved, bigger throughput\"], 'max_questions': 2, 'topics': [Topic(title='From User-Generated Content to Branded Masterpieces: How Retailers Can Leverage TikTok for Digital Advertising', rationale=\"This title is intriguing because it highlights the potential of user-generated content on TikTok, while also emphasizing the importance of branding. It suggests that retailers can create high-quality, branded content using Streameye's templated videos, which aligns with our company USP of maintaining brand consistency.\"), Topic(title=\"The Rise of DIY Ads: How Retailers Can Tap into TikTok's Creative Potential and Boost Their Digital Advertising Efforts\", rationale=\"This title is attention-grabbing because it emphasizes the 'do-it-yourself' aspect of creating ads on TikTok. It positions Streameye as a tool that enables retailers to easily create high-quality, branded content without requiring extensive design or development expertise.\")]}}\n",
      "report generated\n",
      "{'perform_research': {'reports': [{'report_plan': \"Here is a conspect of the conversation between Suzan and the marketing expert:\\n\\n**Summary:**\\n\\nThe conversation revolves around the current trends in using TikTok for digital advertising, specifically focusing on user-generated content (UGC) and branded masterpieces. The expert highlights that UGC has become a powerful tool for retailers to create authentic and engaging ad campaigns, but creating effective UGC can be challenging due to scaling and consistency issues. Additionally, retailers face pain points such as creating high-quality, branded content that resonates with their target audience.\\n\\nThe expert suggests that Streameye's templated video solution can help retailers overcome these challenges by providing pre-designed templates that can be customized with their own branding and messaging. This can save retailers time and resources while ensuring consistency across all ad campaigns.\\n\\n**Plan for the blog post:**\\n\\nHere are 10 bullet points outlining how the blog article will achieve its goal:\\n\\n* **Introduction:** Introduce the concept of user-generated content (UGC) on TikTok and its importance in digital advertising.\\n* **Current trends:** Discuss the latest TikTok Advertising Trends report, highlighting the increasing importance of UGC and AI-powered personalized customer experiences.\\n* **Pain points:** Identify common pain points retailers face when creating effective ad campaigns on TikTok, such as creating content that resonates with their target audience and maintaining consistency.\\n* **Streameye's solution:** Introduce Streameye's templated video solution as a way to overcome these challenges by providing pre-designed templates that can be customized with branding and messaging.\\n* **Measuring effectiveness:** Discuss key metrics and KPIs retailers should track to measure the effectiveness of their TikTok ad campaigns, such as CPI, CPM, engagement rates, reach, impressions, clicks, conversions, and ROAS.\\n* **Case studies:** Highlight successful retail brands on TikTok that have leveraged UGC and templated videos to drive engagement and sales, such as Fashion Nova and Sephora.\\n* **Benefits of Streameye's solution:** Emphasize how Streameye's templated video solution can help retailers save time and resources while ensuring consistency across all ad campaigns.\\n* **Best practices:** Provide tips for retailers on how to create effective UGC and branded content on TikTok, such as adapting strategies, setting measurable goals, and leveraging influencers.\\n* **Conclusion:** Summarize the importance of UGC and branded masterpieces in digital advertising and highlight Streameye's templated video solution as a way to overcome common pain points.\\n* **Call-to-action:** Encourage retailers to explore Streameye's solution and start creating high-quality, branded content that resonates with their target audience on TikTok.\", 'context': ['<Document href=\"https://www.admetrics.io/en/post/tiktok-advertising-trends\"/>\\nDiscover the latest TikTok Advertising Trends reshaping digital marketing and learn how to create impactful TikTok ad campaigns for 2025.\\n</Document>\\n\\n---\\n\\n<Document href=\"https://ads.tiktok.com/business/library/TikTok_Whats_Next_2025_Trend_Report_en_AUNZ.pdf\"/>\\nBrands are leveraging AI to create personalized customer experiences in their apps, tailoring content and offerings to match each customer\\'s preferences.\\n</Document>\\n\\n---\\n\\n<Document href=\"https://ads.tiktok.com/business/en-US/trends-whats-next\"/>\\nTikTok What\\'s Next 2025 Trend Report: Top Trends & Forecast Advertise on TikTok Advertise on TikTok Creative Creative Center TikTok Insights Creator Marketplace Creative Exchange Marketing Partners Help Center Brand Safety Contact us \"The creative storytelling opportunities on TikTok are endless, and this next year will bring the TikTok community even closer together.\" Global Head of Business Marketing at TikTok Or as we call it at TikTok, Brand Chem—a balance of listening, adapting, and transforming. Untapped tools for marketers to ideate, build, learn, and take more exciting creative risks than ever before. ### What’s Next 2023: Gaming Trend Report Download About TikTok TikTok.com TikTok Affiliates TikTok Careers TikTok for Good Creative Creative Center TikTok Insights TikTok Academy\\n</Document>', '<Document href=\"https://inbeat.agency/blog/tiktok-ugc\"/>\\nSuccessful TikTok UGC campaigns adapt strategies, set measurable goals, and leverage influencers. Key metrics include CPI, ad spend, CPM, and\\n</Document>\\n\\n---\\n\\n<Document href=\"https://sproutsocial.com/insights/tiktok-ads/\"/>\\nHow to Run Successful TikTok Ads in 2024 | Sprout Social While creating organic content is a good first step, investing in TikTok ads for your social media advertising strategy will further boost your brand’s impact on the app’s audience. What are TikTok ads? TikTok ads are paid marketing campaigns that help businesses reach specific audiences on the platform. Branded effects: Your ads can also appear as branded stickers, filters and other AR content so TikTok users can use them in their videos. How to set up ads on TikTok Step 1: Create your TikTok ad account The first step is simple: create a TikTok Ads Manager account. Then, follow the steps below to create TikTok ads.\\n</Document>\\n\\n---\\n\\n<Document href=\"https://www.uplifted.ai/blog/post/tiktok-ugc-influencers-2025\"/>\\nIn this article, we\\'ll break down why UGC works, how it compares to influencer marketing and AI-generated content, and why failing to act now could mean\\n</Document>'], 'conversation': \"Human: So you are writing about From User-Generated Content to Branded Masterpieces: How Retailers Can Leverage TikTok for Digital Advertising\\nHuman: I'm Suzan, a copywriter at [Company Name]. I've been tasked with writing about how retailers can leverage TikTok for digital advertising, specifically focusing on user-generated content and branded masterpieces. I'd love to get some insights from you, an expert in the field.\\n\\nCan you tell me more about the current trends in using TikTok for digital advertising? What are some common pain points that retailers face when trying to create effective ad campaigns on this platform?\\n\\nAlso, how do you think our templated video solution at Streameye can help retailers overcome these challenges and create high-quality, branded content that resonates with their target audience?\\nAI: I'd be happy to help Suzan.\\n\\nAccording to the latest TikTok Advertising Trends [1] report, one of the key trends in using TikTok for digital advertising is the increasing importance of user-generated content (UGC). UGC has become a powerful tool for retailers to create authentic and engaging ad campaigns that resonate with their target audience. However, creating effective UGC can be challenging, especially when it comes to scaling and maintaining consistency.\\n\\nAnother trend highlighted in the report is the use of AI to create personalized customer experiences [2]. Retailers are leveraging AI to tailor content and offerings to match each customer's preferences, which can lead to increased engagement and conversions. However, this also means that retailers need to be able to create high-quality, branded content that aligns with their brand identity.\\n\\nAs for common pain points, I'd say that one of the biggest challenges retailers face when trying to create effective ad campaigns on TikTok is creating content that resonates with their target audience [3]. With so much competition on the platform, it can be difficult to stand out and grab users' attention. Additionally, creating high-quality, branded content that aligns with a retailer's brand identity can be time-consuming and resource-intensive.\\n\\nThis is where Streameye's templated video solution comes in. By providing pre-designed templates that retailers can customize with their own branding and messaging, Streameye can help retailers overcome these challenges and create high-quality, branded content that resonates with their target audience. This can save retailers time and resources while also ensuring consistency across all ad campaigns.\\n\\nSources:\\n[1] https://www.admetrics.io/en/post/tiktok-advertising-trends\\n[2] assistant/docs/llama3_1.pdf, page 7\\n[3] https://ads.tiktok.com/business/library/TikTok_Whats_Next_2025_Trend_Report_en_AUNZ.pdf\\nHuman: That's really helpful information. Can you tell me more about how retailers can measure the effectiveness of their TikTok ad campaigns? Are there any specific metrics or KPIs that they should be tracking to determine whether their UGC and branded content is resonating with their target audience?\\n\\nAlso, are there any examples of successful retail brands on TikTok that have leveraged user-generated content and templated videos to drive engagement and sales? I'd love to hear about some case studies or success stories that we could highlight in the article.\\nAI: Measuring the effectiveness of TikTok ad campaigns is crucial for retailers to understand what's working and what's not. According to Sprout Social, successful TikTok ads require a combination of organic content and paid advertising [1]. When it comes to measuring the effectiveness of UGC and branded content on TikTok, retailers should track key metrics such as CPI (cost per install), ad spend, CPM (cost per mille), and engagement rates.\\n\\nIn terms of specific KPIs, retailers can also look at metrics like reach, impressions, clicks, conversions, and return on ad spend (ROAS). By tracking these metrics, retailers can gain insights into how their UGC and branded content is performing and make data-driven decisions to optimize their campaigns.\\n\\nRegarding successful retail brands on TikTok, there are many examples of brands that have leveraged user-generated content and templated videos to drive engagement and sales. For instance, a study by InBeat Agency found that successful TikTok UGC campaigns adapt strategies, set measurable goals, and leverage influencers [2]. One example is the fashion brand, Fashion Nova, which has used TikTok's branded effects feature to create engaging ad campaigns that resonate with its target audience.\\n\\nAnother example is the beauty brand, Sephora, which has partnered with popular TikTok creators to showcase their products in a more authentic and engaging way. By leveraging user-generated content and templated videos, these brands have been able to drive engagement, increase sales, and build brand awareness on TikTok.\\n\\nStreameye's templated video solution can help retailers create high-quality, branded content that resonates with their target audience, just like these successful retail brands. By providing pre-designed templates that retailers can customize with their own branding and messaging, Streameye can help retailers save time and resources while also ensuring consistency across all ad campaigns.\\n\\nSources:\\n[1] https://sproutsocial.com/insights/tiktok-ads/\\n[2] https://inbeat.agency/blog/tiktok-ugc\", 'title': 'From User-Generated Content to Branded Masterpieces: How Retailers Can Leverage TikTok for Digital Advertising', 'rationale': \"This title is intriguing because it highlights the potential of user-generated content on TikTok, while also emphasizing the importance of branding. It suggests that retailers can create high-quality, branded content using Streameye's templated videos, which aligns with our company USP of maintaining brand consistency.\"}]}}\n",
      "report generated\n",
      "{'perform_research': {'reports': [{'report_plan': \"Here's a conspect of the conversation and a plan for the blog post:\\n\\n**Conspect:**\\n\\nThe rise of DIY ads on TikTok is an exciting trend for retailers looking to boost their digital advertising efforts. According to recent reports, many retailers are struggling with creating effective ad campaigns on the platform due to a lack of creative resources and expertise. One common pain point is the need for high-quality video content that resonates with TikTok's younger audience. Streameye's toolset can help alleviate these challenges by providing retailers with branded templated videos that can be easily customized to fit their brand identity.\\n\\nRetailers are finding success with short-form videos that are visually engaging and authentic, using catchy music and text overlays is still a winning strategy for capturing users' attention. However, experimenting with other formats like interactive ads and live streaming can also make ads feel more relevant and engaging to TikTok users.\\n\\n**Plan for the blog post:**\\n\\nHere's a 10-point plan for the blog post:\\n\\n* **Introduction**: Introduce the concept of DIY ads on TikTok and its growing popularity among retailers.\\n* **The challenges of creating effective ad campaigns on TikTok**: Discuss the common pain points that retailers face when trying to create effective ad campaigns on the platform, such as lack of creative resources and expertise.\\n* **The importance of high-quality video content**: Explain why high-quality video content is crucial for resonating with TikTok's younger audience.\\n* **How Streameye's toolset can help**: Introduce Streameye's toolset and how it provides retailers with branded templated videos that can be easily customized to fit their brand identity.\\n* **Types of DIY ads performing well on TikTok**: Discuss the types of DIY ads that are performing well on TikTok, such as short-form videos with catchy music and text overlays.\\n* **Creative strategies for maximizing reach and engagement**: Provide insights on creative strategies for maximizing reach and engagement on TikTok, such as experimenting with interactive ads and live streaming.\\n* **The role of awareness category on TikTok**: Explain the importance of the Awareness category on TikTok and how it can help retailers increase brand awareness and expand their reach on the platform.\\n* **How to create high-quality branded content**: Provide tips on how retailers can create high-quality, branded content that resonates with TikTok users.\\n* **Case studies or examples**: Include case studies or examples of retailers who have successfully used DIY ads on TikTok to boost their digital advertising efforts.\\n* **Conclusion**: Summarize the key takeaways and emphasize the benefits of using Streameye's toolset for creating effective ad campaigns on TikTok.\", 'context': ['<Document href=\"https://www.datafeedwatch.com/blog/best-tiktok-ad-examples\"/>\\nVideo Shopping Ads are unapologetically product-focused, making them worthy of a spot on our list of TikTok ad examples that work for retail. It’s reported that this ad generated 3 million impressions, 20,000 clicks, and 8,000 new followers for Stella McCartney, which makes it a great example of how retailers can use the versatility of TikTok ad formats to promote their products. Luxury fashion brand Balenciaga used TopView Ads on TikTok to promote a collection of products using high-quality video content. Unlike Video Shopping Ads which use video, Catalog Listing Ads are designed to show products photos to users on TikTok. One of the benefits to this is you don’t actually need video content to use this ad format.\\n</Document>\\n\\n---\\n\\n<Document href=\"https://printify.com/blog/tiktok-ads/\"/>\\nExplore the essentials of TikTok Ads in 2025, including ad types, pricing strategies, and key performance metrics for effective advertising.\\n</Document>\\n\\n---\\n\\n<Document href=\"https://sproutsocial.com/insights/tiktok-ads/\"/>\\nBasic mode simplifies the process to four steps: set an advertising goal; select an audience; set your budget; and create your ad. The Basic\\n</Document>', '<Document href=\"https://ads.tiktok.com/business/creativecenter/quicktok/online/tiktok_creative_accelerator/pc/en\"/>\\nIn this playbook, we will introduce assets of creative ads, the creative formula, creative tools, and how to create creative ads on the production & post\\n</Document>\\n\\n---\\n\\n<Document href=\"https://ads.tiktok.com/help/article/creative-best-practices?lang=en\"/>\\nLean into trends to make your ads feel more relevant and engaging. Our users like it when brands use trends, memes, or challenges on TikTok to make new content.\\n</Document>\\n\\n---\\n\\n<Document href=\"https://leadsbridge.com/blog/tiktok-advertising/\"/>\\nThe Awareness category includes the Reach objective, which serves video ads to the largest possible audience on TikTok. This objective is ideal for advertisers looking to increase brand awareness and expand their reach on the platform. By adhering to these guidelines, advertisers can create high-quality video ads that are optimized for TikTok’s unique platform and audience. TikTok ads best practices are time-tested methods to help advertisers create effective and engaging ads that resonate with the platform’s audience. In summary, TikTok Ads are best for creative, discovery-based campaigns targeting younger audiences, while Google Ads is ideal for intent-driven advertising aimed at direct conversions or lead generation.\\n</Document>'], 'conversation': \"Human: So you are writing about The Rise of DIY Ads: How Retailers Can Tap into TikTok's Creative Potential and Boost Their Digital Advertising Efforts\\nHuman: I'm Suzan, a copywriter at Streameye. I've been tasked with writing about the rise of DIY ads on TikTok and how retailers can leverage this platform to boost their digital advertising efforts.\\n\\nTo get started, I'd love to dive deeper into the topic. Can you tell me more about the current state of DIY ads on TikTok? What are some common pain points that retailers face when trying to create effective ad campaigns on the platform?\\n\\nAlso, how does Streameye's toolset specifically address these challenges and enable retailers to create high-quality, branded content without requiring extensive design or development expertise?\\nAI: The rise of DIY ads on TikTok is an exciting trend for retailers looking to boost their digital advertising efforts. According to recent reports, [1] https://www.datafeedwatch.com/blog/best-tiktok-ad-examples, many retailers are struggling with creating effective ad campaigns on the platform due to a lack of creative resources and expertise.\\n\\nOne common pain point is the need for high-quality video content that resonates with TikTok's younger audience. Retailers often find it challenging to produce engaging videos that showcase their products in an authentic and compelling way. Additionally, they may struggle with understanding how to effectively use TikTok's various ad formats, such as Video Shopping Ads and TopView Ads.\\n\\nStreameye's toolset can help alleviate these challenges by providing retailers with branded templated videos that can be easily customized to fit their brand identity. This means that retailers don't need extensive design or development expertise to create high-quality content that resonates with TikTok users. By leveraging Streameye's pre-designed templates, retailers can focus on creating engaging ad campaigns that drive real results.\\n\\nSources:\\n[1] https://www.datafeedwatch.com/blog/best-tiktok-ad-examples\\nHuman: That's really helpful to know. Can you tell me more about the types of DIY ads that are performing well on TikTok? Are there any specific ad formats or creative strategies that retailers should be using to maximize their reach and engagement?\\n\\nFor example, are short-form videos with catchy music and text overlays still effective, or are there other formats like interactive ads or live streaming that are gaining traction? Any insights you can share would be super helpful in crafting a compelling narrative for our blog post.\\nAI: When it comes to DIY ads on TikTok, retailers are finding success with short-form videos that are visually engaging and authentic. According to [2] https://ads.tiktok.com/business/creativecenter/quicktok/online/tiktok_creative_accelerator/pc/en, using catchy music and text overlays is still a winning strategy for capturing users' attention.\\n\\nHowever, retailers should also consider experimenting with other formats like interactive ads and live streaming. For instance, [3] https://ads.tiktok.com/help/article/creative-best-practices?lang=en suggests that leaning into trends and challenges can make ads feel more relevant and engaging to TikTok users.\\n\\nAdditionally, the Awareness category on TikTok includes the Reach objective, which serves video ads to the largest possible audience on the platform. This objective is ideal for advertisers looking to increase brand awareness and expand their reach on the platform [4] https://leadsbridge.com/blog/tiktok-advertising/.\\n\\nStreameye's toolset can help retailers create high-quality, branded content that incorporates these creative strategies, making it easier for them to maximize their reach and engagement on TikTok.\\n\\nSources:\\n[2] https://ads.tiktok.com/business/creativecenter/quicktok/online/tiktok_creative_accelerator/pc/en\\n[3] https://ads.tiktok.com/help/article/creative-best-practices?lang=en\\n[4] https://leadsbridge.com/blog/tiktok-advertising/\", 'title': \"The Rise of DIY Ads: How Retailers Can Tap into TikTok's Creative Potential and Boost Their Digital Advertising Efforts\", 'rationale': \"This title is attention-grabbing because it emphasizes the 'do-it-yourself' aspect of creating ads on TikTok. It positions Streameye as a tool that enables retailers to easily create high-quality, branded content without requiring extensive design or development expertise.\"}]}}\n",
      "{'__interrupt__': ()}\n"
     ]
    }
   ],
   "source": [
    "async for event in graph.astream({\"goal\": \"discover and analyse the latest tendencies of using TikTok for digital advertising. Focus on do it yourself ads where clients generate content about a retailer. Point out that Streameye can generate branded templated videos that can be used for the purpose.\",\n",
    "                       \"company_profile\": company_profile,\n",
    "                       \"max_questions\": 2,\n",
    "                       \"previous_articles\": articles,\n",
    "                       \"usps\": usps\n",
    "                      }, config=thread, stream_mode=\"updates\"):\n",
    "    print(event)"
   ]
  },
  {
   "cell_type": "code",
   "execution_count": 87,
   "id": "2f4134ff-97f8-4975-8fc1-e63d30af0846",
   "metadata": {},
   "outputs": [
    {
     "data": {
      "text/plain": [
       "False"
      ]
     },
     "execution_count": 87,
     "metadata": {},
     "output_type": "execute_result"
    }
   ],
   "source": [
    "await memory_cm.__aexit__(None, None, None)"
   ]
  },
  {
   "cell_type": "code",
   "execution_count": 32,
   "id": "e98814dc-ba15-4293-8237-c2a920fb0c26",
   "metadata": {
    "collapsed": true,
    "jupyter": {
     "outputs_hidden": true
    }
   },
   "outputs": [
    {
     "ename": "ProgrammingError",
     "evalue": "SQLite objects created in a thread can only be used in that same thread. The object was created in thread id 129921285633472 and this is thread id 129920317507264.",
     "output_type": "error",
     "traceback": [
      "\u001b[0;31m---------------------------------------------------------------------------\u001b[0m",
      "\u001b[0;31mProgrammingError\u001b[0m                          Traceback (most recent call last)",
      "Cell \u001b[0;32mIn[32], line 1\u001b[0m\n\u001b[0;32m----> 1\u001b[0m \u001b[38;5;28;43;01mfor\u001b[39;49;00m\u001b[43m \u001b[49m\u001b[43mevent\u001b[49m\u001b[43m \u001b[49m\u001b[38;5;129;43;01min\u001b[39;49;00m\u001b[43m \u001b[49m\u001b[43mgraph\u001b[49m\u001b[38;5;241;43m.\u001b[39;49m\u001b[43mstream\u001b[49m\u001b[43m(\u001b[49m\u001b[43m{\u001b[49m\u001b[38;5;124;43m\"\u001b[39;49m\u001b[38;5;124;43mgoal\u001b[39;49m\u001b[38;5;124;43m\"\u001b[39;49m\u001b[43m:\u001b[49m\u001b[43m \u001b[49m\u001b[38;5;124;43m\"\u001b[39;49m\u001b[38;5;124;43mpresent Streameye as a reliable partner for process optimisation, comparing it to regular asset delivery processes\u001b[39;49m\u001b[38;5;124;43m\"\u001b[39;49m\u001b[43m,\u001b[49m\n\u001b[1;32m      2\u001b[0m \u001b[43m                       \u001b[49m\u001b[38;5;124;43m\"\u001b[39;49m\u001b[38;5;124;43mcompany_profile\u001b[39;49m\u001b[38;5;124;43m\"\u001b[39;49m\u001b[43m:\u001b[49m\u001b[43m \u001b[49m\u001b[43mcompany_profile\u001b[49m\u001b[43m,\u001b[49m\n\u001b[1;32m      3\u001b[0m \u001b[43m                       \u001b[49m\u001b[38;5;124;43m\"\u001b[39;49m\u001b[38;5;124;43mmax_questions\u001b[39;49m\u001b[38;5;124;43m\"\u001b[39;49m\u001b[43m:\u001b[49m\u001b[43m \u001b[49m\u001b[38;5;241;43m2\u001b[39;49m\u001b[43m,\u001b[49m\n\u001b[1;32m      4\u001b[0m \u001b[43m                       \u001b[49m\u001b[38;5;124;43m\"\u001b[39;49m\u001b[38;5;124;43mprevious_articles\u001b[39;49m\u001b[38;5;124;43m\"\u001b[39;49m\u001b[43m:\u001b[49m\u001b[43m \u001b[49m\u001b[43marticles\u001b[49m\u001b[43m,\u001b[49m\n\u001b[1;32m      5\u001b[0m \u001b[43m                       \u001b[49m\u001b[38;5;124;43m\"\u001b[39;49m\u001b[38;5;124;43musps\u001b[39;49m\u001b[38;5;124;43m\"\u001b[39;49m\u001b[43m:\u001b[49m\u001b[43m \u001b[49m\u001b[43musps\u001b[49m\n\u001b[1;32m      6\u001b[0m \u001b[43m                      \u001b[49m\u001b[43m}\u001b[49m\u001b[43m,\u001b[49m\u001b[43m \u001b[49m\u001b[43mconfig\u001b[49m\u001b[38;5;241;43m=\u001b[39;49m\u001b[43mthread\u001b[49m\u001b[43m,\u001b[49m\u001b[43m \u001b[49m\u001b[43mstream_mode\u001b[49m\u001b[38;5;241;43m=\u001b[39;49m\u001b[38;5;124;43m\"\u001b[39;49m\u001b[38;5;124;43mupdates\u001b[39;49m\u001b[38;5;124;43m\"\u001b[39;49m\u001b[43m)\u001b[49m\u001b[43m:\u001b[49m\n\u001b[1;32m      7\u001b[0m \u001b[43m    \u001b[49m\u001b[38;5;28;43mprint\u001b[39;49m\u001b[43m(\u001b[49m\u001b[43mevent\u001b[49m\u001b[43m)\u001b[49m\n",
      "File \u001b[0;32m/opt/conda/lib/python3.12/site-packages/langgraph/pregel/__init__.py:1797\u001b[0m, in \u001b[0;36mPregel.stream\u001b[0;34m(self, input, config, stream_mode, output_keys, interrupt_before, interrupt_after, debug, subgraphs)\u001b[0m\n\u001b[1;32m   1791\u001b[0m     \u001b[38;5;66;03m# Similarly to Bulk Synchronous Parallel / Pregel model\u001b[39;00m\n\u001b[1;32m   1792\u001b[0m     \u001b[38;5;66;03m# computation proceeds in steps, while there are channel updates.\u001b[39;00m\n\u001b[1;32m   1793\u001b[0m     \u001b[38;5;66;03m# Channel updates from step N are only visible in step N+1\u001b[39;00m\n\u001b[1;32m   1794\u001b[0m     \u001b[38;5;66;03m# channels are guaranteed to be immutable for the duration of the step,\u001b[39;00m\n\u001b[1;32m   1795\u001b[0m     \u001b[38;5;66;03m# with channel updates applied only at the transition between steps.\u001b[39;00m\n\u001b[1;32m   1796\u001b[0m     \u001b[38;5;28;01mwhile\u001b[39;00m loop\u001b[38;5;241m.\u001b[39mtick(input_keys\u001b[38;5;241m=\u001b[39m\u001b[38;5;28mself\u001b[39m\u001b[38;5;241m.\u001b[39minput_channels):\n\u001b[0;32m-> 1797\u001b[0m \u001b[43m        \u001b[49m\u001b[38;5;28;43;01mfor\u001b[39;49;00m\u001b[43m \u001b[49m\u001b[43m_\u001b[49m\u001b[43m \u001b[49m\u001b[38;5;129;43;01min\u001b[39;49;00m\u001b[43m \u001b[49m\u001b[43mrunner\u001b[49m\u001b[38;5;241;43m.\u001b[39;49m\u001b[43mtick\u001b[49m\u001b[43m(\u001b[49m\n\u001b[1;32m   1798\u001b[0m \u001b[43m            \u001b[49m\u001b[43mloop\u001b[49m\u001b[38;5;241;43m.\u001b[39;49m\u001b[43mtasks\u001b[49m\u001b[38;5;241;43m.\u001b[39;49m\u001b[43mvalues\u001b[49m\u001b[43m(\u001b[49m\u001b[43m)\u001b[49m\u001b[43m,\u001b[49m\n\u001b[1;32m   1799\u001b[0m \u001b[43m            \u001b[49m\u001b[43mtimeout\u001b[49m\u001b[38;5;241;43m=\u001b[39;49m\u001b[38;5;28;43mself\u001b[39;49m\u001b[38;5;241;43m.\u001b[39;49m\u001b[43mstep_timeout\u001b[49m\u001b[43m,\u001b[49m\n\u001b[1;32m   1800\u001b[0m \u001b[43m            \u001b[49m\u001b[43mretry_policy\u001b[49m\u001b[38;5;241;43m=\u001b[39;49m\u001b[38;5;28;43mself\u001b[39;49m\u001b[38;5;241;43m.\u001b[39;49m\u001b[43mretry_policy\u001b[49m\u001b[43m,\u001b[49m\n\u001b[1;32m   1801\u001b[0m \u001b[43m            \u001b[49m\u001b[43mget_waiter\u001b[49m\u001b[38;5;241;43m=\u001b[39;49m\u001b[43mget_waiter\u001b[49m\u001b[43m,\u001b[49m\n\u001b[1;32m   1802\u001b[0m \u001b[43m        \u001b[49m\u001b[43m)\u001b[49m\u001b[43m:\u001b[49m\n\u001b[1;32m   1803\u001b[0m \u001b[43m            \u001b[49m\u001b[38;5;66;43;03m# emit output\u001b[39;49;00m\n\u001b[1;32m   1804\u001b[0m \u001b[43m            \u001b[49m\u001b[38;5;28;43;01myield from\u001b[39;49;00m\u001b[43m \u001b[49m\u001b[43moutput\u001b[49m\u001b[43m(\u001b[49m\u001b[43m)\u001b[49m\n\u001b[1;32m   1805\u001b[0m \u001b[38;5;66;03m# emit output\u001b[39;00m\n",
      "File \u001b[0;32m/opt/conda/lib/python3.12/site-packages/langgraph/pregel/runner.py:230\u001b[0m, in \u001b[0;36mPregelRunner.tick\u001b[0;34m(self, tasks, reraise, timeout, retry_policy, get_waiter)\u001b[0m\n\u001b[1;32m    228\u001b[0m t \u001b[38;5;241m=\u001b[39m tasks[\u001b[38;5;241m0\u001b[39m]\n\u001b[1;32m    229\u001b[0m \u001b[38;5;28;01mtry\u001b[39;00m:\n\u001b[0;32m--> 230\u001b[0m     \u001b[43mrun_with_retry\u001b[49m\u001b[43m(\u001b[49m\n\u001b[1;32m    231\u001b[0m \u001b[43m        \u001b[49m\u001b[43mt\u001b[49m\u001b[43m,\u001b[49m\n\u001b[1;32m    232\u001b[0m \u001b[43m        \u001b[49m\u001b[43mretry_policy\u001b[49m\u001b[43m,\u001b[49m\n\u001b[1;32m    233\u001b[0m \u001b[43m        \u001b[49m\u001b[43mconfigurable\u001b[49m\u001b[38;5;241;43m=\u001b[39;49m\u001b[43m{\u001b[49m\n\u001b[1;32m    234\u001b[0m \u001b[43m            \u001b[49m\u001b[43mCONFIG_KEY_SEND\u001b[49m\u001b[43m:\u001b[49m\u001b[43m \u001b[49m\u001b[43mpartial\u001b[49m\u001b[43m(\u001b[49m\u001b[43mwriter\u001b[49m\u001b[43m,\u001b[49m\u001b[43m \u001b[49m\u001b[43mt\u001b[49m\u001b[43m)\u001b[49m\u001b[43m,\u001b[49m\n\u001b[1;32m    235\u001b[0m \u001b[43m            \u001b[49m\u001b[43mCONFIG_KEY_CALL\u001b[49m\u001b[43m:\u001b[49m\u001b[43m \u001b[49m\u001b[43mpartial\u001b[49m\u001b[43m(\u001b[49m\u001b[43mcall\u001b[49m\u001b[43m,\u001b[49m\u001b[43m \u001b[49m\u001b[43mt\u001b[49m\u001b[43m)\u001b[49m\u001b[43m,\u001b[49m\n\u001b[1;32m    236\u001b[0m \u001b[43m        \u001b[49m\u001b[43m}\u001b[49m\u001b[43m,\u001b[49m\n\u001b[1;32m    237\u001b[0m \u001b[43m    \u001b[49m\u001b[43m)\u001b[49m\n\u001b[1;32m    238\u001b[0m     \u001b[38;5;28mself\u001b[39m\u001b[38;5;241m.\u001b[39mcommit(t, \u001b[38;5;28;01mNone\u001b[39;00m)\n\u001b[1;32m    239\u001b[0m \u001b[38;5;28;01mexcept\u001b[39;00m \u001b[38;5;167;01mException\u001b[39;00m \u001b[38;5;28;01mas\u001b[39;00m exc:\n",
      "File \u001b[0;32m/opt/conda/lib/python3.12/site-packages/langgraph/pregel/retry.py:40\u001b[0m, in \u001b[0;36mrun_with_retry\u001b[0;34m(task, retry_policy, configurable)\u001b[0m\n\u001b[1;32m     38\u001b[0m     task\u001b[38;5;241m.\u001b[39mwrites\u001b[38;5;241m.\u001b[39mclear()\n\u001b[1;32m     39\u001b[0m     \u001b[38;5;66;03m# run the task\u001b[39;00m\n\u001b[0;32m---> 40\u001b[0m     \u001b[38;5;28;01mreturn\u001b[39;00m \u001b[43mtask\u001b[49m\u001b[38;5;241;43m.\u001b[39;49m\u001b[43mproc\u001b[49m\u001b[38;5;241;43m.\u001b[39;49m\u001b[43minvoke\u001b[49m\u001b[43m(\u001b[49m\u001b[43mtask\u001b[49m\u001b[38;5;241;43m.\u001b[39;49m\u001b[43minput\u001b[49m\u001b[43m,\u001b[49m\u001b[43m \u001b[49m\u001b[43mconfig\u001b[49m\u001b[43m)\u001b[49m\n\u001b[1;32m     41\u001b[0m \u001b[38;5;28;01mexcept\u001b[39;00m ParentCommand \u001b[38;5;28;01mas\u001b[39;00m exc:\n\u001b[1;32m     42\u001b[0m     ns: \u001b[38;5;28mstr\u001b[39m \u001b[38;5;241m=\u001b[39m config[CONF][CONFIG_KEY_CHECKPOINT_NS]\n",
      "File \u001b[0;32m/opt/conda/lib/python3.12/site-packages/langgraph/utils/runnable.py:546\u001b[0m, in \u001b[0;36mRunnableSeq.invoke\u001b[0;34m(self, input, config, **kwargs)\u001b[0m\n\u001b[1;32m    542\u001b[0m config \u001b[38;5;241m=\u001b[39m patch_config(\n\u001b[1;32m    543\u001b[0m     config, callbacks\u001b[38;5;241m=\u001b[39mrun_manager\u001b[38;5;241m.\u001b[39mget_child(\u001b[38;5;124mf\u001b[39m\u001b[38;5;124m\"\u001b[39m\u001b[38;5;124mseq:step:\u001b[39m\u001b[38;5;132;01m{\u001b[39;00mi\u001b[38;5;250m \u001b[39m\u001b[38;5;241m+\u001b[39m\u001b[38;5;250m \u001b[39m\u001b[38;5;241m1\u001b[39m\u001b[38;5;132;01m}\u001b[39;00m\u001b[38;5;124m\"\u001b[39m)\n\u001b[1;32m    544\u001b[0m )\n\u001b[1;32m    545\u001b[0m \u001b[38;5;28;01mif\u001b[39;00m i \u001b[38;5;241m==\u001b[39m \u001b[38;5;241m0\u001b[39m:\n\u001b[0;32m--> 546\u001b[0m     \u001b[38;5;28minput\u001b[39m \u001b[38;5;241m=\u001b[39m \u001b[43mstep\u001b[49m\u001b[38;5;241;43m.\u001b[39;49m\u001b[43minvoke\u001b[49m\u001b[43m(\u001b[49m\u001b[38;5;28;43minput\u001b[39;49m\u001b[43m,\u001b[49m\u001b[43m \u001b[49m\u001b[43mconfig\u001b[49m\u001b[43m,\u001b[49m\u001b[43m \u001b[49m\u001b[38;5;241;43m*\u001b[39;49m\u001b[38;5;241;43m*\u001b[39;49m\u001b[43mkwargs\u001b[49m\u001b[43m)\u001b[49m\n\u001b[1;32m    547\u001b[0m \u001b[38;5;28;01melse\u001b[39;00m:\n\u001b[1;32m    548\u001b[0m     \u001b[38;5;28minput\u001b[39m \u001b[38;5;241m=\u001b[39m step\u001b[38;5;241m.\u001b[39minvoke(\u001b[38;5;28minput\u001b[39m, config)\n",
      "File \u001b[0;32m/opt/conda/lib/python3.12/site-packages/langgraph/pregel/__init__.py:2142\u001b[0m, in \u001b[0;36mPregel.invoke\u001b[0;34m(self, input, config, stream_mode, output_keys, interrupt_before, interrupt_after, debug, **kwargs)\u001b[0m\n\u001b[1;32m   2140\u001b[0m \u001b[38;5;28;01melse\u001b[39;00m:\n\u001b[1;32m   2141\u001b[0m     chunks \u001b[38;5;241m=\u001b[39m []\n\u001b[0;32m-> 2142\u001b[0m \u001b[43m\u001b[49m\u001b[38;5;28;43;01mfor\u001b[39;49;00m\u001b[43m \u001b[49m\u001b[43mchunk\u001b[49m\u001b[43m \u001b[49m\u001b[38;5;129;43;01min\u001b[39;49;00m\u001b[43m \u001b[49m\u001b[38;5;28;43mself\u001b[39;49m\u001b[38;5;241;43m.\u001b[39;49m\u001b[43mstream\u001b[49m\u001b[43m(\u001b[49m\n\u001b[1;32m   2143\u001b[0m \u001b[43m    \u001b[49m\u001b[38;5;28;43minput\u001b[39;49m\u001b[43m,\u001b[49m\n\u001b[1;32m   2144\u001b[0m \u001b[43m    \u001b[49m\u001b[43mconfig\u001b[49m\u001b[43m,\u001b[49m\n\u001b[1;32m   2145\u001b[0m \u001b[43m    \u001b[49m\u001b[43mstream_mode\u001b[49m\u001b[38;5;241;43m=\u001b[39;49m\u001b[43mstream_mode\u001b[49m\u001b[43m,\u001b[49m\n\u001b[1;32m   2146\u001b[0m \u001b[43m    \u001b[49m\u001b[43moutput_keys\u001b[49m\u001b[38;5;241;43m=\u001b[39;49m\u001b[43moutput_keys\u001b[49m\u001b[43m,\u001b[49m\n\u001b[1;32m   2147\u001b[0m \u001b[43m    \u001b[49m\u001b[43minterrupt_before\u001b[49m\u001b[38;5;241;43m=\u001b[39;49m\u001b[43minterrupt_before\u001b[49m\u001b[43m,\u001b[49m\n\u001b[1;32m   2148\u001b[0m \u001b[43m    \u001b[49m\u001b[43minterrupt_after\u001b[49m\u001b[38;5;241;43m=\u001b[39;49m\u001b[43minterrupt_after\u001b[49m\u001b[43m,\u001b[49m\n\u001b[1;32m   2149\u001b[0m \u001b[43m    \u001b[49m\u001b[43mdebug\u001b[49m\u001b[38;5;241;43m=\u001b[39;49m\u001b[43mdebug\u001b[49m\u001b[43m,\u001b[49m\n\u001b[1;32m   2150\u001b[0m \u001b[43m    \u001b[49m\u001b[38;5;241;43m*\u001b[39;49m\u001b[38;5;241;43m*\u001b[39;49m\u001b[43mkwargs\u001b[49m\u001b[43m,\u001b[49m\n\u001b[1;32m   2151\u001b[0m \u001b[43m\u001b[49m\u001b[43m)\u001b[49m\u001b[43m:\u001b[49m\n\u001b[1;32m   2152\u001b[0m \u001b[43m    \u001b[49m\u001b[38;5;28;43;01mif\u001b[39;49;00m\u001b[43m \u001b[49m\u001b[43mstream_mode\u001b[49m\u001b[43m \u001b[49m\u001b[38;5;241;43m==\u001b[39;49m\u001b[43m \u001b[49m\u001b[38;5;124;43m\"\u001b[39;49m\u001b[38;5;124;43mvalues\u001b[39;49m\u001b[38;5;124;43m\"\u001b[39;49m\u001b[43m:\u001b[49m\n\u001b[1;32m   2153\u001b[0m \u001b[43m        \u001b[49m\u001b[43mlatest\u001b[49m\u001b[43m \u001b[49m\u001b[38;5;241;43m=\u001b[39;49m\u001b[43m \u001b[49m\u001b[43mchunk\u001b[49m\n",
      "File \u001b[0;32m/opt/conda/lib/python3.12/site-packages/langgraph/pregel/__init__.py:1741\u001b[0m, in \u001b[0;36mPregel.stream\u001b[0;34m(self, input, config, stream_mode, output_keys, interrupt_before, interrupt_after, debug, subgraphs)\u001b[0m\n\u001b[1;32m   1737\u001b[0m \u001b[38;5;28;01mif\u001b[39;00m \u001b[38;5;124m\"\u001b[39m\u001b[38;5;124mcustom\u001b[39m\u001b[38;5;124m\"\u001b[39m \u001b[38;5;129;01min\u001b[39;00m stream_modes:\n\u001b[1;32m   1738\u001b[0m     config[CONF][CONFIG_KEY_STREAM_WRITER] \u001b[38;5;241m=\u001b[39m \u001b[38;5;28;01mlambda\u001b[39;00m c: stream\u001b[38;5;241m.\u001b[39mput(\n\u001b[1;32m   1739\u001b[0m         ((), \u001b[38;5;124m\"\u001b[39m\u001b[38;5;124mcustom\u001b[39m\u001b[38;5;124m\"\u001b[39m, c)\n\u001b[1;32m   1740\u001b[0m     )\n\u001b[0;32m-> 1741\u001b[0m \u001b[38;5;28;01mwith\u001b[39;00m \u001b[43mSyncPregelLoop\u001b[49m\u001b[43m(\u001b[49m\n\u001b[1;32m   1742\u001b[0m \u001b[43m    \u001b[49m\u001b[38;5;28;43minput\u001b[39;49m\u001b[43m,\u001b[49m\n\u001b[1;32m   1743\u001b[0m \u001b[43m    \u001b[49m\u001b[43mstream\u001b[49m\u001b[38;5;241;43m=\u001b[39;49m\u001b[43mStreamProtocol\u001b[49m\u001b[43m(\u001b[49m\u001b[43mstream\u001b[49m\u001b[38;5;241;43m.\u001b[39;49m\u001b[43mput\u001b[49m\u001b[43m,\u001b[49m\u001b[43m \u001b[49m\u001b[43mstream_modes\u001b[49m\u001b[43m)\u001b[49m\u001b[43m,\u001b[49m\n\u001b[1;32m   1744\u001b[0m \u001b[43m    \u001b[49m\u001b[43mconfig\u001b[49m\u001b[38;5;241;43m=\u001b[39;49m\u001b[43mconfig\u001b[49m\u001b[43m,\u001b[49m\n\u001b[1;32m   1745\u001b[0m \u001b[43m    \u001b[49m\u001b[43mstore\u001b[49m\u001b[38;5;241;43m=\u001b[39;49m\u001b[43mstore\u001b[49m\u001b[43m,\u001b[49m\n\u001b[1;32m   1746\u001b[0m \u001b[43m    \u001b[49m\u001b[43mcheckpointer\u001b[49m\u001b[38;5;241;43m=\u001b[39;49m\u001b[43mcheckpointer\u001b[49m\u001b[43m,\u001b[49m\n\u001b[1;32m   1747\u001b[0m \u001b[43m    \u001b[49m\u001b[43mnodes\u001b[49m\u001b[38;5;241;43m=\u001b[39;49m\u001b[38;5;28;43mself\u001b[39;49m\u001b[38;5;241;43m.\u001b[39;49m\u001b[43mnodes\u001b[49m\u001b[43m,\u001b[49m\n\u001b[1;32m   1748\u001b[0m \u001b[43m    \u001b[49m\u001b[43mspecs\u001b[49m\u001b[38;5;241;43m=\u001b[39;49m\u001b[38;5;28;43mself\u001b[39;49m\u001b[38;5;241;43m.\u001b[39;49m\u001b[43mchannels\u001b[49m\u001b[43m,\u001b[49m\n\u001b[1;32m   1749\u001b[0m \u001b[43m    \u001b[49m\u001b[43moutput_keys\u001b[49m\u001b[38;5;241;43m=\u001b[39;49m\u001b[43moutput_keys\u001b[49m\u001b[43m,\u001b[49m\n\u001b[1;32m   1750\u001b[0m \u001b[43m    \u001b[49m\u001b[43mstream_keys\u001b[49m\u001b[38;5;241;43m=\u001b[39;49m\u001b[38;5;28;43mself\u001b[39;49m\u001b[38;5;241;43m.\u001b[39;49m\u001b[43mstream_channels_asis\u001b[49m\u001b[43m,\u001b[49m\n\u001b[1;32m   1751\u001b[0m \u001b[43m    \u001b[49m\u001b[43minterrupt_before\u001b[49m\u001b[38;5;241;43m=\u001b[39;49m\u001b[43minterrupt_before_\u001b[49m\u001b[43m,\u001b[49m\n\u001b[1;32m   1752\u001b[0m \u001b[43m    \u001b[49m\u001b[43minterrupt_after\u001b[49m\u001b[38;5;241;43m=\u001b[39;49m\u001b[43minterrupt_after_\u001b[49m\u001b[43m,\u001b[49m\n\u001b[1;32m   1753\u001b[0m \u001b[43m    \u001b[49m\u001b[43mmanager\u001b[49m\u001b[38;5;241;43m=\u001b[39;49m\u001b[43mrun_manager\u001b[49m\u001b[43m,\u001b[49m\n\u001b[1;32m   1754\u001b[0m \u001b[43m    \u001b[49m\u001b[43mdebug\u001b[49m\u001b[38;5;241;43m=\u001b[39;49m\u001b[43mdebug\u001b[49m\u001b[43m,\u001b[49m\n\u001b[1;32m   1755\u001b[0m \u001b[43m\u001b[49m\u001b[43m)\u001b[49m \u001b[38;5;28;01mas\u001b[39;00m loop:\n\u001b[1;32m   1756\u001b[0m     \u001b[38;5;66;03m# create runner\u001b[39;00m\n\u001b[1;32m   1757\u001b[0m     runner \u001b[38;5;241m=\u001b[39m PregelRunner(\n\u001b[1;32m   1758\u001b[0m         submit\u001b[38;5;241m=\u001b[39mloop\u001b[38;5;241m.\u001b[39msubmit,\n\u001b[1;32m   1759\u001b[0m         put_writes\u001b[38;5;241m=\u001b[39mloop\u001b[38;5;241m.\u001b[39mput_writes,\n\u001b[1;32m   1760\u001b[0m         schedule_task\u001b[38;5;241m=\u001b[39mloop\u001b[38;5;241m.\u001b[39maccept_push,\n\u001b[1;32m   1761\u001b[0m         node_finished\u001b[38;5;241m=\u001b[39mconfig[CONF]\u001b[38;5;241m.\u001b[39mget(CONFIG_KEY_NODE_FINISHED),\n\u001b[1;32m   1762\u001b[0m     )\n\u001b[1;32m   1763\u001b[0m     \u001b[38;5;66;03m# enable subgraph streaming\u001b[39;00m\n",
      "File \u001b[0;32m/opt/conda/lib/python3.12/site-packages/langgraph/pregel/loop.py:959\u001b[0m, in \u001b[0;36mSyncPregelLoop.__exit__\u001b[0;34m(self, exc_type, exc_value, traceback)\u001b[0m\n\u001b[1;32m    952\u001b[0m \u001b[38;5;28;01mdef\u001b[39;00m \u001b[38;5;21m__exit__\u001b[39m(\n\u001b[1;32m    953\u001b[0m     \u001b[38;5;28mself\u001b[39m,\n\u001b[1;32m    954\u001b[0m     exc_type: Optional[Type[\u001b[38;5;167;01mBaseException\u001b[39;00m]],\n\u001b[0;32m   (...)\u001b[0m\n\u001b[1;32m    957\u001b[0m ) \u001b[38;5;241m-\u001b[39m\u001b[38;5;241m>\u001b[39m Optional[\u001b[38;5;28mbool\u001b[39m]:\n\u001b[1;32m    958\u001b[0m     \u001b[38;5;66;03m# unwind stack\u001b[39;00m\n\u001b[0;32m--> 959\u001b[0m     \u001b[38;5;28;01mreturn\u001b[39;00m \u001b[38;5;28;43mself\u001b[39;49m\u001b[38;5;241;43m.\u001b[39;49m\u001b[43mstack\u001b[49m\u001b[38;5;241;43m.\u001b[39;49m\u001b[38;5;21;43m__exit__\u001b[39;49m\u001b[43m(\u001b[49m\u001b[43mexc_type\u001b[49m\u001b[43m,\u001b[49m\u001b[43m \u001b[49m\u001b[43mexc_value\u001b[49m\u001b[43m,\u001b[49m\u001b[43m \u001b[49m\u001b[43mtraceback\u001b[49m\u001b[43m)\u001b[49m\n",
      "File \u001b[0;32m/opt/conda/lib/python3.12/contextlib.py:610\u001b[0m, in \u001b[0;36mExitStack.__exit__\u001b[0;34m(self, *exc_details)\u001b[0m\n\u001b[1;32m    606\u001b[0m \u001b[38;5;28;01mtry\u001b[39;00m:\n\u001b[1;32m    607\u001b[0m     \u001b[38;5;66;03m# bare \"raise exc_details[1]\" replaces our carefully\u001b[39;00m\n\u001b[1;32m    608\u001b[0m     \u001b[38;5;66;03m# set-up context\u001b[39;00m\n\u001b[1;32m    609\u001b[0m     fixed_ctx \u001b[38;5;241m=\u001b[39m exc_details[\u001b[38;5;241m1\u001b[39m]\u001b[38;5;241m.\u001b[39m__context__\n\u001b[0;32m--> 610\u001b[0m     \u001b[38;5;28;01mraise\u001b[39;00m exc_details[\u001b[38;5;241m1\u001b[39m]\n\u001b[1;32m    611\u001b[0m \u001b[38;5;28;01mexcept\u001b[39;00m \u001b[38;5;167;01mBaseException\u001b[39;00m:\n\u001b[1;32m    612\u001b[0m     exc_details[\u001b[38;5;241m1\u001b[39m]\u001b[38;5;241m.\u001b[39m__context__ \u001b[38;5;241m=\u001b[39m fixed_ctx\n",
      "File \u001b[0;32m/opt/conda/lib/python3.12/contextlib.py:595\u001b[0m, in \u001b[0;36mExitStack.__exit__\u001b[0;34m(self, *exc_details)\u001b[0m\n\u001b[1;32m    593\u001b[0m \u001b[38;5;28;01massert\u001b[39;00m is_sync\n\u001b[1;32m    594\u001b[0m \u001b[38;5;28;01mtry\u001b[39;00m:\n\u001b[0;32m--> 595\u001b[0m     \u001b[38;5;28;01mif\u001b[39;00m \u001b[43mcb\u001b[49m\u001b[43m(\u001b[49m\u001b[38;5;241;43m*\u001b[39;49m\u001b[43mexc_details\u001b[49m\u001b[43m)\u001b[49m:\n\u001b[1;32m    596\u001b[0m         suppressed_exc \u001b[38;5;241m=\u001b[39m \u001b[38;5;28;01mTrue\u001b[39;00m\n\u001b[1;32m    597\u001b[0m         pending_raise \u001b[38;5;241m=\u001b[39m \u001b[38;5;28;01mFalse\u001b[39;00m\n",
      "File \u001b[0;32m/opt/conda/lib/python3.12/site-packages/langgraph/pregel/executor.py:120\u001b[0m, in \u001b[0;36mBackgroundExecutor.__exit__\u001b[0;34m(self, exc_type, exc_value, traceback)\u001b[0m\n\u001b[1;32m    118\u001b[0m     \u001b[38;5;28;01mcontinue\u001b[39;00m\n\u001b[1;32m    119\u001b[0m \u001b[38;5;28;01mtry\u001b[39;00m:\n\u001b[0;32m--> 120\u001b[0m     \u001b[43mtask\u001b[49m\u001b[38;5;241;43m.\u001b[39;49m\u001b[43mresult\u001b[49m\u001b[43m(\u001b[49m\u001b[43m)\u001b[49m\n\u001b[1;32m    121\u001b[0m \u001b[38;5;28;01mexcept\u001b[39;00m concurrent\u001b[38;5;241m.\u001b[39mfutures\u001b[38;5;241m.\u001b[39mCancelledError:\n\u001b[1;32m    122\u001b[0m     \u001b[38;5;28;01mpass\u001b[39;00m\n",
      "File \u001b[0;32m/opt/conda/lib/python3.12/concurrent/futures/_base.py:449\u001b[0m, in \u001b[0;36mFuture.result\u001b[0;34m(self, timeout)\u001b[0m\n\u001b[1;32m    447\u001b[0m     \u001b[38;5;28;01mraise\u001b[39;00m CancelledError()\n\u001b[1;32m    448\u001b[0m \u001b[38;5;28;01melif\u001b[39;00m \u001b[38;5;28mself\u001b[39m\u001b[38;5;241m.\u001b[39m_state \u001b[38;5;241m==\u001b[39m FINISHED:\n\u001b[0;32m--> 449\u001b[0m     \u001b[38;5;28;01mreturn\u001b[39;00m \u001b[38;5;28;43mself\u001b[39;49m\u001b[38;5;241;43m.\u001b[39;49m\u001b[43m__get_result\u001b[49m\u001b[43m(\u001b[49m\u001b[43m)\u001b[49m\n\u001b[1;32m    451\u001b[0m \u001b[38;5;28mself\u001b[39m\u001b[38;5;241m.\u001b[39m_condition\u001b[38;5;241m.\u001b[39mwait(timeout)\n\u001b[1;32m    453\u001b[0m \u001b[38;5;28;01mif\u001b[39;00m \u001b[38;5;28mself\u001b[39m\u001b[38;5;241m.\u001b[39m_state \u001b[38;5;129;01min\u001b[39;00m [CANCELLED, CANCELLED_AND_NOTIFIED]:\n",
      "File \u001b[0;32m/opt/conda/lib/python3.12/concurrent/futures/_base.py:401\u001b[0m, in \u001b[0;36mFuture.__get_result\u001b[0;34m(self)\u001b[0m\n\u001b[1;32m    399\u001b[0m \u001b[38;5;28;01mif\u001b[39;00m \u001b[38;5;28mself\u001b[39m\u001b[38;5;241m.\u001b[39m_exception:\n\u001b[1;32m    400\u001b[0m     \u001b[38;5;28;01mtry\u001b[39;00m:\n\u001b[0;32m--> 401\u001b[0m         \u001b[38;5;28;01mraise\u001b[39;00m \u001b[38;5;28mself\u001b[39m\u001b[38;5;241m.\u001b[39m_exception\n\u001b[1;32m    402\u001b[0m     \u001b[38;5;28;01mfinally\u001b[39;00m:\n\u001b[1;32m    403\u001b[0m         \u001b[38;5;66;03m# Break a reference cycle with the exception in self._exception\u001b[39;00m\n\u001b[1;32m    404\u001b[0m         \u001b[38;5;28mself\u001b[39m \u001b[38;5;241m=\u001b[39m \u001b[38;5;28;01mNone\u001b[39;00m\n",
      "File \u001b[0;32m/opt/conda/lib/python3.12/site-packages/langgraph/pregel/loop.py:884\u001b[0m, in \u001b[0;36mSyncPregelLoop._checkpointer_put_after_previous\u001b[0;34m(self, prev, config, checkpoint, metadata, new_versions)\u001b[0m\n\u001b[1;32m    882\u001b[0m \u001b[38;5;28;01mtry\u001b[39;00m:\n\u001b[1;32m    883\u001b[0m     \u001b[38;5;28;01mif\u001b[39;00m prev \u001b[38;5;129;01mis\u001b[39;00m \u001b[38;5;129;01mnot\u001b[39;00m \u001b[38;5;28;01mNone\u001b[39;00m:\n\u001b[0;32m--> 884\u001b[0m         \u001b[43mprev\u001b[49m\u001b[38;5;241;43m.\u001b[39;49m\u001b[43mresult\u001b[49m\u001b[43m(\u001b[49m\u001b[43m)\u001b[49m\n\u001b[1;32m    885\u001b[0m \u001b[38;5;28;01mfinally\u001b[39;00m:\n\u001b[1;32m    886\u001b[0m     cast(BaseCheckpointSaver, \u001b[38;5;28mself\u001b[39m\u001b[38;5;241m.\u001b[39mcheckpointer)\u001b[38;5;241m.\u001b[39mput(\n\u001b[1;32m    887\u001b[0m         config, checkpoint, metadata, new_versions\n\u001b[1;32m    888\u001b[0m     )\n",
      "File \u001b[0;32m/opt/conda/lib/python3.12/concurrent/futures/_base.py:449\u001b[0m, in \u001b[0;36mFuture.result\u001b[0;34m(self, timeout)\u001b[0m\n\u001b[1;32m    447\u001b[0m     \u001b[38;5;28;01mraise\u001b[39;00m CancelledError()\n\u001b[1;32m    448\u001b[0m \u001b[38;5;28;01melif\u001b[39;00m \u001b[38;5;28mself\u001b[39m\u001b[38;5;241m.\u001b[39m_state \u001b[38;5;241m==\u001b[39m FINISHED:\n\u001b[0;32m--> 449\u001b[0m     \u001b[38;5;28;01mreturn\u001b[39;00m \u001b[38;5;28;43mself\u001b[39;49m\u001b[38;5;241;43m.\u001b[39;49m\u001b[43m__get_result\u001b[49m\u001b[43m(\u001b[49m\u001b[43m)\u001b[49m\n\u001b[1;32m    451\u001b[0m \u001b[38;5;28mself\u001b[39m\u001b[38;5;241m.\u001b[39m_condition\u001b[38;5;241m.\u001b[39mwait(timeout)\n\u001b[1;32m    453\u001b[0m \u001b[38;5;28;01mif\u001b[39;00m \u001b[38;5;28mself\u001b[39m\u001b[38;5;241m.\u001b[39m_state \u001b[38;5;129;01min\u001b[39;00m [CANCELLED, CANCELLED_AND_NOTIFIED]:\n",
      "File \u001b[0;32m/opt/conda/lib/python3.12/concurrent/futures/_base.py:401\u001b[0m, in \u001b[0;36mFuture.__get_result\u001b[0;34m(self)\u001b[0m\n\u001b[1;32m    399\u001b[0m \u001b[38;5;28;01mif\u001b[39;00m \u001b[38;5;28mself\u001b[39m\u001b[38;5;241m.\u001b[39m_exception:\n\u001b[1;32m    400\u001b[0m     \u001b[38;5;28;01mtry\u001b[39;00m:\n\u001b[0;32m--> 401\u001b[0m         \u001b[38;5;28;01mraise\u001b[39;00m \u001b[38;5;28mself\u001b[39m\u001b[38;5;241m.\u001b[39m_exception\n\u001b[1;32m    402\u001b[0m     \u001b[38;5;28;01mfinally\u001b[39;00m:\n\u001b[1;32m    403\u001b[0m         \u001b[38;5;66;03m# Break a reference cycle with the exception in self._exception\u001b[39;00m\n\u001b[1;32m    404\u001b[0m         \u001b[38;5;28mself\u001b[39m \u001b[38;5;241m=\u001b[39m \u001b[38;5;28;01mNone\u001b[39;00m\n",
      "File \u001b[0;32m/opt/conda/lib/python3.12/site-packages/langgraph/pregel/executor.py:83\u001b[0m, in \u001b[0;36mBackgroundExecutor.done\u001b[0;34m(self, task)\u001b[0m\n\u001b[1;32m     81\u001b[0m \u001b[38;5;250m\u001b[39m\u001b[38;5;124;03m\"\"\"Remove the task from the tasks dict when it's done.\"\"\"\u001b[39;00m\n\u001b[1;32m     82\u001b[0m \u001b[38;5;28;01mtry\u001b[39;00m:\n\u001b[0;32m---> 83\u001b[0m     \u001b[43mtask\u001b[49m\u001b[38;5;241;43m.\u001b[39;49m\u001b[43mresult\u001b[49m\u001b[43m(\u001b[49m\u001b[43m)\u001b[49m\n\u001b[1;32m     84\u001b[0m \u001b[38;5;28;01mexcept\u001b[39;00m GraphBubbleUp:\n\u001b[1;32m     85\u001b[0m     \u001b[38;5;66;03m# This exception is an interruption signal, not an error\u001b[39;00m\n\u001b[1;32m     86\u001b[0m     \u001b[38;5;66;03m# so we don't want to re-raise it on exit\u001b[39;00m\n\u001b[1;32m     87\u001b[0m     \u001b[38;5;28mself\u001b[39m\u001b[38;5;241m.\u001b[39mtasks\u001b[38;5;241m.\u001b[39mpop(task)\n",
      "File \u001b[0;32m/opt/conda/lib/python3.12/concurrent/futures/_base.py:449\u001b[0m, in \u001b[0;36mFuture.result\u001b[0;34m(self, timeout)\u001b[0m\n\u001b[1;32m    447\u001b[0m     \u001b[38;5;28;01mraise\u001b[39;00m CancelledError()\n\u001b[1;32m    448\u001b[0m \u001b[38;5;28;01melif\u001b[39;00m \u001b[38;5;28mself\u001b[39m\u001b[38;5;241m.\u001b[39m_state \u001b[38;5;241m==\u001b[39m FINISHED:\n\u001b[0;32m--> 449\u001b[0m     \u001b[38;5;28;01mreturn\u001b[39;00m \u001b[38;5;28;43mself\u001b[39;49m\u001b[38;5;241;43m.\u001b[39;49m\u001b[43m__get_result\u001b[49m\u001b[43m(\u001b[49m\u001b[43m)\u001b[49m\n\u001b[1;32m    451\u001b[0m \u001b[38;5;28mself\u001b[39m\u001b[38;5;241m.\u001b[39m_condition\u001b[38;5;241m.\u001b[39mwait(timeout)\n\u001b[1;32m    453\u001b[0m \u001b[38;5;28;01mif\u001b[39;00m \u001b[38;5;28mself\u001b[39m\u001b[38;5;241m.\u001b[39m_state \u001b[38;5;129;01min\u001b[39;00m [CANCELLED, CANCELLED_AND_NOTIFIED]:\n",
      "File \u001b[0;32m/opt/conda/lib/python3.12/concurrent/futures/_base.py:401\u001b[0m, in \u001b[0;36mFuture.__get_result\u001b[0;34m(self)\u001b[0m\n\u001b[1;32m    399\u001b[0m \u001b[38;5;28;01mif\u001b[39;00m \u001b[38;5;28mself\u001b[39m\u001b[38;5;241m.\u001b[39m_exception:\n\u001b[1;32m    400\u001b[0m     \u001b[38;5;28;01mtry\u001b[39;00m:\n\u001b[0;32m--> 401\u001b[0m         \u001b[38;5;28;01mraise\u001b[39;00m \u001b[38;5;28mself\u001b[39m\u001b[38;5;241m.\u001b[39m_exception\n\u001b[1;32m    402\u001b[0m     \u001b[38;5;28;01mfinally\u001b[39;00m:\n\u001b[1;32m    403\u001b[0m         \u001b[38;5;66;03m# Break a reference cycle with the exception in self._exception\u001b[39;00m\n\u001b[1;32m    404\u001b[0m         \u001b[38;5;28mself\u001b[39m \u001b[38;5;241m=\u001b[39m \u001b[38;5;28;01mNone\u001b[39;00m\n",
      "File \u001b[0;32m/opt/conda/lib/python3.12/concurrent/futures/thread.py:58\u001b[0m, in \u001b[0;36m_WorkItem.run\u001b[0;34m(self)\u001b[0m\n\u001b[1;32m     55\u001b[0m     \u001b[38;5;28;01mreturn\u001b[39;00m\n\u001b[1;32m     57\u001b[0m \u001b[38;5;28;01mtry\u001b[39;00m:\n\u001b[0;32m---> 58\u001b[0m     result \u001b[38;5;241m=\u001b[39m \u001b[38;5;28;43mself\u001b[39;49m\u001b[38;5;241;43m.\u001b[39;49m\u001b[43mfn\u001b[49m\u001b[43m(\u001b[49m\u001b[38;5;241;43m*\u001b[39;49m\u001b[38;5;28;43mself\u001b[39;49m\u001b[38;5;241;43m.\u001b[39;49m\u001b[43margs\u001b[49m\u001b[43m,\u001b[49m\u001b[43m \u001b[49m\u001b[38;5;241;43m*\u001b[39;49m\u001b[38;5;241;43m*\u001b[39;49m\u001b[38;5;28;43mself\u001b[39;49m\u001b[38;5;241;43m.\u001b[39;49m\u001b[43mkwargs\u001b[49m\u001b[43m)\u001b[49m\n\u001b[1;32m     59\u001b[0m \u001b[38;5;28;01mexcept\u001b[39;00m \u001b[38;5;167;01mBaseException\u001b[39;00m \u001b[38;5;28;01mas\u001b[39;00m exc:\n\u001b[1;32m     60\u001b[0m     \u001b[38;5;28mself\u001b[39m\u001b[38;5;241m.\u001b[39mfuture\u001b[38;5;241m.\u001b[39mset_exception(exc)\n",
      "File \u001b[0;32m/opt/conda/lib/python3.12/site-packages/langgraph/pregel/loop.py:886\u001b[0m, in \u001b[0;36mSyncPregelLoop._checkpointer_put_after_previous\u001b[0;34m(self, prev, config, checkpoint, metadata, new_versions)\u001b[0m\n\u001b[1;32m    884\u001b[0m         prev\u001b[38;5;241m.\u001b[39mresult()\n\u001b[1;32m    885\u001b[0m \u001b[38;5;28;01mfinally\u001b[39;00m:\n\u001b[0;32m--> 886\u001b[0m     \u001b[43mcast\u001b[49m\u001b[43m(\u001b[49m\u001b[43mBaseCheckpointSaver\u001b[49m\u001b[43m,\u001b[49m\u001b[43m \u001b[49m\u001b[38;5;28;43mself\u001b[39;49m\u001b[38;5;241;43m.\u001b[39;49m\u001b[43mcheckpointer\u001b[49m\u001b[43m)\u001b[49m\u001b[38;5;241;43m.\u001b[39;49m\u001b[43mput\u001b[49m\u001b[43m(\u001b[49m\n\u001b[1;32m    887\u001b[0m \u001b[43m        \u001b[49m\u001b[43mconfig\u001b[49m\u001b[43m,\u001b[49m\u001b[43m \u001b[49m\u001b[43mcheckpoint\u001b[49m\u001b[43m,\u001b[49m\u001b[43m \u001b[49m\u001b[43mmetadata\u001b[49m\u001b[43m,\u001b[49m\u001b[43m \u001b[49m\u001b[43mnew_versions\u001b[49m\n\u001b[1;32m    888\u001b[0m \u001b[43m    \u001b[49m\u001b[43m)\u001b[49m\n",
      "File \u001b[0;32m/opt/conda/lib/python3.12/site-packages/langgraph/checkpoint/sqlite/__init__.py:404\u001b[0m, in \u001b[0;36mSqliteSaver.put\u001b[0;34m(self, config, checkpoint, metadata, new_versions)\u001b[0m\n\u001b[1;32m    400\u001b[0m type_, serialized_checkpoint \u001b[38;5;241m=\u001b[39m \u001b[38;5;28mself\u001b[39m\u001b[38;5;241m.\u001b[39mserde\u001b[38;5;241m.\u001b[39mdumps_typed(checkpoint)\n\u001b[1;32m    401\u001b[0m serialized_metadata \u001b[38;5;241m=\u001b[39m \u001b[38;5;28mself\u001b[39m\u001b[38;5;241m.\u001b[39mjsonplus_serde\u001b[38;5;241m.\u001b[39mdumps(\n\u001b[1;32m    402\u001b[0m     get_checkpoint_metadata(config, metadata)\n\u001b[1;32m    403\u001b[0m )\n\u001b[0;32m--> 404\u001b[0m \u001b[38;5;28;01mwith\u001b[39;00m \u001b[38;5;28mself\u001b[39m\u001b[38;5;241m.\u001b[39mcursor() \u001b[38;5;28;01mas\u001b[39;00m cur:\n\u001b[1;32m    405\u001b[0m     cur\u001b[38;5;241m.\u001b[39mexecute(\n\u001b[1;32m    406\u001b[0m         \u001b[38;5;124m\"\u001b[39m\u001b[38;5;124mINSERT OR REPLACE INTO checkpoints (thread_id, checkpoint_ns, checkpoint_id, parent_checkpoint_id, type, checkpoint, metadata) VALUES (?, ?, ?, ?, ?, ?, ?)\u001b[39m\u001b[38;5;124m\"\u001b[39m,\n\u001b[1;32m    407\u001b[0m         (\n\u001b[0;32m   (...)\u001b[0m\n\u001b[1;32m    415\u001b[0m         ),\n\u001b[1;32m    416\u001b[0m     )\n\u001b[1;32m    417\u001b[0m \u001b[38;5;28;01mreturn\u001b[39;00m {\n\u001b[1;32m    418\u001b[0m     \u001b[38;5;124m\"\u001b[39m\u001b[38;5;124mconfigurable\u001b[39m\u001b[38;5;124m\"\u001b[39m: {\n\u001b[1;32m    419\u001b[0m         \u001b[38;5;124m\"\u001b[39m\u001b[38;5;124mthread_id\u001b[39m\u001b[38;5;124m\"\u001b[39m: thread_id,\n\u001b[0;32m   (...)\u001b[0m\n\u001b[1;32m    422\u001b[0m     }\n\u001b[1;32m    423\u001b[0m }\n",
      "File \u001b[0;32m/opt/conda/lib/python3.12/contextlib.py:137\u001b[0m, in \u001b[0;36m_GeneratorContextManager.__enter__\u001b[0;34m(self)\u001b[0m\n\u001b[1;32m    135\u001b[0m \u001b[38;5;28;01mdel\u001b[39;00m \u001b[38;5;28mself\u001b[39m\u001b[38;5;241m.\u001b[39margs, \u001b[38;5;28mself\u001b[39m\u001b[38;5;241m.\u001b[39mkwds, \u001b[38;5;28mself\u001b[39m\u001b[38;5;241m.\u001b[39mfunc\n\u001b[1;32m    136\u001b[0m \u001b[38;5;28;01mtry\u001b[39;00m:\n\u001b[0;32m--> 137\u001b[0m     \u001b[38;5;28;01mreturn\u001b[39;00m \u001b[38;5;28;43mnext\u001b[39;49m\u001b[43m(\u001b[49m\u001b[38;5;28;43mself\u001b[39;49m\u001b[38;5;241;43m.\u001b[39;49m\u001b[43mgen\u001b[49m\u001b[43m)\u001b[49m\n\u001b[1;32m    138\u001b[0m \u001b[38;5;28;01mexcept\u001b[39;00m \u001b[38;5;167;01mStopIteration\u001b[39;00m:\n\u001b[1;32m    139\u001b[0m     \u001b[38;5;28;01mraise\u001b[39;00m \u001b[38;5;167;01mRuntimeError\u001b[39;00m(\u001b[38;5;124m\"\u001b[39m\u001b[38;5;124mgenerator didn\u001b[39m\u001b[38;5;124m'\u001b[39m\u001b[38;5;124mt yield\u001b[39m\u001b[38;5;124m\"\u001b[39m) \u001b[38;5;28;01mfrom\u001b[39;00m \u001b[38;5;28;01mNone\u001b[39;00m\n",
      "File \u001b[0;32m/opt/conda/lib/python3.12/site-packages/langgraph/checkpoint/sqlite/__init__.py:170\u001b[0m, in \u001b[0;36mSqliteSaver.cursor\u001b[0;34m(self, transaction)\u001b[0m\n\u001b[1;32m    168\u001b[0m \u001b[38;5;28;01mwith\u001b[39;00m \u001b[38;5;28mself\u001b[39m\u001b[38;5;241m.\u001b[39mlock:\n\u001b[1;32m    169\u001b[0m     \u001b[38;5;28mself\u001b[39m\u001b[38;5;241m.\u001b[39msetup()\n\u001b[0;32m--> 170\u001b[0m     cur \u001b[38;5;241m=\u001b[39m \u001b[38;5;28;43mself\u001b[39;49m\u001b[38;5;241;43m.\u001b[39;49m\u001b[43mconn\u001b[49m\u001b[38;5;241;43m.\u001b[39;49m\u001b[43mcursor\u001b[49m\u001b[43m(\u001b[49m\u001b[43m)\u001b[49m\n\u001b[1;32m    171\u001b[0m     \u001b[38;5;28;01mtry\u001b[39;00m:\n\u001b[1;32m    172\u001b[0m         \u001b[38;5;28;01myield\u001b[39;00m cur\n",
      "\u001b[0;31mProgrammingError\u001b[0m: SQLite objects created in a thread can only be used in that same thread. The object was created in thread id 129921285633472 and this is thread id 129920317507264.",
      "\u001b[0mDuring task with name 'topic_analyser' and id '3a8b08db-fb87-cbf6-f598-97379a37187d'"
     ]
    }
   ],
   "source": [
    "# sync\n",
    "for event in graph.stream({\"goal\": \"present Streameye as a reliable partner for process optimisation, comparing it to regular asset delivery processes\",\n",
    "                       \"company_profile\": company_profile,\n",
    "                       \"max_questions\": 2,\n",
    "                       \"previous_articles\": articles,\n",
    "                       \"usps\": usps\n",
    "                      }, config=thread, stream_mode=\"updates\"):\n",
    "    print(event)"
   ]
  },
  {
   "cell_type": "markdown",
   "id": "5d930f94-1d4f-4613-96bf-775a4c0269c3",
   "metadata": {},
   "source": [
    "### Selecting the report\n",
    "\n",
    "Below is code snippet for selecting the report index as `selected_report`"
   ]
  },
  {
   "cell_type": "code",
   "execution_count": 40,
   "id": "4bd044f0-355a-4753-a283-792eb85f9eaf",
   "metadata": {
    "collapsed": true,
    "jupyter": {
     "outputs_hidden": true
    }
   },
   "outputs": [
    {
     "name": "stdout",
     "output_type": "stream",
     "text": [
      "0. Title: From User-Generated Content to Branded Masterpieces: How Retailers Can Leverage TikTok for Digital Advertising\n",
      "\n",
      "Here is the plan:\n",
      "Here is a conspect of the conversation between Suzan and the marketing expert:\n",
      "\n",
      "**Summary:**\n",
      "\n",
      "The conversation revolves around the current trends in using TikTok for digital advertising, specifically focusing on user-generated content (UGC) and branded masterpieces. The expert highlights that UGC has become a powerful tool for retailers to create authentic and engaging ad campaigns, but creating effective UGC can be challenging due to scaling and consistency issues. Additionally, retailers face pain points such as creating high-quality, branded content that resonates with their target audience.\n",
      "\n",
      "The expert suggests that Streameye's templated video solution can help retailers overcome these challenges by providing pre-designed templates that can be customized with their own branding and messaging. This can save retailers time and resources while ensuring consistency across all ad campaigns.\n",
      "\n",
      "**Plan for the blog post:**\n",
      "\n",
      "Here are 10 bullet points outlining how the blog article will achieve its goal:\n",
      "\n",
      "* **Introduction:** Introduce the concept of user-generated content (UGC) on TikTok and its importance in digital advertising.\n",
      "* **Current trends:** Discuss the latest TikTok Advertising Trends report, highlighting the increasing importance of UGC and AI-powered personalized customer experiences.\n",
      "* **Pain points:** Identify common pain points retailers face when creating effective ad campaigns on TikTok, such as creating content that resonates with their target audience and maintaining consistency.\n",
      "* **Streameye's solution:** Introduce Streameye's templated video solution as a way to overcome these challenges by providing pre-designed templates that can be customized with branding and messaging.\n",
      "* **Measuring effectiveness:** Discuss key metrics and KPIs retailers should track to measure the effectiveness of their TikTok ad campaigns, such as CPI, CPM, engagement rates, reach, impressions, clicks, conversions, and ROAS.\n",
      "* **Case studies:** Highlight successful retail brands on TikTok that have leveraged UGC and templated videos to drive engagement and sales, such as Fashion Nova and Sephora.\n",
      "* **Benefits of Streameye's solution:** Emphasize how Streameye's templated video solution can help retailers save time and resources while ensuring consistency across all ad campaigns.\n",
      "* **Best practices:** Provide tips for retailers on how to create effective UGC and branded content on TikTok, such as adapting strategies, setting measurable goals, and leveraging influencers.\n",
      "* **Conclusion:** Summarize the importance of UGC and branded masterpieces in digital advertising and highlight Streameye's templated video solution as a way to overcome common pain points.\n",
      "* **Call-to-action:** Encourage retailers to explore Streameye's solution and start creating high-quality, branded content that resonates with their target audience on TikTok.\n",
      "\n",
      "Choose index to select report\n",
      "1. Title: The Rise of DIY Ads: How Retailers Can Tap into TikTok's Creative Potential and Boost Their Digital Advertising Efforts\n",
      "\n",
      "Here is the plan:\n",
      "Here's a conspect of the conversation and a plan for the blog post:\n",
      "\n",
      "**Conspect:**\n",
      "\n",
      "The rise of DIY ads on TikTok is an exciting trend for retailers looking to boost their digital advertising efforts. According to recent reports, many retailers are struggling with creating effective ad campaigns on the platform due to a lack of creative resources and expertise. One common pain point is the need for high-quality video content that resonates with TikTok's younger audience. Streameye's toolset can help alleviate these challenges by providing retailers with branded templated videos that can be easily customized to fit their brand identity.\n",
      "\n",
      "Retailers are finding success with short-form videos that are visually engaging and authentic, using catchy music and text overlays is still a winning strategy for capturing users' attention. However, experimenting with other formats like interactive ads and live streaming can also make ads feel more relevant and engaging to TikTok users.\n",
      "\n",
      "**Plan for the blog post:**\n",
      "\n",
      "Here's a 10-point plan for the blog post:\n",
      "\n",
      "* **Introduction**: Introduce the concept of DIY ads on TikTok and its growing popularity among retailers.\n",
      "* **The challenges of creating effective ad campaigns on TikTok**: Discuss the common pain points that retailers face when trying to create effective ad campaigns on the platform, such as lack of creative resources and expertise.\n",
      "* **The importance of high-quality video content**: Explain why high-quality video content is crucial for resonating with TikTok's younger audience.\n",
      "* **How Streameye's toolset can help**: Introduce Streameye's toolset and how it provides retailers with branded templated videos that can be easily customized to fit their brand identity.\n",
      "* **Types of DIY ads performing well on TikTok**: Discuss the types of DIY ads that are performing well on TikTok, such as short-form videos with catchy music and text overlays.\n",
      "* **Creative strategies for maximizing reach and engagement**: Provide insights on creative strategies for maximizing reach and engagement on TikTok, such as experimenting with interactive ads and live streaming.\n",
      "* **The role of awareness category on TikTok**: Explain the importance of the Awareness category on TikTok and how it can help retailers increase brand awareness and expand their reach on the platform.\n",
      "* **How to create high-quality branded content**: Provide tips on how retailers can create high-quality, branded content that resonates with TikTok users.\n",
      "* **Case studies or examples**: Include case studies or examples of retailers who have successfully used DIY ads on TikTok to boost their digital advertising efforts.\n",
      "* **Conclusion**: Summarize the key takeaways and emphasize the benefits of using Streameye's toolset for creating effective ad campaigns on TikTok.\n",
      "\n",
      "Choose index to select report\n"
     ]
    },
    {
     "name": "stdin",
     "output_type": "stream",
     "text": [
      "Select from: 0, 1 =>  0\n"
     ]
    }
   ],
   "source": [
    "current_state = await graph.aget_state(config=thread)\n",
    "reports = current_state.values[\"reports\"]\n",
    "\n",
    "if len(reports) == 0:\n",
    "    raise ValueError(\"Reports are not generated, rerun the App!\")\n",
    "\n",
    "for i, report in enumerate(reports):\n",
    "    print(f\"{i}. Title: {report[\"title\"]}\\n\\nHere is the plan:\\n{report[\"report_plan\"]}\\n\\nChoose index to select report\")\n",
    "valid_choices = [str(i) for i in range(len(reports))]\n",
    "indexes = ', '.join(valid_choices)\n",
    "\n",
    "invalid = True\n",
    "while invalid:\n",
    "    chosen = input(f\"Select from: {indexes} => \")\n",
    "    if chosen in valid_choices:\n",
    "        invalid = False\n",
    "    else:\n",
    "        print(\"Select form valid indexes\")\n",
    "\n",
    "\n",
    "#     if len(reports) == 0:\n",
    "#         raise ValueError(\"Reports are not generated, rerun the App!\")\n",
    "\n",
    "#     for i, report in enumerate(reports):\n",
    "#         print(f\"{i}. Title: {report.title}\\n\\nHere is the plan:\\n{report.report_plan}\\n\\nChoose index to select report\")\n",
    "#     valid_choices = [str(i) for i in range(len(reports))]\n",
    "#     indexes = ', '.join(valid_choices)\n",
    "#     invalid = True\n",
    "#     while invalid:\n",
    "#         chosen = input(f\"Select from: {indexes} => \")\n",
    "#         if chosen in valid_choices:\n",
    "#             invalid = False\n",
    "#         else:\n",
    "#             print(\"Select form valid indexes\")\n",
    "    \n",
    "#     return {\"selected_report\": reports[chosen]}"
   ]
  },
  {
   "cell_type": "code",
   "execution_count": 41,
   "id": "9222554b-5e84-46eb-8539-5b5af49c35b4",
   "metadata": {},
   "outputs": [],
   "source": [
    "state_config = current_state.config\n",
    "\n",
    "updated_state = await graph.aupdate_state(\n",
    "            state_config,\n",
    "            {\"selected_report\": reports[int(chosen)] },\n",
    "            as_node=\"human_decision_which_topic\"\n",
    "        )\n"
   ]
  },
  {
   "cell_type": "code",
   "execution_count": 56,
   "id": "c83bd3ff-6cd1-4e97-8691-6bd47aed9ca3",
   "metadata": {},
   "outputs": [],
   "source": [
    "history =  [state async for state in graph.aget_state_history(config=thread)]"
   ]
  },
  {
   "cell_type": "code",
   "execution_count": null,
   "id": "66eb422c-bbff-4e71-9273-c498044eaec8",
   "metadata": {},
   "outputs": [],
   "source": []
  },
  {
   "cell_type": "code",
   "execution_count": 68,
   "id": "28caff8e-31da-4fbc-9e08-bd4952b7918c",
   "metadata": {
    "collapsed": true,
    "jupyter": {
     "outputs_hidden": true
    }
   },
   "outputs": [
    {
     "ename": "AuthenticationError",
     "evalue": "Error code: 401 - {'error': {'message': 'Incorrect API key provided: k-proj-Q*******************************************************************************************************************************************************SPYA. You can find your API key at https://platform.openai.com/account/api-keys.', 'type': 'invalid_request_error', 'param': None, 'code': 'invalid_api_key'}}",
     "output_type": "error",
     "traceback": [
      "\u001b[0;31m---------------------------------------------------------------------------\u001b[0m",
      "\u001b[0;31mAuthenticationError\u001b[0m                       Traceback (most recent call last)",
      "Cell \u001b[0;32mIn[68], line 1\u001b[0m\n\u001b[0;32m----> 1\u001b[0m result \u001b[38;5;241m=\u001b[39m \u001b[43mopen_ai_llm_mini\u001b[49m\u001b[38;5;241;43m.\u001b[39;49m\u001b[43minvoke\u001b[49m\u001b[43m(\u001b[49m\u001b[43m[\u001b[49m\u001b[43mHumanMessage\u001b[49m\u001b[43m(\u001b[49m\u001b[38;5;124;43m\"\u001b[39;49m\u001b[38;5;124;43mHi there!\u001b[39;49m\u001b[38;5;124;43m\"\u001b[39;49m\u001b[43m)\u001b[49m\u001b[43m]\u001b[49m\u001b[43m)\u001b[49m\n",
      "File \u001b[0;32m/opt/conda/lib/python3.12/site-packages/langchain_core/language_models/chat_models.py:284\u001b[0m, in \u001b[0;36mBaseChatModel.invoke\u001b[0;34m(self, input, config, stop, **kwargs)\u001b[0m\n\u001b[1;32m    273\u001b[0m \u001b[38;5;28;01mdef\u001b[39;00m \u001b[38;5;21minvoke\u001b[39m(\n\u001b[1;32m    274\u001b[0m     \u001b[38;5;28mself\u001b[39m,\n\u001b[1;32m    275\u001b[0m     \u001b[38;5;28minput\u001b[39m: LanguageModelInput,\n\u001b[0;32m   (...)\u001b[0m\n\u001b[1;32m    279\u001b[0m     \u001b[38;5;241m*\u001b[39m\u001b[38;5;241m*\u001b[39mkwargs: Any,\n\u001b[1;32m    280\u001b[0m ) \u001b[38;5;241m-\u001b[39m\u001b[38;5;241m>\u001b[39m BaseMessage:\n\u001b[1;32m    281\u001b[0m     config \u001b[38;5;241m=\u001b[39m ensure_config(config)\n\u001b[1;32m    282\u001b[0m     \u001b[38;5;28;01mreturn\u001b[39;00m cast(\n\u001b[1;32m    283\u001b[0m         ChatGeneration,\n\u001b[0;32m--> 284\u001b[0m         \u001b[38;5;28;43mself\u001b[39;49m\u001b[38;5;241;43m.\u001b[39;49m\u001b[43mgenerate_prompt\u001b[49m\u001b[43m(\u001b[49m\n\u001b[1;32m    285\u001b[0m \u001b[43m            \u001b[49m\u001b[43m[\u001b[49m\u001b[38;5;28;43mself\u001b[39;49m\u001b[38;5;241;43m.\u001b[39;49m\u001b[43m_convert_input\u001b[49m\u001b[43m(\u001b[49m\u001b[38;5;28;43minput\u001b[39;49m\u001b[43m)\u001b[49m\u001b[43m]\u001b[49m\u001b[43m,\u001b[49m\n\u001b[1;32m    286\u001b[0m \u001b[43m            \u001b[49m\u001b[43mstop\u001b[49m\u001b[38;5;241;43m=\u001b[39;49m\u001b[43mstop\u001b[49m\u001b[43m,\u001b[49m\n\u001b[1;32m    287\u001b[0m \u001b[43m            \u001b[49m\u001b[43mcallbacks\u001b[49m\u001b[38;5;241;43m=\u001b[39;49m\u001b[43mconfig\u001b[49m\u001b[38;5;241;43m.\u001b[39;49m\u001b[43mget\u001b[49m\u001b[43m(\u001b[49m\u001b[38;5;124;43m\"\u001b[39;49m\u001b[38;5;124;43mcallbacks\u001b[39;49m\u001b[38;5;124;43m\"\u001b[39;49m\u001b[43m)\u001b[49m\u001b[43m,\u001b[49m\n\u001b[1;32m    288\u001b[0m \u001b[43m            \u001b[49m\u001b[43mtags\u001b[49m\u001b[38;5;241;43m=\u001b[39;49m\u001b[43mconfig\u001b[49m\u001b[38;5;241;43m.\u001b[39;49m\u001b[43mget\u001b[49m\u001b[43m(\u001b[49m\u001b[38;5;124;43m\"\u001b[39;49m\u001b[38;5;124;43mtags\u001b[39;49m\u001b[38;5;124;43m\"\u001b[39;49m\u001b[43m)\u001b[49m\u001b[43m,\u001b[49m\n\u001b[1;32m    289\u001b[0m \u001b[43m            \u001b[49m\u001b[43mmetadata\u001b[49m\u001b[38;5;241;43m=\u001b[39;49m\u001b[43mconfig\u001b[49m\u001b[38;5;241;43m.\u001b[39;49m\u001b[43mget\u001b[49m\u001b[43m(\u001b[49m\u001b[38;5;124;43m\"\u001b[39;49m\u001b[38;5;124;43mmetadata\u001b[39;49m\u001b[38;5;124;43m\"\u001b[39;49m\u001b[43m)\u001b[49m\u001b[43m,\u001b[49m\n\u001b[1;32m    290\u001b[0m \u001b[43m            \u001b[49m\u001b[43mrun_name\u001b[49m\u001b[38;5;241;43m=\u001b[39;49m\u001b[43mconfig\u001b[49m\u001b[38;5;241;43m.\u001b[39;49m\u001b[43mget\u001b[49m\u001b[43m(\u001b[49m\u001b[38;5;124;43m\"\u001b[39;49m\u001b[38;5;124;43mrun_name\u001b[39;49m\u001b[38;5;124;43m\"\u001b[39;49m\u001b[43m)\u001b[49m\u001b[43m,\u001b[49m\n\u001b[1;32m    291\u001b[0m \u001b[43m            \u001b[49m\u001b[43mrun_id\u001b[49m\u001b[38;5;241;43m=\u001b[39;49m\u001b[43mconfig\u001b[49m\u001b[38;5;241;43m.\u001b[39;49m\u001b[43mpop\u001b[49m\u001b[43m(\u001b[49m\u001b[38;5;124;43m\"\u001b[39;49m\u001b[38;5;124;43mrun_id\u001b[39;49m\u001b[38;5;124;43m\"\u001b[39;49m\u001b[43m,\u001b[49m\u001b[43m \u001b[49m\u001b[38;5;28;43;01mNone\u001b[39;49;00m\u001b[43m)\u001b[49m\u001b[43m,\u001b[49m\n\u001b[1;32m    292\u001b[0m \u001b[43m            \u001b[49m\u001b[38;5;241;43m*\u001b[39;49m\u001b[38;5;241;43m*\u001b[39;49m\u001b[43mkwargs\u001b[49m\u001b[43m,\u001b[49m\n\u001b[1;32m    293\u001b[0m \u001b[43m        \u001b[49m\u001b[43m)\u001b[49m\u001b[38;5;241m.\u001b[39mgenerations[\u001b[38;5;241m0\u001b[39m][\u001b[38;5;241m0\u001b[39m],\n\u001b[1;32m    294\u001b[0m     )\u001b[38;5;241m.\u001b[39mmessage\n",
      "File \u001b[0;32m/opt/conda/lib/python3.12/site-packages/langchain_core/language_models/chat_models.py:860\u001b[0m, in \u001b[0;36mBaseChatModel.generate_prompt\u001b[0;34m(self, prompts, stop, callbacks, **kwargs)\u001b[0m\n\u001b[1;32m    852\u001b[0m \u001b[38;5;28;01mdef\u001b[39;00m \u001b[38;5;21mgenerate_prompt\u001b[39m(\n\u001b[1;32m    853\u001b[0m     \u001b[38;5;28mself\u001b[39m,\n\u001b[1;32m    854\u001b[0m     prompts: \u001b[38;5;28mlist\u001b[39m[PromptValue],\n\u001b[0;32m   (...)\u001b[0m\n\u001b[1;32m    857\u001b[0m     \u001b[38;5;241m*\u001b[39m\u001b[38;5;241m*\u001b[39mkwargs: Any,\n\u001b[1;32m    858\u001b[0m ) \u001b[38;5;241m-\u001b[39m\u001b[38;5;241m>\u001b[39m LLMResult:\n\u001b[1;32m    859\u001b[0m     prompt_messages \u001b[38;5;241m=\u001b[39m [p\u001b[38;5;241m.\u001b[39mto_messages() \u001b[38;5;28;01mfor\u001b[39;00m p \u001b[38;5;129;01min\u001b[39;00m prompts]\n\u001b[0;32m--> 860\u001b[0m     \u001b[38;5;28;01mreturn\u001b[39;00m \u001b[38;5;28;43mself\u001b[39;49m\u001b[38;5;241;43m.\u001b[39;49m\u001b[43mgenerate\u001b[49m\u001b[43m(\u001b[49m\u001b[43mprompt_messages\u001b[49m\u001b[43m,\u001b[49m\u001b[43m \u001b[49m\u001b[43mstop\u001b[49m\u001b[38;5;241;43m=\u001b[39;49m\u001b[43mstop\u001b[49m\u001b[43m,\u001b[49m\u001b[43m \u001b[49m\u001b[43mcallbacks\u001b[49m\u001b[38;5;241;43m=\u001b[39;49m\u001b[43mcallbacks\u001b[49m\u001b[43m,\u001b[49m\u001b[43m \u001b[49m\u001b[38;5;241;43m*\u001b[39;49m\u001b[38;5;241;43m*\u001b[39;49m\u001b[43mkwargs\u001b[49m\u001b[43m)\u001b[49m\n",
      "File \u001b[0;32m/opt/conda/lib/python3.12/site-packages/langchain_core/language_models/chat_models.py:690\u001b[0m, in \u001b[0;36mBaseChatModel.generate\u001b[0;34m(self, messages, stop, callbacks, tags, metadata, run_name, run_id, **kwargs)\u001b[0m\n\u001b[1;32m    687\u001b[0m \u001b[38;5;28;01mfor\u001b[39;00m i, m \u001b[38;5;129;01min\u001b[39;00m \u001b[38;5;28menumerate\u001b[39m(messages):\n\u001b[1;32m    688\u001b[0m     \u001b[38;5;28;01mtry\u001b[39;00m:\n\u001b[1;32m    689\u001b[0m         results\u001b[38;5;241m.\u001b[39mappend(\n\u001b[0;32m--> 690\u001b[0m             \u001b[38;5;28;43mself\u001b[39;49m\u001b[38;5;241;43m.\u001b[39;49m\u001b[43m_generate_with_cache\u001b[49m\u001b[43m(\u001b[49m\n\u001b[1;32m    691\u001b[0m \u001b[43m                \u001b[49m\u001b[43mm\u001b[49m\u001b[43m,\u001b[49m\n\u001b[1;32m    692\u001b[0m \u001b[43m                \u001b[49m\u001b[43mstop\u001b[49m\u001b[38;5;241;43m=\u001b[39;49m\u001b[43mstop\u001b[49m\u001b[43m,\u001b[49m\n\u001b[1;32m    693\u001b[0m \u001b[43m                \u001b[49m\u001b[43mrun_manager\u001b[49m\u001b[38;5;241;43m=\u001b[39;49m\u001b[43mrun_managers\u001b[49m\u001b[43m[\u001b[49m\u001b[43mi\u001b[49m\u001b[43m]\u001b[49m\u001b[43m \u001b[49m\u001b[38;5;28;43;01mif\u001b[39;49;00m\u001b[43m \u001b[49m\u001b[43mrun_managers\u001b[49m\u001b[43m \u001b[49m\u001b[38;5;28;43;01melse\u001b[39;49;00m\u001b[43m \u001b[49m\u001b[38;5;28;43;01mNone\u001b[39;49;00m\u001b[43m,\u001b[49m\n\u001b[1;32m    694\u001b[0m \u001b[43m                \u001b[49m\u001b[38;5;241;43m*\u001b[39;49m\u001b[38;5;241;43m*\u001b[39;49m\u001b[43mkwargs\u001b[49m\u001b[43m,\u001b[49m\n\u001b[1;32m    695\u001b[0m \u001b[43m            \u001b[49m\u001b[43m)\u001b[49m\n\u001b[1;32m    696\u001b[0m         )\n\u001b[1;32m    697\u001b[0m     \u001b[38;5;28;01mexcept\u001b[39;00m \u001b[38;5;167;01mBaseException\u001b[39;00m \u001b[38;5;28;01mas\u001b[39;00m e:\n\u001b[1;32m    698\u001b[0m         \u001b[38;5;28;01mif\u001b[39;00m run_managers:\n",
      "File \u001b[0;32m/opt/conda/lib/python3.12/site-packages/langchain_core/language_models/chat_models.py:925\u001b[0m, in \u001b[0;36mBaseChatModel._generate_with_cache\u001b[0;34m(self, messages, stop, run_manager, **kwargs)\u001b[0m\n\u001b[1;32m    923\u001b[0m \u001b[38;5;28;01melse\u001b[39;00m:\n\u001b[1;32m    924\u001b[0m     \u001b[38;5;28;01mif\u001b[39;00m inspect\u001b[38;5;241m.\u001b[39msignature(\u001b[38;5;28mself\u001b[39m\u001b[38;5;241m.\u001b[39m_generate)\u001b[38;5;241m.\u001b[39mparameters\u001b[38;5;241m.\u001b[39mget(\u001b[38;5;124m\"\u001b[39m\u001b[38;5;124mrun_manager\u001b[39m\u001b[38;5;124m\"\u001b[39m):\n\u001b[0;32m--> 925\u001b[0m         result \u001b[38;5;241m=\u001b[39m \u001b[38;5;28;43mself\u001b[39;49m\u001b[38;5;241;43m.\u001b[39;49m\u001b[43m_generate\u001b[49m\u001b[43m(\u001b[49m\n\u001b[1;32m    926\u001b[0m \u001b[43m            \u001b[49m\u001b[43mmessages\u001b[49m\u001b[43m,\u001b[49m\u001b[43m \u001b[49m\u001b[43mstop\u001b[49m\u001b[38;5;241;43m=\u001b[39;49m\u001b[43mstop\u001b[49m\u001b[43m,\u001b[49m\u001b[43m \u001b[49m\u001b[43mrun_manager\u001b[49m\u001b[38;5;241;43m=\u001b[39;49m\u001b[43mrun_manager\u001b[49m\u001b[43m,\u001b[49m\u001b[43m \u001b[49m\u001b[38;5;241;43m*\u001b[39;49m\u001b[38;5;241;43m*\u001b[39;49m\u001b[43mkwargs\u001b[49m\n\u001b[1;32m    927\u001b[0m \u001b[43m        \u001b[49m\u001b[43m)\u001b[49m\n\u001b[1;32m    928\u001b[0m     \u001b[38;5;28;01melse\u001b[39;00m:\n\u001b[1;32m    929\u001b[0m         result \u001b[38;5;241m=\u001b[39m \u001b[38;5;28mself\u001b[39m\u001b[38;5;241m.\u001b[39m_generate(messages, stop\u001b[38;5;241m=\u001b[39mstop, \u001b[38;5;241m*\u001b[39m\u001b[38;5;241m*\u001b[39mkwargs)\n",
      "File \u001b[0;32m/opt/conda/lib/python3.12/site-packages/langchain_openai/chat_models/base.py:689\u001b[0m, in \u001b[0;36mBaseChatOpenAI._generate\u001b[0;34m(self, messages, stop, run_manager, **kwargs)\u001b[0m\n\u001b[1;32m    687\u001b[0m     generation_info \u001b[38;5;241m=\u001b[39m {\u001b[38;5;124m\"\u001b[39m\u001b[38;5;124mheaders\u001b[39m\u001b[38;5;124m\"\u001b[39m: \u001b[38;5;28mdict\u001b[39m(raw_response\u001b[38;5;241m.\u001b[39mheaders)}\n\u001b[1;32m    688\u001b[0m \u001b[38;5;28;01melse\u001b[39;00m:\n\u001b[0;32m--> 689\u001b[0m     response \u001b[38;5;241m=\u001b[39m \u001b[38;5;28;43mself\u001b[39;49m\u001b[38;5;241;43m.\u001b[39;49m\u001b[43mclient\u001b[49m\u001b[38;5;241;43m.\u001b[39;49m\u001b[43mcreate\u001b[49m\u001b[43m(\u001b[49m\u001b[38;5;241;43m*\u001b[39;49m\u001b[38;5;241;43m*\u001b[39;49m\u001b[43mpayload\u001b[49m\u001b[43m)\u001b[49m\n\u001b[1;32m    690\u001b[0m \u001b[38;5;28;01mreturn\u001b[39;00m \u001b[38;5;28mself\u001b[39m\u001b[38;5;241m.\u001b[39m_create_chat_result(response, generation_info)\n",
      "File \u001b[0;32m/opt/conda/lib/python3.12/site-packages/openai/_utils/_utils.py:279\u001b[0m, in \u001b[0;36mrequired_args.<locals>.inner.<locals>.wrapper\u001b[0;34m(*args, **kwargs)\u001b[0m\n\u001b[1;32m    277\u001b[0m             msg \u001b[38;5;241m=\u001b[39m \u001b[38;5;124mf\u001b[39m\u001b[38;5;124m\"\u001b[39m\u001b[38;5;124mMissing required argument: \u001b[39m\u001b[38;5;132;01m{\u001b[39;00mquote(missing[\u001b[38;5;241m0\u001b[39m])\u001b[38;5;132;01m}\u001b[39;00m\u001b[38;5;124m\"\u001b[39m\n\u001b[1;32m    278\u001b[0m     \u001b[38;5;28;01mraise\u001b[39;00m \u001b[38;5;167;01mTypeError\u001b[39;00m(msg)\n\u001b[0;32m--> 279\u001b[0m \u001b[38;5;28;01mreturn\u001b[39;00m \u001b[43mfunc\u001b[49m\u001b[43m(\u001b[49m\u001b[38;5;241;43m*\u001b[39;49m\u001b[43margs\u001b[49m\u001b[43m,\u001b[49m\u001b[43m \u001b[49m\u001b[38;5;241;43m*\u001b[39;49m\u001b[38;5;241;43m*\u001b[39;49m\u001b[43mkwargs\u001b[49m\u001b[43m)\u001b[49m\n",
      "File \u001b[0;32m/opt/conda/lib/python3.12/site-packages/openai/resources/chat/completions/completions.py:879\u001b[0m, in \u001b[0;36mCompletions.create\u001b[0;34m(self, messages, model, audio, frequency_penalty, function_call, functions, logit_bias, logprobs, max_completion_tokens, max_tokens, metadata, modalities, n, parallel_tool_calls, prediction, presence_penalty, reasoning_effort, response_format, seed, service_tier, stop, store, stream, stream_options, temperature, tool_choice, tools, top_logprobs, top_p, user, extra_headers, extra_query, extra_body, timeout)\u001b[0m\n\u001b[1;32m    837\u001b[0m \u001b[38;5;129m@required_args\u001b[39m([\u001b[38;5;124m\"\u001b[39m\u001b[38;5;124mmessages\u001b[39m\u001b[38;5;124m\"\u001b[39m, \u001b[38;5;124m\"\u001b[39m\u001b[38;5;124mmodel\u001b[39m\u001b[38;5;124m\"\u001b[39m], [\u001b[38;5;124m\"\u001b[39m\u001b[38;5;124mmessages\u001b[39m\u001b[38;5;124m\"\u001b[39m, \u001b[38;5;124m\"\u001b[39m\u001b[38;5;124mmodel\u001b[39m\u001b[38;5;124m\"\u001b[39m, \u001b[38;5;124m\"\u001b[39m\u001b[38;5;124mstream\u001b[39m\u001b[38;5;124m\"\u001b[39m])\n\u001b[1;32m    838\u001b[0m \u001b[38;5;28;01mdef\u001b[39;00m \u001b[38;5;21mcreate\u001b[39m(\n\u001b[1;32m    839\u001b[0m     \u001b[38;5;28mself\u001b[39m,\n\u001b[0;32m   (...)\u001b[0m\n\u001b[1;32m    876\u001b[0m     timeout: \u001b[38;5;28mfloat\u001b[39m \u001b[38;5;241m|\u001b[39m httpx\u001b[38;5;241m.\u001b[39mTimeout \u001b[38;5;241m|\u001b[39m \u001b[38;5;28;01mNone\u001b[39;00m \u001b[38;5;241m|\u001b[39m NotGiven \u001b[38;5;241m=\u001b[39m NOT_GIVEN,\n\u001b[1;32m    877\u001b[0m ) \u001b[38;5;241m-\u001b[39m\u001b[38;5;241m>\u001b[39m ChatCompletion \u001b[38;5;241m|\u001b[39m Stream[ChatCompletionChunk]:\n\u001b[1;32m    878\u001b[0m     validate_response_format(response_format)\n\u001b[0;32m--> 879\u001b[0m     \u001b[38;5;28;01mreturn\u001b[39;00m \u001b[38;5;28;43mself\u001b[39;49m\u001b[38;5;241;43m.\u001b[39;49m\u001b[43m_post\u001b[49m\u001b[43m(\u001b[49m\n\u001b[1;32m    880\u001b[0m \u001b[43m        \u001b[49m\u001b[38;5;124;43m\"\u001b[39;49m\u001b[38;5;124;43m/chat/completions\u001b[39;49m\u001b[38;5;124;43m\"\u001b[39;49m\u001b[43m,\u001b[49m\n\u001b[1;32m    881\u001b[0m \u001b[43m        \u001b[49m\u001b[43mbody\u001b[49m\u001b[38;5;241;43m=\u001b[39;49m\u001b[43mmaybe_transform\u001b[49m\u001b[43m(\u001b[49m\n\u001b[1;32m    882\u001b[0m \u001b[43m            \u001b[49m\u001b[43m{\u001b[49m\n\u001b[1;32m    883\u001b[0m \u001b[43m                \u001b[49m\u001b[38;5;124;43m\"\u001b[39;49m\u001b[38;5;124;43mmessages\u001b[39;49m\u001b[38;5;124;43m\"\u001b[39;49m\u001b[43m:\u001b[49m\u001b[43m \u001b[49m\u001b[43mmessages\u001b[49m\u001b[43m,\u001b[49m\n\u001b[1;32m    884\u001b[0m \u001b[43m                \u001b[49m\u001b[38;5;124;43m\"\u001b[39;49m\u001b[38;5;124;43mmodel\u001b[39;49m\u001b[38;5;124;43m\"\u001b[39;49m\u001b[43m:\u001b[49m\u001b[43m \u001b[49m\u001b[43mmodel\u001b[49m\u001b[43m,\u001b[49m\n\u001b[1;32m    885\u001b[0m \u001b[43m                \u001b[49m\u001b[38;5;124;43m\"\u001b[39;49m\u001b[38;5;124;43maudio\u001b[39;49m\u001b[38;5;124;43m\"\u001b[39;49m\u001b[43m:\u001b[49m\u001b[43m \u001b[49m\u001b[43maudio\u001b[49m\u001b[43m,\u001b[49m\n\u001b[1;32m    886\u001b[0m \u001b[43m                \u001b[49m\u001b[38;5;124;43m\"\u001b[39;49m\u001b[38;5;124;43mfrequency_penalty\u001b[39;49m\u001b[38;5;124;43m\"\u001b[39;49m\u001b[43m:\u001b[49m\u001b[43m \u001b[49m\u001b[43mfrequency_penalty\u001b[49m\u001b[43m,\u001b[49m\n\u001b[1;32m    887\u001b[0m \u001b[43m                \u001b[49m\u001b[38;5;124;43m\"\u001b[39;49m\u001b[38;5;124;43mfunction_call\u001b[39;49m\u001b[38;5;124;43m\"\u001b[39;49m\u001b[43m:\u001b[49m\u001b[43m \u001b[49m\u001b[43mfunction_call\u001b[49m\u001b[43m,\u001b[49m\n\u001b[1;32m    888\u001b[0m \u001b[43m                \u001b[49m\u001b[38;5;124;43m\"\u001b[39;49m\u001b[38;5;124;43mfunctions\u001b[39;49m\u001b[38;5;124;43m\"\u001b[39;49m\u001b[43m:\u001b[49m\u001b[43m \u001b[49m\u001b[43mfunctions\u001b[49m\u001b[43m,\u001b[49m\n\u001b[1;32m    889\u001b[0m \u001b[43m                \u001b[49m\u001b[38;5;124;43m\"\u001b[39;49m\u001b[38;5;124;43mlogit_bias\u001b[39;49m\u001b[38;5;124;43m\"\u001b[39;49m\u001b[43m:\u001b[49m\u001b[43m \u001b[49m\u001b[43mlogit_bias\u001b[49m\u001b[43m,\u001b[49m\n\u001b[1;32m    890\u001b[0m \u001b[43m                \u001b[49m\u001b[38;5;124;43m\"\u001b[39;49m\u001b[38;5;124;43mlogprobs\u001b[39;49m\u001b[38;5;124;43m\"\u001b[39;49m\u001b[43m:\u001b[49m\u001b[43m \u001b[49m\u001b[43mlogprobs\u001b[49m\u001b[43m,\u001b[49m\n\u001b[1;32m    891\u001b[0m \u001b[43m                \u001b[49m\u001b[38;5;124;43m\"\u001b[39;49m\u001b[38;5;124;43mmax_completion_tokens\u001b[39;49m\u001b[38;5;124;43m\"\u001b[39;49m\u001b[43m:\u001b[49m\u001b[43m \u001b[49m\u001b[43mmax_completion_tokens\u001b[49m\u001b[43m,\u001b[49m\n\u001b[1;32m    892\u001b[0m \u001b[43m                \u001b[49m\u001b[38;5;124;43m\"\u001b[39;49m\u001b[38;5;124;43mmax_tokens\u001b[39;49m\u001b[38;5;124;43m\"\u001b[39;49m\u001b[43m:\u001b[49m\u001b[43m \u001b[49m\u001b[43mmax_tokens\u001b[49m\u001b[43m,\u001b[49m\n\u001b[1;32m    893\u001b[0m \u001b[43m                \u001b[49m\u001b[38;5;124;43m\"\u001b[39;49m\u001b[38;5;124;43mmetadata\u001b[39;49m\u001b[38;5;124;43m\"\u001b[39;49m\u001b[43m:\u001b[49m\u001b[43m \u001b[49m\u001b[43mmetadata\u001b[49m\u001b[43m,\u001b[49m\n\u001b[1;32m    894\u001b[0m \u001b[43m                \u001b[49m\u001b[38;5;124;43m\"\u001b[39;49m\u001b[38;5;124;43mmodalities\u001b[39;49m\u001b[38;5;124;43m\"\u001b[39;49m\u001b[43m:\u001b[49m\u001b[43m \u001b[49m\u001b[43mmodalities\u001b[49m\u001b[43m,\u001b[49m\n\u001b[1;32m    895\u001b[0m \u001b[43m                \u001b[49m\u001b[38;5;124;43m\"\u001b[39;49m\u001b[38;5;124;43mn\u001b[39;49m\u001b[38;5;124;43m\"\u001b[39;49m\u001b[43m:\u001b[49m\u001b[43m \u001b[49m\u001b[43mn\u001b[49m\u001b[43m,\u001b[49m\n\u001b[1;32m    896\u001b[0m \u001b[43m                \u001b[49m\u001b[38;5;124;43m\"\u001b[39;49m\u001b[38;5;124;43mparallel_tool_calls\u001b[39;49m\u001b[38;5;124;43m\"\u001b[39;49m\u001b[43m:\u001b[49m\u001b[43m \u001b[49m\u001b[43mparallel_tool_calls\u001b[49m\u001b[43m,\u001b[49m\n\u001b[1;32m    897\u001b[0m \u001b[43m                \u001b[49m\u001b[38;5;124;43m\"\u001b[39;49m\u001b[38;5;124;43mprediction\u001b[39;49m\u001b[38;5;124;43m\"\u001b[39;49m\u001b[43m:\u001b[49m\u001b[43m \u001b[49m\u001b[43mprediction\u001b[49m\u001b[43m,\u001b[49m\n\u001b[1;32m    898\u001b[0m \u001b[43m                \u001b[49m\u001b[38;5;124;43m\"\u001b[39;49m\u001b[38;5;124;43mpresence_penalty\u001b[39;49m\u001b[38;5;124;43m\"\u001b[39;49m\u001b[43m:\u001b[49m\u001b[43m \u001b[49m\u001b[43mpresence_penalty\u001b[49m\u001b[43m,\u001b[49m\n\u001b[1;32m    899\u001b[0m \u001b[43m                \u001b[49m\u001b[38;5;124;43m\"\u001b[39;49m\u001b[38;5;124;43mreasoning_effort\u001b[39;49m\u001b[38;5;124;43m\"\u001b[39;49m\u001b[43m:\u001b[49m\u001b[43m \u001b[49m\u001b[43mreasoning_effort\u001b[49m\u001b[43m,\u001b[49m\n\u001b[1;32m    900\u001b[0m \u001b[43m                \u001b[49m\u001b[38;5;124;43m\"\u001b[39;49m\u001b[38;5;124;43mresponse_format\u001b[39;49m\u001b[38;5;124;43m\"\u001b[39;49m\u001b[43m:\u001b[49m\u001b[43m \u001b[49m\u001b[43mresponse_format\u001b[49m\u001b[43m,\u001b[49m\n\u001b[1;32m    901\u001b[0m \u001b[43m                \u001b[49m\u001b[38;5;124;43m\"\u001b[39;49m\u001b[38;5;124;43mseed\u001b[39;49m\u001b[38;5;124;43m\"\u001b[39;49m\u001b[43m:\u001b[49m\u001b[43m \u001b[49m\u001b[43mseed\u001b[49m\u001b[43m,\u001b[49m\n\u001b[1;32m    902\u001b[0m \u001b[43m                \u001b[49m\u001b[38;5;124;43m\"\u001b[39;49m\u001b[38;5;124;43mservice_tier\u001b[39;49m\u001b[38;5;124;43m\"\u001b[39;49m\u001b[43m:\u001b[49m\u001b[43m \u001b[49m\u001b[43mservice_tier\u001b[49m\u001b[43m,\u001b[49m\n\u001b[1;32m    903\u001b[0m \u001b[43m                \u001b[49m\u001b[38;5;124;43m\"\u001b[39;49m\u001b[38;5;124;43mstop\u001b[39;49m\u001b[38;5;124;43m\"\u001b[39;49m\u001b[43m:\u001b[49m\u001b[43m \u001b[49m\u001b[43mstop\u001b[49m\u001b[43m,\u001b[49m\n\u001b[1;32m    904\u001b[0m \u001b[43m                \u001b[49m\u001b[38;5;124;43m\"\u001b[39;49m\u001b[38;5;124;43mstore\u001b[39;49m\u001b[38;5;124;43m\"\u001b[39;49m\u001b[43m:\u001b[49m\u001b[43m \u001b[49m\u001b[43mstore\u001b[49m\u001b[43m,\u001b[49m\n\u001b[1;32m    905\u001b[0m \u001b[43m                \u001b[49m\u001b[38;5;124;43m\"\u001b[39;49m\u001b[38;5;124;43mstream\u001b[39;49m\u001b[38;5;124;43m\"\u001b[39;49m\u001b[43m:\u001b[49m\u001b[43m \u001b[49m\u001b[43mstream\u001b[49m\u001b[43m,\u001b[49m\n\u001b[1;32m    906\u001b[0m \u001b[43m                \u001b[49m\u001b[38;5;124;43m\"\u001b[39;49m\u001b[38;5;124;43mstream_options\u001b[39;49m\u001b[38;5;124;43m\"\u001b[39;49m\u001b[43m:\u001b[49m\u001b[43m \u001b[49m\u001b[43mstream_options\u001b[49m\u001b[43m,\u001b[49m\n\u001b[1;32m    907\u001b[0m \u001b[43m                \u001b[49m\u001b[38;5;124;43m\"\u001b[39;49m\u001b[38;5;124;43mtemperature\u001b[39;49m\u001b[38;5;124;43m\"\u001b[39;49m\u001b[43m:\u001b[49m\u001b[43m \u001b[49m\u001b[43mtemperature\u001b[49m\u001b[43m,\u001b[49m\n\u001b[1;32m    908\u001b[0m \u001b[43m                \u001b[49m\u001b[38;5;124;43m\"\u001b[39;49m\u001b[38;5;124;43mtool_choice\u001b[39;49m\u001b[38;5;124;43m\"\u001b[39;49m\u001b[43m:\u001b[49m\u001b[43m \u001b[49m\u001b[43mtool_choice\u001b[49m\u001b[43m,\u001b[49m\n\u001b[1;32m    909\u001b[0m \u001b[43m                \u001b[49m\u001b[38;5;124;43m\"\u001b[39;49m\u001b[38;5;124;43mtools\u001b[39;49m\u001b[38;5;124;43m\"\u001b[39;49m\u001b[43m:\u001b[49m\u001b[43m \u001b[49m\u001b[43mtools\u001b[49m\u001b[43m,\u001b[49m\n\u001b[1;32m    910\u001b[0m \u001b[43m                \u001b[49m\u001b[38;5;124;43m\"\u001b[39;49m\u001b[38;5;124;43mtop_logprobs\u001b[39;49m\u001b[38;5;124;43m\"\u001b[39;49m\u001b[43m:\u001b[49m\u001b[43m \u001b[49m\u001b[43mtop_logprobs\u001b[49m\u001b[43m,\u001b[49m\n\u001b[1;32m    911\u001b[0m \u001b[43m                \u001b[49m\u001b[38;5;124;43m\"\u001b[39;49m\u001b[38;5;124;43mtop_p\u001b[39;49m\u001b[38;5;124;43m\"\u001b[39;49m\u001b[43m:\u001b[49m\u001b[43m \u001b[49m\u001b[43mtop_p\u001b[49m\u001b[43m,\u001b[49m\n\u001b[1;32m    912\u001b[0m \u001b[43m                \u001b[49m\u001b[38;5;124;43m\"\u001b[39;49m\u001b[38;5;124;43muser\u001b[39;49m\u001b[38;5;124;43m\"\u001b[39;49m\u001b[43m:\u001b[49m\u001b[43m \u001b[49m\u001b[43muser\u001b[49m\u001b[43m,\u001b[49m\n\u001b[1;32m    913\u001b[0m \u001b[43m            \u001b[49m\u001b[43m}\u001b[49m\u001b[43m,\u001b[49m\n\u001b[1;32m    914\u001b[0m \u001b[43m            \u001b[49m\u001b[43mcompletion_create_params\u001b[49m\u001b[38;5;241;43m.\u001b[39;49m\u001b[43mCompletionCreateParams\u001b[49m\u001b[43m,\u001b[49m\n\u001b[1;32m    915\u001b[0m \u001b[43m        \u001b[49m\u001b[43m)\u001b[49m\u001b[43m,\u001b[49m\n\u001b[1;32m    916\u001b[0m \u001b[43m        \u001b[49m\u001b[43moptions\u001b[49m\u001b[38;5;241;43m=\u001b[39;49m\u001b[43mmake_request_options\u001b[49m\u001b[43m(\u001b[49m\n\u001b[1;32m    917\u001b[0m \u001b[43m            \u001b[49m\u001b[43mextra_headers\u001b[49m\u001b[38;5;241;43m=\u001b[39;49m\u001b[43mextra_headers\u001b[49m\u001b[43m,\u001b[49m\u001b[43m \u001b[49m\u001b[43mextra_query\u001b[49m\u001b[38;5;241;43m=\u001b[39;49m\u001b[43mextra_query\u001b[49m\u001b[43m,\u001b[49m\u001b[43m \u001b[49m\u001b[43mextra_body\u001b[49m\u001b[38;5;241;43m=\u001b[39;49m\u001b[43mextra_body\u001b[49m\u001b[43m,\u001b[49m\u001b[43m \u001b[49m\u001b[43mtimeout\u001b[49m\u001b[38;5;241;43m=\u001b[39;49m\u001b[43mtimeout\u001b[49m\n\u001b[1;32m    918\u001b[0m \u001b[43m        \u001b[49m\u001b[43m)\u001b[49m\u001b[43m,\u001b[49m\n\u001b[1;32m    919\u001b[0m \u001b[43m        \u001b[49m\u001b[43mcast_to\u001b[49m\u001b[38;5;241;43m=\u001b[39;49m\u001b[43mChatCompletion\u001b[49m\u001b[43m,\u001b[49m\n\u001b[1;32m    920\u001b[0m \u001b[43m        \u001b[49m\u001b[43mstream\u001b[49m\u001b[38;5;241;43m=\u001b[39;49m\u001b[43mstream\u001b[49m\u001b[43m \u001b[49m\u001b[38;5;129;43;01mor\u001b[39;49;00m\u001b[43m \u001b[49m\u001b[38;5;28;43;01mFalse\u001b[39;49;00m\u001b[43m,\u001b[49m\n\u001b[1;32m    921\u001b[0m \u001b[43m        \u001b[49m\u001b[43mstream_cls\u001b[49m\u001b[38;5;241;43m=\u001b[39;49m\u001b[43mStream\u001b[49m\u001b[43m[\u001b[49m\u001b[43mChatCompletionChunk\u001b[49m\u001b[43m]\u001b[49m\u001b[43m,\u001b[49m\n\u001b[1;32m    922\u001b[0m \u001b[43m    \u001b[49m\u001b[43m)\u001b[49m\n",
      "File \u001b[0;32m/opt/conda/lib/python3.12/site-packages/openai/_base_client.py:1296\u001b[0m, in \u001b[0;36mSyncAPIClient.post\u001b[0;34m(self, path, cast_to, body, options, files, stream, stream_cls)\u001b[0m\n\u001b[1;32m   1282\u001b[0m \u001b[38;5;28;01mdef\u001b[39;00m \u001b[38;5;21mpost\u001b[39m(\n\u001b[1;32m   1283\u001b[0m     \u001b[38;5;28mself\u001b[39m,\n\u001b[1;32m   1284\u001b[0m     path: \u001b[38;5;28mstr\u001b[39m,\n\u001b[0;32m   (...)\u001b[0m\n\u001b[1;32m   1291\u001b[0m     stream_cls: \u001b[38;5;28mtype\u001b[39m[_StreamT] \u001b[38;5;241m|\u001b[39m \u001b[38;5;28;01mNone\u001b[39;00m \u001b[38;5;241m=\u001b[39m \u001b[38;5;28;01mNone\u001b[39;00m,\n\u001b[1;32m   1292\u001b[0m ) \u001b[38;5;241m-\u001b[39m\u001b[38;5;241m>\u001b[39m ResponseT \u001b[38;5;241m|\u001b[39m _StreamT:\n\u001b[1;32m   1293\u001b[0m     opts \u001b[38;5;241m=\u001b[39m FinalRequestOptions\u001b[38;5;241m.\u001b[39mconstruct(\n\u001b[1;32m   1294\u001b[0m         method\u001b[38;5;241m=\u001b[39m\u001b[38;5;124m\"\u001b[39m\u001b[38;5;124mpost\u001b[39m\u001b[38;5;124m\"\u001b[39m, url\u001b[38;5;241m=\u001b[39mpath, json_data\u001b[38;5;241m=\u001b[39mbody, files\u001b[38;5;241m=\u001b[39mto_httpx_files(files), \u001b[38;5;241m*\u001b[39m\u001b[38;5;241m*\u001b[39moptions\n\u001b[1;32m   1295\u001b[0m     )\n\u001b[0;32m-> 1296\u001b[0m     \u001b[38;5;28;01mreturn\u001b[39;00m cast(ResponseT, \u001b[38;5;28;43mself\u001b[39;49m\u001b[38;5;241;43m.\u001b[39;49m\u001b[43mrequest\u001b[49m\u001b[43m(\u001b[49m\u001b[43mcast_to\u001b[49m\u001b[43m,\u001b[49m\u001b[43m \u001b[49m\u001b[43mopts\u001b[49m\u001b[43m,\u001b[49m\u001b[43m \u001b[49m\u001b[43mstream\u001b[49m\u001b[38;5;241;43m=\u001b[39;49m\u001b[43mstream\u001b[49m\u001b[43m,\u001b[49m\u001b[43m \u001b[49m\u001b[43mstream_cls\u001b[49m\u001b[38;5;241;43m=\u001b[39;49m\u001b[43mstream_cls\u001b[49m\u001b[43m)\u001b[49m)\n",
      "File \u001b[0;32m/opt/conda/lib/python3.12/site-packages/openai/_base_client.py:973\u001b[0m, in \u001b[0;36mSyncAPIClient.request\u001b[0;34m(self, cast_to, options, remaining_retries, stream, stream_cls)\u001b[0m\n\u001b[1;32m    970\u001b[0m \u001b[38;5;28;01melse\u001b[39;00m:\n\u001b[1;32m    971\u001b[0m     retries_taken \u001b[38;5;241m=\u001b[39m \u001b[38;5;241m0\u001b[39m\n\u001b[0;32m--> 973\u001b[0m \u001b[38;5;28;01mreturn\u001b[39;00m \u001b[38;5;28;43mself\u001b[39;49m\u001b[38;5;241;43m.\u001b[39;49m\u001b[43m_request\u001b[49m\u001b[43m(\u001b[49m\n\u001b[1;32m    974\u001b[0m \u001b[43m    \u001b[49m\u001b[43mcast_to\u001b[49m\u001b[38;5;241;43m=\u001b[39;49m\u001b[43mcast_to\u001b[49m\u001b[43m,\u001b[49m\n\u001b[1;32m    975\u001b[0m \u001b[43m    \u001b[49m\u001b[43moptions\u001b[49m\u001b[38;5;241;43m=\u001b[39;49m\u001b[43moptions\u001b[49m\u001b[43m,\u001b[49m\n\u001b[1;32m    976\u001b[0m \u001b[43m    \u001b[49m\u001b[43mstream\u001b[49m\u001b[38;5;241;43m=\u001b[39;49m\u001b[43mstream\u001b[49m\u001b[43m,\u001b[49m\n\u001b[1;32m    977\u001b[0m \u001b[43m    \u001b[49m\u001b[43mstream_cls\u001b[49m\u001b[38;5;241;43m=\u001b[39;49m\u001b[43mstream_cls\u001b[49m\u001b[43m,\u001b[49m\n\u001b[1;32m    978\u001b[0m \u001b[43m    \u001b[49m\u001b[43mretries_taken\u001b[49m\u001b[38;5;241;43m=\u001b[39;49m\u001b[43mretries_taken\u001b[49m\u001b[43m,\u001b[49m\n\u001b[1;32m    979\u001b[0m \u001b[43m\u001b[49m\u001b[43m)\u001b[49m\n",
      "File \u001b[0;32m/opt/conda/lib/python3.12/site-packages/openai/_base_client.py:1077\u001b[0m, in \u001b[0;36mSyncAPIClient._request\u001b[0;34m(self, cast_to, options, retries_taken, stream, stream_cls)\u001b[0m\n\u001b[1;32m   1074\u001b[0m         err\u001b[38;5;241m.\u001b[39mresponse\u001b[38;5;241m.\u001b[39mread()\n\u001b[1;32m   1076\u001b[0m     log\u001b[38;5;241m.\u001b[39mdebug(\u001b[38;5;124m\"\u001b[39m\u001b[38;5;124mRe-raising status error\u001b[39m\u001b[38;5;124m\"\u001b[39m)\n\u001b[0;32m-> 1077\u001b[0m     \u001b[38;5;28;01mraise\u001b[39;00m \u001b[38;5;28mself\u001b[39m\u001b[38;5;241m.\u001b[39m_make_status_error_from_response(err\u001b[38;5;241m.\u001b[39mresponse) \u001b[38;5;28;01mfrom\u001b[39;00m \u001b[38;5;28;01mNone\u001b[39;00m\n\u001b[1;32m   1079\u001b[0m \u001b[38;5;28;01mreturn\u001b[39;00m \u001b[38;5;28mself\u001b[39m\u001b[38;5;241m.\u001b[39m_process_response(\n\u001b[1;32m   1080\u001b[0m     cast_to\u001b[38;5;241m=\u001b[39mcast_to,\n\u001b[1;32m   1081\u001b[0m     options\u001b[38;5;241m=\u001b[39moptions,\n\u001b[0;32m   (...)\u001b[0m\n\u001b[1;32m   1085\u001b[0m     retries_taken\u001b[38;5;241m=\u001b[39mretries_taken,\n\u001b[1;32m   1086\u001b[0m )\n",
      "\u001b[0;31mAuthenticationError\u001b[0m: Error code: 401 - {'error': {'message': 'Incorrect API key provided: k-proj-Q*******************************************************************************************************************************************************SPYA. You can find your API key at https://platform.openai.com/account/api-keys.', 'type': 'invalid_request_error', 'param': None, 'code': 'invalid_api_key'}}"
     ]
    }
   ],
   "source": [
    "result = open_ai_llm_mini.invoke([HumanMessage(\"Hi there!\")])"
   ]
  },
  {
   "cell_type": "code",
   "execution_count": 57,
   "id": "019c579d-0765-4eb8-a2dd-10a7bef6a13c",
   "metadata": {},
   "outputs": [
    {
     "data": {
      "text/plain": [
       "6"
      ]
     },
     "execution_count": 57,
     "metadata": {},
     "output_type": "execute_result"
    }
   ],
   "source": [
    "len(history)"
   ]
  },
  {
   "cell_type": "code",
   "execution_count": 45,
   "id": "0b0a8360-e71f-4beb-8c04-8f24b379f196",
   "metadata": {},
   "outputs": [
    {
     "data": {
      "text/plain": [
       "{'configurable': {'thread_id': '1005',\n",
       "  'checkpoint_ns': '',\n",
       "  'checkpoint_id': '1f00029b-f865-6a67-8003-2c367525f2b3'}}"
      ]
     },
     "execution_count": 45,
     "metadata": {},
     "output_type": "execute_result"
    }
   ],
   "source": [
    "recovered_history[2].config"
   ]
  },
  {
   "cell_type": "code",
   "execution_count": 46,
   "id": "11594193-74ec-4927-ac74-42092f186009",
   "metadata": {},
   "outputs": [
    {
     "name": "stdout",
     "output_type": "stream",
     "text": [
      "0 4\n",
      "appending.. https://www.admetrics.io/en/post/tiktok-advertising-trends\n",
      "1 4\n",
      "Skipping a page due to timeout.\n",
      "PAGE IS skipped, continuing\n",
      "2 4\n",
      "Error loading page: generator already executing\n",
      "PAGE IS skipped, continuing\n",
      "3 4\n",
      "Error loading page: generator already executing\n",
      "PAGE IS skipped, continuing\n",
      "Trimmed and ready\n",
      "{'sources_consolidator': {'final_documents': '<Document href=\"https://www.admetrics.io/en/post/tiktok-advertising-trends\" title=\"Emerging TikTok Advertising Trends Reshaping Digital Marketing in 2025\" description=\"Discover the latest TikTok Advertising Trends reshaping digital marketing and learn how to create impactful TikTok ad campaigns for 2025.\"/>\\n            \\nEmerging TikTok Advertising Trends Reshaping Digital Marketing in 2025\\n\\nFeaturesBusiness IntelligenceAttributionMarketing Mix ModelingData ActivationExperimentationCustomersResourcesPricingLog-inGermanBook a demoTikTok Advertising Trends Reshaping Digital Marketing in 2025January 9, 2025TikTok has taken the digital marketing world by storm, evolving into a dominant force for advertisers looking to tap into its massive user base. With over 1.5 billion active users globally, TikTok continues to push the boundaries of creativity and engagement. Businesses are capitalizing on TikTok advertising trends to amplify brand awareness, drive sales, and create viral moments.In this in-depth analysis, we explore the key TikTok advertising trends shaping 2025, highlight strategies for optimizing performance, and provide insights into leveraging TikTok\\'s unique features for maximum impact. Whether you\\'re a marketer looking to refine your strategy or an agency crafting campaigns for clients, this guide delivers expert-level insights into TikTok advertising trends.TikTok Advertising Trends: The Shift Toward Interactive AdsThe rise of interactive ads has become one of the most impactful TikTok advertising trends. Unlike static or pre-recorded content, interactive ads encourage users to participate, whether through challenges, polls, or hashtag campaigns. These ads blur the lines between entertainment and promotion, making users feel like part of the campaign.Why Are Interactive Ads Gaining Traction?Interactive advertising taps into TikTok\\'s community-driven culture, where users expect immersive experiences. Features like branded effects and augmented reality (AR) filters further enhance these campaigns, making them memorable and shareable. Marketers are now prioritizing user-generated content (UGC) as a key engagement strategy, allowing brands to harness organic reach and authenticity.Examples of Interactive Ad FormatsBranded Hashtag Challenges: Inviting users to create content around a specific theme.AR Filters and Lenses: Interactive elements that users can apply while recording videos.Poll Ads: Incorporating polls in TikTok\\'s in-feed ads to collect opinions and drive engagement.The Power of Influencer Marketing on TikTokCollaborating with influencers is another core component of TikTok advertising trends. Influencers have the trust and attention of their followers, making them effective partners for brands looking to expand their reach.Micro-Influencers vs. Macro-InfluencersBrands are increasingly turning to micro-influencers (10,000–50,000 followers) who deliver higher engagement rates than macro-influencers. These creators are seen as relatable and trustworthy, which aligns perfectly with TikTok\\'s authenticity-driven culture.Effective Influencer CampaignsProduct Demos: Influencers demonstrating products in creative and relatable scenarios.Storytelling Content: Using narrative techniques to engage audiences emotionally.Trend Participation: Influencers leveraging trending challenges or memes to integrate sponsored content seamlessly.Short-Form Video Dominance in TikTok Advertising TrendsShort-form video remains central to TikTok\\'s success, and brands are optimizing their ads to fit this format. The platform\\'s algorithm favors content that hooks viewers within the first three seconds, encouraging advertisers to create snappy, impactful visuals.Creative Strategies for Short-Form AdsHook-First Approach: Starting with an intriguing question or bold statement to capture attention.Looped Videos: Leveraging auto-play loops to maximize watch time and ad recall.Storytelling in Seconds: Crafting mini-stories with a clear beginning, middle, and end.Best Practices for Short-Form AdsUse captions and on-screen text to convey key messages quickly.Add trending sounds and music to enhance relatability.Optimize vertical video formats to ensure compatibility with TikTok\\'s mobile-first interface.Data-Driven Personalization and Targeted AdvertisingOne of the most prominent TikTok advertising trends is the integration of AI and machine learning to deliver personalized ad experiences. Advertisers can leverage TikTok\\'s advanced targeting tools to deliver hyper-relevant ads to specific audiences. Learn all about TikTok analytics in this in-depth article here.AI-Powered Ad TargetingTikTok\\'s algorithm uses user behavior data to refine ad targeting, improving accuracy over time. Marketers can target based on demographics, interests, device type, and even browsing habits.Dynamic Creative Optimization (DCO)DCO enables brands to create multiple ad variations, testing different creatives, captions, and CTAs to identify the best-performing combination.E-Commerce Integration Through TikTok AdsTikTok\\'s shopping features have redefined social commerce, making it easier than ever for users to discover and purchase products directly within the app.Key E-Commerce FeaturesShoppable Ads: Seamless integration between video ads and product landing pages.TikTok Shop: In-app storefronts that allow brands to sell directly to consumers.Live Shopping Events: Real-time product showcases that drive urgency and impulse purchases.How Brands BenefitE-commerce integration reduces friction in the buying process, turning engagement into conversions. Businesses leveraging this trend often report higher ROI and increased sales volumes.User-Generated Content as the Backbone of TikTok Advertising TrendsUser-generated content (UGC) continues to dominate TikTok\\'s advertising landscape. Campaigns that encourage user participation often outperform traditional ads because they align with the platform\\'s community-driven ethos. Here\\'s all you need to know about UGC\\xa0TikTok video and how to use AI\\xa0to create UGC type video content. Encouraging UGC CampaignsOffering incentives for users to create branded content.Launching contests and giveaways tied to hashtag challenges.Featuring user-created videos in official brand ads.FAQsHow effective are TikTok ads compared to other platforms?TikTok ads often outperform traditional digital platforms due to their viral potential and engagement-focused algorithm, making them ideal for brand awareness campaigns.What are the latest TikTok advertising trends for small businesses?Small businesses benefit from TikTok\\'s low-cost ad formats, influencer collaborations, and UGC-focused campaigns, which create authentic connections with audiences.How do I measure success in TikTok advertising campaigns?Key metrics include views, likes, shares, click-through rates, and conversion rates, which provide insights into performance and audience engagement.What budget is required for TikTok ads?Budgets can start as low as $20 per day for in-feed ads, making TikTok accessible for small and large businesses alike.Are TikTok\\'s e-commerce ads suitable for all industries?While e-commerce-focused brands see the most success, industries like beauty, fashion, and fitness often perform exceptionally well due to TikTok\\'s visual nature.What is the future of TikTok advertising?The future lies in AI-driven ad personalization, shoppable video content, and deeper integrations with AR and VR technologies.ConclusionTikTok advertising trends continue to evolve, offering endless opportunities for brands to connect with audiences in dynamic and creative ways. From influencer collaborations and UGC campaigns to AI-driven targeting and e-commerce integration, TikTok remains at the forefront of digital marketing innovation.Brands that embrace these trends and experiment with interactive formats will undoubtedly thrive in 2025\\'s competitive landscape. As the platform grows, staying ahead of emerging trends and adapting strategies accordingly will be the key to sustained success.Continue readingSocial Media ROI: Maximizing Your Marketing InvestmentInsightsNovember 15, 2024How Customer Surveys Can Skyrocket Your E-commerce GrowthInsightsNovember 15, 2024All resourcesGet news and updates via email I consent to data processing according to the privacy policy Thank you! Your submission has been received!Oops! Something went wrong while submitting the form.companyContactCareersHiringaccountLog-inPrivacy PolicyImprint\\n</Document>'}}\n",
      "{'master_blogger_writer': {'final_article': \"# From User-Generated Content to Branded Masterpieces: How Retailers Can Leverage TikTok for Digital Advertising\\n\\nIn the ever-evolving landscape of digital advertising, TikTok has emerged as a powerhouse platform, particularly for retailers looking to engage with their audiences through authentic and creative content. One of the most significant trends shaping this landscape is the rise of user-generated content (UGC). As brands strive to create meaningful connections with consumers, UGC has become a vital tool for crafting engaging ad campaigns that resonate with target audiences.\\n\\n## Current Trends in TikTok Advertising\\n\\nAccording to the [TikTok Advertising Trends report](https://www.admetrics.io/en/post/tiktok-advertising-trends), UGC is increasingly recognized as a powerful strategy for retailers. This trend is driven by the platform's community-driven culture, where users expect immersive experiences and authentic interactions. Retailers are capitalizing on this by encouraging users to create content that showcases their products, leading to campaigns that feel genuine and relatable.\\n\\nMoreover, the integration of AI in advertising is transforming how brands personalize customer experiences. Retailers are leveraging AI to tailor content and offerings to match individual preferences, enhancing engagement and driving conversions. However, this also presents challenges, as brands must ensure that their UGC aligns with their overall brand identity while maintaining high quality.\\n\\n## Common Pain Points for Retailers\\n\\nDespite the potential of UGC, retailers often face significant challenges when creating effective ad campaigns on TikTok. One of the primary pain points is the difficulty in producing content that resonates with their target audience. With the platform's vast competition, standing out and capturing users' attention can be daunting.\\n\\nAdditionally, maintaining consistency across campaigns while ensuring high-quality, branded content can be resource-intensive. Retailers may struggle to balance creativity with the need for brand alignment, leading to inconsistencies that can dilute their messaging.\\n\\n## StreamEye's Solution\\n\\nThis is where StreamEye's templated video solution comes into play. By offering pre-designed templates that retailers can customize with their branding and messaging, StreamEye empowers brands to overcome these challenges. Retailers can create high-quality, branded content efficiently, saving time and resources while ensuring consistency across all ad campaigns.\\n\\nWith StreamEye, retailers can easily adapt their content to fit TikTok's unique format, allowing them to harness the power of UGC without sacrificing brand integrity. This solution not only streamlines the creative process but also enhances the overall effectiveness of advertising efforts.\\n\\n## Measuring Effectiveness\\n\\nTo gauge the success of TikTok ad campaigns, retailers should track key metrics and KPIs. Important metrics include cost per install (CPI), cost per mille (CPM), engagement rates, reach, impressions, clicks, conversions, and return on ad spend (ROAS). By analyzing these metrics, retailers can gain valuable insights into how their UGC and branded content perform, enabling them to make data-driven decisions for future campaigns.\\n\\n## Successful Case Studies\\n\\nSeveral retail brands have successfully leveraged UGC and templated videos on TikTok to drive engagement and sales. For instance, Fashion Nova has utilized TikTok's branded effects feature to create captivating ad campaigns that resonate with its audience. Similarly, Sephora has partnered with popular TikTok creators to showcase their products authentically, resulting in increased brand awareness and sales.\\n\\nThese examples highlight the effectiveness of combining UGC with branded content, demonstrating how retailers can engage their audiences meaningfully while driving conversions.\\n\\n## Benefits of StreamEye's Solution\\n\\nStreamEye's templated video solution offers numerous benefits for retailers. By simplifying the content creation process, brands can focus on crafting compelling narratives that resonate with their audiences. The ability to customize templates ensures that retailers maintain brand consistency while producing high-quality content that stands out on TikTok.\\n\\nMoreover, StreamEye's solution allows retailers to adapt their strategies quickly, enabling them to respond to trends and audience preferences in real-time. This agility is crucial in the fast-paced world of social media advertising.\\n\\n## Best Practices for Creating Effective UGC\\n\\nTo maximize the impact of UGC and branded content on TikTok, retailers should consider the following best practices:\\n\\n1. **Adapt Strategies**: Stay flexible and be willing to adjust your approach based on audience feedback and emerging trends.\\n2. **Set Measurable Goals**: Establish clear objectives for your campaigns to track progress and measure success effectively.\\n3. **Leverage Influencers**: Collaborate with influencers who align with your brand values to amplify your reach and credibility.\\n\\n## Conclusion\\n\\nAs TikTok continues to reshape the digital advertising landscape, the importance of user-generated content and branded masterpieces cannot be overstated. Retailers that embrace these trends and leverage StreamEye's templated video solution will be well-positioned to create engaging, high-quality content that resonates with their target audiences.\\n\\nAre you ready to elevate your TikTok advertising strategy? Explore StreamEye's templated video solution today and start creating impactful, branded content that drives engagement and sales. [Get in touch](https://www.streameye.com/contact) to learn more!\"}}\n",
      "{'__interrupt__': ()}\n"
     ]
    }
   ],
   "source": [
    "async for event in graph.astream(None, recovered_history[2].config, stream_mode=\"updates\"):\n",
    "    print(event)"
   ]
  },
  {
   "cell_type": "markdown",
   "id": "82353590-a11c-40c9-84ca-9ee071fa294f",
   "metadata": {},
   "source": [
    "### Provide Feedback or Choose END | AI\n",
    "\n",
    "Below is the code to provide user feedback, select AI to generate AI based feedback or END the graph"
   ]
  },
  {
   "cell_type": "code",
   "execution_count": 179,
   "id": "03823965-a162-40f1-82d6-b9c2e148b810",
   "metadata": {},
   "outputs": [
    {
     "name": "stdout",
     "output_type": "stream",
     "text": [
      "['source', 'writes', 'thread_id', 'checkpoint_ns', 'checkpoint_id', 'step', 'parents']\n",
      "['source', 'writes', 'thread_id', 'checkpoint_ns', 'checkpoint_id', 'step', 'parents']\n",
      "['source', 'writes', 'thread_id', 'checkpoint_ns', 'checkpoint_id', 'step', 'parents']\n",
      "['source', 'writes', 'thread_id', 'step', 'parents', 'checkpoint_ns', 'checkpoint_id']\n",
      "['source', 'writes', 'thread_id', 'step', 'parents']\n",
      "['source', 'writes', 'thread_id', 'step', 'parents']\n",
      "['source', 'writes', 'thread_id', 'step', 'parents']\n",
      "['source', 'writes', 'thread_id', 'step', 'parents']\n"
     ]
    }
   ],
   "source": [
    "# history = [state for state in graph.get_state_history(config=thread)]\n",
    "# for h in history:\n",
    "#     print([key for key in h.metadata.keys()])"
   ]
  },
  {
   "cell_type": "code",
   "execution_count": 82,
   "id": "5be176c2-9656-4e02-9070-7b03127672f2",
   "metadata": {},
   "outputs": [
    {
     "data": {
      "text/plain": [
       "7"
      ]
     },
     "execution_count": 82,
     "metadata": {},
     "output_type": "execute_result"
    }
   ],
   "source": [
    "history_1 = [step async for step in graph.aget_state_history(thread)] # lets store these on the first go!\n",
    "\n",
    "len(history_1)"
   ]
  },
  {
   "cell_type": "code",
   "execution_count": 143,
   "id": "9c617378-4647-488d-8edc-e242edcfc3fe",
   "metadata": {},
   "outputs": [
    {
     "data": {
      "text/markdown": [
       "Here is the article \n",
       "\n",
       "```markdown\n",
       "# From User-Generated Content to Branded Masterpieces: How Retailers Can Leverage TikTok for Digital Advertising\n",
       "\n",
       "In the ever-evolving landscape of digital advertising, TikTok has emerged as a powerhouse platform, particularly for retailers looking to engage with their audience through authentic and creative content. The rise of user-generated content (UGC) on TikTok has transformed the way brands connect with consumers, making it essential for retailers to harness this trend effectively. In this article, we will explore the latest tendencies in TikTok advertising, focusing on how retailers can leverage UGC to create branded masterpieces, and how StreamEye's templated video solution can streamline this process.\n",
       "\n",
       "## Current Trends in TikTok Advertising\n",
       "\n",
       "According to the latest [TikTok Advertising Trends report](https://www.admetrics.io/en/post/tiktok-advertising-trends), UGC has become a cornerstone of successful advertising strategies on the platform. With over 1.5 billion active users globally, TikTok offers a unique opportunity for brands to tap into a vast and engaged audience. The report highlights that UGC not only fosters authenticity but also enhances engagement, making it a powerful tool for retailers.\n",
       "\n",
       "Moreover, the integration of AI in advertising is reshaping how brands interact with consumers. Retailers are increasingly using AI to create personalized customer experiences, tailoring content to match individual preferences. This trend emphasizes the need for high-quality, branded content that resonates with the target audience. StreamEye's templated video solution incorporates AI capabilities, allowing retailers to optimize their content further and personalize their messaging effectively.\n",
       "\n",
       "## Pain Points for Retailers\n",
       "\n",
       "Despite the potential of UGC, retailers often face challenges when creating effective ad campaigns on TikTok. Common pain points include:\n",
       "\n",
       "1. **Creating Resonant Content**: With the sheer volume of content on TikTok, standing out and capturing users' attention can be daunting. Retailers must craft messages that resonate with their audience while maintaining brand identity.\n",
       "\n",
       "2. **Maintaining Consistency**: As brands scale their advertising efforts, ensuring consistency across various campaigns becomes increasingly difficult. Inconsistent messaging can dilute brand identity and confuse consumers.\n",
       "\n",
       "3. **Resource Constraints**: Producing high-quality content that aligns with brand standards can be time-consuming and resource-intensive, especially for smaller retailers.\n",
       "\n",
       "## StreamEye's Solution\n",
       "\n",
       "StreamEye offers a solution to these challenges through its templated video solution. By providing pre-designed templates that retailers can customize with their branding and messaging, StreamEye enables brands to create high-quality, branded content efficiently. This approach not only saves time and resources but also ensures consistency across all ad campaigns.\n",
       "\n",
       "Retailers can leverage StreamEye's templated videos to produce engaging UGC that aligns with their brand identity. This allows them to focus on what matters most—connecting with their audience and driving sales. Additionally, StreamEye's platform allows for easy integration of AI-driven insights, helping retailers refine their content strategy based on performance metrics.\n",
       "\n",
       "## Measuring Effectiveness\n",
       "\n",
       "To gauge the success of TikTok ad campaigns, retailers should track key metrics and KPIs, including:\n",
       "\n",
       "- **Cost Per Install (CPI)**\n",
       "- **Cost Per Mille (CPM)**\n",
       "- **Engagement Rates**\n",
       "- **Reach and Impressions**\n",
       "- **Clicks and Conversions**\n",
       "- **Return on Ad Spend (ROAS)**\n",
       "\n",
       "By monitoring these metrics, retailers can gain insights into the performance of their UGC and branded content, enabling them to make data-driven decisions to optimize their campaigns.\n",
       "\n",
       "## Successful Case Studies\n",
       "\n",
       "Several retail brands have successfully leveraged UGC and templated videos on TikTok to drive engagement and sales. For instance, **Fashion Nova** has utilized TikTok's branded effects feature to create engaging ad campaigns that resonate with its audience. Similarly, **Sephora** has partnered with popular TikTok creators to showcase their products authentically, resulting in increased brand awareness and sales.\n",
       "\n",
       "These case studies illustrate the effectiveness of combining UGC with branded content, highlighting the potential for retailers to achieve similar success through StreamEye's templated video solution. Brands across various sectors can benefit from StreamEye's offerings, ensuring that their content remains fresh and aligned with current trends.\n",
       "\n",
       "## Best Practices for Creating Effective UGC\n",
       "\n",
       "To maximize the impact of UGC on TikTok, retailers should consider the following best practices:\n",
       "\n",
       "1. **Adapt Strategies**: Tailor content to fit TikTok's unique culture and trends. This may involve participating in challenges or leveraging popular sounds.\n",
       "\n",
       "2. **Set Measurable Goals**: Establish clear objectives for each campaign, whether it's increasing brand awareness or driving sales.\n",
       "\n",
       "3. **Leverage Influencers**: Collaborate with TikTok influencers who align with your brand values to amplify reach and credibility.\n",
       "\n",
       "4. **Encourage Authenticity**: Foster a sense of community by encouraging users to share their experiences with your products in a genuine way.\n",
       "\n",
       "5. **Utilize StreamEye Templates**: Use StreamEye's templates to implement these best practices effectively, ensuring that your content is not only engaging but also consistent with your brand identity.\n",
       "\n",
       "## Conclusion\n",
       "\n",
       "As TikTok continues to shape the future of digital advertising, the importance of user-generated content and branded masterpieces cannot be overstated. Retailers that embrace these trends and leverage StreamEye's templated video solution will be well-positioned to create high-quality, engaging content that resonates with their target audience.\n",
       "\n",
       "Consider exploring solutions like StreamEye's to enhance your TikTok advertising efforts and unlock the full potential of user-generated content. By understanding the latest trends and leveraging innovative solutions, retailers can navigate the challenges of TikTok advertising and unlock the full potential of user-generated content. Embrace the power of creativity and authenticity, and watch your brand thrive on this dynamic platform.\n",
       "```"
      ],
      "text/plain": [
       "<IPython.core.display.Markdown object>"
      ]
     },
     "metadata": {},
     "output_type": "display_data"
    },
    {
     "name": "stdout",
     "output_type": "stream",
     "text": [
      "Previous feedback by AI if any:- **Clarify the Purpose**: While the article provides valuable insights into TikTok advertising trends, it should more explicitly connect these trends to the benefits of using StreamEye's templated video solution. Ensure that the reader understands how StreamEye can specifically address the pain points mentioned.\n",
      "\n",
      "- **Highlight USPs**: Integrate StreamEye's unique selling propositions more seamlessly throughout the article. For example, emphasize how StreamEye's platform allows retailers to maintain brand consistency and control, which is a significant challenge in UGC campaigns.\n",
      "\n",
      "- **Tone Down Direct Promotion**: The conclusion and call-to-action are somewhat direct in promoting StreamEye. Consider softening the language to maintain an informative tone. Instead of directly urging readers to explore StreamEye, suggest that they consider solutions like StreamEye's to enhance their TikTok advertising efforts.\n",
      "\n",
      "- **Expand on AI Integration**: The mention of AI in advertising is brief. Expanding on how AI can be integrated with StreamEye's solutions to further personalize and optimize content could provide additional value to the reader.\n",
      "\n",
      "- **Include More Examples**: While the article mentions Fashion Nova and Sephora, it could benefit from more diverse examples, particularly those that directly used templated video solutions. This would provide a clearer picture of how StreamEye's offerings can be applied across different retail sectors.\n",
      "\n",
      "- **Refine Best Practices Section**: The best practices section is useful but could be expanded to include specific examples of how StreamEye's templates can be used to implement these practices. This would help readers visualize the practical application of the advice given.\n",
      "\n",
      "- **Enhance the Introduction**: The introduction could be more engaging by starting with a compelling statistic or anecdote about TikTok's impact on digital advertising. This would immediately capture the reader's attention and set the stage for the discussion.\n",
      "\n",
      "- **Add Visuals or Infographics**: Consider suggesting the inclusion of visuals or infographics to break up the text and illustrate key points, such as the benefits of using templated videos or the process of creating UGC on TikTok.\n",
      "\n",
      "- **Proofread for Clarity and Flow**: Ensure that the article flows smoothly from one section to the next. Some transitions could be more fluid, particularly when moving from discussing trends to addressing pain points and solutions.\n",
      "\n",
      "By implementing these suggestions, the article can better achieve its goal of informing readers about TikTok advertising trends while subtly highlighting the advantages of StreamEye's solutions.,\n",
      "Your feedback: \n"
     ]
    },
    {
     "name": "stdin",
     "output_type": "stream",
     "text": [
      "Type in your input [feedback | AI | END] END\n"
     ]
    }
   ],
   "source": [
    "current_state = await graph.aget_state(thread)\n",
    "current_state_config = current_state.config\n",
    "article = current_state.values[\"final_article\"]\n",
    "\n",
    "\n",
    "display(Markdown(f\"Here is the article \\n\\n{article}\"))\n",
    "print(f\"\"\"Previous feedback by AI if any:{current_state.values.get(\"ai_article_feedback\", '')},\n",
    "Your feedback: {current_state.values.get('human_article_feedback', '')}\"\"\")\n",
    "choice = input(\"Type in your input [feedback | AI | END]\")\n",
    "new_state = {}\n",
    "if not choice or choice == 'END': # we fallback to end the graph if no choice\n",
    "    new_state = await graph.aupdate_state(current_state_config, {\"human_article_feedback\": \"END\"}, as_node=\"human_decision_article_feedback\")\n",
    "else:\n",
    "    new_state = await graph.aupdate_state(current_state_config, {\"human_article_feedback\": choice}, as_node=\"human_decision_article_feedback\")\n",
    "    \n"
   ]
  },
  {
   "cell_type": "code",
   "execution_count": 141,
   "id": "2bd461c2-29f8-4a1d-9fb0-46926fde05f9",
   "metadata": {},
   "outputs": [
    {
     "data": {
      "text/plain": [
       "{'configurable': {'thread_id': '1005',\n",
       "  'checkpoint_ns': '',\n",
       "  'checkpoint_id': '1f0025fe-8d64-68e5-8006-9aa929c75020'}}"
      ]
     },
     "execution_count": 141,
     "metadata": {},
     "output_type": "execute_result"
    }
   ],
   "source": [
    "await graph.aupdate_state(current_state_config, {\"human_article_feedback\": choice}, as_node=\"human_decision_article_feedback\")"
   ]
  },
  {
   "cell_type": "code",
   "execution_count": 79,
   "id": "8465fc59-1ce8-4432-ba4e-0900afbe1a4e",
   "metadata": {},
   "outputs": [],
   "source": [
    "r = open_ai_llm.invoke([HumanMessage(\"Hi there\")])"
   ]
  },
  {
   "cell_type": "code",
   "execution_count": 81,
   "id": "c991ba62-52a9-4f5d-9eee-dc890f14984d",
   "metadata": {},
   "outputs": [
    {
     "data": {
      "text/plain": [
       "'Hello! How can I assist you today?'"
      ]
     },
     "execution_count": 81,
     "metadata": {},
     "output_type": "execute_result"
    }
   ],
   "source": [
    "r.content"
   ]
  },
  {
   "cell_type": "code",
   "execution_count": 142,
   "id": "603b77f0-6b27-4dda-9613-16a3f9bb9e10",
   "metadata": {},
   "outputs": [
    {
     "name": "stdout",
     "output_type": "stream",
     "text": [
      "RESULT content=\"- **Clarify the Purpose**: While the article provides valuable insights into TikTok advertising trends, it should more explicitly connect these trends to the benefits of using StreamEye's templated video solution. Ensure that the reader understands how StreamEye can specifically address the pain points mentioned.\\n\\n- **Highlight USPs**: Integrate StreamEye's unique selling propositions more seamlessly throughout the article. For example, emphasize how StreamEye's platform allows retailers to maintain brand consistency and control, which is a significant challenge in UGC campaigns.\\n\\n- **Tone Down Direct Promotion**: The conclusion and call-to-action are somewhat direct in promoting StreamEye. Consider softening the language to maintain an informative tone. Instead of directly urging readers to explore StreamEye, suggest that they consider solutions like StreamEye's to enhance their TikTok advertising efforts.\\n\\n- **Expand on AI Integration**: The mention of AI in advertising is brief. Expanding on how AI can be integrated with StreamEye's solutions to further personalize and optimize content could provide additional value to the reader.\\n\\n- **Include More Examples**: While the article mentions Fashion Nova and Sephora, it could benefit from more diverse examples, particularly those that directly used templated video solutions. This would provide a clearer picture of how StreamEye's offerings can be applied across different retail sectors.\\n\\n- **Refine Best Practices Section**: The best practices section is useful but could be expanded to include specific examples of how StreamEye's templates can be used to implement these practices. This would help readers visualize the practical application of the advice given.\\n\\n- **Enhance the Introduction**: The introduction could be more engaging by starting with a compelling statistic or anecdote about TikTok's impact on digital advertising. This would immediately capture the reader's attention and set the stage for the discussion.\\n\\n- **Add Visuals or Infographics**: Consider suggesting the inclusion of visuals or infographics to break up the text and illustrate key points, such as the benefits of using templated videos or the process of creating UGC on TikTok.\\n\\n- **Proofread for Clarity and Flow**: Ensure that the article flows smoothly from one section to the next. Some transitions could be more fluid, particularly when moving from discussing trends to addressing pain points and solutions.\\n\\nBy implementing these suggestions, the article can better achieve its goal of informing readers about TikTok advertising trends while subtly highlighting the advantages of StreamEye's solutions.\" additional_kwargs={'refusal': None} response_metadata={'token_usage': {'completion_tokens': 487, 'prompt_tokens': 1824, 'total_tokens': 2311, 'completion_tokens_details': {'accepted_prediction_tokens': 0, 'audio_tokens': 0, 'reasoning_tokens': 0, 'rejected_prediction_tokens': 0}, 'prompt_tokens_details': {'audio_tokens': 0, 'cached_tokens': 0}}, 'model_name': 'gpt-4o-2024-08-06', 'system_fingerprint': 'fp_eb9dce56a8', 'finish_reason': 'stop', 'logprobs': None} id='run-5d91625f-c608-4ec8-882c-e89e4dc62e32-0' usage_metadata={'input_tokens': 1824, 'output_tokens': 487, 'total_tokens': 2311, 'input_token_details': {'audio': 0, 'cache_read': 0}, 'output_token_details': {'audio': 0, 'reasoning': 0}}\n",
      "{'get_ai_feedback': {'ai_article_feedback': \"- **Clarify the Purpose**: While the article provides valuable insights into TikTok advertising trends, it should more explicitly connect these trends to the benefits of using StreamEye's templated video solution. Ensure that the reader understands how StreamEye can specifically address the pain points mentioned.\\n\\n- **Highlight USPs**: Integrate StreamEye's unique selling propositions more seamlessly throughout the article. For example, emphasize how StreamEye's platform allows retailers to maintain brand consistency and control, which is a significant challenge in UGC campaigns.\\n\\n- **Tone Down Direct Promotion**: The conclusion and call-to-action are somewhat direct in promoting StreamEye. Consider softening the language to maintain an informative tone. Instead of directly urging readers to explore StreamEye, suggest that they consider solutions like StreamEye's to enhance their TikTok advertising efforts.\\n\\n- **Expand on AI Integration**: The mention of AI in advertising is brief. Expanding on how AI can be integrated with StreamEye's solutions to further personalize and optimize content could provide additional value to the reader.\\n\\n- **Include More Examples**: While the article mentions Fashion Nova and Sephora, it could benefit from more diverse examples, particularly those that directly used templated video solutions. This would provide a clearer picture of how StreamEye's offerings can be applied across different retail sectors.\\n\\n- **Refine Best Practices Section**: The best practices section is useful but could be expanded to include specific examples of how StreamEye's templates can be used to implement these practices. This would help readers visualize the practical application of the advice given.\\n\\n- **Enhance the Introduction**: The introduction could be more engaging by starting with a compelling statistic or anecdote about TikTok's impact on digital advertising. This would immediately capture the reader's attention and set the stage for the discussion.\\n\\n- **Add Visuals or Infographics**: Consider suggesting the inclusion of visuals or infographics to break up the text and illustrate key points, such as the benefits of using templated videos or the process of creating UGC on TikTok.\\n\\n- **Proofread for Clarity and Flow**: Ensure that the article flows smoothly from one section to the next. Some transitions could be more fluid, particularly when moving from discussing trends to addressing pain points and solutions.\\n\\nBy implementing these suggestions, the article can better achieve its goal of informing readers about TikTok advertising trends while subtly highlighting the advantages of StreamEye's solutions.\", 'human_article_feedback': None}}\n",
      "{'apply_feedback_to_article': {'final_article': \"```markdown\\n# From User-Generated Content to Branded Masterpieces: How Retailers Can Leverage TikTok for Digital Advertising\\n\\nIn the ever-evolving landscape of digital advertising, TikTok has emerged as a powerhouse platform, particularly for retailers looking to engage with their audience through authentic and creative content. The rise of user-generated content (UGC) on TikTok has transformed the way brands connect with consumers, making it essential for retailers to harness this trend effectively. In this article, we will explore the latest tendencies in TikTok advertising, focusing on how retailers can leverage UGC to create branded masterpieces, and how StreamEye's templated video solution can streamline this process.\\n\\n## Current Trends in TikTok Advertising\\n\\nAccording to the latest [TikTok Advertising Trends report](https://www.admetrics.io/en/post/tiktok-advertising-trends), UGC has become a cornerstone of successful advertising strategies on the platform. With over 1.5 billion active users globally, TikTok offers a unique opportunity for brands to tap into a vast and engaged audience. The report highlights that UGC not only fosters authenticity but also enhances engagement, making it a powerful tool for retailers.\\n\\nMoreover, the integration of AI in advertising is reshaping how brands interact with consumers. Retailers are increasingly using AI to create personalized customer experiences, tailoring content to match individual preferences. This trend emphasizes the need for high-quality, branded content that resonates with the target audience. StreamEye's templated video solution incorporates AI capabilities, allowing retailers to optimize their content further and personalize their messaging effectively.\\n\\n## Pain Points for Retailers\\n\\nDespite the potential of UGC, retailers often face challenges when creating effective ad campaigns on TikTok. Common pain points include:\\n\\n1. **Creating Resonant Content**: With the sheer volume of content on TikTok, standing out and capturing users' attention can be daunting. Retailers must craft messages that resonate with their audience while maintaining brand identity.\\n\\n2. **Maintaining Consistency**: As brands scale their advertising efforts, ensuring consistency across various campaigns becomes increasingly difficult. Inconsistent messaging can dilute brand identity and confuse consumers.\\n\\n3. **Resource Constraints**: Producing high-quality content that aligns with brand standards can be time-consuming and resource-intensive, especially for smaller retailers.\\n\\n## StreamEye's Solution\\n\\nStreamEye offers a solution to these challenges through its templated video solution. By providing pre-designed templates that retailers can customize with their branding and messaging, StreamEye enables brands to create high-quality, branded content efficiently. This approach not only saves time and resources but also ensures consistency across all ad campaigns.\\n\\nRetailers can leverage StreamEye's templated videos to produce engaging UGC that aligns with their brand identity. This allows them to focus on what matters most—connecting with their audience and driving sales. Additionally, StreamEye's platform allows for easy integration of AI-driven insights, helping retailers refine their content strategy based on performance metrics.\\n\\n## Measuring Effectiveness\\n\\nTo gauge the success of TikTok ad campaigns, retailers should track key metrics and KPIs, including:\\n\\n- **Cost Per Install (CPI)**\\n- **Cost Per Mille (CPM)**\\n- **Engagement Rates**\\n- **Reach and Impressions**\\n- **Clicks and Conversions**\\n- **Return on Ad Spend (ROAS)**\\n\\nBy monitoring these metrics, retailers can gain insights into the performance of their UGC and branded content, enabling them to make data-driven decisions to optimize their campaigns.\\n\\n## Successful Case Studies\\n\\nSeveral retail brands have successfully leveraged UGC and templated videos on TikTok to drive engagement and sales. For instance, **Fashion Nova** has utilized TikTok's branded effects feature to create engaging ad campaigns that resonate with its audience. Similarly, **Sephora** has partnered with popular TikTok creators to showcase their products authentically, resulting in increased brand awareness and sales.\\n\\nThese case studies illustrate the effectiveness of combining UGC with branded content, highlighting the potential for retailers to achieve similar success through StreamEye's templated video solution. Brands across various sectors can benefit from StreamEye's offerings, ensuring that their content remains fresh and aligned with current trends.\\n\\n## Best Practices for Creating Effective UGC\\n\\nTo maximize the impact of UGC on TikTok, retailers should consider the following best practices:\\n\\n1. **Adapt Strategies**: Tailor content to fit TikTok's unique culture and trends. This may involve participating in challenges or leveraging popular sounds.\\n\\n2. **Set Measurable Goals**: Establish clear objectives for each campaign, whether it's increasing brand awareness or driving sales.\\n\\n3. **Leverage Influencers**: Collaborate with TikTok influencers who align with your brand values to amplify reach and credibility.\\n\\n4. **Encourage Authenticity**: Foster a sense of community by encouraging users to share their experiences with your products in a genuine way.\\n\\n5. **Utilize StreamEye Templates**: Use StreamEye's templates to implement these best practices effectively, ensuring that your content is not only engaging but also consistent with your brand identity.\\n\\n## Conclusion\\n\\nAs TikTok continues to shape the future of digital advertising, the importance of user-generated content and branded masterpieces cannot be overstated. Retailers that embrace these trends and leverage StreamEye's templated video solution will be well-positioned to create high-quality, engaging content that resonates with their target audience.\\n\\nConsider exploring solutions like StreamEye's to enhance your TikTok advertising efforts and unlock the full potential of user-generated content. By understanding the latest trends and leveraging innovative solutions, retailers can navigate the challenges of TikTok advertising and unlock the full potential of user-generated content. Embrace the power of creativity and authenticity, and watch your brand thrive on this dynamic platform.\\n```\"}}\n",
      "{'__interrupt__': ()}\n"
     ]
    }
   ],
   "source": [
    "async for event in graph.astream(None, config=thread, stream_mode=\"updates\"):\n",
    "    print(event)"
   ]
  },
  {
   "cell_type": "code",
   "execution_count": 144,
   "id": "f8e6e55b-8080-4842-b266-154ce6e59d88",
   "metadata": {},
   "outputs": [],
   "source": [
    "final_state = await graph.aget_state(thread)\n",
    "article = final_state.values.get(\"final_article\")"
   ]
  },
  {
   "cell_type": "code",
   "execution_count": 145,
   "id": "8b1dfaa4-56e8-4122-9c98-3d90b65353bb",
   "metadata": {},
   "outputs": [
    {
     "data": {
      "text/plain": [
       "\"```markdown\\n# From User-Generated Content to Branded Masterpieces: How Retailers Can Leverage TikTok for Digital Advertising\\n\\nIn the ever-evolving landscape of digital advertising, TikTok has emerged as a powerhouse platform, particularly for retailers looking to engage with their audience through authentic and creative content. The rise of user-generated content (UGC) on TikTok has transformed the way brands connect with consumers, making it essential for retailers to harness this trend effectively. In this article, we will explore the latest tendencies in TikTok advertising, focusing on how retailers can leverage UGC to create branded masterpieces, and how StreamEye's templated video solution can streamline this process.\\n\\n## Current Trends in TikTok Advertising\\n\\nAccording to the latest [TikTok Advertising Trends report](https://www.admetrics.io/en/post/tiktok-advertising-trends), UGC has become a cornerstone of successful advertising strategies on the platform. With over 1.5 billion active users globally, TikTok offers a unique opportunity for brands to tap into a vast and engaged audience. The report highlights that UGC not only fosters authenticity but also enhances engagement, making it a powerful tool for retailers.\\n\\nMoreover, the integration of AI in advertising is reshaping how brands interact with consumers. Retailers are increasingly using AI to create personalized customer experiences, tailoring content to match individual preferences. This trend emphasizes the need for high-quality, branded content that resonates with the target audience. StreamEye's templated video solution incorporates AI capabilities, allowing retailers to optimize their content further and personalize their messaging effectively.\\n\\n## Pain Points for Retailers\\n\\nDespite the potential of UGC, retailers often face challenges when creating effective ad campaigns on TikTok. Common pain points include:\\n\\n1. **Creating Resonant Content**: With the sheer volume of content on TikTok, standing out and capturing users' attention can be daunting. Retailers must craft messages that resonate with their audience while maintaining brand identity.\\n\\n2. **Maintaining Consistency**: As brands scale their advertising efforts, ensuring consistency across various campaigns becomes increasingly difficult. Inconsistent messaging can dilute brand identity and confuse consumers.\\n\\n3. **Resource Constraints**: Producing high-quality content that aligns with brand standards can be time-consuming and resource-intensive, especially for smaller retailers.\\n\\n## StreamEye's Solution\\n\\nStreamEye offers a solution to these challenges through its templated video solution. By providing pre-designed templates that retailers can customize with their branding and messaging, StreamEye enables brands to create high-quality, branded content efficiently. This approach not only saves time and resources but also ensures consistency across all ad campaigns.\\n\\nRetailers can leverage StreamEye's templated videos to produce engaging UGC that aligns with their brand identity. This allows them to focus on what matters most—connecting with their audience and driving sales. Additionally, StreamEye's platform allows for easy integration of AI-driven insights, helping retailers refine their content strategy based on performance metrics.\\n\\n## Measuring Effectiveness\\n\\nTo gauge the success of TikTok ad campaigns, retailers should track key metrics and KPIs, including:\\n\\n- **Cost Per Install (CPI)**\\n- **Cost Per Mille (CPM)**\\n- **Engagement Rates**\\n- **Reach and Impressions**\\n- **Clicks and Conversions**\\n- **Return on Ad Spend (ROAS)**\\n\\nBy monitoring these metrics, retailers can gain insights into the performance of their UGC and branded content, enabling them to make data-driven decisions to optimize their campaigns.\\n\\n## Successful Case Studies\\n\\nSeveral retail brands have successfully leveraged UGC and templated videos on TikTok to drive engagement and sales. For instance, **Fashion Nova** has utilized TikTok's branded effects feature to create engaging ad campaigns that resonate with its audience. Similarly, **Sephora** has partnered with popular TikTok creators to showcase their products authentically, resulting in increased brand awareness and sales.\\n\\nThese case studies illustrate the effectiveness of combining UGC with branded content, highlighting the potential for retailers to achieve similar success through StreamEye's templated video solution. Brands across various sectors can benefit from StreamEye's offerings, ensuring that their content remains fresh and aligned with current trends.\\n\\n## Best Practices for Creating Effective UGC\\n\\nTo maximize the impact of UGC on TikTok, retailers should consider the following best practices:\\n\\n1. **Adapt Strategies**: Tailor content to fit TikTok's unique culture and trends. This may involve participating in challenges or leveraging popular sounds.\\n\\n2. **Set Measurable Goals**: Establish clear objectives for each campaign, whether it's increasing brand awareness or driving sales.\\n\\n3. **Leverage Influencers**: Collaborate with TikTok influencers who align with your brand values to amplify reach and credibility.\\n\\n4. **Encourage Authenticity**: Foster a sense of community by encouraging users to share their experiences with your products in a genuine way.\\n\\n5. **Utilize StreamEye Templates**: Use StreamEye's templates to implement these best practices effectively, ensuring that your content is not only engaging but also consistent with your brand identity.\\n\\n## Conclusion\\n\\nAs TikTok continues to shape the future of digital advertising, the importance of user-generated content and branded masterpieces cannot be overstated. Retailers that embrace these trends and leverage StreamEye's templated video solution will be well-positioned to create high-quality, engaging content that resonates with their target audience.\\n\\nConsider exploring solutions like StreamEye's to enhance your TikTok advertising efforts and unlock the full potential of user-generated content. By understanding the latest trends and leveraging innovative solutions, retailers can navigate the challenges of TikTok advertising and unlock the full potential of user-generated content. Embrace the power of creativity and authenticity, and watch your brand thrive on this dynamic platform.\\n```\""
      ]
     },
     "execution_count": 145,
     "metadata": {},
     "output_type": "execute_result"
    }
   ],
   "source": [
    "article"
   ]
  },
  {
   "cell_type": "code",
   "execution_count": 107,
   "id": "812b58c2-66b8-4c8c-883e-2d2747acfb5f",
   "metadata": {},
   "outputs": [],
   "source": [
    "final_history = [state async for state in graph.aget_state_history(config=thread)]"
   ]
  },
  {
   "cell_type": "code",
   "execution_count": 108,
   "id": "4fb50a6c-c0b1-49f9-b163-31bb184585fc",
   "metadata": {},
   "outputs": [
    {
     "data": {
      "text/plain": [
       "14"
      ]
     },
     "execution_count": 108,
     "metadata": {},
     "output_type": "execute_result"
    }
   ],
   "source": [
    "len(final_history)"
   ]
  },
  {
   "cell_type": "code",
   "execution_count": 101,
   "id": "a20deeb0-2924-47b5-baa6-72c9b99c5e9e",
   "metadata": {},
   "outputs": [
    {
     "data": {
      "text/plain": [
       "('apply_feedback_to_article',)"
      ]
     },
     "execution_count": 101,
     "metadata": {},
     "output_type": "execute_result"
    }
   ],
   "source": [
    "final_history[2].next"
   ]
  },
  {
   "cell_type": "code",
   "execution_count": 102,
   "id": "cb1559a1-4333-4976-b747-5941b8bd9e3e",
   "metadata": {
    "collapsed": true,
    "jupyter": {
     "outputs_hidden": true
    }
   },
   "outputs": [
    {
     "name": "stdout",
     "output_type": "stream",
     "text": [
      "{'apply_feedback_to_article': {'final_article': '```markdown\\n# Scaling Creativity: How Enterprise Brands Can Mass-Produce Digital Assets Without Sacrificing Quality\\n\\nIn today\\'s fast-paced digital landscape, enterprise brands are under constant pressure to produce high-quality digital assets at scale. A staggering 70% of marketers report that creating content is their biggest challenge, highlighting the need for efficient solutions. Whether it\\'s creating multiple versions of images for different social media platforms or generating unique videos for marketing campaigns, the demand for efficient and consistent content creation has never been higher. However, achieving this without compromising on quality can be a daunting task.\\n\\nThis article explores how enterprise brands can overcome these challenges by leveraging advanced tools like StreamEye, which not only streamlines the production process but also ensures that creativity and quality remain at the forefront.\\n\\n## The Challenge of Mass-Producing Digital Assets\\n\\nBefore diving into solutions, it\\'s essential to understand what mass-producing digital assets entails. According to marketing experts, this refers to efficiently creating and distributing a high volume of content in various formats and sizes for different channels and platforms [1]. This can include resizing images for social media or email marketing, as well as producing unique assets like short-form videos for TikTok or Instagram Reels.\\n\\nEnterprise brands often face several pain points when trying to produce digital assets at scale:\\n\\n- **Time-Consuming Manual Processes**: Manually creating and editing each asset is labor-intensive and time-consuming. As one industry expert noted, \"The manual process can drain resources and slow down campaigns.\"\\n- **Lack of Resources**: Small teams or limited budgets can hinder the production of high-quality content at the required volume.\\n- **Inconsistent Branding**: Without a centralized system, maintaining brand consistency across all channels becomes challenging [2].\\n- **Difficulty in Scaling Creative Work**: As businesses grow, their creative needs expand, but internal teams may not be equipped to handle increased demand.\\n\\nThese challenges can lead to delayed campaigns, reduced brand consistency, and decreased customer engagement. To address these issues effectively, brands need a robust solution that combines automation, customization, and seamless collaboration.\\n\\n## StreamEye: A Solution for Enterprise Brands\\n\\nStreamEye emerges as a powerful platform designed specifically to meet the needs of enterprise brands looking to scale their digital asset production while maintaining quality. By integrating automation, customization, and collaboration features, StreamEye offers a comprehensive solution to the challenges faced by marketers.\\n\\n### Automation Capabilities\\n\\nOne of the standout features of StreamEye is its automation capabilities. The platform allows users to automate repetitive tasks such as resizing images or generating social media posts. This not only saves time but also frees up creative teams to focus on more strategic and innovative work [3].\\n\\nFor instance, with StreamEye\\'s automation tools, marketers can quickly generate multiple versions of an image for different platforms without manual intervention. This efficiency ensures that content is delivered on time while maintaining high standards.\\n\\n### Customization Options\\n\\nCustomization is another area where StreamEye excels. The platform provides users with the ability to create custom templates and workflows tailored to their specific needs. Whether it\\'s designing a unique layout for social media posts or setting up a workflow for video production, StreamEye ensures that every asset produced aligns perfectly with brand guidelines.\\n\\nThis level of customization not only enhances consistency but also allows brands to adapt quickly to changing market demands. By having control over templates and workflows, teams can iterate rapidly on new offers and campaigns without compromising on quality. This aligns with StreamEye\\'s unique proposition of \"Own Your Brand.\"\\n\\n### Collaboration Benefits\\n\\nEffective collaboration is crucial for any successful marketing team. StreamEye facilitates seamless teamwork by allowing multiple stakeholders to review and approve content in real-time. This feature reduces the risk of errors and miscommunication, ensuring that everyone is aligned with the brand\\'s vision [3].\\n\\nFor example, a marketing team can collaborate on a video project where different members handle scriptwriting, design, and editing. StreamEye\\'s collaborative platform ensures that all changes are tracked, feedback is incorporated efficiently, and the final product meets high-quality standards. This adaptability reflects StreamEye\\'s commitment to being a \"Platform That Follows You.\"\\n\\n## A Real-World Success Story: LiveScore\\n\\nTo illustrate how StreamEye makes a difference, let\\'s look at the case of LiveScore, a leading sports media company. LiveScore uses StreamEye to produce high-volume, high-quality digital assets for their global audience. With StreamEye, they automate the creation of social media posts, resize images for different channels, and ensure brand consistency across all content [4].\\n\\nThis partnership has enabled LiveScore to streamline their production process, reduce manual errors, and deliver engaging content on time. Notably, LiveScore reported a 30% increase in content output and a 25% reduction in production time after implementing StreamEye. Their success story highlights how StreamEye can transform an organization\\'s digital asset production capabilities.\\n\\n## Ensuring Quality Control\\n\\nMaintaining quality is paramount in any digital asset production process. StreamEye addresses this through its Approvals feature, which enforces teams to publish only approved content by a designated party within the organization. This ensures that all assets meet the required standards before publication, particularly crucial for regulated markets [3].\\n\\nBy integrating quality control into the workflow, StreamEye helps brands maintain their reputation and deliver consistent experiences to their audience. This feature is especially beneficial for industries where compliance is critical, ensuring that all marketing materials adhere to necessary regulations.\\n\\n## Conclusion: Elevate Your Digital Asset Production\\n\\nIn conclusion, mass-producing digital assets at scale is no longer a challenge but an opportunity for enterprise brands. With the right tools like StreamEye, brands can automate repetitive tasks, customize workflows, collaborate seamlessly, and ensure quality control throughout the production process.\\n\\nIf you\\'re ready to transform your digital asset production and elevate your marketing efforts, it\\'s time to explore how StreamEye can be your partner in scaling creativity without sacrificing quality. **[Book a demo](https://www.streameye.com/contact)** today and receive a personalized consultation to see firsthand how StreamEye can revolutionize your approach to digital assets.\\n\\n---\\n\\n**References:**\\n\\n[1] https://openasset.com/blog/common-challenges-in-dam/\\n\\n[2] https://imagekit.io/blog/everything-you-need-to-know-about-brand-assets/\\n\\n[3] https://www.streameye.com/features\\n\\n[4] https://www.streameye.com/case-studies\\n```'}}\n",
      "{'__interrupt__': ()}\n"
     ]
    }
   ],
   "source": [
    "#try and reaply the article feedback with the smaller model but bigger context...\n",
    "async for event in graph.astream(None, config=final_history[2].config, stream_mode=\"updates\"):\n",
    "    print(event)"
   ]
  },
  {
   "cell_type": "code",
   "execution_count": 99,
   "id": "70facf36-f8be-4f53-a271-dfc0811c99f5",
   "metadata": {
    "collapsed": true,
    "jupyter": {
     "outputs_hidden": true
    }
   },
   "outputs": [
    {
     "data": {
      "text/plain": [
       "\"# Scaling Creativity: How Enterprise Brands Can Mass-Produce Digital Assets Without Sacrificing Quality\\n\\nIn today's fast-paced digital landscape, enterprise brands are under constant pressure to produce high-quality digital assets at scale. Whether it's creating multiple versions of images for different social media platforms or generating unique videos for marketing campaigns, the demand for efficient and consistent content creation has never been higher. However, achieving this without compromising on quality can be a daunting task.\\n\\nThis article explores how enterprise brands can overcome these challenges by leveraging advanced tools like StreamEye, which not only streamlines the production process but also ensures that creativity and quality remain at the forefront.\\n\\n## The Challenge of Mass-Producing Digital Assets\\n\\nBefore diving into solutions, it's essential to understand what mass-producing digital assets entails. According to marketing experts, this refers to efficiently creating and distributing a high volume of content in various formats and sizes for different channels and platforms [1]. This can include resizing images for social media or email marketing, as well as producing unique assets like short-form videos for TikTok or Instagram Reels.\\n\\nEnterprise brands often face several pain points when trying to produce digital assets at scale:\\n\\n- **Time-Consuming Manual Processes**: Manually creating and editing each asset is labor-intensive and time-consuming.\\n- **Lack of Resources**: Small teams or limited budgets can hinder the production of high-quality content at the required volume.\\n- **Inconsistent Branding**: Without a centralized system, maintaining brand consistency across all channels becomes challenging [2].\\n- **Difficulty in Scaling Creative Work**: As businesses grow, their creative needs expand, but internal teams may not be equipped to handle increased demand.\\n\\nThese challenges can lead to delayed campaigns, reduced brand consistency, and decreased customer engagement. To address these issues effectively, brands need a robust solution that combines automation, customization, and seamless collaboration.\\n\\n## StreamEye: A Solution for Enterprise Brands\\n\\nStreamEye emerges as a powerful platform designed specifically to meet the needs of enterprise brands looking to scale their digital asset production while maintaining quality. By integrating automation, customization, and collaboration features, StreamEye offers a comprehensive solution to the challenges faced by marketers.\\n\\n### Automation Capabilities\\n\\nOne of the standout features of StreamEye is its automation capabilities. The platform allows users to automate repetitive tasks such as resizing images or generating social media posts. This not only saves time but also frees up creative teams to focus on more strategic and innovative work [3].\\n\\nFor instance, with StreamEye's automation tools, marketers can quickly generate multiple versions of an image for different platforms without manual intervention. This efficiency ensures that content is delivered on time while maintaining high standards.\\n\\n### Customization Options\\n\\nCustomization is another area where StreamEye excels. The platform provides users with the ability to create custom templates and workflows tailored to their specific needs. Whether it's designing a unique layout for social media posts or setting up a workflow for video production, StreamEye ensures that every asset produced aligns perfectly with brand guidelines.\\n\\nThis level of customization not only enhances consistency but also allows brands to adapt quickly to changing market demands. By having control over templates and workflows, teams can iterate rapidly on new offers and campaigns without compromising on quality.\\n\\n### Collaboration Benefits\\n\\nEffective collaboration is crucial for any successful marketing team. StreamEye facilitates seamless teamwork by allowing multiple stakeholders to review and approve content in real-time. This feature reduces the risk of errors and miscommunication, ensuring that everyone is aligned with the brand's vision [3].\\n\\nFor example, a marketing team can collaborate on a video project where different members handle scriptwriting, design, and editing. StreamEye's collaborative platform ensures that all changes are tracked, feedback is incorporated efficiently, and the final product meets high-quality standards.\\n\\n## A Real-World Success Story: LiveScore\\n\\nTo illustrate how StreamEye makes a difference, let's look at the case of LiveScore, a leading sports media company. LiveScore uses StreamEye to produce high-volume, high-quality digital assets for their global audience. With StreamEye, they automate the creation of social media posts, resize images for different channels, and ensure brand consistency across all content [4].\\n\\nThis partnership has enabled LiveScore to streamline their production process, reduce manual errors, and deliver engaging content on time. Their success story highlights how StreamEye can transform an organization's digital asset production capabilities.\\n\\n## Ensuring Quality Control\\n\\nMaintaining quality is paramount in any digital asset production process. StreamEye addresses this through its Approvals feature, which enforces teams to publish only approved content by a designated party within the organization. This ensures that all assets meet the required standards before publication, particularly crucial for regulated markets [3].\\n\\nBy integrating quality control into the workflow, StreamEye helps brands maintain their reputation and deliver consistent experiences to their audience.\\n\\n## Conclusion: Elevate Your Digital Asset Production\\n\\nIn conclusion, mass-producing digital assets at scale is no longer a challenge but an opportunity for enterprise brands. With the right tools like StreamEye, brands can automate repetitive tasks, customize workflows, collaborate seamlessly, and ensure quality control throughout the production process.\\n\\nIf you're ready to transform your digital asset production and elevate your marketing efforts, it's time to explore how StreamEye can be your partner in scaling creativity without sacrificing quality. [Book a demo](/contact) today and see firsthand how StreamEye can revolutionize your approach to digital assets.\\n\\n---\\n\\n**References:**\\n\\n[1] https://openasset.com/blog/common-challenges-in-dam/\\n\\n[2] https://imagekit.io/blog/everything-you-need-to-know-about-brand-assets/\\n\\n[3] https://www.streameye.com/features\\n\\n[4] https://www.streameye.com/case-studies\""
      ]
     },
     "execution_count": 99,
     "metadata": {},
     "output_type": "execute_result"
    }
   ],
   "source": [
    "final_state.values.get(\"final_article\")"
   ]
  },
  {
   "cell_type": "code",
   "execution_count": 67,
   "id": "bd406aaf-f90f-4084-9ba9-6c01f6cdfd95",
   "metadata": {},
   "outputs": [
    {
     "name": "stdout",
     "output_type": "stream",
     "text": [
      "None\n",
      "None\n",
      "None\n",
      "None\n",
      "None\n",
      "None\n",
      "None\n",
      "None\n",
      "None\n",
      "None\n",
      "None\n",
      "None\n"
     ]
    }
   ],
   "source": [
    "for step in final_history:\n",
    "    print(step.values.get(\"search_query\"))"
   ]
  },
  {
   "cell_type": "code",
   "execution_count": 146,
   "id": "1deae37b-be65-44e3-be49-f550347853fd",
   "metadata": {},
   "outputs": [
    {
     "data": {
      "text/markdown": [
       "```markdown\n",
       "# From User-Generated Content to Branded Masterpieces: How Retailers Can Leverage TikTok for Digital Advertising\n",
       "\n",
       "In the ever-evolving landscape of digital advertising, TikTok has emerged as a powerhouse platform, particularly for retailers looking to engage with their audience through authentic and creative content. The rise of user-generated content (UGC) on TikTok has transformed the way brands connect with consumers, making it essential for retailers to harness this trend effectively. In this article, we will explore the latest tendencies in TikTok advertising, focusing on how retailers can leverage UGC to create branded masterpieces, and how StreamEye's templated video solution can streamline this process.\n",
       "\n",
       "## Current Trends in TikTok Advertising\n",
       "\n",
       "According to the latest [TikTok Advertising Trends report](https://www.admetrics.io/en/post/tiktok-advertising-trends), UGC has become a cornerstone of successful advertising strategies on the platform. With over 1.5 billion active users globally, TikTok offers a unique opportunity for brands to tap into a vast and engaged audience. The report highlights that UGC not only fosters authenticity but also enhances engagement, making it a powerful tool for retailers.\n",
       "\n",
       "Moreover, the integration of AI in advertising is reshaping how brands interact with consumers. Retailers are increasingly using AI to create personalized customer experiences, tailoring content to match individual preferences. This trend emphasizes the need for high-quality, branded content that resonates with the target audience. StreamEye's templated video solution incorporates AI capabilities, allowing retailers to optimize their content further and personalize their messaging effectively.\n",
       "\n",
       "## Pain Points for Retailers\n",
       "\n",
       "Despite the potential of UGC, retailers often face challenges when creating effective ad campaigns on TikTok. Common pain points include:\n",
       "\n",
       "1. **Creating Resonant Content**: With the sheer volume of content on TikTok, standing out and capturing users' attention can be daunting. Retailers must craft messages that resonate with their audience while maintaining brand identity.\n",
       "\n",
       "2. **Maintaining Consistency**: As brands scale their advertising efforts, ensuring consistency across various campaigns becomes increasingly difficult. Inconsistent messaging can dilute brand identity and confuse consumers.\n",
       "\n",
       "3. **Resource Constraints**: Producing high-quality content that aligns with brand standards can be time-consuming and resource-intensive, especially for smaller retailers.\n",
       "\n",
       "## StreamEye's Solution\n",
       "\n",
       "StreamEye offers a solution to these challenges through its templated video solution. By providing pre-designed templates that retailers can customize with their branding and messaging, StreamEye enables brands to create high-quality, branded content efficiently. This approach not only saves time and resources but also ensures consistency across all ad campaigns.\n",
       "\n",
       "Retailers can leverage StreamEye's templated videos to produce engaging UGC that aligns with their brand identity. This allows them to focus on what matters most—connecting with their audience and driving sales. Additionally, StreamEye's platform allows for easy integration of AI-driven insights, helping retailers refine their content strategy based on performance metrics.\n",
       "\n",
       "## Measuring Effectiveness\n",
       "\n",
       "To gauge the success of TikTok ad campaigns, retailers should track key metrics and KPIs, including:\n",
       "\n",
       "- **Cost Per Install (CPI)**\n",
       "- **Cost Per Mille (CPM)**\n",
       "- **Engagement Rates**\n",
       "- **Reach and Impressions**\n",
       "- **Clicks and Conversions**\n",
       "- **Return on Ad Spend (ROAS)**\n",
       "\n",
       "By monitoring these metrics, retailers can gain insights into the performance of their UGC and branded content, enabling them to make data-driven decisions to optimize their campaigns.\n",
       "\n",
       "## Successful Case Studies\n",
       "\n",
       "Several retail brands have successfully leveraged UGC and templated videos on TikTok to drive engagement and sales. For instance, **Fashion Nova** has utilized TikTok's branded effects feature to create engaging ad campaigns that resonate with its audience. Similarly, **Sephora** has partnered with popular TikTok creators to showcase their products authentically, resulting in increased brand awareness and sales.\n",
       "\n",
       "These case studies illustrate the effectiveness of combining UGC with branded content, highlighting the potential for retailers to achieve similar success through StreamEye's templated video solution. Brands across various sectors can benefit from StreamEye's offerings, ensuring that their content remains fresh and aligned with current trends.\n",
       "\n",
       "## Best Practices for Creating Effective UGC\n",
       "\n",
       "To maximize the impact of UGC on TikTok, retailers should consider the following best practices:\n",
       "\n",
       "1. **Adapt Strategies**: Tailor content to fit TikTok's unique culture and trends. This may involve participating in challenges or leveraging popular sounds.\n",
       "\n",
       "2. **Set Measurable Goals**: Establish clear objectives for each campaign, whether it's increasing brand awareness or driving sales.\n",
       "\n",
       "3. **Leverage Influencers**: Collaborate with TikTok influencers who align with your brand values to amplify reach and credibility.\n",
       "\n",
       "4. **Encourage Authenticity**: Foster a sense of community by encouraging users to share their experiences with your products in a genuine way.\n",
       "\n",
       "5. **Utilize StreamEye Templates**: Use StreamEye's templates to implement these best practices effectively, ensuring that your content is not only engaging but also consistent with your brand identity.\n",
       "\n",
       "## Conclusion\n",
       "\n",
       "As TikTok continues to shape the future of digital advertising, the importance of user-generated content and branded masterpieces cannot be overstated. Retailers that embrace these trends and leverage StreamEye's templated video solution will be well-positioned to create high-quality, engaging content that resonates with their target audience.\n",
       "\n",
       "Consider exploring solutions like StreamEye's to enhance your TikTok advertising efforts and unlock the full potential of user-generated content. By understanding the latest trends and leveraging innovative solutions, retailers can navigate the challenges of TikTok advertising and unlock the full potential of user-generated content. Embrace the power of creativity and authenticity, and watch your brand thrive on this dynamic platform.\n",
       "```"
      ],
      "text/plain": [
       "<IPython.core.display.Markdown object>"
      ]
     },
     "metadata": {},
     "output_type": "display_data"
    }
   ],
   "source": [
    "display(Markdown(article))\n",
    "\n",
    "with open('./data/streameye_context_data/tik-tok.2.md', 'w') as f:\n",
    "    f.write(article)"
   ]
  }
 ],
 "metadata": {
  "kernelspec": {
   "display_name": "Python 3 (ipykernel)",
   "language": "python",
   "name": "python3"
  },
  "language_info": {
   "codemirror_mode": {
    "name": "ipython",
    "version": 3
   },
   "file_extension": ".py",
   "mimetype": "text/x-python",
   "name": "python",
   "nbconvert_exporter": "python",
   "pygments_lexer": "ipython3",
   "version": "3.12.7"
  }
 },
 "nbformat": 4,
 "nbformat_minor": 5
}
