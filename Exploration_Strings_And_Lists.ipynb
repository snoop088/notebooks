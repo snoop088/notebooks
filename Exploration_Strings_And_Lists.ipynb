{
 "cells": [
  {
   "cell_type": "markdown",
   "id": "93f489e9-7abe-40e2-bf71-f46cbb0c794b",
   "metadata": {},
   "source": [
    "## Various Python Strings and List Examples\n",
    "\n",
    "Playground for various list and sting manipulations - `Learning Python`"
   ]
  },
  {
   "cell_type": "code",
   "execution_count": 1,
   "id": "51b13d4e-0073-401e-af80-fb73c71d8f57",
   "metadata": {},
   "outputs": [],
   "source": [
    "tt = [[\"str 1\", \"str 2\", \"str 3\"], [\"ssee1\", \"sdfe2\", \"sdee\"]]\n",
    "sent = \"I am a short and cool sentence\"\n",
    "text = [\"I can't give a full answer, but I can partially answer your question about the Titan \\\n",
    "flyby. Many flybys within a system that they're studying (for example Cassini in the Saturn system) \\\n",
    "are planned relatively soon before the encounter. Basically the scientists doing the mission will know \\\n",
    "that the probe will get pretty close to a body a few years in advance. They will then consider whether \\\n",
    "to use/how much fuel should be used to optimize the flyby. As an example, Cassini will come close to Iapetus \\\n",
    "in 2015, and a flyby is being considered, but not currently planned.\", \"Another Shorter Sentence.\"]\n",
    "\n"
   ]
  },
  {
   "cell_type": "markdown",
   "id": "5415f6ca-bfa0-45d3-ac71-396b8bbd9ea4",
   "metadata": {},
   "source": [
    "Playing with strings - for each character in a string add a copy of the character and separate each new pair with `|`\n",
    "\n",
    "So first it splits the string (sentence) on each character, adds another and the resulting list is joined by '|'"
   ]
  },
  {
   "cell_type": "code",
   "execution_count": 2,
   "id": "82b3f3a3-9569-4bc5-ae66-909b13ac366f",
   "metadata": {},
   "outputs": [
    {
     "data": {
      "text/plain": [
       "'II|  |aa|mm|  |aa|  |ss|hh|oo|rr|tt|  |aa|nn|dd|  |cc|oo|oo|ll|  |ss|ee|nn|tt|ee|nn|cc|ee'"
      ]
     },
     "execution_count": 2,
     "metadata": {},
     "output_type": "execute_result"
    }
   ],
   "source": [
    "\"|\".join([x*2 for x in sent])"
   ]
  },
  {
   "cell_type": "markdown",
   "id": "40e1c47f-c9c0-4312-8e08-1232c1f3acdf",
   "metadata": {},
   "source": [
    "It traverses a list of paragraphs and splits each paragraph in sentences by spliting on '.'. This leaves a trailing empty string which is then removed."
   ]
  },
  {
   "cell_type": "code",
   "execution_count": 3,
   "id": "cebab91b-3e2d-4835-9306-6de8697f8df1",
   "metadata": {},
   "outputs": [
    {
     "data": {
      "text/plain": [
       "[[\"I can't give a full answer, but I can partially answer your question about the Titan flyby\",\n",
       "  \"Many flybys within a system that they're studying (for example Cassini in the Saturn system) are planned relatively soon before the encounter\",\n",
       "  'Basically the scientists doing the mission will know that the probe will get pretty close to a body a few years in advance',\n",
       "  'They will then consider whether to use/how much fuel should be used to optimize the flyby',\n",
       "  'As an example, Cassini will come close to Iapetus in 2015, and a flyby is being considered, but not currently planned'],\n",
       " ['Another Shorter Sentence']]"
      ]
     },
     "execution_count": 3,
     "metadata": {},
     "output_type": "execute_result"
    }
   ],
   "source": [
    "text_joined = [\n",
    "                [k.strip() for k in x.split('.')] \n",
    "                   for x in text\n",
    "               ]\n",
    "text_joined = [sentence[:-1] for sentence in text_joined]\n",
    "text_joined"
   ]
  },
  {
   "cell_type": "markdown",
   "id": "45e05ac4-d4be-4e2c-ae26-7c5573176023",
   "metadata": {},
   "source": [
    "The below uses `sum()` to concatenate a list of list of strings into a flat list."
   ]
  },
  {
   "cell_type": "code",
   "execution_count": 4,
   "id": "f8f69b83-81d5-4d4c-a023-d3f521f7ff0c",
   "metadata": {},
   "outputs": [
    {
     "data": {
      "text/plain": [
       "['str 1', 'str 2', 'str 3', 'ssee1', 'sdfe2', 'sdee']"
      ]
     },
     "execution_count": 4,
     "metadata": {},
     "output_type": "execute_result"
    }
   ],
   "source": [
    "sum(tt, [])"
   ]
  },
  {
   "cell_type": "code",
   "execution_count": 2,
   "id": "6d7f2887-48b9-4ba6-a4b7-67fbc738b8be",
   "metadata": {},
   "outputs": [
    {
     "name": "stdout",
     "output_type": "stream",
     "text": [
      "['giraffe', 'horse', 'jojo']\n"
     ]
    }
   ],
   "source": [
    "def bubble_sort(arr):\n",
    "    n = len(arr)\n",
    "    for i in range(n-1):\n",
    "        for j in range(0, n-i-1):\n",
    "            if arr[j] > arr[j+1]:\n",
    "                arr[j], arr[j+1] = arr[j+1], arr[j]\n",
    "    return arr\n",
    "\n",
    "# Test the function with an example list\n",
    "my_list = [\"jojo\", \"giraffe\", \"horse\"]\n",
    "print(bubble_sort(my_list)) # Output: ['apple', 'banana', 'cherry']"
   ]
  },
  {
   "cell_type": "code",
   "execution_count": 10,
   "id": "4247e722-8f3c-4e76-8be1-8ea1cf769dc3",
   "metadata": {},
   "outputs": [
    {
     "name": "stdout",
     "output_type": "stream",
     "text": [
      "Thread ID: 0 124332835587648\n",
      "Hello from thread! 0\n",
      "Thread ID: 1 124332843980352\n",
      "Hello from thread! 1\n",
      "Thread ID: 2 124332852373056\n",
      "Hello from thread! 2\n",
      "Thread ID: 3 124332860765760\n",
      "Hello from thread! 3\n",
      "Thread ID: 4 124333408097856\n",
      "Hello from thread! 4\n",
      "All threads finished.\n"
     ]
    }
   ],
   "source": [
    "import threading\n",
    "import time\n",
    "\n",
    "def worker(i):\n",
    "    \"\"\"A simple worker function that prints some text.\"\"\"\n",
    "    print(f\"Thread ID: {i}\", threading.current_thread().ident)\n",
    "    print(\"Hello from thread!\", i)\n",
    "    time.sleep(5)\n",
    "\n",
    "# Create five threads and start them\n",
    "threads = []\n",
    "for i in range(5):\n",
    "    thread = threading.Thread(target=worker, args=(i,))\n",
    "    thread.start()\n",
    "    threads.append(thread)\n",
    "\n",
    "# wait for all threads to finish\n",
    "for thread in threads:\n",
    "    thread.join()\n",
    "print(\"All threads finished.\")"
   ]
  },
  {
   "cell_type": "markdown",
   "id": "1ff409c7-b94c-442b-b358-550ccdcb3b6c",
   "metadata": {},
   "source": [
    "### Some Sanitising Tests\n",
    "\n",
    "- remove additional white spaces, convert single white space to '-'\n",
    "- remove special characters and allow only a-zA-Z0-9 + '-' or '_' in the name"
   ]
  },
  {
   "cell_type": "code",
   "execution_count": 2,
   "id": "73f417dc-b9a9-4a8e-91cb-c57b30d3d111",
   "metadata": {},
   "outputs": [],
   "source": [
    "import re\n",
    "import os"
   ]
  },
  {
   "cell_type": "code",
   "execution_count": 10,
   "id": "2c6883cc-461d-4f49-843b-a57cda929af9",
   "metadata": {},
   "outputs": [],
   "source": [
    "text_to_sanitise = \"AWS Project – Building a React App with Amplify, Cognito, and CICD with GitHub  AWS Tutorial.mp3\"\n",
    "sanitized_file = re.sub(r'\\s+', '-', text_to_sanitise.strip())\n",
    "\n",
    "sanitized_file = re.sub(r'[^a-zA-Z0-9-_.]', '', sanitized_file)\n",
    "sanitized_file = re.sub(r'[-_]+', '-', sanitized_file)"
   ]
  },
  {
   "cell_type": "code",
   "execution_count": 11,
   "id": "fbc5f590-03e1-48f1-8d89-6c903974dd52",
   "metadata": {},
   "outputs": [
    {
     "data": {
      "text/plain": [
       "'AWS-Project-Building-a-React-App-with-Amplify-Cognito-and-CICD-with-GitHub-AWS-Tutorial.mp3'"
      ]
     },
     "execution_count": 11,
     "metadata": {},
     "output_type": "execute_result"
    }
   ],
   "source": [
    "sanitized_file"
   ]
  }
 ],
 "metadata": {
  "kernelspec": {
   "display_name": "Python 3 (ipykernel)",
   "language": "python",
   "name": "python3"
  },
  "language_info": {
   "codemirror_mode": {
    "name": "ipython",
    "version": 3
   },
   "file_extension": ".py",
   "mimetype": "text/x-python",
   "name": "python",
   "nbconvert_exporter": "python",
   "pygments_lexer": "ipython3",
   "version": "3.11.9"
  }
 },
 "nbformat": 4,
 "nbformat_minor": 5
}
