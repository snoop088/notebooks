{
 "cells": [
  {
   "cell_type": "code",
   "execution_count": 1,
   "id": "28d2c041-ba0f-4c4c-904e-f7efdce1f314",
   "metadata": {},
   "outputs": [
    {
     "data": {
      "application/vnd.jupyter.widget-view+json": {
       "model_id": "d14af0ca7f0244c4baf98b28f4bc7479",
       "version_major": 2,
       "version_minor": 0
      },
      "text/plain": [
       "Loading checkpoint shards:   0%|          | 0/2 [00:00<?, ?it/s]"
      ]
     },
     "metadata": {},
     "output_type": "display_data"
    },
    {
     "name": "stderr",
     "output_type": "stream",
     "text": [
      "WARNING:root:Some parameters are on the meta device device because they were offloaded to the cpu.\n",
      "WARNING:root:Some parameters are on the meta device device because they were offloaded to the cpu.\n"
     ]
    }
   ],
   "source": [
    "from datasets import load_dataset\n",
    "from transformers import AutoTokenizer, AutoModelForCausalLM\n",
    "from peft import PeftModel\n",
    "import torch\n",
    "\n",
    "\n",
    "base_model = AutoModelForCausalLM.from_pretrained(\n",
    "    'meta-llama/Llama-2-7b-chat-hf',\n",
    "    trust_remote_code=True,\n",
    "    device_map=\"auto\",\n",
    "    torch_dtype=torch.float16,   # optional if you have enough VRAM\n",
    ")\n",
    "tokenizer = AutoTokenizer.from_pretrained('meta-llama/Llama-2-7b-chat-hf')\n",
    "\n",
    "model = PeftModel.from_pretrained(base_model, 'FinGPT/fingpt-forecaster_dow30_llama2-7b_lora')\n",
    "model = model.eval()"
   ]
  },
  {
   "cell_type": "code",
   "execution_count": 2,
   "id": "f4463edf-31d5-4fd9-baa1-3254130c47fd",
   "metadata": {},
   "outputs": [],
   "source": [
    "prompt = \"\"\"\n",
    "[Company Introduction]:\n",
    "\n",
    "{name} is a leading entity in the {finnhubIndustry} sector. Incorporated and publicly traded since {ipo}, the company has established its reputation as one of the key players in the market. As of today, {name} has a market capitalization of {marketCapitalization:.2f} in {currency}, with {shareOutstanding:.2f} shares outstanding. {name} operates primarily in the {country}, trading under the ticker {ticker} on the {exchange}. As a dominant force in the {finnhubIndustry} space, the company continues to innovate and drive progress within the industry.\n",
    "\n",
    "From {startDate} to {endDate}, {name}'s stock price {increase/decrease} from {startPrice} to {endPrice}. Company news during this period are listed below:\n",
    "\n",
    "[Headline]: ...\n",
    "[Summary]: ...\n",
    "\n",
    "[Headline]: ...\n",
    "[Summary]: ...\n",
    "\n",
    "Some recent basic financials of {name}, reported at {date}, are presented below:\n",
    "\n",
    "[Basic Financials]:\n",
    "{attr1}: {value1}\n",
    "{attr2}: {value2}\n",
    "...\n",
    "\n",
    "Based on all the information before {curday}, let's first analyze the positive developments and potential concerns for {symbol}. Come up with 2-4 most important factors respectively and keep them concise. Most factors should be inferred from company-related news. Then make your prediction of the {symbol} stock price movement for next week ({period}). Provide a summary analysis to support your prediction.\n",
    "\n",
    "\"\"\""
   ]
  },
  {
   "cell_type": "code",
   "execution_count": 3,
   "id": "f865cac1-1752-4cb2-80ec-73c23b806613",
   "metadata": {},
   "outputs": [],
   "source": [
    "SYSTEM_PROMPT = \"You are a seasoned stock market analyst. Your task is to list the positive developments and potential concerns for companies based on relevant news and basic financials from the past weeks, then provide an analysis and prediction for the companies' stock price movement for the upcoming week. Your answer format should be as follows:\\n\\n[Positive Developments]:\\n1. ...\\n\\n[Potential Concerns]:\\n1. ...\\n\\n[Prediction & Analysis]:\\n...\\n\"\n",
    "\n",
    "B_INST, E_INST = \"[INST]\", \"[/INST]\"\n",
    "B_SYS, E_SYS = \"<<SYS>>\\n\", \"\\n<</SYS>>\\n\\n\"\n",
    "\n",
    "prompt = B_INST + B_SYS + SYSTEM_PROMPT + E_SYS + 'NVDA' + E_INST\n",
    "inputs = tokenizer(\n",
    "    prompt, return_tensors='pt'\n",
    ")\n",
    "inputs = {key: value.to(model.device) for key, value in inputs.items()}\n",
    "        \n",
    "res = model.generate(\n",
    "    **inputs, max_length=4096, do_sample=True,\n",
    "    eos_token_id=tokenizer.eos_token_id,\n",
    "    use_cache=True\n",
    ")\n",
    "output = tokenizer.decode(res[0], skip_special_tokens=True)"
   ]
  },
  {
   "cell_type": "code",
   "execution_count": 4,
   "id": "486df30a-389a-45cf-a683-eb17542794ed",
   "metadata": {},
   "outputs": [
    {
     "data": {
      "text/plain": [
       "({'input_ids': tensor([[    1,   518, 25580, 29962,  9314, 14816, 29903,  6778,    13,  3492,\n",
       "             526,   263,  4259,   287, 10961,  9999,  3483,   858, 29889,  3575,\n",
       "            3414,   338,   304,  1051,   278,  6374,  2693,  1860,   322,  7037,\n",
       "           21838,   363, 14582,  2729,   373,  8018,  9763,   322,  6996, 22347,\n",
       "            1338,   515,   278,  4940, 11405, 29892,   769,  3867,   385,  7418,\n",
       "             322, 18988,   363,   278, 14582, 29915, 10961,  8666, 10298,   363,\n",
       "             278,   701, 11506,  4723, 29889,  3575,  1234,  3402,   881,   367,\n",
       "             408,  4477, 29901,    13,    13, 29961,  9135,  3321, 10682,  1860,\n",
       "            5387,    13, 29896, 29889,  2023,    13,    13, 29961, 29925,   327,\n",
       "            2556, 23924,   824, 29879,  5387,    13, 29896, 29889,  2023,    13,\n",
       "              13, 29961, 23084,  2463,   669, 24352,  5387,    13,   856,    13,\n",
       "              13, 29966,   829, 14816, 29903,  6778,    13,    13, 29940, 29963,\n",
       "            7698, 29961, 29914, 25580, 29962]], device='cuda:0'),\n",
       "  'attention_mask': tensor([[1, 1, 1, 1, 1, 1, 1, 1, 1, 1, 1, 1, 1, 1, 1, 1, 1, 1, 1, 1, 1, 1, 1, 1,\n",
       "           1, 1, 1, 1, 1, 1, 1, 1, 1, 1, 1, 1, 1, 1, 1, 1, 1, 1, 1, 1, 1, 1, 1, 1,\n",
       "           1, 1, 1, 1, 1, 1, 1, 1, 1, 1, 1, 1, 1, 1, 1, 1, 1, 1, 1, 1, 1, 1, 1, 1,\n",
       "           1, 1, 1, 1, 1, 1, 1, 1, 1, 1, 1, 1, 1, 1, 1, 1, 1, 1, 1, 1, 1, 1, 1, 1,\n",
       "           1, 1, 1, 1, 1, 1, 1, 1, 1, 1, 1, 1, 1, 1, 1, 1, 1, 1, 1, 1, 1, 1, 1, 1,\n",
       "           1, 1, 1, 1, 1]], device='cuda:0')},\n",
       " \"[INST]<<SYS>>\\nYou are a seasoned stock market analyst. Your task is to list the positive developments and potential concerns for companies based on relevant news and basic financials from the past weeks, then provide an analysis and prediction for the companies' stock price movement for the upcoming week. Your answer format should be as follows:\\n\\n[Positive Developments]:\\n1. ...\\n\\n[Potential Concerns]:\\n1. ...\\n\\n[Prediction & Analysis]:\\n...\\n\\n<</SYS>>\\n\\nNVDA[/INST] [Prediction & Analysis]:\\nThe week ahead promises to be exciting for NVDA, given the recent developments. Here are the positive developments:\\n\\n1. NVIDIA has announced the launch of its new graphics\")"
      ]
     },
     "execution_count": 4,
     "metadata": {},
     "output_type": "execute_result"
    }
   ],
   "source": [
    "inputs, output"
   ]
  }
 ],
 "metadata": {
  "kernelspec": {
   "display_name": "Python 3 (ipykernel)",
   "language": "python",
   "name": "python3"
  },
  "language_info": {
   "codemirror_mode": {
    "name": "ipython",
    "version": 3
   },
   "file_extension": ".py",
   "mimetype": "text/x-python",
   "name": "python",
   "nbconvert_exporter": "python",
   "pygments_lexer": "ipython3",
   "version": "3.11.6"
  }
 },
 "nbformat": 4,
 "nbformat_minor": 5
}
