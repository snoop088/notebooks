{
 "cells": [
  {
   "cell_type": "markdown",
   "id": "12895f45-3aa5-442e-b0fe-09c6c1527260",
   "metadata": {},
   "source": [
    "# Introduction to LangGraph\n",
    "\n",
    "Setting up environment"
   ]
  },
  {
   "cell_type": "code",
   "execution_count": 1,
   "id": "ffd11501-63f9-46a9-a663-34951802e5e8",
   "metadata": {
    "collapsed": true,
    "jupyter": {
     "outputs_hidden": true
    }
   },
   "outputs": [
    {
     "name": "stdout",
     "output_type": "stream",
     "text": [
      "Requirement already satisfied: transformers in /opt/conda/lib/python3.11/site-packages (4.42.4)\n",
      "Collecting transformers\n",
      "  Downloading transformers-4.46.0-py3-none-any.whl.metadata (44 kB)\n",
      "\u001b[2K     \u001b[90m━━━━━━━━━━━━━━━━━━━━━━━━━━━━━━━━━━━━━━━━\u001b[0m \u001b[32m44.1/44.1 kB\u001b[0m \u001b[31m1.5 MB/s\u001b[0m eta \u001b[36m0:00:00\u001b[0m\n",
      "\u001b[?25hRequirement already satisfied: filelock in /opt/conda/lib/python3.11/site-packages (from transformers) (3.15.4)\n",
      "Requirement already satisfied: huggingface-hub<1.0,>=0.23.2 in /opt/conda/lib/python3.11/site-packages (from transformers) (0.24.0)\n",
      "Requirement already satisfied: numpy>=1.17 in /opt/conda/lib/python3.11/site-packages (from transformers) (1.26.4)\n",
      "Requirement already satisfied: packaging>=20.0 in /opt/conda/lib/python3.11/site-packages (from transformers) (24.1)\n",
      "Requirement already satisfied: pyyaml>=5.1 in /opt/conda/lib/python3.11/site-packages (from transformers) (6.0.1)\n",
      "Requirement already satisfied: regex!=2019.12.17 in /opt/conda/lib/python3.11/site-packages (from transformers) (2024.5.15)\n",
      "Requirement already satisfied: requests in /opt/conda/lib/python3.11/site-packages (from transformers) (2.32.3)\n",
      "Requirement already satisfied: safetensors>=0.4.1 in /opt/conda/lib/python3.11/site-packages (from transformers) (0.4.3)\n",
      "Collecting tokenizers<0.21,>=0.20 (from transformers)\n",
      "  Downloading tokenizers-0.20.1-cp311-cp311-manylinux_2_17_x86_64.manylinux2014_x86_64.whl.metadata (6.7 kB)\n",
      "Requirement already satisfied: tqdm>=4.27 in /opt/conda/lib/python3.11/site-packages (from transformers) (4.66.4)\n",
      "Requirement already satisfied: fsspec>=2023.5.0 in /opt/conda/lib/python3.11/site-packages (from huggingface-hub<1.0,>=0.23.2->transformers) (2024.5.0)\n",
      "Requirement already satisfied: typing-extensions>=3.7.4.3 in /opt/conda/lib/python3.11/site-packages (from huggingface-hub<1.0,>=0.23.2->transformers) (4.12.2)\n",
      "Requirement already satisfied: charset-normalizer<4,>=2 in /opt/conda/lib/python3.11/site-packages (from requests->transformers) (3.3.2)\n",
      "Requirement already satisfied: idna<4,>=2.5 in /opt/conda/lib/python3.11/site-packages (from requests->transformers) (3.7)\n",
      "Requirement already satisfied: urllib3<3,>=1.21.1 in /opt/conda/lib/python3.11/site-packages (from requests->transformers) (2.2.2)\n",
      "Requirement already satisfied: certifi>=2017.4.17 in /opt/conda/lib/python3.11/site-packages (from requests->transformers) (2024.7.4)\n",
      "Downloading transformers-4.46.0-py3-none-any.whl (10.0 MB)\n",
      "\u001b[2K   \u001b[90m━━━━━━━━━━━━━━━━━━━━━━━━━━━━━━━━━━━━━━━━\u001b[0m \u001b[32m10.0/10.0 MB\u001b[0m \u001b[31m59.6 MB/s\u001b[0m eta \u001b[36m0:00:00\u001b[0m00:01\u001b[0m0:01\u001b[0m\n",
      "\u001b[?25hDownloading tokenizers-0.20.1-cp311-cp311-manylinux_2_17_x86_64.manylinux2014_x86_64.whl (3.0 MB)\n",
      "\u001b[2K   \u001b[90m━━━━━━━━━━━━━━━━━━━━━━━━━━━━━━━━━━━━━━━━\u001b[0m \u001b[32m3.0/3.0 MB\u001b[0m \u001b[31m45.8 MB/s\u001b[0m eta \u001b[36m0:00:00\u001b[0m00:01\u001b[0m\n",
      "\u001b[?25hInstalling collected packages: tokenizers, transformers\n",
      "  Attempting uninstall: tokenizers\n",
      "    Found existing installation: tokenizers 0.19.1\n",
      "    Uninstalling tokenizers-0.19.1:\n",
      "      Successfully uninstalled tokenizers-0.19.1\n",
      "  Attempting uninstall: transformers\n",
      "    Found existing installation: transformers 4.42.4\n",
      "    Uninstalling transformers-4.42.4:\n",
      "      Successfully uninstalled transformers-4.42.4\n",
      "Successfully installed tokenizers-0.20.1 transformers-4.46.0\n",
      "Collecting langchain_groq\n",
      "  Downloading langchain_groq-0.2.0-py3-none-any.whl.metadata (2.9 kB)\n",
      "Collecting groq<1,>=0.4.1 (from langchain_groq)\n",
      "  Downloading groq-0.11.0-py3-none-any.whl.metadata (13 kB)\n",
      "Collecting langchain-core<0.4,>=0.3 (from langchain_groq)\n",
      "  Downloading langchain_core-0.3.13-py3-none-any.whl.metadata (6.3 kB)\n",
      "Requirement already satisfied: anyio<5,>=3.5.0 in /opt/conda/lib/python3.11/site-packages (from groq<1,>=0.4.1->langchain_groq) (4.4.0)\n",
      "Requirement already satisfied: distro<2,>=1.7.0 in /opt/conda/lib/python3.11/site-packages (from groq<1,>=0.4.1->langchain_groq) (1.9.0)\n",
      "Requirement already satisfied: httpx<1,>=0.23.0 in /opt/conda/lib/python3.11/site-packages (from groq<1,>=0.4.1->langchain_groq) (0.27.0)\n",
      "Requirement already satisfied: pydantic<3,>=1.9.0 in /opt/conda/lib/python3.11/site-packages (from groq<1,>=0.4.1->langchain_groq) (2.8.2)\n",
      "Requirement already satisfied: sniffio in /opt/conda/lib/python3.11/site-packages (from groq<1,>=0.4.1->langchain_groq) (1.3.1)\n",
      "Requirement already satisfied: typing-extensions<5,>=4.7 in /opt/conda/lib/python3.11/site-packages (from groq<1,>=0.4.1->langchain_groq) (4.12.2)\n",
      "Requirement already satisfied: PyYAML>=5.3 in /opt/conda/lib/python3.11/site-packages (from langchain-core<0.4,>=0.3->langchain_groq) (6.0.1)\n",
      "Requirement already satisfied: jsonpatch<2.0,>=1.33 in /opt/conda/lib/python3.11/site-packages (from langchain-core<0.4,>=0.3->langchain_groq) (1.33)\n",
      "Collecting langsmith<0.2.0,>=0.1.125 (from langchain-core<0.4,>=0.3->langchain_groq)\n",
      "  Downloading langsmith-0.1.137-py3-none-any.whl.metadata (13 kB)\n",
      "Requirement already satisfied: packaging<25,>=23.2 in /opt/conda/lib/python3.11/site-packages (from langchain-core<0.4,>=0.3->langchain_groq) (24.1)\n",
      "Requirement already satisfied: tenacity!=8.4.0,<10.0.0,>=8.1.0 in /opt/conda/lib/python3.11/site-packages (from langchain-core<0.4,>=0.3->langchain_groq) (8.5.0)\n",
      "Requirement already satisfied: idna>=2.8 in /opt/conda/lib/python3.11/site-packages (from anyio<5,>=3.5.0->groq<1,>=0.4.1->langchain_groq) (3.7)\n",
      "Requirement already satisfied: certifi in /opt/conda/lib/python3.11/site-packages (from httpx<1,>=0.23.0->groq<1,>=0.4.1->langchain_groq) (2024.7.4)\n",
      "Requirement already satisfied: httpcore==1.* in /opt/conda/lib/python3.11/site-packages (from httpx<1,>=0.23.0->groq<1,>=0.4.1->langchain_groq) (1.0.5)\n",
      "Requirement already satisfied: h11<0.15,>=0.13 in /opt/conda/lib/python3.11/site-packages (from httpcore==1.*->httpx<1,>=0.23.0->groq<1,>=0.4.1->langchain_groq) (0.14.0)\n",
      "Requirement already satisfied: jsonpointer>=1.9 in /opt/conda/lib/python3.11/site-packages (from jsonpatch<2.0,>=1.33->langchain-core<0.4,>=0.3->langchain_groq) (3.0.0)\n",
      "Requirement already satisfied: orjson<4.0.0,>=3.9.14 in /opt/conda/lib/python3.11/site-packages (from langsmith<0.2.0,>=0.1.125->langchain-core<0.4,>=0.3->langchain_groq) (3.10.6)\n",
      "Requirement already satisfied: requests<3,>=2 in /opt/conda/lib/python3.11/site-packages (from langsmith<0.2.0,>=0.1.125->langchain-core<0.4,>=0.3->langchain_groq) (2.32.3)\n",
      "Requirement already satisfied: requests-toolbelt<2.0.0,>=1.0.0 in /opt/conda/lib/python3.11/site-packages (from langsmith<0.2.0,>=0.1.125->langchain-core<0.4,>=0.3->langchain_groq) (1.0.0)\n",
      "Requirement already satisfied: annotated-types>=0.4.0 in /opt/conda/lib/python3.11/site-packages (from pydantic<3,>=1.9.0->groq<1,>=0.4.1->langchain_groq) (0.7.0)\n",
      "Requirement already satisfied: pydantic-core==2.20.1 in /opt/conda/lib/python3.11/site-packages (from pydantic<3,>=1.9.0->groq<1,>=0.4.1->langchain_groq) (2.20.1)\n",
      "Requirement already satisfied: charset-normalizer<4,>=2 in /opt/conda/lib/python3.11/site-packages (from requests<3,>=2->langsmith<0.2.0,>=0.1.125->langchain-core<0.4,>=0.3->langchain_groq) (3.3.2)\n",
      "Requirement already satisfied: urllib3<3,>=1.21.1 in /opt/conda/lib/python3.11/site-packages (from requests<3,>=2->langsmith<0.2.0,>=0.1.125->langchain-core<0.4,>=0.3->langchain_groq) (2.2.2)\n",
      "Downloading langchain_groq-0.2.0-py3-none-any.whl (14 kB)\n",
      "Downloading groq-0.11.0-py3-none-any.whl (106 kB)\n",
      "\u001b[2K   \u001b[90m━━━━━━━━━━━━━━━━━━━━━━━━━━━━━━━━━━━━━━━━\u001b[0m \u001b[32m106.5/106.5 kB\u001b[0m \u001b[31m5.8 MB/s\u001b[0m eta \u001b[36m0:00:00\u001b[0m\n",
      "\u001b[?25hDownloading langchain_core-0.3.13-py3-none-any.whl (408 kB)\n",
      "\u001b[2K   \u001b[90m━━━━━━━━━━━━━━━━━━━━━━━━━━━━━━━━━━━━━━━━\u001b[0m \u001b[32m408.0/408.0 kB\u001b[0m \u001b[31m21.7 MB/s\u001b[0m eta \u001b[36m0:00:00\u001b[0m\n",
      "\u001b[?25hDownloading langsmith-0.1.137-py3-none-any.whl (296 kB)\n",
      "\u001b[2K   \u001b[90m━━━━━━━━━━━━━━━━━━━━━━━━━━━━━━━━━━━━━━━━\u001b[0m \u001b[32m296.9/296.9 kB\u001b[0m \u001b[31m19.7 MB/s\u001b[0m eta \u001b[36m0:00:00\u001b[0m\n",
      "\u001b[?25hInstalling collected packages: langsmith, groq, langchain-core, langchain_groq\n",
      "  Attempting uninstall: langsmith\n",
      "    Found existing installation: langsmith 0.1.92\n",
      "    Uninstalling langsmith-0.1.92:\n",
      "      Successfully uninstalled langsmith-0.1.92\n",
      "  Attempting uninstall: langchain-core\n",
      "    Found existing installation: langchain-core 0.2.21\n",
      "    Uninstalling langchain-core-0.2.21:\n",
      "      Successfully uninstalled langchain-core-0.2.21\n",
      "\u001b[31mERROR: pip's dependency resolver does not currently take into account all the packages that are installed. This behaviour is the source of the following dependency conflicts.\n",
      "langgraph 0.1.9 requires langchain-core<0.3,>=0.2.19, but you have langchain-core 0.3.13 which is incompatible.\n",
      "langchain-huggingface 0.0.3 requires langchain-core<0.3,>=0.1.52, but you have langchain-core 0.3.13 which is incompatible.\n",
      "langchain-text-splitters 0.2.2 requires langchain-core<0.3.0,>=0.2.10, but you have langchain-core 0.3.13 which is incompatible.\n",
      "langchain 0.2.9 requires langchain-core<0.3.0,>=0.2.20, but you have langchain-core 0.3.13 which is incompatible.\n",
      "langchain-openai 0.1.17 requires langchain-core<0.3.0,>=0.2.20, but you have langchain-core 0.3.13 which is incompatible.\n",
      "langchain-community 0.2.7 requires langchain-core<0.3.0,>=0.2.12, but you have langchain-core 0.3.13 which is incompatible.\u001b[0m\u001b[31m\n",
      "\u001b[0mSuccessfully installed groq-0.11.0 langchain-core-0.3.13 langchain_groq-0.2.0 langsmith-0.1.137\n",
      "Requirement already satisfied: langchain-community in /opt/conda/lib/python3.11/site-packages (0.2.7)\n",
      "Collecting langchain-community\n",
      "  Downloading langchain_community-0.3.3-py3-none-any.whl.metadata (2.8 kB)\n",
      "Requirement already satisfied: PyYAML>=5.3 in /opt/conda/lib/python3.11/site-packages (from langchain-community) (6.0.1)\n",
      "Requirement already satisfied: SQLAlchemy<3,>=1.4 in /opt/conda/lib/python3.11/site-packages (from langchain-community) (2.0.31)\n",
      "Requirement already satisfied: aiohttp<4.0.0,>=3.8.3 in /opt/conda/lib/python3.11/site-packages (from langchain-community) (3.9.5)\n",
      "Requirement already satisfied: dataclasses-json<0.7,>=0.5.7 in /opt/conda/lib/python3.11/site-packages (from langchain-community) (0.6.7)\n",
      "Collecting langchain<0.4.0,>=0.3.4 (from langchain-community)\n",
      "  Downloading langchain-0.3.4-py3-none-any.whl.metadata (7.1 kB)\n",
      "Requirement already satisfied: langchain-core<0.4.0,>=0.3.12 in /opt/conda/lib/python3.11/site-packages (from langchain-community) (0.3.13)\n",
      "Requirement already satisfied: langsmith<0.2.0,>=0.1.125 in /opt/conda/lib/python3.11/site-packages (from langchain-community) (0.1.137)\n",
      "Requirement already satisfied: numpy<2,>=1 in /opt/conda/lib/python3.11/site-packages (from langchain-community) (1.26.4)\n",
      "Collecting pydantic-settings<3.0.0,>=2.4.0 (from langchain-community)\n",
      "  Downloading pydantic_settings-2.6.0-py3-none-any.whl.metadata (3.5 kB)\n",
      "Requirement already satisfied: requests<3,>=2 in /opt/conda/lib/python3.11/site-packages (from langchain-community) (2.32.3)\n",
      "Requirement already satisfied: tenacity!=8.4.0,<10,>=8.1.0 in /opt/conda/lib/python3.11/site-packages (from langchain-community) (8.5.0)\n",
      "Requirement already satisfied: aiosignal>=1.1.2 in /opt/conda/lib/python3.11/site-packages (from aiohttp<4.0.0,>=3.8.3->langchain-community) (1.3.1)\n",
      "Requirement already satisfied: attrs>=17.3.0 in /opt/conda/lib/python3.11/site-packages (from aiohttp<4.0.0,>=3.8.3->langchain-community) (23.2.0)\n",
      "Requirement already satisfied: frozenlist>=1.1.1 in /opt/conda/lib/python3.11/site-packages (from aiohttp<4.0.0,>=3.8.3->langchain-community) (1.4.1)\n",
      "Requirement already satisfied: multidict<7.0,>=4.5 in /opt/conda/lib/python3.11/site-packages (from aiohttp<4.0.0,>=3.8.3->langchain-community) (6.0.5)\n",
      "Requirement already satisfied: yarl<2.0,>=1.0 in /opt/conda/lib/python3.11/site-packages (from aiohttp<4.0.0,>=3.8.3->langchain-community) (1.9.4)\n",
      "Requirement already satisfied: marshmallow<4.0.0,>=3.18.0 in /opt/conda/lib/python3.11/site-packages (from dataclasses-json<0.7,>=0.5.7->langchain-community) (3.21.3)\n",
      "Requirement already satisfied: typing-inspect<1,>=0.4.0 in /opt/conda/lib/python3.11/site-packages (from dataclasses-json<0.7,>=0.5.7->langchain-community) (0.9.0)\n",
      "Collecting langchain-text-splitters<0.4.0,>=0.3.0 (from langchain<0.4.0,>=0.3.4->langchain-community)\n",
      "  Downloading langchain_text_splitters-0.3.0-py3-none-any.whl.metadata (2.3 kB)\n",
      "Requirement already satisfied: pydantic<3.0.0,>=2.7.4 in /opt/conda/lib/python3.11/site-packages (from langchain<0.4.0,>=0.3.4->langchain-community) (2.8.2)\n",
      "Requirement already satisfied: jsonpatch<2.0,>=1.33 in /opt/conda/lib/python3.11/site-packages (from langchain-core<0.4.0,>=0.3.12->langchain-community) (1.33)\n",
      "Requirement already satisfied: packaging<25,>=23.2 in /opt/conda/lib/python3.11/site-packages (from langchain-core<0.4.0,>=0.3.12->langchain-community) (24.1)\n",
      "Requirement already satisfied: typing-extensions>=4.7 in /opt/conda/lib/python3.11/site-packages (from langchain-core<0.4.0,>=0.3.12->langchain-community) (4.12.2)\n",
      "Requirement already satisfied: httpx<1,>=0.23.0 in /opt/conda/lib/python3.11/site-packages (from langsmith<0.2.0,>=0.1.125->langchain-community) (0.27.0)\n",
      "Requirement already satisfied: orjson<4.0.0,>=3.9.14 in /opt/conda/lib/python3.11/site-packages (from langsmith<0.2.0,>=0.1.125->langchain-community) (3.10.6)\n",
      "Requirement already satisfied: requests-toolbelt<2.0.0,>=1.0.0 in /opt/conda/lib/python3.11/site-packages (from langsmith<0.2.0,>=0.1.125->langchain-community) (1.0.0)\n",
      "Requirement already satisfied: python-dotenv>=0.21.0 in /opt/conda/lib/python3.11/site-packages (from pydantic-settings<3.0.0,>=2.4.0->langchain-community) (1.0.1)\n",
      "Requirement already satisfied: charset-normalizer<4,>=2 in /opt/conda/lib/python3.11/site-packages (from requests<3,>=2->langchain-community) (3.3.2)\n",
      "Requirement already satisfied: idna<4,>=2.5 in /opt/conda/lib/python3.11/site-packages (from requests<3,>=2->langchain-community) (3.7)\n",
      "Requirement already satisfied: urllib3<3,>=1.21.1 in /opt/conda/lib/python3.11/site-packages (from requests<3,>=2->langchain-community) (2.2.2)\n",
      "Requirement already satisfied: certifi>=2017.4.17 in /opt/conda/lib/python3.11/site-packages (from requests<3,>=2->langchain-community) (2024.7.4)\n",
      "Requirement already satisfied: greenlet!=0.4.17 in /opt/conda/lib/python3.11/site-packages (from SQLAlchemy<3,>=1.4->langchain-community) (3.0.3)\n",
      "Requirement already satisfied: anyio in /opt/conda/lib/python3.11/site-packages (from httpx<1,>=0.23.0->langsmith<0.2.0,>=0.1.125->langchain-community) (4.4.0)\n",
      "Requirement already satisfied: httpcore==1.* in /opt/conda/lib/python3.11/site-packages (from httpx<1,>=0.23.0->langsmith<0.2.0,>=0.1.125->langchain-community) (1.0.5)\n",
      "Requirement already satisfied: sniffio in /opt/conda/lib/python3.11/site-packages (from httpx<1,>=0.23.0->langsmith<0.2.0,>=0.1.125->langchain-community) (1.3.1)\n",
      "Requirement already satisfied: h11<0.15,>=0.13 in /opt/conda/lib/python3.11/site-packages (from httpcore==1.*->httpx<1,>=0.23.0->langsmith<0.2.0,>=0.1.125->langchain-community) (0.14.0)\n",
      "Requirement already satisfied: jsonpointer>=1.9 in /opt/conda/lib/python3.11/site-packages (from jsonpatch<2.0,>=1.33->langchain-core<0.4.0,>=0.3.12->langchain-community) (3.0.0)\n",
      "Requirement already satisfied: annotated-types>=0.4.0 in /opt/conda/lib/python3.11/site-packages (from pydantic<3.0.0,>=2.7.4->langchain<0.4.0,>=0.3.4->langchain-community) (0.7.0)\n",
      "Requirement already satisfied: pydantic-core==2.20.1 in /opt/conda/lib/python3.11/site-packages (from pydantic<3.0.0,>=2.7.4->langchain<0.4.0,>=0.3.4->langchain-community) (2.20.1)\n",
      "Requirement already satisfied: mypy-extensions>=0.3.0 in /opt/conda/lib/python3.11/site-packages (from typing-inspect<1,>=0.4.0->dataclasses-json<0.7,>=0.5.7->langchain-community) (1.0.0)\n",
      "Downloading langchain_community-0.3.3-py3-none-any.whl (2.4 MB)\n",
      "\u001b[2K   \u001b[90m━━━━━━━━━━━━━━━━━━━━━━━━━━━━━━━━━━━━━━━━\u001b[0m \u001b[32m2.4/2.4 MB\u001b[0m \u001b[31m50.2 MB/s\u001b[0m eta \u001b[36m0:00:00\u001b[0m:00:01\u001b[0m\n",
      "\u001b[?25hDownloading langchain-0.3.4-py3-none-any.whl (1.0 MB)\n",
      "\u001b[2K   \u001b[90m━━━━━━━━━━━━━━━━━━━━━━━━━━━━━━━━━━━━━━━━\u001b[0m \u001b[32m1.0/1.0 MB\u001b[0m \u001b[31m35.6 MB/s\u001b[0m eta \u001b[36m0:00:00\u001b[0m\n",
      "\u001b[?25hDownloading pydantic_settings-2.6.0-py3-none-any.whl (28 kB)\n",
      "Downloading langchain_text_splitters-0.3.0-py3-none-any.whl (25 kB)\n",
      "Installing collected packages: pydantic-settings, langchain-text-splitters, langchain, langchain-community\n",
      "  Attempting uninstall: langchain-text-splitters\n",
      "    Found existing installation: langchain-text-splitters 0.2.2\n",
      "    Uninstalling langchain-text-splitters-0.2.2:\n",
      "      Successfully uninstalled langchain-text-splitters-0.2.2\n",
      "  Attempting uninstall: langchain\n",
      "    Found existing installation: langchain 0.2.9\n",
      "    Uninstalling langchain-0.2.9:\n",
      "      Successfully uninstalled langchain-0.2.9\n",
      "  Attempting uninstall: langchain-community\n",
      "    Found existing installation: langchain-community 0.2.7\n",
      "    Uninstalling langchain-community-0.2.7:\n",
      "      Successfully uninstalled langchain-community-0.2.7\n",
      "Successfully installed langchain-0.3.4 langchain-community-0.3.3 langchain-text-splitters-0.3.0 pydantic-settings-2.6.0\n",
      "Requirement already satisfied: langchain-core in /opt/conda/lib/python3.11/site-packages (0.3.13)\n",
      "Requirement already satisfied: PyYAML>=5.3 in /opt/conda/lib/python3.11/site-packages (from langchain-core) (6.0.1)\n",
      "Requirement already satisfied: jsonpatch<2.0,>=1.33 in /opt/conda/lib/python3.11/site-packages (from langchain-core) (1.33)\n",
      "Requirement already satisfied: langsmith<0.2.0,>=0.1.125 in /opt/conda/lib/python3.11/site-packages (from langchain-core) (0.1.137)\n",
      "Requirement already satisfied: packaging<25,>=23.2 in /opt/conda/lib/python3.11/site-packages (from langchain-core) (24.1)\n",
      "Requirement already satisfied: pydantic<3.0.0,>=2.5.2 in /opt/conda/lib/python3.11/site-packages (from langchain-core) (2.8.2)\n",
      "Requirement already satisfied: tenacity!=8.4.0,<10.0.0,>=8.1.0 in /opt/conda/lib/python3.11/site-packages (from langchain-core) (8.5.0)\n",
      "Requirement already satisfied: typing-extensions>=4.7 in /opt/conda/lib/python3.11/site-packages (from langchain-core) (4.12.2)\n",
      "Requirement already satisfied: jsonpointer>=1.9 in /opt/conda/lib/python3.11/site-packages (from jsonpatch<2.0,>=1.33->langchain-core) (3.0.0)\n",
      "Requirement already satisfied: httpx<1,>=0.23.0 in /opt/conda/lib/python3.11/site-packages (from langsmith<0.2.0,>=0.1.125->langchain-core) (0.27.0)\n",
      "Requirement already satisfied: orjson<4.0.0,>=3.9.14 in /opt/conda/lib/python3.11/site-packages (from langsmith<0.2.0,>=0.1.125->langchain-core) (3.10.6)\n",
      "Requirement already satisfied: requests<3,>=2 in /opt/conda/lib/python3.11/site-packages (from langsmith<0.2.0,>=0.1.125->langchain-core) (2.32.3)\n",
      "Requirement already satisfied: requests-toolbelt<2.0.0,>=1.0.0 in /opt/conda/lib/python3.11/site-packages (from langsmith<0.2.0,>=0.1.125->langchain-core) (1.0.0)\n",
      "Requirement already satisfied: annotated-types>=0.4.0 in /opt/conda/lib/python3.11/site-packages (from pydantic<3.0.0,>=2.5.2->langchain-core) (0.7.0)\n",
      "Requirement already satisfied: pydantic-core==2.20.1 in /opt/conda/lib/python3.11/site-packages (from pydantic<3.0.0,>=2.5.2->langchain-core) (2.20.1)\n",
      "Requirement already satisfied: anyio in /opt/conda/lib/python3.11/site-packages (from httpx<1,>=0.23.0->langsmith<0.2.0,>=0.1.125->langchain-core) (4.4.0)\n",
      "Requirement already satisfied: certifi in /opt/conda/lib/python3.11/site-packages (from httpx<1,>=0.23.0->langsmith<0.2.0,>=0.1.125->langchain-core) (2024.7.4)\n",
      "Requirement already satisfied: httpcore==1.* in /opt/conda/lib/python3.11/site-packages (from httpx<1,>=0.23.0->langsmith<0.2.0,>=0.1.125->langchain-core) (1.0.5)\n",
      "Requirement already satisfied: idna in /opt/conda/lib/python3.11/site-packages (from httpx<1,>=0.23.0->langsmith<0.2.0,>=0.1.125->langchain-core) (3.7)\n",
      "Requirement already satisfied: sniffio in /opt/conda/lib/python3.11/site-packages (from httpx<1,>=0.23.0->langsmith<0.2.0,>=0.1.125->langchain-core) (1.3.1)\n",
      "Requirement already satisfied: h11<0.15,>=0.13 in /opt/conda/lib/python3.11/site-packages (from httpcore==1.*->httpx<1,>=0.23.0->langsmith<0.2.0,>=0.1.125->langchain-core) (0.14.0)\n",
      "Requirement already satisfied: charset-normalizer<4,>=2 in /opt/conda/lib/python3.11/site-packages (from requests<3,>=2->langsmith<0.2.0,>=0.1.125->langchain-core) (3.3.2)\n",
      "Requirement already satisfied: urllib3<3,>=1.21.1 in /opt/conda/lib/python3.11/site-packages (from requests<3,>=2->langsmith<0.2.0,>=0.1.125->langchain-core) (2.2.2)\n",
      "Collecting dotenv\n",
      "  Downloading dotenv-0.0.5.tar.gz (2.4 kB)\n",
      "  Preparing metadata (setup.py) ... \u001b[?25lerror\n",
      "  \u001b[1;31merror\u001b[0m: \u001b[1msubprocess-exited-with-error\u001b[0m\n",
      "  \n",
      "  \u001b[31m×\u001b[0m \u001b[32mpython setup.py egg_info\u001b[0m did not run successfully.\n",
      "  \u001b[31m│\u001b[0m exit code: \u001b[1;36m1\u001b[0m\n",
      "  \u001b[31m╰─>\u001b[0m \u001b[31m[83 lines of output]\u001b[0m\n",
      "  \u001b[31m   \u001b[0m /opt/conda/lib/python3.11/site-packages/setuptools/__init__.py:80: _DeprecatedInstaller: setuptools.installer and fetch_build_eggs are deprecated.\n",
      "  \u001b[31m   \u001b[0m !!\n",
      "  \u001b[31m   \u001b[0m \n",
      "  \u001b[31m   \u001b[0m         ********************************************************************************\n",
      "  \u001b[31m   \u001b[0m         Requirements should be satisfied by a PEP 517 installer.\n",
      "  \u001b[31m   \u001b[0m         If you are using pip, you can try `pip install --use-pep517`.\n",
      "  \u001b[31m   \u001b[0m         ********************************************************************************\n",
      "  \u001b[31m   \u001b[0m \n",
      "  \u001b[31m   \u001b[0m !!\n",
      "  \u001b[31m   \u001b[0m   dist.fetch_build_eggs(dist.setup_requires)\n",
      "  \u001b[31m   \u001b[0m   \u001b[1;31merror\u001b[0m: \u001b[1msubprocess-exited-with-error\u001b[0m\n",
      "  \u001b[31m   \u001b[0m \n",
      "  \u001b[31m   \u001b[0m   \u001b[31m×\u001b[0m \u001b[32mpython setup.py egg_info\u001b[0m did not run successfully.\n",
      "  \u001b[31m   \u001b[0m   \u001b[31m│\u001b[0m exit code: \u001b[1;36m1\u001b[0m\n",
      "  \u001b[31m   \u001b[0m   \u001b[31m╰─>\u001b[0m \u001b[31m[17 lines of output]\u001b[0m\n",
      "  \u001b[31m   \u001b[0m   \u001b[31m   \u001b[0m Traceback (most recent call last):\n",
      "  \u001b[31m   \u001b[0m   \u001b[31m   \u001b[0m   File \"<string>\", line 2, in <module>\n",
      "  \u001b[31m   \u001b[0m   \u001b[31m   \u001b[0m   File \"<pip-setuptools-caller>\", line 14, in <module>\n",
      "  \u001b[31m   \u001b[0m   \u001b[31m   \u001b[0m   File \"/tmp/pip-wheel-6fi80nmi/distribute_85646607760b4d5686cdb0e9143081bb/setuptools/__init__.py\", line 2, in <module>\n",
      "  \u001b[31m   \u001b[0m   \u001b[31m   \u001b[0m     from setuptools.extension import Extension, Library\n",
      "  \u001b[31m   \u001b[0m   \u001b[31m   \u001b[0m   File \"/tmp/pip-wheel-6fi80nmi/distribute_85646607760b4d5686cdb0e9143081bb/setuptools/extension.py\", line 5, in <module>\n",
      "  \u001b[31m   \u001b[0m   \u001b[31m   \u001b[0m     from setuptools.dist import _get_unpatched\n",
      "  \u001b[31m   \u001b[0m   \u001b[31m   \u001b[0m   File \"/tmp/pip-wheel-6fi80nmi/distribute_85646607760b4d5686cdb0e9143081bb/setuptools/dist.py\", line 7, in <module>\n",
      "  \u001b[31m   \u001b[0m   \u001b[31m   \u001b[0m     from setuptools.command.install import install\n",
      "  \u001b[31m   \u001b[0m   \u001b[31m   \u001b[0m   File \"/tmp/pip-wheel-6fi80nmi/distribute_85646607760b4d5686cdb0e9143081bb/setuptools/command/__init__.py\", line 8, in <module>\n",
      "  \u001b[31m   \u001b[0m   \u001b[31m   \u001b[0m     from setuptools.command import install_scripts\n",
      "  \u001b[31m   \u001b[0m   \u001b[31m   \u001b[0m   File \"/tmp/pip-wheel-6fi80nmi/distribute_85646607760b4d5686cdb0e9143081bb/setuptools/command/install_scripts.py\", line 3, in <module>\n",
      "  \u001b[31m   \u001b[0m   \u001b[31m   \u001b[0m     from pkg_resources import Distribution, PathMetadata, ensure_directory\n",
      "  \u001b[31m   \u001b[0m   \u001b[31m   \u001b[0m   File \"/tmp/pip-wheel-6fi80nmi/distribute_85646607760b4d5686cdb0e9143081bb/pkg_resources.py\", line 1518, in <module>\n",
      "  \u001b[31m   \u001b[0m   \u001b[31m   \u001b[0m     register_loader_type(importlib_bootstrap.SourceFileLoader, DefaultProvider)\n",
      "  \u001b[31m   \u001b[0m   \u001b[31m   \u001b[0m                          ^^^^^^^^^^^^^^^^^^^^^^^^^^^^^^^^^^^^\n",
      "  \u001b[31m   \u001b[0m   \u001b[31m   \u001b[0m AttributeError: module 'importlib._bootstrap' has no attribute 'SourceFileLoader'\n",
      "  \u001b[31m   \u001b[0m   \u001b[31m   \u001b[0m \u001b[31m[end of output]\u001b[0m\n",
      "  \u001b[31m   \u001b[0m \n",
      "  \u001b[31m   \u001b[0m   \u001b[1;35mnote\u001b[0m: This error originates from a subprocess, and is likely not a problem with pip.\n",
      "  \u001b[31m   \u001b[0m \u001b[1;31merror\u001b[0m: \u001b[1mmetadata-generation-failed\u001b[0m\n",
      "  \u001b[31m   \u001b[0m \n",
      "  \u001b[31m   \u001b[0m \u001b[31m×\u001b[0m Encountered error while generating package metadata.\n",
      "  \u001b[31m   \u001b[0m \u001b[31m╰─>\u001b[0m See above for output.\n",
      "  \u001b[31m   \u001b[0m \n",
      "  \u001b[31m   \u001b[0m \u001b[1;35mnote\u001b[0m: This is an issue with the package mentioned above, not pip.\n",
      "  \u001b[31m   \u001b[0m \u001b[1;36mhint\u001b[0m: See above for details.\n",
      "  \u001b[31m   \u001b[0m Traceback (most recent call last):\n",
      "  \u001b[31m   \u001b[0m   File \"/opt/conda/lib/python3.11/site-packages/setuptools/installer.py\", line 101, in _fetch_build_egg_no_warn\n",
      "  \u001b[31m   \u001b[0m     subprocess.check_call(cmd)\n",
      "  \u001b[31m   \u001b[0m   File \"/opt/conda/lib/python3.11/subprocess.py\", line 413, in check_call\n",
      "  \u001b[31m   \u001b[0m     raise CalledProcessError(retcode, cmd)\n",
      "  \u001b[31m   \u001b[0m subprocess.CalledProcessError: Command '['/opt/conda/bin/python3.11', '-m', 'pip', '--disable-pip-version-check', 'wheel', '--no-deps', '-w', '/tmp/tmpv7qosfkw', '--quiet', 'distribute']' returned non-zero exit status 1.\n",
      "  \u001b[31m   \u001b[0m \n",
      "  \u001b[31m   \u001b[0m The above exception was the direct cause of the following exception:\n",
      "  \u001b[31m   \u001b[0m \n",
      "  \u001b[31m   \u001b[0m Traceback (most recent call last):\n",
      "  \u001b[31m   \u001b[0m   File \"<string>\", line 2, in <module>\n",
      "  \u001b[31m   \u001b[0m   File \"<pip-setuptools-caller>\", line 34, in <module>\n",
      "  \u001b[31m   \u001b[0m   File \"/tmp/pip-install-bpgukyoo/dotenv_bbc6373219174ec1aee0276c5309d1de/setup.py\", line 13, in <module>\n",
      "  \u001b[31m   \u001b[0m     setup(name='dotenv',\n",
      "  \u001b[31m   \u001b[0m   File \"/opt/conda/lib/python3.11/site-packages/setuptools/__init__.py\", line 102, in setup\n",
      "  \u001b[31m   \u001b[0m     _install_setup_requires(attrs)\n",
      "  \u001b[31m   \u001b[0m   File \"/opt/conda/lib/python3.11/site-packages/setuptools/__init__.py\", line 75, in _install_setup_requires\n",
      "  \u001b[31m   \u001b[0m     _fetch_build_eggs(dist)\n",
      "  \u001b[31m   \u001b[0m   File \"/opt/conda/lib/python3.11/site-packages/setuptools/__init__.py\", line 80, in _fetch_build_eggs\n",
      "  \u001b[31m   \u001b[0m     dist.fetch_build_eggs(dist.setup_requires)\n",
      "  \u001b[31m   \u001b[0m   File \"/opt/conda/lib/python3.11/site-packages/setuptools/dist.py\", line 641, in fetch_build_eggs\n",
      "  \u001b[31m   \u001b[0m     return _fetch_build_eggs(self, requires)\n",
      "  \u001b[31m   \u001b[0m            ^^^^^^^^^^^^^^^^^^^^^^^^^^^^^^^^^\n",
      "  \u001b[31m   \u001b[0m   File \"/opt/conda/lib/python3.11/site-packages/setuptools/installer.py\", line 38, in _fetch_build_eggs\n",
      "  \u001b[31m   \u001b[0m     resolved_dists = pkg_resources.working_set.resolve(\n",
      "  \u001b[31m   \u001b[0m                      ^^^^^^^^^^^^^^^^^^^^^^^^^^^^^^^^^^\n",
      "  \u001b[31m   \u001b[0m   File \"/opt/conda/lib/python3.11/site-packages/pkg_resources/__init__.py\", line 889, in resolve\n",
      "  \u001b[31m   \u001b[0m     dist = self._resolve_dist(\n",
      "  \u001b[31m   \u001b[0m            ^^^^^^^^^^^^^^^^^^^\n",
      "  \u001b[31m   \u001b[0m   File \"/opt/conda/lib/python3.11/site-packages/pkg_resources/__init__.py\", line 925, in _resolve_dist\n",
      "  \u001b[31m   \u001b[0m     dist = best[req.key] = env.best_match(\n",
      "  \u001b[31m   \u001b[0m                            ^^^^^^^^^^^^^^^\n",
      "  \u001b[31m   \u001b[0m   File \"/opt/conda/lib/python3.11/site-packages/pkg_resources/__init__.py\", line 1256, in best_match\n",
      "  \u001b[31m   \u001b[0m     return self.obtain(req, installer)\n",
      "  \u001b[31m   \u001b[0m            ^^^^^^^^^^^^^^^^^^^^^^^^^^^\n",
      "  \u001b[31m   \u001b[0m   File \"/opt/conda/lib/python3.11/site-packages/pkg_resources/__init__.py\", line 1292, in obtain\n",
      "  \u001b[31m   \u001b[0m     return installer(requirement) if installer else None\n",
      "  \u001b[31m   \u001b[0m            ^^^^^^^^^^^^^^^^^^^^^^\n",
      "  \u001b[31m   \u001b[0m   File \"/opt/conda/lib/python3.11/site-packages/setuptools/installer.py\", line 103, in _fetch_build_egg_no_warn\n",
      "  \u001b[31m   \u001b[0m     raise DistutilsError(str(e)) from e\n",
      "  \u001b[31m   \u001b[0m distutils.errors.DistutilsError: Command '['/opt/conda/bin/python3.11', '-m', 'pip', '--disable-pip-version-check', 'wheel', '--no-deps', '-w', '/tmp/tmpv7qosfkw', '--quiet', 'distribute']' returned non-zero exit status 1.\n",
      "  \u001b[31m   \u001b[0m \u001b[31m[end of output]\u001b[0m\n",
      "  \n",
      "  \u001b[1;35mnote\u001b[0m: This error originates from a subprocess, and is likely not a problem with pip.\n",
      "\u001b[1;31merror\u001b[0m: \u001b[1mmetadata-generation-failed\u001b[0m\n",
      "\n",
      "\u001b[31m×\u001b[0m Encountered error while generating package metadata.\n",
      "\u001b[31m╰─>\u001b[0m See above for output.\n",
      "\n",
      "\u001b[1;35mnote\u001b[0m: This is an issue with the package mentioned above, not pip.\n",
      "\u001b[1;36mhint\u001b[0m: See above for details.\n",
      "\u001b[?25h"
     ]
    }
   ],
   "source": [
    "!pip install -U langgraph\n",
    "!pip install langgraph-sdk\n",
    "!pip install langgraph-checkpoint-sqlite\n",
    "!pip install langsmith\n",
    "!pip install -U langchain-community\n",
    "!pip install -U langchain-core\n",
    "\n",
    "!pip install -U langchain_huggingface\n",
    "!pip install -U langchain_openai\n",
    "\n",
    "!pip install -U dotenv\n",
    "\n",
    "!pip install tavily-python\n",
    "!pip install wikipedia"
   ]
  },
  {
   "cell_type": "markdown",
   "id": "556eef1b-b948-4038-93f8-a1a73d1cc8d3",
   "metadata": {},
   "source": [
    "Importing all env vars to enable our integrations"
   ]
  },
  {
   "cell_type": "code",
   "execution_count": 1,
   "id": "d0c0f50c-d92e-4070-9b39-f4595be0b01c",
   "metadata": {},
   "outputs": [],
   "source": [
    "from dotenv import load_dotenv, find_dotenv\n",
    "_ = load_dotenv(find_dotenv()) # read local .env file"
   ]
  },
  {
   "cell_type": "markdown",
   "id": "49103505-5cd0-4085-bd7d-f957334bb63a",
   "metadata": {},
   "source": [
    "Initialise the ChatGPT 4o\n",
    "\n",
    "Initialise other tools that we will need"
   ]
  },
  {
   "cell_type": "code",
   "execution_count": 2,
   "id": "14a8eb8b-7ec9-4333-87b9-ce7efdfdab5d",
   "metadata": {},
   "outputs": [],
   "source": [
    "from langchain_openai import ChatOpenAI\n",
    "from langchain_core.messages import HumanMessage\n",
    "from langchain_community.tools.tavily_search import TavilySearchResults\n"
   ]
  },
  {
   "cell_type": "code",
   "execution_count": 3,
   "id": "c19366cf-7e3f-48ba-a5b9-ad6632c8d1ef",
   "metadata": {},
   "outputs": [],
   "source": [
    "msg = HumanMessage(content=\"Hi there, who are you?\", name=\"Roy\")"
   ]
  },
  {
   "cell_type": "code",
   "execution_count": 4,
   "id": "241ed58c-693a-436e-9940-fc3f8d18a80f",
   "metadata": {},
   "outputs": [],
   "source": [
    "gpt4o_chat = ChatOpenAI(model=\"gpt-4o\", temperature=0.1)"
   ]
  },
  {
   "cell_type": "markdown",
   "id": "0568bc07-64e5-4255-aa25-c5cbcd2e434d",
   "metadata": {},
   "source": [
    "Checking that all is in order"
   ]
  },
  {
   "cell_type": "code",
   "execution_count": 5,
   "id": "ce6a18b5-4818-4b02-85a5-d053febe2a84",
   "metadata": {},
   "outputs": [
    {
     "data": {
      "text/plain": [
       "AIMessage(content=\"Hello! I'm an AI language model created by OpenAI, here to help answer your questions and provide information on a wide range of topics. How can I assist you today?\", additional_kwargs={'refusal': None}, response_metadata={'token_usage': {'completion_tokens': 35, 'prompt_tokens': 16, 'total_tokens': 51, 'completion_tokens_details': {'audio_tokens': None, 'reasoning_tokens': 0}, 'prompt_tokens_details': {'audio_tokens': None, 'cached_tokens': 0}}, 'model_name': 'gpt-4o-2024-08-06', 'system_fingerprint': 'fp_45cf54deae', 'finish_reason': 'stop', 'logprobs': None}, id='run-e30a32ef-3fe3-4729-ba9d-6e1e9b6352f4-0', usage_metadata={'input_tokens': 16, 'output_tokens': 35, 'total_tokens': 51, 'input_token_details': {'cache_read': 0}, 'output_token_details': {'reasoning': 0}})"
      ]
     },
     "execution_count": 5,
     "metadata": {},
     "output_type": "execute_result"
    }
   ],
   "source": [
    "gpt4o_chat.invoke([msg])"
   ]
  },
  {
   "cell_type": "code",
   "execution_count": 7,
   "id": "c780e568-e96d-4bea-8f81-4d06b1683379",
   "metadata": {},
   "outputs": [],
   "source": [
    "tavily_search = TavilySearchResults(max_results=3)\n",
    "search_docs = tavily_search.invoke(\"What kind of platform is Streameye\")"
   ]
  },
  {
   "cell_type": "code",
   "execution_count": 8,
   "id": "2d3eb08b-6e04-4c25-a9dc-c6b6697f998a",
   "metadata": {},
   "outputs": [
    {
     "data": {
      "text/plain": [
       "[{'url': 'https://www.elecard.com/products',\n",
       "  'content': 'Elecard StreamEye Studio is a set of powerful software tools for video quality analysis designed for professional use in video compression, processing, communication and streaming media industries. ... Professional platform for real-time encoding and transcoding into HEVC/H.265, AVC/H.264 and MPEG-2 video supporting adaptive bitrate streaming ...'},\n",
       " {'url': 'https://www.streameye.com/blog/streameye_integrates_with_google_studio',\n",
       "  'content': \"The English sports streaming service DAZN has been relying on StreamEye to be its digital production partner for years. ... seamlessly integrating SteamEye's content production abilities with the analytical powerhouse of Google's Marketing Platform. StreamEye + Google Studio, the Best of Both Worlds. Before this integration, DAZN had one ...\"},\n",
       " {'url': 'https://videocompressionguru.medium.com/overview-of-elecard-streameye-studio-set-of-applications-1d4d8b0a27ab',\n",
       "  'content': 'Elecard StreamEye Studio is a set of powerful software tools for video quality analysis designed for professional use in video compression, processing, communication and streaming media industries. It includes 5 separate stand-alone applications and command line tools for all-around video analysis.'}]"
      ]
     },
     "execution_count": 8,
     "metadata": {},
     "output_type": "execute_result"
    }
   ],
   "source": [
    "search_docs"
   ]
  },
  {
   "cell_type": "markdown",
   "id": "65a13c80-f052-47b3-8ddb-9b868d20ba61",
   "metadata": {},
   "source": [
    "## The Simplest Graph\n",
    "\n",
    "Simple graph with 3 nodes and conditional edge that would choose which node follows node 1.\n",
    "\n",
    "![Simple Graph](https://camo.githubusercontent.com/8ec53b6c113f6b577fefce84dd3089bc0d7192ded112d76d464f400c712ae693/68747470733a2f2f63646e2e70726f642e776562736974652d66696c65732e636f6d2f3635623863643732383335636565616364343434396135332f3636646261356634363566366539613234383261643933355f73696d706c652d6772617068312e706e67 \"Simple Graph\")"
   ]
  },
  {
   "cell_type": "markdown",
   "id": "c9ac8c66-3c16-4f98-8576-5ee7f1754d29",
   "metadata": {},
   "source": [
    "### State\n",
    "\n",
    "Defining the state of the graph. This serves as a shared state along all the nodes and edges of the graph.\n",
    "\n",
    "Let's use the TypedDict class from python's typing module as our schema, which provides type hints for the keys."
   ]
  },
  {
   "cell_type": "code",
   "execution_count": 11,
   "id": "8351dd61-9f22-4130-b583-61d759243def",
   "metadata": {},
   "outputs": [],
   "source": [
    "from typing_extensions import TypedDict\n",
    "\n",
    "class State(TypedDict):\n",
    "    graph_state: str"
   ]
  },
  {
   "cell_type": "markdown",
   "id": "4fae2c63-c637-41fb-a7dc-04c3d129ab0d",
   "metadata": {},
   "source": [
    "### Nodes\n",
    "\n",
    "Nodes are just Python functions. The first position argument in these functions is the state!\n",
    "\n",
    "The nodes operate on the state. By default the would overrid the previous state value with new, hence mutating the state."
   ]
  },
  {
   "cell_type": "code",
   "execution_count": 12,
   "id": "32e0b22a-6819-44d8-b7ab-2ea340b6d85f",
   "metadata": {},
   "outputs": [],
   "source": [
    "def node_1(state):\n",
    "    print(\"---Node 1---\")\n",
    "    return {\"graph_state\": state['graph_state'] +\" I am\"}\n",
    "\n",
    "def node_2(state):\n",
    "    print(\"---Node 2---\")\n",
    "    return {\"graph_state\": state['graph_state'] +\" happy!\"}\n",
    "\n",
    "def node_3(state):\n",
    "    print(\"---Node 3---\")\n",
    "    return {\"graph_state\": state['graph_state'] +\" sad!\"}"
   ]
  },
  {
   "cell_type": "markdown",
   "id": "92f0ed1c-3814-4d32-903c-f0809406cd0e",
   "metadata": {},
   "source": [
    "### Edges\n",
    "\n",
    "Edges connexct the nodes.\n",
    "\n",
    "Normal edges always go from specific node to next, while conditional apply some logic to route between possible edges.\n",
    "\n",
    "Conditional edges are implemented as functions that return the next edge to visit based on that logic.\n",
    "\n",
    "A node can have MULTIPLE outgoing edges. If a node has multiple out-going edges, all of those destination nodes will be executed in parallel as a part of the next superstep."
   ]
  },
  {
   "cell_type": "code",
   "execution_count": 13,
   "id": "2223e2af-b465-40e5-8cce-4f452a0c9b6f",
   "metadata": {},
   "outputs": [],
   "source": [
    "import random\n",
    "from typing import Literal\n",
    "\n",
    "def decide_mood(state) -> Literal[\"node_2\", \"node_3\"]:\n",
    "    \n",
    "    # Often, we will use state to decide on the next node to visit\n",
    "    # user_input = state['graph_state'] \n",
    "    \n",
    "    # Here, let's just do a 50 / 50 split between nodes 2, 3\n",
    "    if random.random() < 0.5:\n",
    "\n",
    "        # 50% of the time, we return Node 2\n",
    "        return \"node_2\"\n",
    "    \n",
    "    # 50% of the time, we return Node 3\n",
    "    return \"node_3\""
   ]
  },
  {
   "cell_type": "markdown",
   "id": "f6f2f6de-11a3-4434-8b01-1bafad4832ee",
   "metadata": {},
   "source": [
    "### Graph Construction\n",
    "\n",
    "We can build the graph from the components defined above.\n",
    "\n",
    "We will use the StateGraph class in this exmaple.\n",
    "\n",
    "1. Initialise the StateGraph with the `state` defined above.\n",
    "2. We add the nodes and edges\n",
    "3. We use the special node `START`, which indicates where to start the graph.\n",
    "4. Similarly `END` node is a special node that indicates where the graph terminates.\n",
    "\n",
    "Finally the graph is compiled.\n",
    "\n",
    "We can visualise the graph via a Mermaid diagram"
   ]
  },
  {
   "cell_type": "code",
   "execution_count": 14,
   "id": "5d334a73-f9f5-4a78-804d-5951bbc93357",
   "metadata": {},
   "outputs": [
    {
     "data": {
      "image/jpeg": "[encoded data removed]",
      "text/plain": [
       "<IPython.core.display.Image object>"
      ]
     },
     "metadata": {},
     "output_type": "display_data"
    }
   ],
   "source": [
    "from IPython.display import Image, display\n",
    "from langgraph.graph import StateGraph, START, END\n",
    "\n",
    "# Build graph\n",
    "builder = StateGraph(State) # remember State is a class defined above as a \n",
    "builder.add_node(\"node_1\", node_1)\n",
    "builder.add_node(\"node_2\", node_2)\n",
    "builder.add_node(\"node_3\", node_3)\n",
    "\n",
    "# Logic\n",
    "builder.add_edge(START, \"node_1\")\n",
    "builder.add_conditional_edges(\"node_1\", decide_mood)\n",
    "builder.add_edge(\"node_2\", END)\n",
    "builder.add_edge(\"node_3\", END)\n",
    "\n",
    "# Add\n",
    "graph = builder.compile()\n",
    "\n",
    "# View\n",
    "display(Image(graph.get_graph().draw_mermaid_png()))"
   ]
  },
  {
   "cell_type": "markdown",
   "id": "82c67fa5-aade-4cc1-9132-e33e6e1dd308",
   "metadata": {},
   "source": [
    "### Graph Invocation\n",
    "\n",
    "The compiled graph implements the [runnable](https://python.langchain.com/v0.1/docs/expression_language/interface/) protocol.\n",
    "\n",
    "This interface provides a standard way to execute LangChain commands.\n",
    "\n",
    "`Invoke` is a method from this interface. The input should be a dictionary of type State which sets the initial state of the graph. E.g. `{\"graph_state\": \"Hi, this is Snoop.\"}`\n",
    "\n",
    "When invoke is called, the graph starts execution from the START node.\n",
    "\n",
    "It progresses through the defined nodes (node_1, node_2, node_3) in order.\n",
    "\n",
    "The conditional edge will traverse from node 1 to node 2 or 3 using a 50/50 decision rule.\n",
    "\n",
    "Each node function receives the current state and returns a new value, which overrides the graph state.\n",
    "\n",
    "The execution continues until it reaches the END node.\n",
    "\n",
    "`Invoke` runs the whole graph synchrounously. I.e. waiting for each step/ node function to complete before going to the next as defined by the edges. See below:"
   ]
  },
  {
   "cell_type": "code",
   "execution_count": 10,
   "id": "0dd764ac-240e-4b70-84ad-2c1a8c920cfa",
   "metadata": {},
   "outputs": [
    {
     "name": "stdout",
     "output_type": "stream",
     "text": [
      "---Node 1---\n",
      "---Node 3---\n"
     ]
    },
    {
     "data": {
      "text/plain": [
       "{'graph_state': 'Hi, this is Snoop. I am sad!'}"
      ]
     },
     "execution_count": 10,
     "metadata": {},
     "output_type": "execute_result"
    }
   ],
   "source": [
    "graph.invoke({\"graph_state\": \"Hi, this is Snoop.\"})"
   ]
  },
  {
   "cell_type": "markdown",
   "id": "871c0c35-5519-4bf7-9e49-80028cf005a9",
   "metadata": {},
   "source": [
    "### Routing to Tools in LangGraph\n",
    "\n",
    "The idea of this section is to design a graph that would conditionally route execution between a tool node or directly answer a question via an LLM. \n",
    "\n",
    "To achieve this we must initialise an LLM like above and register a tool in it. Lets do it below."
   ]
  },
  {
   "cell_type": "code",
   "execution_count": 4,
   "id": "ae506e33-78d0-47b1-8906-0f28a207f620",
   "metadata": {},
   "outputs": [],
   "source": [
    "from langchain_openai import ChatOpenAI\n",
    "\n",
    "def multiply(a: int, b: int) -> int:\n",
    "    \"\"\"Multiply a and b.\n",
    "\n",
    "    Args:\n",
    "        a: first int\n",
    "        b: second int\n",
    "    \"\"\"\n",
    "    return a * b\n",
    "\n",
    "llm = ChatOpenAI(model=\"gpt-4o\")\n",
    "llm_with_tools = llm.bind_tools([multiply])"
   ]
  },
  {
   "cell_type": "markdown",
   "id": "7ff8ebe3-b304-4c62-880e-1f12c9c9dc3f",
   "metadata": {},
   "source": [
    "After this, we can use the following two ideas:\n",
    "\n",
    "1. Add a node that will call our tool.\n",
    "    - We use the built-in ToolNode and simply pass a list of our tools to initialize it.\n",
    "3. Add a conditional edge that will look at the chat model output, and route to our tool calling node or simply end if no tool call is performed.\n",
    "   - We use the built-in tools_condition as our conditional edge.\n",
    "\n",
    ">Note: Instead of defining our own State class here, we use the prebuilt MessagesState. The cool thing for this class is that it already has the messages key defined, but also more importantly it uses LangChains add_meesages reducer to add/ append new messages to the state instead of overwriting it."
   ]
  },
  {
   "cell_type": "code",
   "execution_count": 28,
   "id": "2628980b-8534-463b-87c3-4833105cda71",
   "metadata": {},
   "outputs": [],
   "source": [
    "from IPython.display import Image, display\n",
    "from langgraph.graph import StateGraph, START, END\n",
    "from langgraph.graph import MessagesState\n",
    "from langgraph.prebuilt import ToolNode\n",
    "from langgraph.prebuilt import tools_condition"
   ]
  },
  {
   "cell_type": "code",
   "execution_count": 21,
   "id": "19aa75cd-3b83-4806-9f76-b4a8e9e32a66",
   "metadata": {},
   "outputs": [
    {
     "data": {
      "text/plain": [
       "<langgraph.graph.state.StateGraph at 0x776135dbed90>"
      ]
     },
     "execution_count": 21,
     "metadata": {},
     "output_type": "execute_result"
    }
   ],
   "source": [
    "# Node\n",
    "def tool_calling_llm(state: MessagesState):\n",
    "    # messages are appended somehow via this reducer instead of overwritten\n",
    "    return {\"messages\": [llm_with_tools.invoke(state[\"messages\"])]} \n",
    "# Build the Graph\n",
    "builder = StateGraph(MessagesState)\n",
    "builder.add_node(\"tool_calling_llm\", tool_calling_llm)\n",
    "builder.add_node(\"tools\", ToolNode([multiply]))\n",
    "builder.add_edge(START, \"tool_calling_llm\")\n",
    "builder.add_conditional_edges(\"tool_calling_llm\", tools_condition)\n",
    "builder.add_edge(\"tools\", END)"
   ]
  },
  {
   "cell_type": "code",
   "execution_count": 22,
   "id": "4d180cb1-9a61-411e-8011-5688a962e8be",
   "metadata": {},
   "outputs": [
    {
     "data": {
      "image/jpeg": "[encoded data removed]",
      "text/plain": [
       "<IPython.core.display.Image object>"
      ]
     },
     "metadata": {},
     "output_type": "display_data"
    }
   ],
   "source": [
    "# Compile and View\n",
    "graph = builder.compile()\n",
    "display(Image(graph.get_graph().draw_mermaid_png()))"
   ]
  },
  {
   "cell_type": "code",
   "execution_count": 31,
   "id": "09eae857-19c6-40bd-9ce3-33f9eef6e115",
   "metadata": {},
   "outputs": [
    {
     "data": {
      "text/plain": [
       "{'messages': [HumanMessage(content='Can you tell me which is the most densely populated country in the world?', id='da40064a-7570-49a2-afcb-baf944e187b5'),\n",
       "  AIMessage(content='As of the latest data, the most densely populated country in the world is Monaco. Monaco has an extremely high population density due to its small area and relatively large population. The population density of Monaco is over 25,000 people per square kilometer.', response_metadata={'token_usage': {'completion_tokens': 51, 'prompt_tokens': 67, 'total_tokens': 118}, 'model_name': 'gpt-4o-2024-05-13', 'system_fingerprint': 'fp_25624ae3a5', 'finish_reason': 'stop', 'logprobs': None}, id='run-aa174be6-5932-4e46-bbb4-2437ac26cd54-0', usage_metadata={'input_tokens': 67, 'output_tokens': 51, 'total_tokens': 118})]}"
      ]
     },
     "execution_count": 31,
     "metadata": {},
     "output_type": "execute_result"
    }
   ],
   "source": [
    "messages = {\"messages\": \"Can you tell me which is the most densely populated country in the world?\"}\n",
    "graph.invoke(messages)"
   ]
  },
  {
   "cell_type": "code",
   "execution_count": 18,
   "id": "953ee6cb-a6c1-4e27-8090-9c36ee8145c4",
   "metadata": {},
   "outputs": [
    {
     "name": "stdout",
     "output_type": "stream",
     "text": [
      "================================\u001b[1m Human Message \u001b[0m=================================\n",
      "\n",
      "please multiply 5 and 125\n",
      "==================================\u001b[1m Ai Message \u001b[0m==================================\n",
      "Tool Calls:\n",
      "  multiply (call_PLIsPkp3sNdLjHbWjHE9B4KW)\n",
      " Call ID: call_PLIsPkp3sNdLjHbWjHE9B4KW\n",
      "  Args:\n",
      "    a: 5\n",
      "    b: 125\n",
      "=================================\u001b[1m Tool Message \u001b[0m=================================\n",
      "Name: multiply\n",
      "\n",
      "625\n"
     ]
    }
   ],
   "source": [
    "tool_message = {\"messages\": \"please multiply 5 and 125\"}\n",
    "response = graph.invoke(tool_message)\n",
    "for r in response['messages']:\n",
    "    r.pretty_print()"
   ]
  },
  {
   "cell_type": "markdown",
   "id": "d872d7ad-e585-4c9f-9f81-a8d12d0d429f",
   "metadata": {},
   "source": [
    "### Agents\n",
    "\n",
    "Agents are like Routers but output of the tools are fed back to the edge node (the LLM in this case) and LLM reasons what to do next. Compare the two architectures below:\n",
    "\n",
    "| Router   | Agent | \n",
    "| -------    | ------  |\n",
    "| ![Router Architecture](https://camo.githubusercontent.com/3e12a13cebe803eca00c2260c9934d5e1dd3a2d17b3075d11859ae36536ae70f/68747470733a2f2f63646e2e70726f642e776562736974652d66696c65732e636f6d2f3635623863643732383335636565616364343434396135332f3636646261633062613062643334623534316334343863635f6167656e74312e706e67 \"Router Architecture\")     |  ![Agent Architecture](https://camo.githubusercontent.com/f5f9c339b6e85deb9f01b26585c2bbd5cf706cb185dea5606fd02ff778777bca/68747470733a2f2f63646e2e70726f642e776562736974652d66696c65732e636f6d2f3635623863643732383335636565616364343434396135332f3636646261633062346132633165356530326633653738625f6167656e74322e706e67 \"Agent Archutecture\")    |\n",
    "\n",
    "In the above router, we invoked the model and, if it chose to call a tool, we returned a ToolMessage to the user.\n",
    "\n",
    "But, what if we simply pass that ToolMessage back to the model?\n",
    "\n",
    "We can let it either (1) call another tool or (2) respond directly.\n",
    "\n",
    "This is the intuition behind ReAct, a general agent architecture.\n",
    "\n",
    "- **act** - let the model call specific tools\n",
    "- **observe** - pass the tool output back to the model\n",
    "- **reason** - let the model reason about the tool output to decide what to do next (e.g., call another tool or just respond directly)\n",
    "\n",
    "OK, lets give it a go. Let's define few more tools so that we can see if the LLM would reason which to use when."
   ]
  },
  {
   "cell_type": "code",
   "execution_count": 2,
   "id": "ed23059f-5627-451c-ad75-376531ecfa36",
   "metadata": {},
   "outputs": [],
   "source": [
    "from modules import OpenLLMCreatorHF\n",
    "\n",
    "llm_factory = OpenLLMCreatorHF(model=\"meta-llama/Llama-3.2-3B-Instruct\", temperature=0.2, max_tokens=1024, top_p=0.85)\n",
    "llm = llm_factory.get_from_endpoint()\n"
   ]
  },
  {
   "cell_type": "code",
   "execution_count": 3,
   "id": "5ee44fc7-dfbd-4788-8b07-33d26b41bc27",
   "metadata": {},
   "outputs": [],
   "source": [
    "from langchain_openai import ChatOpenAI\n",
    "from IPython.display import Image, display\n",
    "from langgraph.graph import StateGraph, START, END\n",
    "from langgraph.graph import MessagesState\n",
    "from langgraph.prebuilt import ToolNode\n",
    "from langgraph.prebuilt import tools_condition\n",
    "\n",
    "from typing_extensions import TypedDict, Literal\n",
    "\n",
    "from pydantic import BaseModel, Field\n",
    "from langchain_core.tools import tool\n",
    "\n",
    "# @tool(parse_docstring=True)\n",
    "# def multiply(a: int, b: int) -> int:\n",
    "#     \"\"\"Multiply a by b.\n",
    "\n",
    "#     Args:\n",
    "#         a: first number\n",
    "#         b: second number\n",
    "#     \"\"\"\n",
    "#     return a * b\n",
    "\n",
    "# # This will be a tool\n",
    "# @tool(parse_docstring=True)\n",
    "# def add(a: float, b: float) -> float:\n",
    "#     \"\"\"Adds a and b.\n",
    "\n",
    "#     Args:\n",
    "#         a: first float\n",
    "#         b: second float\n",
    "#     \"\"\"\n",
    "#     return a + b\n",
    "\n",
    "# @tool(parse_docstring=True)\n",
    "# def divide(a: float, b: float) -> float:\n",
    "#     \"\"\"Adds a and b.\n",
    "\n",
    "#     Args:\n",
    "#         a: first float\n",
    "#         b: second float\n",
    "#     \"\"\"\n",
    "#     return a / b\n",
    "\n",
    "# tools = [add, multiply, divide]\n",
    "\n",
    "# class Multiply(BaseModel):\n",
    "#     '''Multiplies first argument with second argument, returning a float'''\n",
    "\n",
    "#     a: int = Field(description=\"the first argument of the function as integer\")\n",
    "#     b: int = Field(description=\"the second argument of the function as integer\")\n",
    "    \n",
    "# @tool(args_schema=Multiply, return_direct=True)\n",
    "# def multiply(a: int, b: int) -> float:\n",
    "#     '''Multiplies the first argument by the second argument, returns a float'''\n",
    "\n",
    "#     return a * b\n",
    "\n",
    "# class Add(BaseModel):\n",
    "#     '''Get the current population in a given location'''\n",
    "\n",
    "#     location: str = Field(description=\"The city to report population for, e.g. San Francisco\")\n",
    "\n",
    "class Operands(TypedDict):\n",
    "    a: float\n",
    "    b: float\n",
    "\n",
    "class CalculatorModel(BaseModel):\n",
    "    operands: Operands\n",
    "    op: Literal[\"add\", \"sub\", \"mult\", \"div\"]\n",
    "\n",
    "@tool(args_schema=CalculatorModel)\n",
    "def calculator(operands: Operands, op: Literal[\"add\", \"sub\", \"mult\", \"div\"]) -> float:\n",
    "    '''Perform basic arithmetic operations on calculator model. Return a float'''\n",
    "    \n",
    "    if (op == \"add\"):\n",
    "        return operands[\"a\"] + operands[\"b\"]\n",
    "    elif (op == \"mult\"):\n",
    "        return operands[\"a\"] * operands[\"b\"]\n",
    "    elif (op == 'sub'):\n",
    "        return operands[\"a\"] - operands[\"b\"]\n",
    "    elif (op == 'div'):\n",
    "        return operands[\"a\"] / operands[\"b\"]\n",
    "    else:\n",
    "        return -1.\n",
    "\n",
    "tools = [calculator]\n",
    "llm_with_tools = llm.bind_tools(tools)"
   ]
  },
  {
   "cell_type": "markdown",
   "id": "e4730ee4-2ff8-4cb5-bcd5-4ddd930122bf",
   "metadata": {},
   "source": [
    "> Here we will create a GPT 4o LLM"
   ]
  },
  {
   "cell_type": "code",
   "execution_count": 14,
   "id": "e6f79c5a-47ec-4656-9365-97a8b3599255",
   "metadata": {},
   "outputs": [],
   "source": [
    "llm = ChatOpenAI(model=\"gpt-4o\")\n",
    "llm_with_tools = llm.bind_tools(tools)"
   ]
  },
  {
   "cell_type": "markdown",
   "id": "478314a9-d44e-4c81-abc3-1a9c993f60e4",
   "metadata": {},
   "source": [
    "> Here lets try an open source LLM like the Meta LLama 3.1\n",
    "\n",
    "**IMPORTANT** Currently unable to run tools on local models with ChatHuggingFace. Nor was I able to work with the HuggingFaceEndpoint. The tool returned result, but the LLM kept calling it, reaching the limit of 25 recursive calls.\n",
    "\n",
    "Potentially try Ollama, ***but for now recommended is to use Groq or try Cerebras which are free and fast.***\n",
    "\n",
    "Following sections are all commented out for future reference"
   ]
  },
  {
   "cell_type": "code",
   "execution_count": 2,
   "id": "185ac228-d254-4db3-9b3f-b320afdea328",
   "metadata": {
    "collapsed": true,
    "jupyter": {
     "outputs_hidden": true
    }
   },
   "outputs": [
    {
     "name": "stdout",
     "output_type": "stream",
     "text": [
      "Requirement already satisfied: transformers in /opt/conda/lib/python3.11/site-packages (4.45.1)\n",
      "Requirement already satisfied: filelock in /opt/conda/lib/python3.11/site-packages (from transformers) (3.15.4)\n",
      "Requirement already satisfied: huggingface-hub<1.0,>=0.23.2 in /opt/conda/lib/python3.11/site-packages (from transformers) (0.24.0)\n",
      "Requirement already satisfied: numpy>=1.17 in /opt/conda/lib/python3.11/site-packages (from transformers) (1.26.4)\n",
      "Requirement already satisfied: packaging>=20.0 in /opt/conda/lib/python3.11/site-packages (from transformers) (24.1)\n",
      "Requirement already satisfied: pyyaml>=5.1 in /opt/conda/lib/python3.11/site-packages (from transformers) (6.0.1)\n",
      "Requirement already satisfied: regex!=2019.12.17 in /opt/conda/lib/python3.11/site-packages (from transformers) (2024.5.15)\n",
      "Requirement already satisfied: requests in /opt/conda/lib/python3.11/site-packages (from transformers) (2.32.3)\n",
      "Requirement already satisfied: safetensors>=0.4.1 in /opt/conda/lib/python3.11/site-packages (from transformers) (0.4.3)\n",
      "Requirement already satisfied: tokenizers<0.21,>=0.20 in /opt/conda/lib/python3.11/site-packages (from transformers) (0.20.0)\n",
      "Requirement already satisfied: tqdm>=4.27 in /opt/conda/lib/python3.11/site-packages (from transformers) (4.66.4)\n",
      "Requirement already satisfied: fsspec>=2023.5.0 in /opt/conda/lib/python3.11/site-packages (from huggingface-hub<1.0,>=0.23.2->transformers) (2024.5.0)\n",
      "Requirement already satisfied: typing-extensions>=3.7.4.3 in /opt/conda/lib/python3.11/site-packages (from huggingface-hub<1.0,>=0.23.2->transformers) (4.12.2)\n",
      "Requirement already satisfied: charset-normalizer<4,>=2 in /opt/conda/lib/python3.11/site-packages (from requests->transformers) (3.3.2)\n",
      "Requirement already satisfied: idna<4,>=2.5 in /opt/conda/lib/python3.11/site-packages (from requests->transformers) (3.7)\n",
      "Requirement already satisfied: urllib3<3,>=1.21.1 in /opt/conda/lib/python3.11/site-packages (from requests->transformers) (2.2.2)\n",
      "Requirement already satisfied: certifi>=2017.4.17 in /opt/conda/lib/python3.11/site-packages (from requests->transformers) (2024.7.4)\n"
     ]
    }
   ],
   "source": [
    "# upgrading transformers\n",
    "# !pip install -U transformers"
   ]
  },
  {
   "cell_type": "code",
   "execution_count": 2,
   "id": "f17a547e-8c4f-4114-aeb6-af0ef7f37954",
   "metadata": {},
   "outputs": [
    {
     "data": {
      "application/vnd.jupyter.widget-view+json": {
       "model_id": "9e8e9f8b28284643816d1c720de1604a",
       "version_major": 2,
       "version_minor": 0
      },
      "text/plain": [
       "Loading checkpoint shards:   0%|          | 0/4 [00:00<?, ?it/s]"
      ]
     },
     "metadata": {},
     "output_type": "display_data"
    }
   ],
   "source": [
    "# import torch\n",
    "# from transformers import (\n",
    "#     AutoTokenizer,\n",
    "#     BitsAndBytesConfig,\n",
    "#     TrainingArguments,\n",
    "#     AutoModelForCausalLM,\n",
    "#     DataCollatorForLanguageModeling,\n",
    "#     GenerationConfig,\n",
    "#     pipeline\n",
    "# )\n",
    "\n",
    "# model_name = \"../ext_models/Meta-Llama-3.1-8B-Instruct\"\n",
    "# DEVICE = \"cuda:0\" if torch.cuda.is_available() else \"cpu\"\n",
    "\n",
    "# model = AutoModelForCausalLM.from_pretrained(model_name, trust_remote_code=True, \n",
    "#                                              device_map=DEVICE, \n",
    "#                                              torch_dtype=\"auto\")\n",
    "# generation_config = GenerationConfig.from_pretrained(model_name)\n",
    "# tokenizer = AutoTokenizer.from_pretrained(model_name)"
   ]
  },
  {
   "cell_type": "code",
   "execution_count": 4,
   "id": "f37a52d8-1460-4ce6-95bc-06dfb3339c10",
   "metadata": {
    "jupyter": {
     "source_hidden": true
    }
   },
   "outputs": [],
   "source": [
    "# stop_token = \"<|eot_id|>\"  \n",
    "# stop_token_id = tokenizer.encode(stop_token)[0]\n",
    "# begin_token = \"<|begin_of_text|>\"\n",
    "# begin_token_id = tokenizer.encode(begin_token)[0]\n",
    "# generation_config.eos_token_id = stop_token_id\n",
    "# generation_config.begin_token_id = begin_token_id\n",
    "# generation_config.max_new_tokens = 1024\n",
    "# generation_config.temperature = 0.1\n",
    "# generation_config.top_p = 0.9\n",
    "# generation_config.do_sample = True\n",
    "# generation_config.repetition_penalty = 1.15\n",
    "# generation_config.pad_token_id = tokenizer.eos_token_id\n"
   ]
  },
  {
   "cell_type": "code",
   "execution_count": 5,
   "id": "318c6fb5-d65a-4b9f-ad6a-8da1cc5d209e",
   "metadata": {},
   "outputs": [
    {
     "name": "stderr",
     "output_type": "stream",
     "text": [
      "/opt/conda/lib/python3.11/site-packages/transformers/tokenization_utils_base.py:1617: FutureWarning: `clean_up_tokenization_spaces` was not set. It will be set to `True` by default. This behavior will be deprecated in transformers v4.45, and will be then set to `False` by default. For more details check this issue: https://github.com/huggingface/transformers/issues/31884\n",
      "  warnings.warn(\n"
     ]
    }
   ],
   "source": [
    "# from langchain_huggingface import HuggingFacePipeline, ChatHuggingFace\n",
    "# from langchain.prompts import PromptTemplate\n",
    "# tokenizer.pad_token_id = tokenizer.eos_token_id\n",
    "# llm_pipeline = pipeline(\"text-generation\", \n",
    "#                         model=model, \n",
    "#                         tokenizer=tokenizer, \n",
    "#                         generation_config=generation_config, \n",
    "#                         return_full_text=False) \n",
    "# open_llm = HuggingFacePipeline(pipeline=llm_pipeline)\n",
    "# open_chat = ChatHuggingFace(llm=open_llm, verbose=True)\n",
    "# llm_with_tools = open_chat.bind_tools(tools)"
   ]
  },
  {
   "cell_type": "markdown",
   "id": "0494dfe5-ba83-4fb3-9a7a-b026bb3b705a",
   "metadata": {},
   "source": [
    "So we are stuck here pretty much. We need to have this extended to open source agents.\n",
    "\n",
    "OK - so lets try the ChatHugginFace class."
   ]
  },
  {
   "cell_type": "markdown",
   "id": "8878f074-6625-4297-96b3-ecdf6a0863cd",
   "metadata": {},
   "source": [
    "Let's create our LLM and prompt it with the overall desired agent behavior."
   ]
  },
  {
   "cell_type": "markdown",
   "id": "f6919a67-0c02-4da2-ae93-638677f275cc",
   "metadata": {},
   "source": [
    "### Using HF Endpoint instead"
   ]
  },
  {
   "cell_type": "code",
   "execution_count": 2,
   "id": "fe04a486-e4d0-4a71-94b6-897d40d3386e",
   "metadata": {},
   "outputs": [
    {
     "name": "stderr",
     "output_type": "stream",
     "text": [
      "Special tokens have been added in the vocabulary, make sure the associated word embeddings are fine-tuned or trained.\n"
     ]
    }
   ],
   "source": [
    "# from langchain_huggingface import HuggingFaceEndpoint, ChatHuggingFace\n",
    "\n",
    "# from dotenv import load_dotenv, find_dotenv\n",
    "# _ = load_dotenv(find_dotenv()) # read local .env file\n",
    "\n",
    "# open_llm = HuggingFaceEndpoint(\n",
    "#     repo_id=\"meta-llama/Llama-3.2-3B-Instruct\",\n",
    "#     # repo_id=\"microsoft/Phi-3-mini-4k-instruct\",\n",
    "#     task=\"text-generation\",\n",
    "#     max_new_tokens=1024,\n",
    "#     do_sample=True,\n",
    "#     repetition_penalty=1.1,\n",
    "# )\n",
    "# chat = ChatHuggingFace(llm=open_llm, verbose=True)\n",
    "chat_with_tools = chat.bind_tools(tools=simple_tool)"
   ]
  },
  {
   "cell_type": "code",
   "execution_count": 4,
   "id": "828b3b24-c536-48c7-9c08-de64b0984ff1",
   "metadata": {},
   "outputs": [],
   "source": [
    "from langgraph.graph import MessagesState\n",
    "from langchain_core.messages import HumanMessage, SystemMessage"
   ]
  },
  {
   "cell_type": "code",
   "execution_count": 5,
   "id": "40fb422d-0328-4730-ac7c-b7a2fdd6e160",
   "metadata": {},
   "outputs": [],
   "source": [
    "# System message - we will add a system message this time\n",
    "sys_msg = SystemMessage(content=\"You are a helpfull assistant tasked with performing arithmetic operations on set of inputs.\")\n",
    "\n",
    "# The Assistant Node\n",
    "def assistant(state: MessagesState):\n",
    "    return {\"messages\": [llm_with_tools.invoke([sys_msg] + state[\"messages\"])]}\n",
    "### The below was me trying to convert messages into another form, but it was all waste of time since \n",
    "### the MessagesState uses a reducer with HumanMessage, AIMessage formatting\n",
    "    \n",
    "# def open_assistant(state: MessagesState):\n",
    "\n",
    "#     print(\"state\", state[\"messages\"])\n",
    "#     m = [{\"role\": \"system\", \"content\": \"You are a very helpful assistant, tasked with performing arithmetic operations on set of inputs.\"},\n",
    "#          {\"role\": \"user\", \"content\": \"can you multiply 3 by 2 please\"}]\n",
    "\n",
    "#     templated = tokenizer.apply_chat_template(m, tokenize=False )\n",
    "#     print(\"TMPL\", templated)\n",
    "#     result = llm_with_tools.invoke(m)\n",
    "#     print(\"RES\", result)\n",
    "#     return {\"messages\": [result]}"
   ]
  },
  {
   "cell_type": "markdown",
   "id": "2e262da4-c998-4a0e-90b3-171225551968",
   "metadata": {},
   "source": [
    "As before, we use MessagesState and define a Tools node with our list of tools.\n",
    "\n",
    "We create a graph with Assistant and Tools nodes.\n",
    "\n",
    "We add `tools_condition` edge, which routes to End or to Tools based on whether the Assistant calls a tool.\n",
    "\n",
    "*Now, we add one new step:*\n",
    "\n",
    "We connect the Tools node back to the Assistant, forming a loop.\n",
    "\n",
    "- After the assistant node executes, tools_condition checks if the model's output is a tool call.\n",
    "- If it is a tool call, the flow is directed to the tools node.\n",
    "- The tools node connects back to assistant.\n",
    "- This loop continues as long as the model decides to call tools.\n",
    "- If the model response is not a tool call, the flow is directed to END, terminating the process."
   ]
  },
  {
   "cell_type": "code",
   "execution_count": 6,
   "id": "39571f49-4d16-42df-abb0-ee1d3dce8bd9",
   "metadata": {},
   "outputs": [
    {
     "data": {
      "text/plain": [
       "<langgraph.graph.state.StateGraph at 0x798320782f90>"
      ]
     },
     "execution_count": 6,
     "metadata": {},
     "output_type": "execute_result"
    }
   ],
   "source": [
    "builder = StateGraph(MessagesState)\n",
    "builder.add_node(\"assistant\", assistant)\n",
    "builder.add_node(\"tools\", ToolNode(tools))\n",
    "builder.add_edge(START, \"assistant\")\n",
    "# tools_condition is a ready to use conditional function that would route to tool or END automatically.\n",
    "# If the latest message (result) from assistant is a tool call -> tools_condition routes to tools\n",
    "# If the latest message (result) from assistant is a not a tool call -> tools_condition routes to END\n",
    "builder.add_conditional_edges(\"assistant\", tools_condition)\n",
    "# below is the loop, instead of routing tools to END and finishing on the first cycle of the GRAPH we loop back to the Assistant\n",
    "builder.add_edge(\"tools\", \"assistant\")"
   ]
  },
  {
   "cell_type": "code",
   "execution_count": 7,
   "id": "15354c51-e264-4d03-999f-ff014c36edd9",
   "metadata": {},
   "outputs": [
    {
     "data": {
      "image/jpeg": "[encoded data removed]",
      "text/plain": [
       "<IPython.core.display.Image object>"
      ]
     },
     "metadata": {},
     "output_type": "display_data"
    }
   ],
   "source": [
    "react_graph = builder.compile()\n",
    "\n",
    "# Show\n",
    "display(Image(react_graph.get_graph(xray=True).draw_mermaid_png()))"
   ]
  },
  {
   "cell_type": "code",
   "execution_count": 8,
   "id": "4be38b67-0101-4b5f-afd6-6b3027989ad7",
   "metadata": {},
   "outputs": [
    {
     "name": "stderr",
     "output_type": "stream",
     "text": [
      "/opt/conda/lib/python3.11/site-packages/huggingface_hub/inference/_generated/types/base.py:139: FutureWarning: Accessing 'ChatCompletionOutputToolCall' values through dict is deprecated and will be removed from version '0.25'. Use dataclass attributes instead.\n",
      "  warnings.warn(\n",
      "/opt/conda/lib/python3.11/site-packages/huggingface_hub/inference/_generated/types/base.py:139: FutureWarning: Accessing 'ChatCompletionOutputToolCall' values through dict is deprecated and will be removed from version '0.25'. Use dataclass attributes instead.\n",
      "  warnings.warn(\n",
      "/opt/conda/lib/python3.11/site-packages/huggingface_hub/inference/_generated/types/base.py:139: FutureWarning: Accessing 'ChatCompletionOutputToolCall' values through dict is deprecated and will be removed from version '0.25'. Use dataclass attributes instead.\n",
      "  warnings.warn(\n",
      "/opt/conda/lib/python3.11/site-packages/huggingface_hub/inference/_generated/types/base.py:139: FutureWarning: Accessing 'ChatCompletionOutputToolCall' values through dict is deprecated and will be removed from version '0.25'. Use dataclass attributes instead.\n",
      "  warnings.warn(\n",
      "/opt/conda/lib/python3.11/site-packages/huggingface_hub/inference/_generated/types/base.py:139: FutureWarning: Accessing 'ChatCompletionOutputToolCall' values through dict is deprecated and will be removed from version '0.25'. Use dataclass attributes instead.\n",
      "  warnings.warn(\n",
      "/opt/conda/lib/python3.11/site-packages/huggingface_hub/inference/_generated/types/base.py:139: FutureWarning: Accessing 'ChatCompletionOutputToolCall' values through dict is deprecated and will be removed from version '0.25'. Use dataclass attributes instead.\n",
      "  warnings.warn(\n",
      "/opt/conda/lib/python3.11/site-packages/huggingface_hub/inference/_generated/types/base.py:139: FutureWarning: Accessing 'ChatCompletionOutputToolCall' values through dict is deprecated and will be removed from version '0.25'. Use dataclass attributes instead.\n",
      "  warnings.warn(\n",
      "/opt/conda/lib/python3.11/site-packages/huggingface_hub/inference/_generated/types/base.py:139: FutureWarning: Accessing 'ChatCompletionOutputToolCall' values through dict is deprecated and will be removed from version '0.25'. Use dataclass attributes instead.\n",
      "  warnings.warn(\n",
      "/opt/conda/lib/python3.11/site-packages/huggingface_hub/inference/_generated/types/base.py:139: FutureWarning: Accessing 'ChatCompletionOutputToolCall' values through dict is deprecated and will be removed from version '0.25'. Use dataclass attributes instead.\n",
      "  warnings.warn(\n",
      "/opt/conda/lib/python3.11/site-packages/huggingface_hub/inference/_generated/types/base.py:139: FutureWarning: Accessing 'ChatCompletionOutputToolCall' values through dict is deprecated and will be removed from version '0.25'. Use dataclass attributes instead.\n",
      "  warnings.warn(\n",
      "/opt/conda/lib/python3.11/site-packages/huggingface_hub/inference/_generated/types/base.py:139: FutureWarning: Accessing 'ChatCompletionOutputToolCall' values through dict is deprecated and will be removed from version '0.25'. Use dataclass attributes instead.\n",
      "  warnings.warn(\n",
      "/opt/conda/lib/python3.11/site-packages/huggingface_hub/inference/_generated/types/base.py:139: FutureWarning: Accessing 'ChatCompletionOutputToolCall' values through dict is deprecated and will be removed from version '0.25'. Use dataclass attributes instead.\n",
      "  warnings.warn(\n",
      "/opt/conda/lib/python3.11/site-packages/huggingface_hub/inference/_generated/types/base.py:139: FutureWarning: Accessing 'ChatCompletionOutputToolCall' values through dict is deprecated and will be removed from version '0.25'. Use dataclass attributes instead.\n",
      "  warnings.warn(\n"
     ]
    },
    {
     "ename": "GraphRecursionError",
     "evalue": "Recursion limit of 25 reached without hitting a stop condition. You can increase the limit by setting the `recursion_limit` config key.\nFor troubleshooting, visit: https://python.langchain.com/docs/troubleshooting/errors/GRAPH_RECURSION_LIMIT",
     "output_type": "error",
     "traceback": [
      "\u001b[0;31m---------------------------------------------------------------------------\u001b[0m",
      "\u001b[0;31mGraphRecursionError\u001b[0m                       Traceback (most recent call last)",
      "Cell \u001b[0;32mIn[8], line 3\u001b[0m\n\u001b[1;32m      1\u001b[0m messages \u001b[38;5;241m=\u001b[39m [HumanMessage(content\u001b[38;5;241m=\u001b[39m\u001b[38;5;124m\"\u001b[39m\u001b[38;5;124mMultiply 6 by 6 and add 315 divided by 15 to the product\u001b[39m\u001b[38;5;124m\"\u001b[39m)]\n\u001b[0;32m----> 3\u001b[0m result \u001b[38;5;241m=\u001b[39m \u001b[43mreact_graph\u001b[49m\u001b[38;5;241;43m.\u001b[39;49m\u001b[43minvoke\u001b[49m\u001b[43m(\u001b[49m\u001b[43m{\u001b[49m\u001b[38;5;124;43m\"\u001b[39;49m\u001b[38;5;124;43mmessages\u001b[39;49m\u001b[38;5;124;43m\"\u001b[39;49m\u001b[43m:\u001b[49m\u001b[43m \u001b[49m\u001b[43mmessages\u001b[49m\u001b[43m}\u001b[49m\u001b[43m)\u001b[49m\n",
      "File \u001b[0;32m/opt/conda/lib/python3.11/site-packages/langgraph/pregel/__init__.py:1600\u001b[0m, in \u001b[0;36mPregel.invoke\u001b[0;34m(self, input, config, stream_mode, output_keys, interrupt_before, interrupt_after, debug, **kwargs)\u001b[0m\n\u001b[1;32m   1598\u001b[0m \u001b[38;5;28;01melse\u001b[39;00m:\n\u001b[1;32m   1599\u001b[0m     chunks \u001b[38;5;241m=\u001b[39m []\n\u001b[0;32m-> 1600\u001b[0m \u001b[43m\u001b[49m\u001b[38;5;28;43;01mfor\u001b[39;49;00m\u001b[43m \u001b[49m\u001b[43mchunk\u001b[49m\u001b[43m \u001b[49m\u001b[38;5;129;43;01min\u001b[39;49;00m\u001b[43m \u001b[49m\u001b[38;5;28;43mself\u001b[39;49m\u001b[38;5;241;43m.\u001b[39;49m\u001b[43mstream\u001b[49m\u001b[43m(\u001b[49m\n\u001b[1;32m   1601\u001b[0m \u001b[43m    \u001b[49m\u001b[38;5;28;43minput\u001b[39;49m\u001b[43m,\u001b[49m\n\u001b[1;32m   1602\u001b[0m \u001b[43m    \u001b[49m\u001b[43mconfig\u001b[49m\u001b[43m,\u001b[49m\n\u001b[1;32m   1603\u001b[0m \u001b[43m    \u001b[49m\u001b[43mstream_mode\u001b[49m\u001b[38;5;241;43m=\u001b[39;49m\u001b[43mstream_mode\u001b[49m\u001b[43m,\u001b[49m\n\u001b[1;32m   1604\u001b[0m \u001b[43m    \u001b[49m\u001b[43moutput_keys\u001b[49m\u001b[38;5;241;43m=\u001b[39;49m\u001b[43moutput_keys\u001b[49m\u001b[43m,\u001b[49m\n\u001b[1;32m   1605\u001b[0m \u001b[43m    \u001b[49m\u001b[43minterrupt_before\u001b[49m\u001b[38;5;241;43m=\u001b[39;49m\u001b[43minterrupt_before\u001b[49m\u001b[43m,\u001b[49m\n\u001b[1;32m   1606\u001b[0m \u001b[43m    \u001b[49m\u001b[43minterrupt_after\u001b[49m\u001b[38;5;241;43m=\u001b[39;49m\u001b[43minterrupt_after\u001b[49m\u001b[43m,\u001b[49m\n\u001b[1;32m   1607\u001b[0m \u001b[43m    \u001b[49m\u001b[43mdebug\u001b[49m\u001b[38;5;241;43m=\u001b[39;49m\u001b[43mdebug\u001b[49m\u001b[43m,\u001b[49m\n\u001b[1;32m   1608\u001b[0m \u001b[43m    \u001b[49m\u001b[38;5;241;43m*\u001b[39;49m\u001b[38;5;241;43m*\u001b[39;49m\u001b[43mkwargs\u001b[49m\u001b[43m,\u001b[49m\n\u001b[1;32m   1609\u001b[0m \u001b[43m\u001b[49m\u001b[43m)\u001b[49m\u001b[43m:\u001b[49m\n\u001b[1;32m   1610\u001b[0m \u001b[43m    \u001b[49m\u001b[38;5;28;43;01mif\u001b[39;49;00m\u001b[43m \u001b[49m\u001b[43mstream_mode\u001b[49m\u001b[43m \u001b[49m\u001b[38;5;241;43m==\u001b[39;49m\u001b[43m \u001b[49m\u001b[38;5;124;43m\"\u001b[39;49m\u001b[38;5;124;43mvalues\u001b[39;49m\u001b[38;5;124;43m\"\u001b[39;49m\u001b[43m:\u001b[49m\n\u001b[1;32m   1611\u001b[0m \u001b[43m        \u001b[49m\u001b[43mlatest\u001b[49m\u001b[43m \u001b[49m\u001b[38;5;241;43m=\u001b[39;49m\u001b[43m \u001b[49m\u001b[43mchunk\u001b[49m\n",
      "File \u001b[0;32m/opt/conda/lib/python3.11/site-packages/langgraph/pregel/__init__.py:1348\u001b[0m, in \u001b[0;36mPregel.stream\u001b[0;34m(self, input, config, stream_mode, output_keys, interrupt_before, interrupt_after, debug, subgraphs)\u001b[0m\n\u001b[1;32m   1339\u001b[0m \u001b[38;5;28;01mif\u001b[39;00m loop\u001b[38;5;241m.\u001b[39mstatus \u001b[38;5;241m==\u001b[39m \u001b[38;5;124m\"\u001b[39m\u001b[38;5;124mout_of_steps\u001b[39m\u001b[38;5;124m\"\u001b[39m:\n\u001b[1;32m   1340\u001b[0m     msg \u001b[38;5;241m=\u001b[39m create_error_message(\n\u001b[1;32m   1341\u001b[0m         message\u001b[38;5;241m=\u001b[39m(\n\u001b[1;32m   1342\u001b[0m             \u001b[38;5;124mf\u001b[39m\u001b[38;5;124m\"\u001b[39m\u001b[38;5;124mRecursion limit of \u001b[39m\u001b[38;5;132;01m{\u001b[39;00mconfig[\u001b[38;5;124m'\u001b[39m\u001b[38;5;124mrecursion_limit\u001b[39m\u001b[38;5;124m'\u001b[39m]\u001b[38;5;132;01m}\u001b[39;00m\u001b[38;5;124m reached \u001b[39m\u001b[38;5;124m\"\u001b[39m\n\u001b[0;32m   (...)\u001b[0m\n\u001b[1;32m   1346\u001b[0m         error_code\u001b[38;5;241m=\u001b[39mErrorCode\u001b[38;5;241m.\u001b[39mGRAPH_RECURSION_LIMIT,\n\u001b[1;32m   1347\u001b[0m     )\n\u001b[0;32m-> 1348\u001b[0m     \u001b[38;5;28;01mraise\u001b[39;00m GraphRecursionError(msg)\n\u001b[1;32m   1349\u001b[0m \u001b[38;5;66;03m# set final channel values as run output\u001b[39;00m\n\u001b[1;32m   1350\u001b[0m run_manager\u001b[38;5;241m.\u001b[39mon_chain_end(loop\u001b[38;5;241m.\u001b[39moutput)\n",
      "\u001b[0;31mGraphRecursionError\u001b[0m: Recursion limit of 25 reached without hitting a stop condition. You can increase the limit by setting the `recursion_limit` config key.\nFor troubleshooting, visit: https://python.langchain.com/docs/troubleshooting/errors/GRAPH_RECURSION_LIMIT"
     ]
    }
   ],
   "source": [
    "messages = [HumanMessage(content=\"Multiply 6 by 6 and add 315 divided by 15 to the product\")]\n",
    "\n",
    "result = react_graph.invoke({\"messages\": messages})"
   ]
  },
  {
   "cell_type": "code",
   "execution_count": null,
   "id": "b74bcbe8-7cbc-46dc-95d2-4bf12fb4ab98",
   "metadata": {},
   "outputs": [],
   "source": [
    "for m in result['messages']:\n",
    "    m.pretty_print()\n"
   ]
  },
  {
   "cell_type": "markdown",
   "id": "d31736de-d270-4998-b825-154dff882a78",
   "metadata": {},
   "source": [
    "### Memory\n",
    "\n",
    "Extending our agent with memory. Same tools apply!\n",
    "\n",
    "if we add another prompt like: \"Multiply that by 2\", the model does not know what \"that\" is. State is transient to single graph execution.\n",
    "\n",
    "We have to address this via persistence.\n",
    "\n",
    "LangGraph can use a checkpointer to automatically save the graph state after each step.\n",
    "\n",
    "This built-in persistence layer gives us memory, allowing LangGraph to pick up from the last state update.\n",
    "\n",
    "One of the easiest checkpointers to use is the MemorySaver, an in-memory key-value store for Graph state.\n",
    "\n",
    "All we need to do is simply compile the graph with a checkpointer, and our graph has memory!"
   ]
  },
  {
   "cell_type": "code",
   "execution_count": 16,
   "id": "f53ef94e-6405-44cc-9016-50a617226355",
   "metadata": {},
   "outputs": [],
   "source": [
    "from langgraph.checkpoint.memory import MemorySaver\n",
    "memory = MemorySaver()"
   ]
  },
  {
   "cell_type": "code",
   "execution_count": 17,
   "id": "62f5c9f4-0272-4ace-8de7-901ef88dd546",
   "metadata": {},
   "outputs": [
    {
     "data": {
      "image/jpeg": "[encoded data removed]",
      "text/plain": [
       "<IPython.core.display.Image object>"
      ]
     },
     "metadata": {},
     "output_type": "display_data"
    }
   ],
   "source": [
    "react_graph_mem = builder.compile(checkpointer=memory)\n",
    "\n",
    "# Show\n",
    "display(Image(react_graph_mem.get_graph(xray=True).draw_mermaid_png()))"
   ]
  },
  {
   "cell_type": "markdown",
   "id": "1f2ae208-3ada-4a9b-b0bf-dbb610acbe94",
   "metadata": {},
   "source": [
    "When we use memory we need to specify a thread_id, which will store our collection of graph states (or checkpoints).\n",
    "\n",
    "We can access this thread later using this ID."
   ]
  },
  {
   "cell_type": "code",
   "execution_count": 18,
   "id": "46bab077-afff-49b4-a77d-1f447e754b7d",
   "metadata": {},
   "outputs": [],
   "source": [
    "# specify the thread_id as part of a config\n",
    "\n",
    "config = {\"configurable\": {\"thread_id\": 1}}"
   ]
  },
  {
   "cell_type": "code",
   "execution_count": 20,
   "id": "3b327207-d5e6-425d-9807-00fce5a099af",
   "metadata": {},
   "outputs": [],
   "source": [
    "messages = [HumanMessage(content=\"Multiply 5 and 7\")]"
   ]
  },
  {
   "cell_type": "code",
   "execution_count": 21,
   "id": "f294efff-61fb-40a7-9fe8-b2dcda6a219c",
   "metadata": {},
   "outputs": [],
   "source": [
    "# run the model on the messages\n",
    "result = react_graph_mem.invoke({\"messages\": messages}, config=config)"
   ]
  },
  {
   "cell_type": "code",
   "execution_count": 22,
   "id": "0d2fba4f-83bc-45bf-8809-4fa69619c03f",
   "metadata": {},
   "outputs": [
    {
     "name": "stdout",
     "output_type": "stream",
     "text": [
      "================================\u001b[1m Human Message \u001b[0m=================================\n",
      "\n",
      "Multiply 5 and 7\n",
      "==================================\u001b[1m Ai Message \u001b[0m==================================\n",
      "Tool Calls:\n",
      "  calculator (call_DBf6J1k0bpTa3w51rNDPeSJc)\n",
      " Call ID: call_DBf6J1k0bpTa3w51rNDPeSJc\n",
      "  Args:\n",
      "    operands: {'a': 5, 'b': 7}\n",
      "    op: mult\n",
      "=================================\u001b[1m Tool Message \u001b[0m=================================\n",
      "Name: calculator\n",
      "\n",
      "35.0\n",
      "==================================\u001b[1m Ai Message \u001b[0m==================================\n",
      "\n",
      "The result of multiplying 5 and 7 is 35.\n"
     ]
    }
   ],
   "source": [
    "for r in result[\"messages\"]:\n",
    "    r.pretty_print()"
   ]
  },
  {
   "cell_type": "code",
   "execution_count": 23,
   "id": "123cfb8d-2f14-4a2b-8c90-80d87df126f5",
   "metadata": {
    "collapsed": true,
    "jupyter": {
     "outputs_hidden": true
    }
   },
   "outputs": [
    {
     "name": "stdout",
     "output_type": "stream",
     "text": [
      "================================\u001b[1m Human Message \u001b[0m=================================\n",
      "\n",
      "Multiply 5 and 7\n",
      "==================================\u001b[1m Ai Message \u001b[0m==================================\n",
      "Tool Calls:\n",
      "  calculator (call_DBf6J1k0bpTa3w51rNDPeSJc)\n",
      " Call ID: call_DBf6J1k0bpTa3w51rNDPeSJc\n",
      "  Args:\n",
      "    operands: {'a': 5, 'b': 7}\n",
      "    op: mult\n",
      "=================================\u001b[1m Tool Message \u001b[0m=================================\n",
      "Name: calculator\n",
      "\n",
      "35.0\n",
      "==================================\u001b[1m Ai Message \u001b[0m==================================\n",
      "\n",
      "The result of multiplying 5 and 7 is 35.\n",
      "================================\u001b[1m Human Message \u001b[0m=================================\n",
      "\n",
      "Add that to 211 and divide the result by 8\n",
      "==================================\u001b[1m Ai Message \u001b[0m==================================\n",
      "Tool Calls:\n",
      "  calculator (call_uHuAs15DMjLAp3Jfjoas2FCx)\n",
      " Call ID: call_uHuAs15DMjLAp3Jfjoas2FCx\n",
      "  Args:\n",
      "    operands: {'a': 35, 'b': 211}\n",
      "    op: add\n",
      "=================================\u001b[1m Tool Message \u001b[0m=================================\n",
      "Name: calculator\n",
      "\n",
      "246.0\n",
      "==================================\u001b[1m Ai Message \u001b[0m==================================\n",
      "Tool Calls:\n",
      "  calculator (call_ocz1X4106vLNX6Ij4Ct2js6T)\n",
      " Call ID: call_ocz1X4106vLNX6Ij4Ct2js6T\n",
      "  Args:\n",
      "    operands: {'a': 246, 'b': 8}\n",
      "    op: div\n",
      "=================================\u001b[1m Tool Message \u001b[0m=================================\n",
      "Name: calculator\n",
      "\n",
      "30.75\n",
      "==================================\u001b[1m Ai Message \u001b[0m==================================\n",
      "\n",
      "After adding 35 to 211, the result is 246. Dividing 246 by 8 gives 30.75.\n"
     ]
    }
   ],
   "source": [
    "messages = [HumanMessage(content=\"Add that to 211 and divide the result by 8\")]\n",
    "result = react_graph_mem.invoke({\"messages\": messages}, config=config)\n",
    "for r in result[\"messages\"]:\n",
    "    r.pretty_print()"
   ]
  },
  {
   "cell_type": "code",
   "execution_count": 24,
   "id": "ba387e89-e6fa-48c3-9aa0-941d09064e3b",
   "metadata": {
    "collapsed": true,
    "jupyter": {
     "outputs_hidden": true,
     "source_hidden": true
    }
   },
   "outputs": [
    {
     "name": "stdout",
     "output_type": "stream",
     "text": [
      "================================\u001b[1m Human Message \u001b[0m=================================\n",
      "\n",
      "Multiply 5 and 7\n",
      "==================================\u001b[1m Ai Message \u001b[0m==================================\n",
      "Tool Calls:\n",
      "  calculator (call_DBf6J1k0bpTa3w51rNDPeSJc)\n",
      " Call ID: call_DBf6J1k0bpTa3w51rNDPeSJc\n",
      "  Args:\n",
      "    operands: {'a': 5, 'b': 7}\n",
      "    op: mult\n",
      "=================================\u001b[1m Tool Message \u001b[0m=================================\n",
      "Name: calculator\n",
      "\n",
      "35.0\n",
      "==================================\u001b[1m Ai Message \u001b[0m==================================\n",
      "\n",
      "The result of multiplying 5 and 7 is 35.\n",
      "================================\u001b[1m Human Message \u001b[0m=================================\n",
      "\n",
      "Add that to 211 and divide the result by 8\n",
      "==================================\u001b[1m Ai Message \u001b[0m==================================\n",
      "Tool Calls:\n",
      "  calculator (call_uHuAs15DMjLAp3Jfjoas2FCx)\n",
      " Call ID: call_uHuAs15DMjLAp3Jfjoas2FCx\n",
      "  Args:\n",
      "    operands: {'a': 35, 'b': 211}\n",
      "    op: add\n",
      "=================================\u001b[1m Tool Message \u001b[0m=================================\n",
      "Name: calculator\n",
      "\n",
      "246.0\n",
      "==================================\u001b[1m Ai Message \u001b[0m==================================\n",
      "Tool Calls:\n",
      "  calculator (call_ocz1X4106vLNX6Ij4Ct2js6T)\n",
      " Call ID: call_ocz1X4106vLNX6Ij4Ct2js6T\n",
      "  Args:\n",
      "    operands: {'a': 246, 'b': 8}\n",
      "    op: div\n",
      "=================================\u001b[1m Tool Message \u001b[0m=================================\n",
      "Name: calculator\n",
      "\n",
      "30.75\n",
      "==================================\u001b[1m Ai Message \u001b[0m==================================\n",
      "\n",
      "After adding 35 to 211, the result is 246. Dividing 246 by 8 gives 30.75.\n",
      "================================\u001b[1m Human Message \u001b[0m=================================\n",
      "\n",
      "If the result is in cm, how many inches would that be?\n",
      "==================================\u001b[1m Ai Message \u001b[0m==================================\n",
      "\n",
      "To convert centimeters to inches, you divide the number of centimeters by 2.54 (since 1 inch is equal to 2.54 cm). \n",
      "\n",
      "So, to convert 30.75 cm to inches:\n",
      "\n",
      "\\[ \\text{inches} = \\frac{30.75}{2.54} \\approx 12.11 \\]\n",
      "\n",
      "Therefore, 30.75 cm is approximately 12.11 inches.\n"
     ]
    }
   ],
   "source": [
    "messages = [HumanMessage(content=\"If the result is in cm, how many inches would that be?\")]\n",
    "result = react_graph_mem.invoke({\"messages\": messages}, config=config)\n",
    "for r in result[\"messages\"]:\n",
    "    r.pretty_print()"
   ]
  },
  {
   "cell_type": "markdown",
   "id": "7a7a4f86-dd7a-44a6-9963-83cc63fd674e",
   "metadata": {},
   "source": [
    "### Overwriting State\n",
    "\n",
    "Let's use a TypedDict for our state schema."
   ]
  },
  {
   "cell_type": "code",
   "execution_count": 38,
   "id": "98872790-9b83-49f1-ba37-3909903bdbb8",
   "metadata": {},
   "outputs": [],
   "source": [
    "from typing_extensions import TypedDict\n",
    "from dataclasses import dataclass\n",
    "from IPython.display import Image, display\n",
    "from langgraph.graph import StateGraph, START, END"
   ]
  },
  {
   "cell_type": "code",
   "execution_count": 3,
   "id": "5c8e1801-70cc-4e5c-926b-6d6ec7e0d191",
   "metadata": {},
   "outputs": [
    {
     "data": {
      "image/jpeg": "[encoded data removed]",
      "text/plain": [
       "<IPython.core.display.Image object>"
      ]
     },
     "metadata": {},
     "output_type": "display_data"
    }
   ],
   "source": [
    "class State(TypedDict):\n",
    "    foo: int\n",
    "def node_1(state):\n",
    "    print(\"node_1\")\n",
    "    return({\"foo\": state[\"foo\"] + 1})\n",
    "builder = StateGraph(State)\n",
    "builder.add_node(\"node_1\", node_1)\n",
    "builder.add_edge(START, \"node_1\")\n",
    "builder.add_edge(\"node_1\", END)\n",
    "\n",
    "graph = builder.compile()\n",
    "\n",
    "display(Image(graph.get_graph(xray=True).draw_mermaid_png()))"
   ]
  },
  {
   "cell_type": "code",
   "execution_count": 4,
   "id": "3d14e39f-624f-4380-8d62-234de9d1510d",
   "metadata": {},
   "outputs": [
    {
     "name": "stdout",
     "output_type": "stream",
     "text": [
      "node_1\n"
     ]
    },
    {
     "data": {
      "text/plain": [
       "{'foo': 34}"
      ]
     },
     "execution_count": 4,
     "metadata": {},
     "output_type": "execute_result"
    }
   ],
   "source": [
    "graph.invoke({\"foo\": 33})"
   ]
  },
  {
   "cell_type": "markdown",
   "id": "d87e8bb0-cef5-4846-be5b-a44985aaeef6",
   "metadata": {},
   "source": [
    "### Using Reducers\n",
    "\n",
    "We should use reducers mainly when we perform state updates in parallel. This will result in an error since each node will update the same key in the state. Hence we need a way to append to existing list of values rather than overwrite existing value.\n",
    "\n",
    "This is where reducers come in. We will be using the built-in operator 'add' in python as a function in our reducer.\n",
    "\n"
   ]
  },
  {
   "cell_type": "code",
   "execution_count": 22,
   "id": "9c57bf5c-1dbd-4893-b696-ad0b9c9e57eb",
   "metadata": {},
   "outputs": [
    {
     "data": {
      "image/jpeg": "[encoded data removed]",
      "text/plain": [
       "<IPython.core.display.Image object>"
      ]
     },
     "metadata": {},
     "output_type": "display_data"
    }
   ],
   "source": [
    "from operator import add\n",
    "from typing import Annotated\n",
    "\n",
    "class State(TypedDict):\n",
    "    foo: Annotated[list[int], add]\n",
    "\n",
    "def node_1(state):\n",
    "    print(\"---Node 1---\")\n",
    "    return {\"foo\": [state['foo'][-1] + 2]}\n",
    "\n",
    "# Build graph\n",
    "builder = StateGraph(State)\n",
    "builder.add_node(\"node_1\", node_1)\n",
    "\n",
    "# Logic\n",
    "builder.add_edge(START, \"node_1\")\n",
    "builder.add_edge(\"node_1\", END)\n",
    "\n",
    "# Add\n",
    "graph = builder.compile()\n",
    "\n",
    "# View\n",
    "display(Image(graph.get_graph().draw_mermaid_png()))"
   ]
  },
  {
   "cell_type": "code",
   "execution_count": 23,
   "id": "824447b8-0228-4c6c-a4c4-b0e4435577f2",
   "metadata": {},
   "outputs": [
    {
     "name": "stdout",
     "output_type": "stream",
     "text": [
      "---Node 1---\n"
     ]
    },
    {
     "data": {
      "text/plain": [
       "{'foo': [9, 11]}"
      ]
     },
     "execution_count": 23,
     "metadata": {},
     "output_type": "execute_result"
    }
   ],
   "source": [
    "graph.invoke({\"foo\": [9]})"
   ]
  },
  {
   "cell_type": "code",
   "execution_count": 18,
   "id": "5d8308d2-2c6b-4f1e-b105-f66f7028a2cf",
   "metadata": {},
   "outputs": [
    {
     "data": {
      "text/plain": [
       "[1, 2, 3, 4, 5]"
      ]
     },
     "execution_count": 18,
     "metadata": {},
     "output_type": "execute_result"
    }
   ],
   "source": [
    "arr = [1,2,3,4]\n",
    "\n",
    "arred = add(arr, [arr[-1] + 1])\n",
    "arred"
   ]
  },
  {
   "cell_type": "markdown",
   "id": "f3d26fc6-5dca-4789-b38f-0ef464851d43",
   "metadata": {},
   "source": [
    "So it seems that when we pass State to graph it adds current state with current value. It passess to operator.add(state['foo'], whatever the return is from the node)\n",
    "\n",
    "i.e. `add(state['foo'], [state['foo'][-1] + 2])` as in the example above\n",
    "\n",
    "lets try the branching with parallel state updates"
   ]
  },
  {
   "cell_type": "code",
   "execution_count": 32,
   "id": "24a0f121-7b6c-4395-b338-149a807aad6b",
   "metadata": {},
   "outputs": [
    {
     "data": {
      "image/jpeg": "[encoded data removed]",
      "text/plain": [
       "<IPython.core.display.Image object>"
      ]
     },
     "metadata": {},
     "output_type": "display_data"
    }
   ],
   "source": [
    "def node_1(state):\n",
    "    print(\"---Node 1---\")\n",
    "    return {\"foo\": [state['foo'][-1] + 1]}\n",
    "\n",
    "def node_2(state):\n",
    "    print(\"---Node 2---\")\n",
    "    return {\"foo\": [state['foo'][-1] + 1]}\n",
    "\n",
    "def node_3(state):\n",
    "    print(\"---Node 3---\")\n",
    "    return {\"foo\": [state['foo'][-1] + 1]}\n",
    "\n",
    "# Build graph\n",
    "builder = StateGraph(State)\n",
    "builder.add_node(\"node_1\", node_1)\n",
    "builder.add_node(\"node_2\", node_2)\n",
    "builder.add_node(\"node_3\", node_3)\n",
    "\n",
    "# Logic\n",
    "builder.add_edge(START, \"node_1\")\n",
    "builder.add_edge(\"node_1\", \"node_2\")\n",
    "builder.add_edge(\"node_1\", \"node_3\")\n",
    "builder.add_edge(\"node_2\", END)\n",
    "builder.add_edge(\"node_3\", END)\n",
    "\n",
    "# Add\n",
    "graph = builder.compile()\n",
    "\n",
    "# View\n",
    "display(Image(graph.get_graph().draw_mermaid_png()))"
   ]
  },
  {
   "cell_type": "code",
   "execution_count": 35,
   "id": "8c521635-db2f-46bc-bd7e-a1e1d6ce7e05",
   "metadata": {},
   "outputs": [
    {
     "name": "stdout",
     "output_type": "stream",
     "text": [
      "---Node 1---\n",
      "---Node 2---\n",
      "---Node 3---\n"
     ]
    },
    {
     "data": {
      "text/plain": [
       "{'foo': [1, 2, 3, 3]}"
      ]
     },
     "execution_count": 35,
     "metadata": {},
     "output_type": "execute_result"
    }
   ],
   "source": [
    "graph.invoke({'foo': [1]})"
   ]
  },
  {
   "cell_type": "markdown",
   "id": "3c544363-58ba-44e4-b6d8-4282594cde70",
   "metadata": {},
   "source": [
    "This results in the initial state `[1]` then in node_1 it adds `[2]` and node_2 and node_3 add the same `[3]` simultaneously\n",
    "\n",
    "Below we will implement custom reducer `reduce_list` which takes two lists and handles `None` being supplied instead of a list as an argument."
   ]
  },
  {
   "cell_type": "code",
   "execution_count": 39,
   "id": "4e11bee3-10df-446e-99a6-54b0a2381cb0",
   "metadata": {
    "collapsed": true,
    "jupyter": {
     "outputs_hidden": true
    }
   },
   "outputs": [
    {
     "ename": "NameError",
     "evalue": "name 'Annotated' is not defined",
     "output_type": "error",
     "traceback": [
      "\u001b[0;31m---------------------------------------------------------------------------\u001b[0m",
      "\u001b[0;31mNameError\u001b[0m                                 Traceback (most recent call last)",
      "Cell \u001b[0;32mIn[39], line 21\u001b[0m\n\u001b[1;32m     15\u001b[0m         right \u001b[38;5;241m=\u001b[39m []\n\u001b[1;32m     16\u001b[0m     \u001b[38;5;28;01mreturn\u001b[39;00m left \u001b[38;5;241m+\u001b[39m right\n\u001b[1;32m     20\u001b[0m \u001b[38;5;129;43m@dataclass\u001b[39;49m\n\u001b[0;32m---> 21\u001b[0m \u001b[38;5;28;43;01mclass\u001b[39;49;00m\u001b[43m \u001b[49m\u001b[38;5;21;43;01mDataClassState\u001b[39;49;00m\u001b[43m:\u001b[49m\n\u001b[1;32m     22\u001b[0m \u001b[43m    \u001b[49m\u001b[43mfoo\u001b[49m\u001b[43m:\u001b[49m\u001b[43m \u001b[49m\u001b[43mAnnotated\u001b[49m\u001b[43m[\u001b[49m\u001b[38;5;28;43mlist\u001b[39;49m\u001b[43m[\u001b[49m\u001b[38;5;28;43mint\u001b[39;49m\u001b[43m]\u001b[49m\u001b[43m,\u001b[49m\u001b[43m \u001b[49m\u001b[43mreduce_list\u001b[49m\u001b[43m]\u001b[49m\n\u001b[1;32m     24\u001b[0m \u001b[38;5;28;01mclass\u001b[39;00m \u001b[38;5;21;01mDefaultState\u001b[39;00m:\n",
      "Cell \u001b[0;32mIn[39], line 22\u001b[0m, in \u001b[0;36mDataClassState\u001b[0;34m()\u001b[0m\n\u001b[1;32m     20\u001b[0m \u001b[38;5;129m@dataclass\u001b[39m\n\u001b[1;32m     21\u001b[0m \u001b[38;5;28;01mclass\u001b[39;00m \u001b[38;5;21;01mDataClassState\u001b[39;00m:\n\u001b[0;32m---> 22\u001b[0m     foo: \u001b[43mAnnotated\u001b[49m[\u001b[38;5;28mlist\u001b[39m[\u001b[38;5;28mint\u001b[39m], reduce_list]\n",
      "\u001b[0;31mNameError\u001b[0m: name 'Annotated' is not defined"
     ]
    }
   ],
   "source": [
    "def reduce_list(left: list | None, right: list | None):\n",
    "    \"\"\"Safely combine two lists, handling cases where either or both inputs might be None.\n",
    "\n",
    "    Args:\n",
    "        left (list | None): The first list to combine, or None.\n",
    "        right (list | None): The second list to combine, or None.\n",
    "\n",
    "    Returns:\n",
    "        list: A new list containing all elements from both input lists.\n",
    "               If an input is None, it's treated as an empty list.\n",
    "    \"\"\"\n",
    "    if not left:\n",
    "        left = []\n",
    "    if not right:\n",
    "        right = []\n",
    "    return left + right\n",
    "\n",
    "\n",
    "\n",
    "@dataclass\n",
    "class DataClassState:\n",
    "    foo: Annotated[list[int], reduce_list]\n",
    "\n",
    "class DefaultState:\n",
    "    foo: Annotated[list[int], add]\n",
    "\n",
    "def node_1(state):\n",
    "    print(\"---Node 1---\")\n",
    "    return {\"foo\": [2]}\n",
    "\n",
    "# Build graph\n",
    "builder = StateGraph(DataClassState)\n",
    "builder.add_node(\"node_1\", node_1)\n",
    "\n",
    "# Logic\n",
    "builder.add_edge(START, \"node_1\")\n",
    "builder.add_edge(\"node_1\", END)\n",
    "\n",
    "# Add\n",
    "graph = builder.compile()\n",
    "\n",
    "# View\n",
    "display(Image(graph.get_graph().draw_mermaid_png()))\n",
    "\n",
    "try:\n",
    "    print(graph.invoke({\"foo\" : None}))\n",
    "except TypeError as e:\n",
    "    print(f\"TypeError occurred: {e}\")"
   ]
  },
  {
   "cell_type": "markdown",
   "id": "83499061-1791-442f-8aa0-03170a34dfd3",
   "metadata": {},
   "source": [
    "### Filtering and Trimming Messages\n",
    "\n",
    "Let's start by creating a simple chat with some initial messages\n",
    "\n"
   ]
  },
  {
   "cell_type": "code",
   "execution_count": 13,
   "id": "5bbd7127-d2a0-420a-a4bb-c6f59b270343",
   "metadata": {},
   "outputs": [],
   "source": [
    "from dotenv import load_dotenv, find_dotenv\n",
    "_ = load_dotenv(find_dotenv()) # read local .env file\n",
    "from langgraph.graph import MessagesState, START, END, StateGraph\n",
    "from pprint import pprint\n",
    "from langchain_core.messages import HumanMessage, SystemMessage, AIMessage\n",
    "from langgraph.checkpoint.memory import MemorySaver\n",
    "from langchain_openai import ChatOpenAI\n",
    "from IPython.display import Image, display\n",
    "\n",
    "\n",
    "messages = [HumanMessage(\"Hey AI can you answer some animal questions?\"), AIMessage(\"Sure, go ahead and ask, I am here to assist\")]\n",
    "messages.append(HumanMessage(\"I am interested to know which of the creatures currently inhabiting Earth has the longest lifespan. \\\n",
    "Which creature lives the longest?\"))\n",
    "\n",
    "sys_message = SystemMessage(\"You are an everhelpful assistant trying to assist your human friend. You are polite, thoughtful \\\n",
    "and with great sense of humour.\")"
   ]
  },
  {
   "cell_type": "code",
   "execution_count": 14,
   "id": "08826f0a-c2d7-4a9c-bd40-a4e5558f4d8c",
   "metadata": {},
   "outputs": [],
   "source": [
    "llm = ChatOpenAI(model=\"gpt-4o\", temperature=0.75)\n",
    "memory = MemorySaver()"
   ]
  },
  {
   "cell_type": "code",
   "execution_count": 15,
   "id": "3417bbbd-d0bc-42c5-bebc-e76912638411",
   "metadata": {},
   "outputs": [
    {
     "data": {
      "image/jpeg": "[encoded data removed]",
      "text/plain": [
       "<IPython.core.display.Image object>"
      ]
     },
     "metadata": {},
     "output_type": "display_data"
    }
   ],
   "source": [
    "# The Assistant Node\n",
    "def assistant(state: MessagesState):\n",
    "    return {\"messages\": [llm.invoke([sys_message] + state[\"messages\"])]}\n",
    "builder = StateGraph(MessagesState)\n",
    "builder.add_node(\"assistant\", assistant)\n",
    "builder.add_edge(START, \"assistant\")\n",
    "builder.add_edge(\"assistant\", END)\n",
    "\n",
    "graph = builder.compile(checkpointer=memory)\n",
    "\n",
    "display(Image(graph.get_graph().draw_mermaid_png()))\n"
   ]
  },
  {
   "cell_type": "code",
   "execution_count": 75,
   "id": "462df6e2-3873-41c0-9790-24c9ff7e6b5f",
   "metadata": {},
   "outputs": [],
   "source": [
    "r = graph.invoke({\"messages\": messages}, config={\"configurable\": {\"thread_id\": 42}})"
   ]
  },
  {
   "cell_type": "code",
   "execution_count": 77,
   "id": "9706773f-54f8-4ead-a634-7543b8f4c939",
   "metadata": {},
   "outputs": [
    {
     "name": "stdout",
     "output_type": "stream",
     "text": [
      "================================\u001b[1m Human Message \u001b[0m=================================\n",
      "\n",
      "Hey AI can you answer some animal questions?\n",
      "==================================\u001b[1m Ai Message \u001b[0m==================================\n",
      "\n",
      "Sure, go ahead and ask, I am here to assist\n",
      "================================\u001b[1m Human Message \u001b[0m=================================\n",
      "\n",
      "I am interested to know which of the creatures currently inhabiting Earth has the longest lifespan. Which creature lives the longest?\n",
      "==================================\u001b[1m Ai Message \u001b[0m==================================\n",
      "\n",
      "Ah, the quest for immortality through the animal kingdom! The creature with the longest lifespan is the ocean quahog clam (*Arctica islandica*), some of which have been known to live over 500 years. One particular clam, nicknamed \"Ming,\" was found to be 507 years old! Talk about a slow pace of life.\n",
      "\n",
      "If you're wondering about vertebrates, the Greenland shark (*Somniosus microcephalus*) holds the record, with some individuals estimated to live up to 400 years. Clearly, the secret to a long life involves living in cold, deep waters and moving at a glacial pace. Maybe we should take notes?\n"
     ]
    }
   ],
   "source": [
    "for item in r[\"messages\"]:\n",
    "    item.pretty_print()"
   ]
  },
  {
   "cell_type": "code",
   "execution_count": 78,
   "id": "145e58b7-2bfe-44a9-be60-12f7ba840183",
   "metadata": {},
   "outputs": [
    {
     "name": "stdout",
     "output_type": "stream",
     "text": [
      "================================\u001b[1m Human Message \u001b[0m=================================\n",
      "\n",
      "Hey AI can you answer some animal questions?\n",
      "==================================\u001b[1m Ai Message \u001b[0m==================================\n",
      "\n",
      "Sure, go ahead and ask, I am here to assist\n",
      "================================\u001b[1m Human Message \u001b[0m=================================\n",
      "\n",
      "I am interested to know which of the creatures currently inhabiting Earth has the longest lifespan. Which creature lives the longest?\n",
      "==================================\u001b[1m Ai Message \u001b[0m==================================\n",
      "\n",
      "Ah, the quest for immortality through the animal kingdom! The creature with the longest lifespan is the ocean quahog clam (*Arctica islandica*), some of which have been known to live over 500 years. One particular clam, nicknamed \"Ming,\" was found to be 507 years old! Talk about a slow pace of life.\n",
      "\n",
      "If you're wondering about vertebrates, the Greenland shark (*Somniosus microcephalus*) holds the record, with some individuals estimated to live up to 400 years. Clearly, the secret to a long life involves living in cold, deep waters and moving at a glacial pace. Maybe we should take notes?\n",
      "================================\u001b[1m Human Message \u001b[0m=================================\n",
      "\n",
      "Isn't there some jellyfish that lives longer?\n",
      "==================================\u001b[1m Ai Message \u001b[0m==================================\n",
      "\n",
      "Ah, you're thinking of the infamous *Turritopsis dohrnii*, often dubbed the \"immortal jellyfish.\" This little marvel of the sea has a fascinating trick up its tentacles: it can revert its cells to an earlier stage of development when it faces environmental stress or injury, essentially starting its life cycle over again. It's like being able to hit a biological \"reset\" button, which theoretically means it could live indefinitely under the right conditions. \n",
      "\n",
      "However, while this jellyfish can potentially keep resetting its life clock, it doesn't make them invincible—they still face threats from predators and disease. So, while not immortal in the traditional sense, *Turritopsis dohrnii* certainly has mastered the art of a comeback!\n"
     ]
    }
   ],
   "source": [
    "r = graph.invoke({\"messages\": [HumanMessage(\"Isn't there some jellyfish that lives longer?\")]}, config={\"configurable\": {\"thread_id\": 42}})\n",
    "for item in r[\"messages\"]:\n",
    "    item.pretty_print()"
   ]
  },
  {
   "cell_type": "code",
   "execution_count": 79,
   "id": "d7db0379-df4a-401e-bb71-5fa76f802423",
   "metadata": {},
   "outputs": [
    {
     "name": "stdout",
     "output_type": "stream",
     "text": [
      "================================\u001b[1m Human Message \u001b[0m=================================\n",
      "\n",
      "Hey AI can you answer some animal questions?\n",
      "==================================\u001b[1m Ai Message \u001b[0m==================================\n",
      "\n",
      "Sure, go ahead and ask, I am here to assist\n",
      "================================\u001b[1m Human Message \u001b[0m=================================\n",
      "\n",
      "I am interested to know which of the creatures currently inhabiting Earth has the longest lifespan. Which creature lives the longest?\n",
      "==================================\u001b[1m Ai Message \u001b[0m==================================\n",
      "\n",
      "Ah, the quest for immortality through the animal kingdom! The creature with the longest lifespan is the ocean quahog clam (*Arctica islandica*), some of which have been known to live over 500 years. One particular clam, nicknamed \"Ming,\" was found to be 507 years old! Talk about a slow pace of life.\n",
      "\n",
      "If you're wondering about vertebrates, the Greenland shark (*Somniosus microcephalus*) holds the record, with some individuals estimated to live up to 400 years. Clearly, the secret to a long life involves living in cold, deep waters and moving at a glacial pace. Maybe we should take notes?\n",
      "================================\u001b[1m Human Message \u001b[0m=================================\n",
      "\n",
      "Isn't there some jellyfish that lives longer?\n",
      "==================================\u001b[1m Ai Message \u001b[0m==================================\n",
      "\n",
      "Ah, you're thinking of the infamous *Turritopsis dohrnii*, often dubbed the \"immortal jellyfish.\" This little marvel of the sea has a fascinating trick up its tentacles: it can revert its cells to an earlier stage of development when it faces environmental stress or injury, essentially starting its life cycle over again. It's like being able to hit a biological \"reset\" button, which theoretically means it could live indefinitely under the right conditions. \n",
      "\n",
      "However, while this jellyfish can potentially keep resetting its life clock, it doesn't make them invincible—they still face threats from predators and disease. So, while not immortal in the traditional sense, *Turritopsis dohrnii* certainly has mastered the art of a comeback!\n",
      "================================\u001b[1m Human Message \u001b[0m=================================\n",
      "\n",
      "How big is it? Where does it live?\n",
      "==================================\u001b[1m Ai Message \u001b[0m==================================\n",
      "\n",
      "The *Turritopsis dohrnii* is quite the diminutive wonder—it measures only about 4.5 millimeters in diameter, which is about the size of your pinky nail! Despite its tiny size, it has managed to capture a lot of attention with its unique ability to cheat death.\n",
      "\n",
      "As for its habitat, the \"immortal jellyfish\" is originally from the Mediterranean Sea, but it has spread to various oceans around the world, likely hitching rides in ballast water of ships. It's found in temperate to tropical waters, although it's not the kind of critter you'd easily spot during a seaside stroll, given its small size and translucency. It's like the secret agent of the ocean, quietly doing its thing while evading notice!\n"
     ]
    }
   ],
   "source": [
    "r = graph.invoke({\"messages\": [HumanMessage(\"How big is it? Where does it live?\")]}, config={\"configurable\": {\"thread_id\": 42}})\n",
    "for item in r[\"messages\"]:\n",
    "    item.pretty_print()"
   ]
  },
  {
   "cell_type": "markdown",
   "id": "801f20fd-9559-449a-8c28-26537520d0eb",
   "metadata": {},
   "source": [
    "Let's try and filter some messages out. For example the below will be deleting all but the last two messages using the `RemoveMessage` function"
   ]
  },
  {
   "cell_type": "code",
   "execution_count": 16,
   "id": "1387161f-c20f-40e7-b00c-67d33395bbbe",
   "metadata": {},
   "outputs": [],
   "source": [
    "from langchain_core.messages import RemoveMessage, trim_messages\n",
    "\n",
    "def filter_messages(state: MessagesState):\n",
    "    delete_messages = [RemoveMessage(id=m.id) for m in state[\"messages\"][:-4]] # this returns all but the last two messages\n",
    "    return {\"messages\": delete_messages}\n",
    "def assistant_with_trim(state: MessagesState):\n",
    "    trimmed = trim_messages(\n",
    "            state[\"messages\"],\n",
    "            max_tokens=250,\n",
    "            strategy=\"last\",\n",
    "            token_counter=ChatOpenAI(model=\"gpt-4o\"),\n",
    "            allow_partial=False\n",
    "        )\n",
    "    return {\"messages\": [llm.invoke([sys_message] + trimmed)]}"
   ]
  },
  {
   "cell_type": "markdown",
   "id": "efd3f5d3-2f3d-4071-a215-f7e842d36752",
   "metadata": {},
   "source": [
    "Now we can add the above function as a node before the Assistant. So the Assistant would only see the last two messages."
   ]
  },
  {
   "cell_type": "code",
   "execution_count": 10,
   "id": "b1e099e0-14e0-4805-9c81-8e9b1acc43cc",
   "metadata": {},
   "outputs": [
    {
     "ename": "NameError",
     "evalue": "name 'assistant' is not defined",
     "output_type": "error",
     "traceback": [
      "\u001b[0;31m---------------------------------------------------------------------------\u001b[0m",
      "\u001b[0;31mNameError\u001b[0m                                 Traceback (most recent call last)",
      "Cell \u001b[0;32mIn[10], line 2\u001b[0m\n\u001b[1;32m      1\u001b[0m builder \u001b[38;5;241m=\u001b[39m StateGraph(MessagesState)\n\u001b[0;32m----> 2\u001b[0m builder\u001b[38;5;241m.\u001b[39madd_node(\u001b[38;5;124m\"\u001b[39m\u001b[38;5;124massistant\u001b[39m\u001b[38;5;124m\"\u001b[39m, \u001b[43massistant\u001b[49m)\n\u001b[1;32m      3\u001b[0m builder\u001b[38;5;241m.\u001b[39madd_node(\u001b[38;5;124m\"\u001b[39m\u001b[38;5;124mfilter\u001b[39m\u001b[38;5;124m\"\u001b[39m, filter_messages)\n\u001b[1;32m      4\u001b[0m builder\u001b[38;5;241m.\u001b[39madd_edge(START, \u001b[38;5;124m\"\u001b[39m\u001b[38;5;124mfilter\u001b[39m\u001b[38;5;124m\"\u001b[39m)\n",
      "\u001b[0;31mNameError\u001b[0m: name 'assistant' is not defined"
     ]
    }
   ],
   "source": [
    "builder = StateGraph(MessagesState)\n",
    "builder.add_node(\"assistant\", assistant)\n",
    "builder.add_node(\"filter\", filter_messages)\n",
    "builder.add_edge(START, \"filter\")\n",
    "builder.add_edge(\"filter\", \"assistant\")\n",
    "builder.add_edge(\"assistant\", END)\n",
    "\n",
    "graph = builder.compile(checkpointer=memory)\n",
    "\n",
    "display(Image(graph.get_graph().draw_mermaid_png()))"
   ]
  },
  {
   "cell_type": "code",
   "execution_count": 110,
   "id": "5f8de134-706c-4f70-8720-ff6701a651d3",
   "metadata": {
    "collapsed": true,
    "jupyter": {
     "outputs_hidden": true
    }
   },
   "outputs": [
    {
     "data": {
      "text/plain": [
       "[HumanMessage(content='Hey AI can you answer some animal questions?', additional_kwargs={}, response_metadata={}, id='0a4f5501-9076-4c4b-8bca-d982ff5be893'),\n",
       " AIMessage(content='Sure, go ahead and ask, I am here to assist', additional_kwargs={}, response_metadata={}, id='ffe4c684-3b4d-47f5-bc59-f4b720a5c7b9'),\n",
       " HumanMessage(content='I am interested to know which of the creatures currently inhabiting Earth has the longest lifespan. Which creature lives the longest?', additional_kwargs={}, response_metadata={}, id='c74388a7-8d81-4376-80a2-0bf9e9f3307e'),\n",
       " AIMessage(content='Ah, the quest for immortality through the animal kingdom! The creature with the longest lifespan is the ocean quahog clam (*Arctica islandica*), some of which have been known to live over 500 years. One particular clam, nicknamed \"Ming,\" was found to be 507 years old! Talk about a slow pace of life.\\n\\nIf you\\'re wondering about vertebrates, the Greenland shark (*Somniosus microcephalus*) holds the record, with some individuals estimated to live up to 400 years. Clearly, the secret to a long life involves living in cold, deep waters and moving at a glacial pace. Maybe we should take notes?', additional_kwargs={'refusal': None}, response_metadata={'token_usage': {'completion_tokens': 136, 'prompt_tokens': 90, 'total_tokens': 226, 'completion_tokens_details': {'audio_tokens': None, 'reasoning_tokens': 0}, 'prompt_tokens_details': {'audio_tokens': None, 'cached_tokens': 0}}, 'model_name': 'gpt-4o-2024-08-06', 'system_fingerprint': 'fp_a20a4ee344', 'finish_reason': 'stop', 'logprobs': None}, id='run-61dcc765-b95a-45ec-affd-0e1aa5eb9c85-0', usage_metadata={'input_tokens': 90, 'output_tokens': 136, 'total_tokens': 226, 'input_token_details': {'cache_read': 0}, 'output_token_details': {'reasoning': 0}}),\n",
       " HumanMessage(content=\"Isn't there some jellyfish that lives longer?\", additional_kwargs={}, response_metadata={}, id='7b0088d3-e244-482d-bc2f-4393c3fd49e8'),\n",
       " AIMessage(content='Ah, you\\'re thinking of the infamous *Turritopsis dohrnii*, often dubbed the \"immortal jellyfish.\" This little marvel of the sea has a fascinating trick up its tentacles: it can revert its cells to an earlier stage of development when it faces environmental stress or injury, essentially starting its life cycle over again. It\\'s like being able to hit a biological \"reset\" button, which theoretically means it could live indefinitely under the right conditions. \\n\\nHowever, while this jellyfish can potentially keep resetting its life clock, it doesn\\'t make them invincible—they still face threats from predators and disease. So, while not immortal in the traditional sense, *Turritopsis dohrnii* certainly has mastered the art of a comeback!', additional_kwargs={'refusal': None}, response_metadata={'token_usage': {'completion_tokens': 150, 'prompt_tokens': 244, 'total_tokens': 394, 'completion_tokens_details': {'audio_tokens': None, 'reasoning_tokens': 0}, 'prompt_tokens_details': {'audio_tokens': None, 'cached_tokens': 0}}, 'model_name': 'gpt-4o-2024-08-06', 'system_fingerprint': 'fp_e5e4913e83', 'finish_reason': 'stop', 'logprobs': None}, id='run-d2b9fa26-3e32-4397-a533-2e3d2e4d8cd9-0', usage_metadata={'input_tokens': 244, 'output_tokens': 150, 'total_tokens': 394, 'input_token_details': {'cache_read': 0}, 'output_token_details': {'reasoning': 0}}),\n",
       " HumanMessage(content='How big is it? Where does it live?', additional_kwargs={}, response_metadata={}, id='399799d4-561c-43b2-9ae8-c8f29277f857'),\n",
       " AIMessage(content='The *Turritopsis dohrnii* is quite the diminutive wonder—it measures only about 4.5 millimeters in diameter, which is about the size of your pinky nail! Despite its tiny size, it has managed to capture a lot of attention with its unique ability to cheat death.\\n\\nAs for its habitat, the \"immortal jellyfish\" is originally from the Mediterranean Sea, but it has spread to various oceans around the world, likely hitching rides in ballast water of ships. It\\'s found in temperate to tropical waters, although it\\'s not the kind of critter you\\'d easily spot during a seaside stroll, given its small size and translucency. It\\'s like the secret agent of the ocean, quietly doing its thing while evading notice!', additional_kwargs={'refusal': None}, response_metadata={'token_usage': {'completion_tokens': 153, 'prompt_tokens': 412, 'total_tokens': 565, 'completion_tokens_details': {'audio_tokens': None, 'reasoning_tokens': 0}, 'prompt_tokens_details': {'audio_tokens': None, 'cached_tokens': 0}}, 'model_name': 'gpt-4o-2024-08-06', 'system_fingerprint': 'fp_e5e4913e83', 'finish_reason': 'stop', 'logprobs': None}, id='run-3f42cc7e-89fc-4334-83a2-f0826b4f7760-0', usage_metadata={'input_tokens': 412, 'output_tokens': 153, 'total_tokens': 565, 'input_token_details': {'cache_read': 0}, 'output_token_details': {'reasoning': 0}}),\n",
       " HumanMessage(content=\"Well if this jellyfish does not really die off, wouldn't we be swamped with the little creatures, sooner or later?\", additional_kwargs={}, response_metadata={}, id='4e32ca8b-2cca-4bcc-9bf3-858e6b29448b'),\n",
       " HumanMessage(content=\"Well if this jellyfish does not really die off, wouldn't we be swamped with the little creatures, sooner or later?\", additional_kwargs={}, response_metadata={}, id='1be25f0a-871a-4cad-bb56-733e64171959'),\n",
       " HumanMessage(content=\"Well if this jellyfish does not really die off, wouldn't we be swamped with the little creatures, sooner or later?\", additional_kwargs={}, response_metadata={})]"
      ]
     },
     "execution_count": 110,
     "metadata": {},
     "output_type": "execute_result"
    }
   ],
   "source": [
    "messages_so_far.append(HumanMessage(\"Well if this jellyfish does not really die off, wouldn't we be swamped with the little creatures, sooner or later?\"))"
   ]
  },
  {
   "cell_type": "code",
   "execution_count": 17,
   "id": "d7e48605-1d3c-4af2-b086-8075d38d22a2",
   "metadata": {},
   "outputs": [],
   "source": [
    "messages_so_far = [HumanMessage(content='Hey AI can you answer some animal questions?', additional_kwargs={}, response_metadata={}, id='0a4f5501-9076-4c4b-8bca-d982ff5be893'),\n",
    " AIMessage(content='Sure, go ahead and ask, I am here to assist', additional_kwargs={}, response_metadata={}, id='ffe4c684-3b4d-47f5-bc59-f4b720a5c7b9'),\n",
    " HumanMessage(content='I am interested to know which of the creatures currently inhabiting Earth has the longest lifespan. Which creature lives the longest?', additional_kwargs={}, response_metadata={}, id='c74388a7-8d81-4376-80a2-0bf9e9f3307e'),\n",
    " AIMessage(content='Ah, the quest for immortality through the animal kingdom! The creature with the longest lifespan is the ocean quahog clam (*Arctica islandica*), some of which have been known to live over 500 years. One particular clam, nicknamed \"Ming,\" was found to be 507 years old! Talk about a slow pace of life.\\n\\nIf you\\'re wondering about vertebrates, the Greenland shark (*Somniosus microcephalus*) holds the record, with some individuals estimated to live up to 400 years. Clearly, the secret to a long life involves living in cold, deep waters and moving at a glacial pace. Maybe we should take notes?', additional_kwargs={'refusal': None}, response_metadata={'token_usage': {'completion_tokens': 136, 'prompt_tokens': 90, 'total_tokens': 226, 'completion_tokens_details': {'audio_tokens': None, 'reasoning_tokens': 0}, 'prompt_tokens_details': {'audio_tokens': None, 'cached_tokens': 0}}, 'model_name': 'gpt-4o-2024-08-06', 'system_fingerprint': 'fp_a20a4ee344', 'finish_reason': 'stop', 'logprobs': None}, id='run-61dcc765-b95a-45ec-affd-0e1aa5eb9c85-0', usage_metadata={'input_tokens': 90, 'output_tokens': 136, 'total_tokens': 226, 'input_token_details': {'cache_read': 0}, 'output_token_details': {'reasoning': 0}}),\n",
    " HumanMessage(content=\"Isn't there some jellyfish that lives longer?\", additional_kwargs={}, response_metadata={}, id='7b0088d3-e244-482d-bc2f-4393c3fd49e8'),\n",
    " AIMessage(content='Ah, you\\'re thinking of the infamous *Turritopsis dohrnii*, often dubbed the \"immortal jellyfish.\" This little marvel of the sea has a fascinating trick up its tentacles: it can revert its cells to an earlier stage of development when it faces environmental stress or injury, essentially starting its life cycle over again. It\\'s like being able to hit a biological \"reset\" button, which theoretically means it could live indefinitely under the right conditions. \\n\\nHowever, while this jellyfish can potentially keep resetting its life clock, it doesn\\'t make them invincible—they still face threats from predators and disease. So, while not immortal in the traditional sense, *Turritopsis dohrnii* certainly has mastered the art of a comeback!', additional_kwargs={'refusal': None}, response_metadata={'token_usage': {'completion_tokens': 150, 'prompt_tokens': 244, 'total_tokens': 394, 'completion_tokens_details': {'audio_tokens': None, 'reasoning_tokens': 0}, 'prompt_tokens_details': {'audio_tokens': None, 'cached_tokens': 0}}, 'model_name': 'gpt-4o-2024-08-06', 'system_fingerprint': 'fp_e5e4913e83', 'finish_reason': 'stop', 'logprobs': None}, id='run-d2b9fa26-3e32-4397-a533-2e3d2e4d8cd9-0', usage_metadata={'input_tokens': 244, 'output_tokens': 150, 'total_tokens': 394, 'input_token_details': {'cache_read': 0}, 'output_token_details': {'reasoning': 0}}),\n",
    " HumanMessage(content='How big is it? Where does it live?', additional_kwargs={}, response_metadata={}, id='399799d4-561c-43b2-9ae8-c8f29277f857'),\n",
    " AIMessage(content='The *Turritopsis dohrnii* is quite the diminutive wonder—it measures only about 4.5 millimeters in diameter, which is about the size of your pinky nail! Despite its tiny size, it has managed to capture a lot of attention with its unique ability to cheat death.\\n\\nAs for its habitat, the \"immortal jellyfish\" is originally from the Mediterranean Sea, but it has spread to various oceans around the world, likely hitching rides in ballast water of ships. It\\'s found in temperate to tropical waters, although it\\'s not the kind of critter you\\'d easily spot during a seaside stroll, given its small size and translucency. It\\'s like the secret agent of the ocean, quietly doing its thing while evading notice!', additional_kwargs={'refusal': None}, response_metadata={'token_usage': {'completion_tokens': 153, 'prompt_tokens': 412, 'total_tokens': 565, 'completion_tokens_details': {'audio_tokens': None, 'reasoning_tokens': 0}, 'prompt_tokens_details': {'audio_tokens': None, 'cached_tokens': 0}}, 'model_name': 'gpt-4o-2024-08-06', 'system_fingerprint': 'fp_e5e4913e83', 'finish_reason': 'stop', 'logprobs': None}, id='run-3f42cc7e-89fc-4334-83a2-f0826b4f7760-0', usage_metadata={'input_tokens': 412, 'output_tokens': 153, 'total_tokens': 565, 'input_token_details': {'cache_read': 0}, 'output_token_details': {'reasoning': 0}}),\n",
    " HumanMessage(content=\"Well if this jellyfish does not really die off, wouldn't we be swamped with the little creatures, sooner or later?\", additional_kwargs={}, response_metadata={}, id='4e32ca8b-2cca-4bcc-9bf3-858e6b29448b')]"
   ]
  },
  {
   "cell_type": "code",
   "execution_count": 124,
   "id": "b36d1f71-5d96-4d6c-9cc6-4df43766e712",
   "metadata": {},
   "outputs": [],
   "source": [
    "r = graph.invoke({\"messages\": messages_so_far}, config={\"configurable\": {\"thread_id\": 48}})"
   ]
  },
  {
   "cell_type": "code",
   "execution_count": 125,
   "id": "16088b7a-7142-414d-902d-4cd104d2499a",
   "metadata": {},
   "outputs": [
    {
     "name": "stdout",
     "output_type": "stream",
     "text": [
      "================================\u001b[1m Human Message \u001b[0m=================================\n",
      "\n",
      "I am interested to know which of the creatures currently inhabiting Earth has the longest lifespan. Which creature lives the longest?\n",
      "==================================\u001b[1m Ai Message \u001b[0m==================================\n",
      "\n",
      "Ah, the quest for immortality through the animal kingdom! The creature with the longest lifespan is the ocean quahog clam (*Arctica islandica*), some of which have been known to live over 500 years. One particular clam, nicknamed \"Ming,\" was found to be 507 years old! Talk about a slow pace of life.\n",
      "\n",
      "If you're wondering about vertebrates, the Greenland shark (*Somniosus microcephalus*) holds the record, with some individuals estimated to live up to 400 years. Clearly, the secret to a long life involves living in cold, deep waters and moving at a glacial pace. Maybe we should take notes?\n",
      "================================\u001b[1m Human Message \u001b[0m=================================\n",
      "\n",
      "Isn't there some jellyfish that lives longer?\n",
      "==================================\u001b[1m Ai Message \u001b[0m==================================\n",
      "\n",
      "Ah, you're thinking of the infamous *Turritopsis dohrnii*, often dubbed the \"immortal jellyfish.\" This little marvel of the sea has a fascinating trick up its tentacles: it can revert its cells to an earlier stage of development when it faces environmental stress or injury, essentially starting its life cycle over again. It's like being able to hit a biological \"reset\" button, which theoretically means it could live indefinitely under the right conditions. \n",
      "\n",
      "However, while this jellyfish can potentially keep resetting its life clock, it doesn't make them invincible—they still face threats from predators and disease. So, while not immortal in the traditional sense, *Turritopsis dohrnii* certainly has mastered the art of a comeback!\n",
      "==================================\u001b[1m Ai Message \u001b[0m==================================\n",
      "\n",
      "Ah, you're thinking of the infamous *Turritopsis dohrnii*, often dubbed the \"immortal jellyfish.\" This little marvel of the sea has a fascinating trick up its tentacles: it can revert its cells to an earlier stage of development when it faces environmental stress or injury, essentially starting its life cycle over again. It's like being able to hit a biological \"reset\" button, which theoretically means it could live indefinitely under the right conditions. \n",
      "\n",
      "However, while this jellyfish can potentially keep resetting its life clock, it doesn't make them invincible—they still face threats from predators and disease. So, while not immortal in the traditional sense, *Turritopsis dohrnii* certainly has mastered the art of a comeback!\n"
     ]
    }
   ],
   "source": [
    "for item in r[\"messages\"]:\n",
    "    item.pretty_print()"
   ]
  },
  {
   "cell_type": "code",
   "execution_count": 97,
   "id": "15cd5381-6ef3-4fa5-9588-dd8260f9a0f8",
   "metadata": {
    "collapsed": true,
    "jupyter": {
     "outputs_hidden": true
    }
   },
   "outputs": [
    {
     "data": {
      "text/plain": [
       "[HumanMessage(content='How big is it? Where does it live?', additional_kwargs={}, response_metadata={}, id='399799d4-561c-43b2-9ae8-c8f29277f857'),\n",
       " AIMessage(content='The *Turritopsis dohrnii* is quite the diminutive wonder—it measures only about 4.5 millimeters in diameter, which is about the size of your pinky nail! Despite its tiny size, it has managed to capture a lot of attention with its unique ability to cheat death.\\n\\nAs for its habitat, the \"immortal jellyfish\" is originally from the Mediterranean Sea, but it has spread to various oceans around the world, likely hitching rides in ballast water of ships. It\\'s found in temperate to tropical waters, although it\\'s not the kind of critter you\\'d easily spot during a seaside stroll, given its small size and translucency. It\\'s like the secret agent of the ocean, quietly doing its thing while evading notice!', additional_kwargs={'refusal': None}, response_metadata={'token_usage': {'completion_tokens': 153, 'prompt_tokens': 412, 'total_tokens': 565, 'completion_tokens_details': {'audio_tokens': None, 'reasoning_tokens': 0}, 'prompt_tokens_details': {'audio_tokens': None, 'cached_tokens': 0}}, 'model_name': 'gpt-4o-2024-08-06', 'system_fingerprint': 'fp_e5e4913e83', 'finish_reason': 'stop', 'logprobs': None}, id='run-3f42cc7e-89fc-4334-83a2-f0826b4f7760-0', usage_metadata={'input_tokens': 412, 'output_tokens': 153, 'total_tokens': 565, 'input_token_details': {'cache_read': 0}, 'output_token_details': {'reasoning': 0}}),\n",
       " HumanMessage(content=\"Well if this jellyfish does not really die off, wouldn't we be swamped with the little creatures, sooner or later?\", additional_kwargs={}, response_metadata={}, id='4e32ca8b-2cca-4bcc-9bf3-858e6b29448b'),\n",
       " HumanMessage(content=\"Well if this jellyfish does not really die off, wouldn't we be swamped with the little creatures, sooner or later?\", additional_kwargs={}, response_metadata={}, id='1be25f0a-871a-4cad-bb56-733e64171959'),\n",
       " AIMessage(content='Ah, the intrigue of the \"immortal\" jellyfish! While *Turritopsis dohrnii* does have a nifty trick up its tentacles with the ability to revert back to its juvenile form, this doesn\\'t necessarily mean they\\'ll take over the oceans. \\n\\nFirst, not all of them manage to pull off this Benjamin Button act successfully. They can still fall victim to predators, disease, and environmental factors. Plus, reverting to a younger state requires specific conditions that aren\\'t always present in their natural habitat.\\n\\nThink of it this way: it\\'s like a superhero with a superpower that only works sometimes, and even then, they have to dodge all kinds of other dangers. So, while they\\'re fascinating and certainly a marvel of nature, we\\'re not at risk of a jellyfish world takeover just yet. They\\'ll just continue their covert operations under the sea!', additional_kwargs={'refusal': None}, response_metadata={'token_usage': {'completion_tokens': 171, 'prompt_tokens': 262, 'total_tokens': 433, 'completion_tokens_details': {'audio_tokens': None, 'reasoning_tokens': 0}, 'prompt_tokens_details': {'audio_tokens': None, 'cached_tokens': 0}}, 'model_name': 'gpt-4o-2024-08-06', 'system_fingerprint': 'fp_e5e4913e83', 'finish_reason': 'stop', 'logprobs': None}, id='run-3d4ea530-7365-409f-bfb5-ff9e751be8dc-0', usage_metadata={'input_tokens': 262, 'output_tokens': 171, 'total_tokens': 433, 'input_token_details': {'cache_read': 0}, 'output_token_details': {'reasoning': 0}})]"
      ]
     },
     "execution_count": 97,
     "metadata": {},
     "output_type": "execute_result"
    }
   ],
   "source": [
    "r[\"messages\"]"
   ]
  },
  {
   "cell_type": "markdown",
   "id": "90e568db-89b9-45b8-9c7c-ca157403f0b5",
   "metadata": {},
   "source": [
    "An example with trimmed messages. We will employ `trim_messsages` function inside the assistant."
   ]
  },
  {
   "cell_type": "code",
   "execution_count": 18,
   "id": "572a9a9a-22d4-4217-b5c4-431fb838e68b",
   "metadata": {},
   "outputs": [
    {
     "data": {
      "image/jpeg": "[encoded data removed]",
      "text/plain": [
       "<IPython.core.display.Image object>"
      ]
     },
     "metadata": {},
     "output_type": "display_data"
    }
   ],
   "source": [
    "builder = StateGraph(MessagesState)\n",
    "builder.add_node(\"assistant\", assistant_with_trim)\n",
    "builder.add_edge(START, \"assistant\")\n",
    "builder.add_edge(\"assistant\", END)\n",
    "\n",
    "graph = builder.compile(checkpointer=memory)\n",
    "\n",
    "display(Image(graph.get_graph().draw_mermaid_png()))"
   ]
  },
  {
   "cell_type": "code",
   "execution_count": 19,
   "id": "0e6536c6-4ce7-42e5-84b1-bec7245fb5c8",
   "metadata": {},
   "outputs": [],
   "source": [
    "r = graph.invoke({\"messages\": messages_so_far}, config={\"configurable\": {\"thread_id\": 48}})\n"
   ]
  },
  {
   "cell_type": "code",
   "execution_count": 20,
   "id": "7287d8c4-dbeb-4149-a661-05d805bbf83e",
   "metadata": {
    "collapsed": true,
    "jupyter": {
     "outputs_hidden": true
    }
   },
   "outputs": [
    {
     "name": "stdout",
     "output_type": "stream",
     "text": [
      "================================\u001b[1m Human Message \u001b[0m=================================\n",
      "\n",
      "Hey AI can you answer some animal questions?\n",
      "==================================\u001b[1m Ai Message \u001b[0m==================================\n",
      "\n",
      "Sure, go ahead and ask, I am here to assist\n",
      "================================\u001b[1m Human Message \u001b[0m=================================\n",
      "\n",
      "I am interested to know which of the creatures currently inhabiting Earth has the longest lifespan. Which creature lives the longest?\n",
      "==================================\u001b[1m Ai Message \u001b[0m==================================\n",
      "\n",
      "Ah, the quest for immortality through the animal kingdom! The creature with the longest lifespan is the ocean quahog clam (*Arctica islandica*), some of which have been known to live over 500 years. One particular clam, nicknamed \"Ming,\" was found to be 507 years old! Talk about a slow pace of life.\n",
      "\n",
      "If you're wondering about vertebrates, the Greenland shark (*Somniosus microcephalus*) holds the record, with some individuals estimated to live up to 400 years. Clearly, the secret to a long life involves living in cold, deep waters and moving at a glacial pace. Maybe we should take notes?\n",
      "================================\u001b[1m Human Message \u001b[0m=================================\n",
      "\n",
      "Isn't there some jellyfish that lives longer?\n",
      "==================================\u001b[1m Ai Message \u001b[0m==================================\n",
      "\n",
      "Ah, you're thinking of the infamous *Turritopsis dohrnii*, often dubbed the \"immortal jellyfish.\" This little marvel of the sea has a fascinating trick up its tentacles: it can revert its cells to an earlier stage of development when it faces environmental stress or injury, essentially starting its life cycle over again. It's like being able to hit a biological \"reset\" button, which theoretically means it could live indefinitely under the right conditions. \n",
      "\n",
      "However, while this jellyfish can potentially keep resetting its life clock, it doesn't make them invincible—they still face threats from predators and disease. So, while not immortal in the traditional sense, *Turritopsis dohrnii* certainly has mastered the art of a comeback!\n",
      "================================\u001b[1m Human Message \u001b[0m=================================\n",
      "\n",
      "How big is it? Where does it live?\n",
      "==================================\u001b[1m Ai Message \u001b[0m==================================\n",
      "\n",
      "The *Turritopsis dohrnii* is quite the diminutive wonder—it measures only about 4.5 millimeters in diameter, which is about the size of your pinky nail! Despite its tiny size, it has managed to capture a lot of attention with its unique ability to cheat death.\n",
      "\n",
      "As for its habitat, the \"immortal jellyfish\" is originally from the Mediterranean Sea, but it has spread to various oceans around the world, likely hitching rides in ballast water of ships. It's found in temperate to tropical waters, although it's not the kind of critter you'd easily spot during a seaside stroll, given its small size and translucency. It's like the secret agent of the ocean, quietly doing its thing while evading notice!\n",
      "================================\u001b[1m Human Message \u001b[0m=================================\n",
      "\n",
      "Well if this jellyfish does not really die off, wouldn't we be swamped with the little creatures, sooner or later?\n",
      "==================================\u001b[1m Ai Message \u001b[0m==================================\n",
      "\n",
      "Ah, the sweet dream of jellyfish world domination! While it's true that the *Turritopsis dohrnii* has the potential to revert to its juvenile form and essentially start its life cycle over, it's not as simple as it sounds for them to take over the world.\n",
      "\n",
      "First, the process of reverting to a younger state isn't always a guarantee—it often requires the jellyfish to be in a stressed or injured state, and even then, it doesn't always survive the process. Plus, they still have to deal with predators, disease, and environmental factors. It's a tough life for a jellyfish, even an \"immortal\" one.\n",
      "\n",
      "Also, their immortality doesn't translate to rapid reproduction. They're not exactly cranking out baby jellyfish at a rate that would flood the oceans. So, while their life cycle is fascinating, they're not likely to stage a jellyfish coup anytime soon. We can breathe easy—for now, at least!\n"
     ]
    }
   ],
   "source": [
    "for item in r[\"messages\"]:\n",
    "    item.pretty_print()"
   ]
  },
  {
   "cell_type": "markdown",
   "id": "ff72b8d9-8cf0-4050-9e24-c7f8a72e3b17",
   "metadata": {},
   "source": [
    "### Summarising instead of trimming or filtering\n",
    "\n",
    "Let's try to summarise a previous conversation once it reaches a certain number of exchanges. Once we summarise we continuously add to the summary every n-new exchanges creating an inexhaustable context window.\n",
    "\n",
    "We'll achieve this as follows:\n",
    "\n",
    "- Add a model calling assistant which takes into account any existing summary + the conversation after.\n",
    "- Add a summarisation node that creates a summary based on the conversation thus far and **deletes** all previous messages\n",
    "- Add a conditional edge which either outputs the current conversation or creates a summary first and then calls the assistant\n"
   ]
  },
  {
   "cell_type": "markdown",
   "id": "6e34cd19-52e5-4d8b-a820-5aa50ad42753",
   "metadata": {},
   "source": [
    "Setting up:"
   ]
  },
  {
   "cell_type": "code",
   "execution_count": 2,
   "id": "a68e5805-8fd3-40b6-8b07-44e535a72239",
   "metadata": {
    "collapsed": true,
    "jupyter": {
     "outputs_hidden": true
    }
   },
   "outputs": [
    {
     "name": "stdout",
     "output_type": "stream",
     "text": [
      "Collecting langchain_groq\n",
      "  Downloading langchain_groq-0.2.0-py3-none-any.whl.metadata (2.9 kB)\n",
      "Collecting groq<1,>=0.4.1 (from langchain_groq)\n",
      "  Downloading groq-0.11.0-py3-none-any.whl.metadata (13 kB)\n",
      "Requirement already satisfied: langchain-core<0.4,>=0.3 in /opt/conda/lib/python3.11/site-packages (from langchain_groq) (0.3.12)\n",
      "Requirement already satisfied: anyio<5,>=3.5.0 in /opt/conda/lib/python3.11/site-packages (from groq<1,>=0.4.1->langchain_groq) (4.4.0)\n",
      "Requirement already satisfied: distro<2,>=1.7.0 in /opt/conda/lib/python3.11/site-packages (from groq<1,>=0.4.1->langchain_groq) (1.9.0)\n",
      "Requirement already satisfied: httpx<1,>=0.23.0 in /opt/conda/lib/python3.11/site-packages (from groq<1,>=0.4.1->langchain_groq) (0.27.0)\n",
      "Requirement already satisfied: pydantic<3,>=1.9.0 in /opt/conda/lib/python3.11/site-packages (from groq<1,>=0.4.1->langchain_groq) (2.8.2)\n",
      "Requirement already satisfied: sniffio in /opt/conda/lib/python3.11/site-packages (from groq<1,>=0.4.1->langchain_groq) (1.3.1)\n",
      "Requirement already satisfied: typing-extensions<5,>=4.7 in /opt/conda/lib/python3.11/site-packages (from groq<1,>=0.4.1->langchain_groq) (4.12.2)\n",
      "Requirement already satisfied: PyYAML>=5.3 in /opt/conda/lib/python3.11/site-packages (from langchain-core<0.4,>=0.3->langchain_groq) (6.0.1)\n",
      "Requirement already satisfied: jsonpatch<2.0,>=1.33 in /opt/conda/lib/python3.11/site-packages (from langchain-core<0.4,>=0.3->langchain_groq) (1.33)\n",
      "Requirement already satisfied: langsmith<0.2.0,>=0.1.125 in /opt/conda/lib/python3.11/site-packages (from langchain-core<0.4,>=0.3->langchain_groq) (0.1.136)\n",
      "Requirement already satisfied: packaging<25,>=23.2 in /opt/conda/lib/python3.11/site-packages (from langchain-core<0.4,>=0.3->langchain_groq) (24.1)\n",
      "Requirement already satisfied: tenacity!=8.4.0,<10.0.0,>=8.1.0 in /opt/conda/lib/python3.11/site-packages (from langchain-core<0.4,>=0.3->langchain_groq) (8.5.0)\n",
      "Requirement already satisfied: idna>=2.8 in /opt/conda/lib/python3.11/site-packages (from anyio<5,>=3.5.0->groq<1,>=0.4.1->langchain_groq) (3.7)\n",
      "Requirement already satisfied: certifi in /opt/conda/lib/python3.11/site-packages (from httpx<1,>=0.23.0->groq<1,>=0.4.1->langchain_groq) (2024.7.4)\n",
      "Requirement already satisfied: httpcore==1.* in /opt/conda/lib/python3.11/site-packages (from httpx<1,>=0.23.0->groq<1,>=0.4.1->langchain_groq) (1.0.5)\n",
      "Requirement already satisfied: h11<0.15,>=0.13 in /opt/conda/lib/python3.11/site-packages (from httpcore==1.*->httpx<1,>=0.23.0->groq<1,>=0.4.1->langchain_groq) (0.14.0)\n",
      "Requirement already satisfied: jsonpointer>=1.9 in /opt/conda/lib/python3.11/site-packages (from jsonpatch<2.0,>=1.33->langchain-core<0.4,>=0.3->langchain_groq) (3.0.0)\n",
      "Requirement already satisfied: orjson<4.0.0,>=3.9.14 in /opt/conda/lib/python3.11/site-packages (from langsmith<0.2.0,>=0.1.125->langchain-core<0.4,>=0.3->langchain_groq) (3.10.6)\n",
      "Requirement already satisfied: requests<3,>=2 in /opt/conda/lib/python3.11/site-packages (from langsmith<0.2.0,>=0.1.125->langchain-core<0.4,>=0.3->langchain_groq) (2.32.3)\n",
      "Requirement already satisfied: requests-toolbelt<2.0.0,>=1.0.0 in /opt/conda/lib/python3.11/site-packages (from langsmith<0.2.0,>=0.1.125->langchain-core<0.4,>=0.3->langchain_groq) (1.0.0)\n",
      "Requirement already satisfied: annotated-types>=0.4.0 in /opt/conda/lib/python3.11/site-packages (from pydantic<3,>=1.9.0->groq<1,>=0.4.1->langchain_groq) (0.7.0)\n",
      "Requirement already satisfied: pydantic-core==2.20.1 in /opt/conda/lib/python3.11/site-packages (from pydantic<3,>=1.9.0->groq<1,>=0.4.1->langchain_groq) (2.20.1)\n",
      "Requirement already satisfied: charset-normalizer<4,>=2 in /opt/conda/lib/python3.11/site-packages (from requests<3,>=2->langsmith<0.2.0,>=0.1.125->langchain-core<0.4,>=0.3->langchain_groq) (3.3.2)\n",
      "Requirement already satisfied: urllib3<3,>=1.21.1 in /opt/conda/lib/python3.11/site-packages (from requests<3,>=2->langsmith<0.2.0,>=0.1.125->langchain-core<0.4,>=0.3->langchain_groq) (2.2.2)\n",
      "Downloading langchain_groq-0.2.0-py3-none-any.whl (14 kB)\n",
      "Downloading groq-0.11.0-py3-none-any.whl (106 kB)\n",
      "\u001b[2K   \u001b[90m━━━━━━━━━━━━━━━━━━━━━━━━━━━━━━━━━━━━━━━━\u001b[0m \u001b[32m106.5/106.5 kB\u001b[0m \u001b[31m6.9 MB/s\u001b[0m eta \u001b[36m0:00:00\u001b[0m\n",
      "\u001b[?25hInstalling collected packages: groq, langchain_groq\n",
      "Successfully installed groq-0.11.0 langchain_groq-0.2.0\n",
      "Requirement already satisfied: transformers in /opt/conda/lib/python3.11/site-packages (4.42.4)\n",
      "Collecting transformers\n",
      "  Downloading transformers-4.45.2-py3-none-any.whl.metadata (44 kB)\n",
      "\u001b[2K     \u001b[90m━━━━━━━━━━━━━━━━━━━━━━━━━━━━━━━━━━━━━━━━\u001b[0m \u001b[32m44.4/44.4 kB\u001b[0m \u001b[31m2.6 MB/s\u001b[0m eta \u001b[36m0:00:00\u001b[0m\n",
      "\u001b[?25hRequirement already satisfied: filelock in /opt/conda/lib/python3.11/site-packages (from transformers) (3.15.4)\n",
      "Requirement already satisfied: huggingface-hub<1.0,>=0.23.2 in /opt/conda/lib/python3.11/site-packages (from transformers) (0.24.0)\n",
      "Requirement already satisfied: numpy>=1.17 in /opt/conda/lib/python3.11/site-packages (from transformers) (1.26.4)\n",
      "Requirement already satisfied: packaging>=20.0 in /opt/conda/lib/python3.11/site-packages (from transformers) (24.1)\n",
      "Requirement already satisfied: pyyaml>=5.1 in /opt/conda/lib/python3.11/site-packages (from transformers) (6.0.1)\n",
      "Requirement already satisfied: regex!=2019.12.17 in /opt/conda/lib/python3.11/site-packages (from transformers) (2024.5.15)\n",
      "Requirement already satisfied: requests in /opt/conda/lib/python3.11/site-packages (from transformers) (2.32.3)\n",
      "Requirement already satisfied: safetensors>=0.4.1 in /opt/conda/lib/python3.11/site-packages (from transformers) (0.4.3)\n",
      "Collecting tokenizers<0.21,>=0.20 (from transformers)\n",
      "  Downloading tokenizers-0.20.1-cp311-cp311-manylinux_2_17_x86_64.manylinux2014_x86_64.whl.metadata (6.7 kB)\n",
      "Requirement already satisfied: tqdm>=4.27 in /opt/conda/lib/python3.11/site-packages (from transformers) (4.66.4)\n",
      "Requirement already satisfied: fsspec>=2023.5.0 in /opt/conda/lib/python3.11/site-packages (from huggingface-hub<1.0,>=0.23.2->transformers) (2024.5.0)\n",
      "Requirement already satisfied: typing-extensions>=3.7.4.3 in /opt/conda/lib/python3.11/site-packages (from huggingface-hub<1.0,>=0.23.2->transformers) (4.12.2)\n",
      "Requirement already satisfied: charset-normalizer<4,>=2 in /opt/conda/lib/python3.11/site-packages (from requests->transformers) (3.3.2)\n",
      "Requirement already satisfied: idna<4,>=2.5 in /opt/conda/lib/python3.11/site-packages (from requests->transformers) (3.7)\n",
      "Requirement already satisfied: urllib3<3,>=1.21.1 in /opt/conda/lib/python3.11/site-packages (from requests->transformers) (2.2.2)\n",
      "Requirement already satisfied: certifi>=2017.4.17 in /opt/conda/lib/python3.11/site-packages (from requests->transformers) (2024.7.4)\n",
      "Downloading transformers-4.45.2-py3-none-any.whl (9.9 MB)\n",
      "\u001b[2K   \u001b[90m━━━━━━━━━━━━━━━━━━━━━━━━━━━━━━━━━━━━━━━━\u001b[0m \u001b[32m9.9/9.9 MB\u001b[0m \u001b[31m67.6 MB/s\u001b[0m eta \u001b[36m0:00:00\u001b[0m00:01\u001b[0m00:01\u001b[0m\n",
      "\u001b[?25hDownloading tokenizers-0.20.1-cp311-cp311-manylinux_2_17_x86_64.manylinux2014_x86_64.whl (3.0 MB)\n",
      "\u001b[2K   \u001b[90m━━━━━━━━━━━━━━━━━━━━━━━━━━━━━━━━━━━━━━━━\u001b[0m \u001b[32m3.0/3.0 MB\u001b[0m \u001b[31m61.5 MB/s\u001b[0m eta \u001b[36m0:00:00\u001b[0m:00:01\u001b[0m\n",
      "\u001b[?25hInstalling collected packages: tokenizers, transformers\n",
      "  Attempting uninstall: tokenizers\n",
      "    Found existing installation: tokenizers 0.19.1\n",
      "    Uninstalling tokenizers-0.19.1:\n",
      "      Successfully uninstalled tokenizers-0.19.1\n",
      "  Attempting uninstall: transformers\n",
      "    Found existing installation: transformers 4.42.4\n",
      "    Uninstalling transformers-4.42.4:\n",
      "      Successfully uninstalled transformers-4.42.4\n",
      "Successfully installed tokenizers-0.20.1 transformers-4.45.2\n"
     ]
    }
   ],
   "source": [
    "!pip install langchain_groq\n",
    "!pip install -U transformers"
   ]
  },
  {
   "cell_type": "code",
   "execution_count": 5,
   "id": "d8ea23ef-0215-4050-8d9d-ee2f6702f4c8",
   "metadata": {
    "collapsed": true,
    "jupyter": {
     "outputs_hidden": true
    }
   },
   "outputs": [
    {
     "name": "stdout",
     "output_type": "stream",
     "text": [
      "Requirement already satisfied: langgraph-checkpoint-sqlite in /opt/conda/lib/python3.11/site-packages (2.0.0)\n",
      "Requirement already satisfied: aiosqlite<0.21.0,>=0.20.0 in /opt/conda/lib/python3.11/site-packages (from langgraph-checkpoint-sqlite) (0.20.0)\n",
      "Requirement already satisfied: langgraph-checkpoint<3.0.0,>=2.0.0 in /opt/conda/lib/python3.11/site-packages (from langgraph-checkpoint-sqlite) (2.0.1)\n",
      "Requirement already satisfied: typing_extensions>=4.0 in /opt/conda/lib/python3.11/site-packages (from aiosqlite<0.21.0,>=0.20.0->langgraph-checkpoint-sqlite) (4.12.2)\n",
      "Requirement already satisfied: langchain-core<0.4,>=0.2.38 in /opt/conda/lib/python3.11/site-packages (from langgraph-checkpoint<3.0.0,>=2.0.0->langgraph-checkpoint-sqlite) (0.3.12)\n",
      "Requirement already satisfied: msgpack<2.0.0,>=1.1.0 in /opt/conda/lib/python3.11/site-packages (from langgraph-checkpoint<3.0.0,>=2.0.0->langgraph-checkpoint-sqlite) (1.1.0)\n",
      "Requirement already satisfied: PyYAML>=5.3 in /opt/conda/lib/python3.11/site-packages (from langchain-core<0.4,>=0.2.38->langgraph-checkpoint<3.0.0,>=2.0.0->langgraph-checkpoint-sqlite) (6.0.1)\n",
      "Requirement already satisfied: jsonpatch<2.0,>=1.33 in /opt/conda/lib/python3.11/site-packages (from langchain-core<0.4,>=0.2.38->langgraph-checkpoint<3.0.0,>=2.0.0->langgraph-checkpoint-sqlite) (1.33)\n",
      "Requirement already satisfied: langsmith<0.2.0,>=0.1.125 in /opt/conda/lib/python3.11/site-packages (from langchain-core<0.4,>=0.2.38->langgraph-checkpoint<3.0.0,>=2.0.0->langgraph-checkpoint-sqlite) (0.1.136)\n",
      "Requirement already satisfied: packaging<25,>=23.2 in /opt/conda/lib/python3.11/site-packages (from langchain-core<0.4,>=0.2.38->langgraph-checkpoint<3.0.0,>=2.0.0->langgraph-checkpoint-sqlite) (24.1)\n",
      "Requirement already satisfied: pydantic<3.0.0,>=2.5.2 in /opt/conda/lib/python3.11/site-packages (from langchain-core<0.4,>=0.2.38->langgraph-checkpoint<3.0.0,>=2.0.0->langgraph-checkpoint-sqlite) (2.8.2)\n",
      "Requirement already satisfied: tenacity!=8.4.0,<10.0.0,>=8.1.0 in /opt/conda/lib/python3.11/site-packages (from langchain-core<0.4,>=0.2.38->langgraph-checkpoint<3.0.0,>=2.0.0->langgraph-checkpoint-sqlite) (8.5.0)\n",
      "Requirement already satisfied: jsonpointer>=1.9 in /opt/conda/lib/python3.11/site-packages (from jsonpatch<2.0,>=1.33->langchain-core<0.4,>=0.2.38->langgraph-checkpoint<3.0.0,>=2.0.0->langgraph-checkpoint-sqlite) (3.0.0)\n",
      "Requirement already satisfied: httpx<1,>=0.23.0 in /opt/conda/lib/python3.11/site-packages (from langsmith<0.2.0,>=0.1.125->langchain-core<0.4,>=0.2.38->langgraph-checkpoint<3.0.0,>=2.0.0->langgraph-checkpoint-sqlite) (0.27.0)\n",
      "Requirement already satisfied: orjson<4.0.0,>=3.9.14 in /opt/conda/lib/python3.11/site-packages (from langsmith<0.2.0,>=0.1.125->langchain-core<0.4,>=0.2.38->langgraph-checkpoint<3.0.0,>=2.0.0->langgraph-checkpoint-sqlite) (3.10.6)\n",
      "Requirement already satisfied: requests<3,>=2 in /opt/conda/lib/python3.11/site-packages (from langsmith<0.2.0,>=0.1.125->langchain-core<0.4,>=0.2.38->langgraph-checkpoint<3.0.0,>=2.0.0->langgraph-checkpoint-sqlite) (2.32.3)\n",
      "Requirement already satisfied: requests-toolbelt<2.0.0,>=1.0.0 in /opt/conda/lib/python3.11/site-packages (from langsmith<0.2.0,>=0.1.125->langchain-core<0.4,>=0.2.38->langgraph-checkpoint<3.0.0,>=2.0.0->langgraph-checkpoint-sqlite) (1.0.0)\n",
      "Requirement already satisfied: annotated-types>=0.4.0 in /opt/conda/lib/python3.11/site-packages (from pydantic<3.0.0,>=2.5.2->langchain-core<0.4,>=0.2.38->langgraph-checkpoint<3.0.0,>=2.0.0->langgraph-checkpoint-sqlite) (0.7.0)\n",
      "Requirement already satisfied: pydantic-core==2.20.1 in /opt/conda/lib/python3.11/site-packages (from pydantic<3.0.0,>=2.5.2->langchain-core<0.4,>=0.2.38->langgraph-checkpoint<3.0.0,>=2.0.0->langgraph-checkpoint-sqlite) (2.20.1)\n",
      "Requirement already satisfied: anyio in /opt/conda/lib/python3.11/site-packages (from httpx<1,>=0.23.0->langsmith<0.2.0,>=0.1.125->langchain-core<0.4,>=0.2.38->langgraph-checkpoint<3.0.0,>=2.0.0->langgraph-checkpoint-sqlite) (4.4.0)\n",
      "Requirement already satisfied: certifi in /opt/conda/lib/python3.11/site-packages (from httpx<1,>=0.23.0->langsmith<0.2.0,>=0.1.125->langchain-core<0.4,>=0.2.38->langgraph-checkpoint<3.0.0,>=2.0.0->langgraph-checkpoint-sqlite) (2024.7.4)\n",
      "Requirement already satisfied: httpcore==1.* in /opt/conda/lib/python3.11/site-packages (from httpx<1,>=0.23.0->langsmith<0.2.0,>=0.1.125->langchain-core<0.4,>=0.2.38->langgraph-checkpoint<3.0.0,>=2.0.0->langgraph-checkpoint-sqlite) (1.0.5)\n",
      "Requirement already satisfied: idna in /opt/conda/lib/python3.11/site-packages (from httpx<1,>=0.23.0->langsmith<0.2.0,>=0.1.125->langchain-core<0.4,>=0.2.38->langgraph-checkpoint<3.0.0,>=2.0.0->langgraph-checkpoint-sqlite) (3.7)\n",
      "Requirement already satisfied: sniffio in /opt/conda/lib/python3.11/site-packages (from httpx<1,>=0.23.0->langsmith<0.2.0,>=0.1.125->langchain-core<0.4,>=0.2.38->langgraph-checkpoint<3.0.0,>=2.0.0->langgraph-checkpoint-sqlite) (1.3.1)\n",
      "Requirement already satisfied: h11<0.15,>=0.13 in /opt/conda/lib/python3.11/site-packages (from httpcore==1.*->httpx<1,>=0.23.0->langsmith<0.2.0,>=0.1.125->langchain-core<0.4,>=0.2.38->langgraph-checkpoint<3.0.0,>=2.0.0->langgraph-checkpoint-sqlite) (0.14.0)\n",
      "Requirement already satisfied: charset-normalizer<4,>=2 in /opt/conda/lib/python3.11/site-packages (from requests<3,>=2->langsmith<0.2.0,>=0.1.125->langchain-core<0.4,>=0.2.38->langgraph-checkpoint<3.0.0,>=2.0.0->langgraph-checkpoint-sqlite) (3.3.2)\n",
      "Requirement already satisfied: urllib3<3,>=1.21.1 in /opt/conda/lib/python3.11/site-packages (from requests<3,>=2->langsmith<0.2.0,>=0.1.125->langchain-core<0.4,>=0.2.38->langgraph-checkpoint<3.0.0,>=2.0.0->langgraph-checkpoint-sqlite) (2.2.2)\n"
     ]
    }
   ],
   "source": [
    "!pip install langgraph-checkpoint-sqlite"
   ]
  },
  {
   "cell_type": "code",
   "execution_count": 4,
   "id": "7aea60af-12db-4b8d-969d-86d6ce0efa36",
   "metadata": {},
   "outputs": [],
   "source": [
    "from dotenv import load_dotenv, find_dotenv\n",
    "_ = load_dotenv(find_dotenv()) # read local .env file\n",
    "from langgraph.graph import MessagesState, START, END, StateGraph\n",
    "from pprint import pprint\n",
    "from langchain_core.messages import HumanMessage, SystemMessage, AIMessage\n",
    "from langgraph.checkpoint.memory import MemorySaver\n",
    "from langchain_openai import ChatOpenAI\n",
    "from IPython.display import Image, display\n",
    "from typing_extensions import TypedDict, Literal\n",
    "from langchain_groq import ChatGroq\n",
    "from langchain_core.messages import RemoveMessage, trim_messages\n",
    "import sqlite3\n",
    "from langgraph.checkpoint.sqlite import SqliteSaver\n",
    "import json\n"
   ]
  },
  {
   "cell_type": "markdown",
   "id": "806ee973-2c56-4ebb-afeb-7ebaa7691890",
   "metadata": {},
   "source": [
    "The state (we extend the MessagesState with a new property 'summary'):"
   ]
  },
  {
   "cell_type": "code",
   "execution_count": 5,
   "id": "e430d0b0-e624-486c-91c1-2e5fd935bf9b",
   "metadata": {},
   "outputs": [],
   "source": [
    "class State(MessagesState):\n",
    "    summary: str;\n",
    "\n",
    "# lets create the generic System Message as well:\n",
    "sys_msg = SystemMessage('You are an everhelpful assistant trying to assist your human friend. You are polite, thoughtful \\\n",
    "and with great sense of nerdy humour.')"
   ]
  },
  {
   "cell_type": "markdown",
   "id": "db197744-4505-4810-86d4-ae875189177c",
   "metadata": {},
   "source": [
    "The Nodes:\n",
    "\n",
    "- assistant\n",
    "- summariser"
   ]
  },
  {
   "cell_type": "code",
   "execution_count": 6,
   "id": "d76395ea-5737-49b1-a6ad-c731eabe6472",
   "metadata": {},
   "outputs": [],
   "source": [
    "def call_model(state: State):\n",
    "    summary = state.get('summary', '')\n",
    "    if summary:\n",
    "        system_msg = SystemMessage(f'{sys_msg.content}\\nSummary of our the conversation thus far:{summary}')\n",
    "    else:\n",
    "        system_msg = sys_msg\n",
    "    result = llm.invoke([system_msg] + state['messages'])\n",
    "    return {'messages': result}\n",
    "\n",
    "def summariser(state: State):\n",
    "    summary = state.get('summary', '')\n",
    "    if summary:\n",
    "        summary_message = f'Extend the current summary: {summary} with the conversation thus far.'\n",
    "    else:\n",
    "        summary_message = 'Summarise the conversation thus far'\n",
    "    result = llm.invoke(state['messages'] + [HumanMessage(summary_message)])\n",
    "    delete_messages = [RemoveMessage(id=m.id) for m in state[\"messages\"][:-2]]\n",
    "    return {'summary': result.content, 'messages': delete_messages}\n",
    "\n",
    "        "
   ]
  },
  {
   "cell_type": "markdown",
   "id": "4cd4c9c8-b14e-450c-9eed-6831128c03c0",
   "metadata": {},
   "source": [
    "The Condition:"
   ]
  },
  {
   "cell_type": "code",
   "execution_count": 4,
   "id": "8ab114fc-21d0-4416-adf6-a882e5ededc4",
   "metadata": {},
   "outputs": [],
   "source": [
    "def should_summarise(state: State) -> Literal['summariser', END]:\n",
    "    if len(state['messages']) > 6:\n",
    "        return \"summariser\"\n",
    "    else:\n",
    "        return END"
   ]
  },
  {
   "cell_type": "markdown",
   "id": "bb6ecf53-41f7-49c9-b7e2-97b1951d3ec4",
   "metadata": {},
   "source": [
    "Create the Graph with Memory!"
   ]
  },
  {
   "cell_type": "code",
   "execution_count": 5,
   "id": "00018099-c540-4ac0-94fa-386bd8bc7da8",
   "metadata": {},
   "outputs": [],
   "source": [
    "# llm = ChatOpenAI(model=\"gpt-4o\", temperature=0.75)\n",
    "# llm = ChatGroq(model=\"llama-3.1-70b-versatile\", temperature=0.5, model_kwargs={\"top_p\": 0.5})\n",
    "conn = sqlite3.connect(\"./data/sqlite/memory-sum-example.db\", check_same_thread=False)\n",
    "memory = SqliteSaver(conn)\n",
    "# memory = MemorySaver()\n"
   ]
  },
  {
   "cell_type": "code",
   "execution_count": 6,
   "id": "66b278be-b19b-4c81-a9c8-0ba26cffed44",
   "metadata": {},
   "outputs": [
    {
     "data": {
      "application/vnd.jupyter.widget-view+json": {
       "model_id": "3e4dbaf1f0e1499282d18e6d14732bfa",
       "version_major": 2,
       "version_minor": 0
      },
      "text/plain": [
       "Loading checkpoint shards:   0%|          | 0/4 [00:00<?, ?it/s]"
      ]
     },
     "metadata": {},
     "output_type": "display_data"
    }
   ],
   "source": [
    "# What if we try and load a local model again!!\n",
    "# It just does not work. We must overwrite the reducer of the MessagesState to use the correct template for Llama 3.1 instruct, \n",
    "# instead of the Chat template used.\n",
    "import torch\n",
    "from transformers import (\n",
    "    AutoTokenizer,\n",
    "    BitsAndBytesConfig,\n",
    "    TrainingArguments,\n",
    "    AutoModelForCausalLM,\n",
    "    DataCollatorForLanguageModeling,\n",
    "    GenerationConfig,\n",
    "    pipeline\n",
    ")\n",
    "from langchain_huggingface import HuggingFacePipeline, ChatHuggingFace, HuggingFaceEndpoint\n",
    "\n",
    "model_name = \"../ext_models/Meta-Llama-3.1-8B-Instruct\"\n",
    "DEVICE = \"cuda:0\" if torch.cuda.is_available() else \"cpu\"\n",
    "\n",
    "# model = AutoModelForCausalLM.from_pretrained(model_name, trust_remote_code=True, \n",
    "#                                              device_map=DEVICE, \n",
    "#                                              torch_dtype=\"auto\")\n",
    "\n",
    "generation_config = GenerationConfig.from_pretrained(model_name)\n",
    "tokenizer = AutoTokenizer.from_pretrained(model_name)\n",
    "\n",
    "stop_token = \"<|eot_id|>\"  \n",
    "stop_token_id = tokenizer.encode(stop_token)[0]\n",
    "begin_token = \"<|begin_of_text|>\"\n",
    "begin_token_id = tokenizer.encode(begin_token)[0]\n",
    "generation_config.eos_token_id = stop_token_id\n",
    "generation_config.begin_token_id = begin_token_id\n",
    "config = generation_config.to_dict()\n",
    "\n",
    "trimmed_gen = {\n",
    "    **config,\n",
    "    \"top_p\": 0.9,  # changed from 0.15\n",
    "    \"temperature\":0.1,\n",
    "    \"do_sample\": False,  # changed from true\n",
    "    \"torch_dtype\": torch.bfloat16,  # bfloat16\n",
    "    \"use_fast\": True,\n",
    "    \"repetition_penalty\": 1.1,\n",
    "}\n",
    "\n",
    "llm_pipeline = pipeline(\"text-generation\", \n",
    "                        model=model_name,  \n",
    "                        device_map=DEVICE,\n",
    "                        torch_dtype=torch.bfloat16,\n",
    "                        max_new_tokens=1024,\n",
    "                        return_full_text=False) \n",
    "llm_pipeline.tokenizer.pad_token_id = llm_pipeline.model.config.eos_token_id = stop_token_id\n"
   ]
  },
  {
   "cell_type": "markdown",
   "id": "eadfe7f2-3238-44ce-b72f-a34e85ac15df",
   "metadata": {},
   "source": [
    "> Note: **IMPORTANT**: Passing the tokenizer works wonders and the ChatHuggingFace seems to be fully operational for graph use. Still cannot work well with tools.. Perhaps I need to find another model."
   ]
  },
  {
   "cell_type": "code",
   "execution_count": 7,
   "id": "a5590edc-2c89-4388-8820-261ab2cf4cc3",
   "metadata": {},
   "outputs": [],
   "source": [
    "open_llm_with_pipe = HuggingFacePipeline(pipeline=llm_pipeline, pipeline_kwargs=trimmed_gen)\n",
    "llm = ChatHuggingFace(llm=open_llm_with_pipe, verbose=True, tokenizer=tokenizer)"
   ]
  },
  {
   "cell_type": "code",
   "execution_count": 6,
   "id": "a13d47b2-dc34-4b09-bcf5-f2635d8dd3fe",
   "metadata": {},
   "outputs": [],
   "source": [
    "# memory = MemorySaver()"
   ]
  },
  {
   "cell_type": "code",
   "execution_count": 8,
   "id": "e1fded17-05cb-40e5-85a7-9e23fb878130",
   "metadata": {},
   "outputs": [
    {
     "data": {
      "image/jpeg": "[encoded data removed]",
      "text/plain": [
       "<IPython.core.display.Image object>"
      ]
     },
     "metadata": {},
     "output_type": "display_data"
    }
   ],
   "source": [
    "builder = StateGraph(State)\n",
    "builder.add_node(\"assistant\", call_model)\n",
    "builder.add_node(\"summariser\", summariser)\n",
    "builder.add_edge(START, \"assistant\")\n",
    "builder.add_conditional_edges(\"assistant\", should_summarise)\n",
    "builder.add_edge(\"summariser\", END)\n",
    "\n",
    "graph = builder.compile(checkpointer=memory)\n",
    "\n",
    "display(Image(graph.get_graph().draw_mermaid_png()))"
   ]
  },
  {
   "cell_type": "code",
   "execution_count": 11,
   "id": "10792051-4ff4-4c97-9627-f12e907ff528",
   "metadata": {},
   "outputs": [
    {
     "name": "stderr",
     "output_type": "stream",
     "text": [
      "Setting `pad_token_id` to `eos_token_id`:None for open-end generation.\n"
     ]
    }
   ],
   "source": [
    "# messages = [HumanMessage(\"Hey AI can you answer some animal questions?\"), AIMessage(\"Sure, go ahead and ask, I am here to assist\")]\n",
    "messages = [(HumanMessage(\"I am interested to know which of the creatures currently inhabiting Earth has the longest lifespan. \\\n",
    "In other words which creature lives the longest?\"))]\n",
    "config = {\"configurable\": {\"thread_id\": 45}}\n",
    "r = graph.invoke({'messages': messages}, config=config)"
   ]
  },
  {
   "cell_type": "code",
   "execution_count": 12,
   "id": "0e70993e-dfa6-4a08-82d2-a60fb5e3f28d",
   "metadata": {},
   "outputs": [
    {
     "name": "stdout",
     "output_type": "stream",
     "text": [
      "================================\u001b[1m Human Message \u001b[0m=================================\n",
      "\n",
      "I am interested to know which of the creatures currently inhabiting Earth has the longest lifespan. In other words which creature lives the longest?\n",
      "==================================\u001b[1m Ai Message \u001b[0m==================================\n",
      "\n",
      "My curious friend, you're asking about the ultimate record holder of longevity on our beloved planet Earth. I've got some fascinating news for you!\n",
      "\n",
      "According to the latest scientific research, the creature that holds the record for the longest lifespan is... (dramatic pause)...the **Turritopsis dohrnii**, also known as the \"immortal jellyfish\"! However, this might not be exactly what you're looking for, as it's a type of jellyfish that can transform its body into a younger state through a process called transdifferentiation, essentially making it theoretically \"immortal.\"\n",
      "\n",
      "But if we're looking for a more traditional, non-regenerative creature with an impressive lifespan, the title goes to the **Ocean quahog**, a type of clam ( genus Arctica). One individual, named **Ming**, was found in 2012 off the coast of Iceland and is estimated to be around **562 years old**! Yes, you read that right – 562 years!\n",
      "\n",
      "However, the oldest land animal on record is the **Bowhead whale**, with an estimated age of around **211 years**, although this is based on radiocarbon dating of eye lens nuclei and not direct observation.\n",
      "\n",
      "Lastly, the longest-lived bird is the **Laysan albatross**, with one individual, named **Wisdom**, estimated to be around **70 years old**.\n",
      "\n",
      "So, while there are some incredible examples of long-lived creatures on our planet, the title of the longest-lived creature is still a matter of some debate among scientists. But I hope this gives you a good idea of the amazing diversity of life on Earth!\n",
      "\n",
      "Would you like to know more about any of these creatures or is there something else I can help you with?\n"
     ]
    }
   ],
   "source": [
    "for item in r[\"messages\"]:\n",
    "    item.pretty_print()"
   ]
  },
  {
   "cell_type": "code",
   "execution_count": 13,
   "id": "8a2c3d3a-1b6c-4656-b367-ef406b772a25",
   "metadata": {},
   "outputs": [
    {
     "name": "stderr",
     "output_type": "stream",
     "text": [
      "Setting `pad_token_id` to `eos_token_id`:None for open-end generation.\n"
     ]
    }
   ],
   "source": [
    "r = graph.invoke({'messages': HumanMessage('Can you tell me more about a wonderful shark that lives hundreds of years, too?')}, config=config)"
   ]
  },
  {
   "cell_type": "code",
   "execution_count": 14,
   "id": "6e57b2ef-9b4c-4b03-a4b8-0f9baae664b7",
   "metadata": {},
   "outputs": [
    {
     "name": "stdout",
     "output_type": "stream",
     "text": [
      "================================\u001b[1m Human Message \u001b[0m=================================\n",
      "\n",
      "I am interested to know which of the creatures currently inhabiting Earth has the longest lifespan. In other words which creature lives the longest?\n",
      "==================================\u001b[1m Ai Message \u001b[0m==================================\n",
      "\n",
      "My curious friend, you're asking about the ultimate record holder of longevity on our beloved planet Earth. I've got some fascinating news for you!\n",
      "\n",
      "According to the latest scientific research, the creature that holds the record for the longest lifespan is... (dramatic pause)...the **Turritopsis dohrnii**, also known as the \"immortal jellyfish\"! However, this might not be exactly what you're looking for, as it's a type of jellyfish that can transform its body into a younger state through a process called transdifferentiation, essentially making it theoretically \"immortal.\"\n",
      "\n",
      "But if we're looking for a more traditional, non-regenerative creature with an impressive lifespan, the title goes to the **Ocean quahog**, a type of clam ( genus Arctica). One individual, named **Ming**, was found in 2012 off the coast of Iceland and is estimated to be around **562 years old**! Yes, you read that right – 562 years!\n",
      "\n",
      "However, the oldest land animal on record is the **Bowhead whale**, with an estimated age of around **211 years**, although this is based on radiocarbon dating of eye lens nuclei and not direct observation.\n",
      "\n",
      "Lastly, the longest-lived bird is the **Laysan albatross**, with one individual, named **Wisdom**, estimated to be around **70 years old**.\n",
      "\n",
      "So, while there are some incredible examples of long-lived creatures on our planet, the title of the longest-lived creature is still a matter of some debate among scientists. But I hope this gives you a good idea of the amazing diversity of life on Earth!\n",
      "\n",
      "Would you like to know more about any of these creatures or is there something else I can help you with?\n",
      "================================\u001b[1m Human Message \u001b[0m=================================\n",
      "\n",
      "Can you tell me more about a wonderful shark that lives hundreds of years, too?\n",
      "==================================\u001b[1m Ai Message \u001b[0m==================================\n",
      "\n",
      "You're referring to the legendary **Greenland shark** (Somniosus microcephalus), my friend! This incredible creature has been making waves in the scientific community with its remarkable age record.\n",
      "\n",
      "Greenland sharks are found in the Arctic and North Atlantic oceans, and they're known for their slow growth rate and unique ability to live for hundreds of years. In fact, a study published in 2016 estimated that a Greenland shark found in the North Atlantic was around **392 years old**! This makes it one of the longest-lived vertebrates on the planet.\n",
      "\n",
      "To put that into perspective, when the first European settlers arrived in the Americas, this shark was already swimming in the oceans. That's a truly mind-boggling thought!\n",
      "\n",
      "But what's even more fascinating is that this shark's slow growth rate is thought to be one of the reasons for its remarkable longevity. They grow at a rate of about 1 cm (0.4 in) per year, which is incredibly slow compared to other shark species. This slow growth rate allows them to live for centuries, making them one of the most enduring creatures on the planet.\n",
      "\n",
      "Greenland sharks are also known for their unique appearance, with a stocky build and a distinctive greenish-brown color. They're apex predators, feeding on fish, seals, and other marine mammals. Despite their fearsome reputation, they're actually relatively small, reaching a maximum length of about 6 meters (20 feet).\n",
      "\n",
      "It's worth noting that the age of the Greenland shark is still a subject of ongoing research, and some scientists have questioned the accuracy of the 392-year estimate. However, it's clear that these incredible creatures are living longer than previously thought, and their longevity is a testament to the incredible diversity and resilience of life on our planet.\n",
      "\n",
      "Would you like to know more about these amazing sharks or is there something else I can help you with?\n"
     ]
    }
   ],
   "source": [
    "for item in r[\"messages\"]:\n",
    "    item.pretty_print()"
   ]
  },
  {
   "cell_type": "code",
   "execution_count": 15,
   "id": "b70a80bc-df6c-44a0-9506-82f3957207a5",
   "metadata": {},
   "outputs": [
    {
     "name": "stderr",
     "output_type": "stream",
     "text": [
      "Setting `pad_token_id` to `eos_token_id`:None for open-end generation.\n"
     ]
    },
    {
     "name": "stdout",
     "output_type": "stream",
     "text": [
      "================================\u001b[1m Human Message \u001b[0m=================================\n",
      "\n",
      "I am interested to know which of the creatures currently inhabiting Earth has the longest lifespan. In other words which creature lives the longest?\n",
      "==================================\u001b[1m Ai Message \u001b[0m==================================\n",
      "\n",
      "My curious friend, you're asking about the ultimate record holder of longevity on our beloved planet Earth. I've got some fascinating news for you!\n",
      "\n",
      "According to the latest scientific research, the creature that holds the record for the longest lifespan is... (dramatic pause)...the **Turritopsis dohrnii**, also known as the \"immortal jellyfish\"! However, this might not be exactly what you're looking for, as it's a type of jellyfish that can transform its body into a younger state through a process called transdifferentiation, essentially making it theoretically \"immortal.\"\n",
      "\n",
      "But if we're looking for a more traditional, non-regenerative creature with an impressive lifespan, the title goes to the **Ocean quahog**, a type of clam ( genus Arctica). One individual, named **Ming**, was found in 2012 off the coast of Iceland and is estimated to be around **562 years old**! Yes, you read that right – 562 years!\n",
      "\n",
      "However, the oldest land animal on record is the **Bowhead whale**, with an estimated age of around **211 years**, although this is based on radiocarbon dating of eye lens nuclei and not direct observation.\n",
      "\n",
      "Lastly, the longest-lived bird is the **Laysan albatross**, with one individual, named **Wisdom**, estimated to be around **70 years old**.\n",
      "\n",
      "So, while there are some incredible examples of long-lived creatures on our planet, the title of the longest-lived creature is still a matter of some debate among scientists. But I hope this gives you a good idea of the amazing diversity of life on Earth!\n",
      "\n",
      "Would you like to know more about any of these creatures or is there something else I can help you with?\n",
      "================================\u001b[1m Human Message \u001b[0m=================================\n",
      "\n",
      "Can you tell me more about a wonderful shark that lives hundreds of years, too?\n",
      "==================================\u001b[1m Ai Message \u001b[0m==================================\n",
      "\n",
      "You're referring to the legendary **Greenland shark** (Somniosus microcephalus), my friend! This incredible creature has been making waves in the scientific community with its remarkable age record.\n",
      "\n",
      "Greenland sharks are found in the Arctic and North Atlantic oceans, and they're known for their slow growth rate and unique ability to live for hundreds of years. In fact, a study published in 2016 estimated that a Greenland shark found in the North Atlantic was around **392 years old**! This makes it one of the longest-lived vertebrates on the planet.\n",
      "\n",
      "To put that into perspective, when the first European settlers arrived in the Americas, this shark was already swimming in the oceans. That's a truly mind-boggling thought!\n",
      "\n",
      "But what's even more fascinating is that this shark's slow growth rate is thought to be one of the reasons for its remarkable longevity. They grow at a rate of about 1 cm (0.4 in) per year, which is incredibly slow compared to other shark species. This slow growth rate allows them to live for centuries, making them one of the most enduring creatures on the planet.\n",
      "\n",
      "Greenland sharks are also known for their unique appearance, with a stocky build and a distinctive greenish-brown color. They're apex predators, feeding on fish, seals, and other marine mammals. Despite their fearsome reputation, they're actually relatively small, reaching a maximum length of about 6 meters (20 feet).\n",
      "\n",
      "It's worth noting that the age of the Greenland shark is still a subject of ongoing research, and some scientists have questioned the accuracy of the 392-year estimate. However, it's clear that these incredible creatures are living longer than previously thought, and their longevity is a testament to the incredible diversity and resilience of life on our planet.\n",
      "\n",
      "Would you like to know more about these amazing sharks or is there something else I can help you with?\n",
      "================================\u001b[1m Human Message \u001b[0m=================================\n",
      "\n",
      "Wonderful! Thanks a lot for all this knowledge! What do you think is the oldest living creature that lives on land?\n",
      "==================================\u001b[1m Ai Message \u001b[0m==================================\n",
      "\n",
      "My friend, I'm glad you asked! While it's challenging to pinpoint a single oldest living creature on land, I'd like to introduce you to the **bristlecone pine tree**, specifically the **Methuselah** tree, found in White Mountains of California, USA.\n",
      "\n",
      "Methuselah is a Great Basin bristlecone pine (Pinus longaeva) that's estimated to be around **4,855 years old**! Yes, you read that right – 4,855 years young (or old, depending on how you look at it). This ancient tree is a member of a species that's known for its remarkable longevity, with some individuals living for over 5,000 years.\n",
      "\n",
      "To put that into perspective, when the pyramids of Giza were being built, Methuselah was just a sapling. When the ancient civilizations of Greece and Rome rose to power, this tree was already a mature adult. It's an incredible thought that this tree has seen the rise and fall of empires, the birth and death of stars, and the evolution of countless species.\n",
      "\n",
      "The age of Methuselah was determined through a process called dendrochronology, which is the study of the growth rings of trees. By counting the rings, scientists can determine the age of the tree, as well as the climate and environmental conditions it's experienced over the centuries.\n",
      "\n",
      "Other contenders for the oldest living creature on land include the **Yew tree** (Taxus baccata), which can live for up to 2,000 years, and the **Redwood trees** (Sequoia sempervirens), which can live for over 2,500 years. However, the bristlecone pine tree takes the crown for the oldest living creature on land.\n",
      "\n",
      "Would you like to know more about these incredible trees or is there something else I can help you with?\n"
     ]
    }
   ],
   "source": [
    "r = graph.invoke({'messages': HumanMessage('Wonderful! Thanks a lot for all this knowledge! What do you think is the oldest living creature that lives on land?')}, config=config)\n",
    "for item in r[\"messages\"]:\n",
    "    item.pretty_print()"
   ]
  },
  {
   "cell_type": "code",
   "execution_count": 16,
   "id": "99a6739d-d3f7-4004-b08a-a3d744ed4f7a",
   "metadata": {},
   "outputs": [
    {
     "name": "stderr",
     "output_type": "stream",
     "text": [
      "Setting `pad_token_id` to `eos_token_id`:None for open-end generation.\n",
      "Setting `pad_token_id` to `eos_token_id`:None for open-end generation.\n"
     ]
    },
    {
     "name": "stdout",
     "output_type": "stream",
     "text": [
      "================================\u001b[1m Human Message \u001b[0m=================================\n",
      "\n",
      "Thats really cool! What wonderful trees! What about an old land dwelling animal? (or bird?)\n",
      "==================================\u001b[1m Ai Message \u001b[0m==================================\n",
      "\n",
      "Let me tell you about the **Jonathan**, a Seychelles giant tortoise (Geochelone gigantea) that's been making headlines for its incredible age. Jonathan was born in 1882, which makes him... (dramatic pause)... **136 years old**! Yes, you read that right – 136 years young!\n",
      "\n",
      "Jonathan lives on the island of Saint Helena, a British Overseas Territory in the South Atlantic Ocean. He's been a resident of the Saint Helena National Trust, a wildlife reserve, since 1882, and has become a beloved celebrity of sorts.\n",
      "\n",
      "As a giant tortoise, Jonathan is a member of one of the longest-living animal species on land. They can live for up to 150 years or more in the wild, and their slow growth rate and low metabolic rate contribute to their remarkable longevity.\n",
      "\n",
      "Jonathan has seen the rise and fall of empires, the invention of the automobile, the two World Wars, and the moon landing. He's even met some famous visitors, including the British monarchs, Queen Elizabeth II and Prince Philip.\n",
      "\n",
      "It's worth noting that Jonathan's age has been verified through various records and photographs, making him one of the most well-documented long-lived animals on record.\n",
      "\n",
      "Other contenders for the oldest land-dwelling animal include the **Tuatara** (Sphenodon punctatus), a reptile from New Zealand that can live for up to 200 years, and the **Rockfish**, which can live for up to 282 years. However, Jonathan the tortoise holds the title for the oldest land-dwelling animal.\n",
      "\n",
      "Would you like to know more about these incredible animals or is there something else I can help you with?\n"
     ]
    }
   ],
   "source": [
    "r = graph.invoke({'messages': HumanMessage('Thats really cool! What wonderful trees! What about an old land dwelling animal? (or bird?)')}, config=config)\n",
    "for item in r[\"messages\"]:\n",
    "    item.pretty_print()"
   ]
  },
  {
   "cell_type": "code",
   "execution_count": 32,
   "id": "6ead306b-1de4-4ea4-a271-edc73522f639",
   "metadata": {},
   "outputs": [
    {
     "name": "stderr",
     "output_type": "stream",
     "text": [
      "Setting `pad_token_id` to `eos_token_id`:None for open-end generation.\n"
     ]
    },
    {
     "name": "stdout",
     "output_type": "stream",
     "text": [
      "================================\u001b[1m Human Message \u001b[0m=================================\n",
      "\n",
      "Thats really cool! What wonderful trees! What about an old land dwelling animal? (or bird?)\n",
      "==================================\u001b[1m Ai Message \u001b[0m==================================\n",
      "\n",
      "Let me tell you about the **Jonathan**, a Seychelles giant tortoise (Geochelone gigantea) that's been making headlines for its incredible age. Jonathan was born in 1882, which makes him... (dramatic pause)... **136 years old**! Yes, you read that right – 136 years young!\n",
      "\n",
      "Jonathan lives on the island of Saint Helena, a British Overseas Territory in the South Atlantic Ocean. He's been a resident of the Saint Helena National Trust, a wildlife reserve, since 1882, and has become a beloved celebrity of sorts.\n",
      "\n",
      "As a giant tortoise, Jonathan is a member of one of the longest-living animal species on land. They can live for up to 150 years or more in the wild, and their slow growth rate and low metabolic rate contribute to their remarkable longevity.\n",
      "\n",
      "Jonathan has seen the rise and fall of empires, the invention of the automobile, the two World Wars, and the moon landing. He's even met some famous visitors, including the British monarchs, Queen Elizabeth II and Prince Philip.\n",
      "\n",
      "It's worth noting that Jonathan's age has been verified through various records and photographs, making him one of the most well-documented long-lived animals on record.\n",
      "\n",
      "Other contenders for the oldest land-dwelling animal include the **Tuatara** (Sphenodon punctatus), a reptile from New Zealand that can live for up to 200 years, and the **Rockfish**, which can live for up to 282 years. However, Jonathan the tortoise holds the title for the oldest land-dwelling animal.\n",
      "\n",
      "Would you like to know more about these incredible animals or is there something else I can help you with?\n",
      "================================\u001b[1m Human Message \u001b[0m=================================\n",
      "\n",
      "Thank you sport! You have been a great assistance. I will ask some more questions later.\n",
      "==================================\u001b[1m Ai Message \u001b[0m==================================\n",
      "\n",
      "It was my pleasure to help and geek out about these incredible creatures with you. I'm always here to assist and provide more info whenever you're ready.\n",
      "\n",
      "Feel free to come back and ask me anything, anytime. I'll be here, ready to dive into more fascinating topics, from the depths of the ocean to the heights of space (or anywhere in between!).\n",
      "\n",
      "Until next time, stay curious, and keep exploring the wonders of our amazing world!\n"
     ]
    }
   ],
   "source": [
    "r = graph.invoke({'messages': HumanMessage('Thank you sport! You have been a great assistance. I will ask some more questions later.')}, config=config)\n",
    "for item in r[\"messages\"]:\n",
    "    item.pretty_print()"
   ]
  },
  {
   "cell_type": "code",
   "execution_count": 30,
   "id": "7180550c-3503-4fae-be1e-3aed0dde6762",
   "metadata": {},
   "outputs": [],
   "source": [
    "current_state = graph.get_state({\"configurable\": {\"thread_id\": 44}})"
   ]
  },
  {
   "cell_type": "code",
   "execution_count": 31,
   "id": "87a7f017-e2bd-4fdd-9e40-0e90461b4bee",
   "metadata": {},
   "outputs": [
    {
     "name": "stdout",
     "output_type": "stream",
     "text": [
      "{'messages': [HumanMessage(content='I am interested to know which of the creatures currently inhabiting Earth has the longest lifespan. In other words which creature lives the longest?', additional_kwargs={}, response_metadata={}, id='554019e1-4ee6-4bb0-ab29-004cdf9c6521'),\n",
      "              HumanMessage(content='I am interested to know which of the creatures currently inhabiting Earth has the longest lifespan. In other words which creature lives the longest?', additional_kwargs={}, response_metadata={}, id='96764edd-f438-4bf1-afbb-4f0786890c06'),\n",
      "              AIMessage(content='A question that\\'s sure to make you live a little longer, knowing about the creatures that outlast us all. \\n\\nAccording to scientific records, the longest-living creature on Earth is the **Turritopsis dohrnii**, also known as the \"immortal jellyfish.\" However, this one\\'s lifespan is more about its ability to cheat death, rather than actually living forever. It can transform its body into a younger state through a process called transdifferentiation, essentially making it biologically immortal.\\n\\nBut, if we\\'re talking about a more traditional sense of lifespan, the longest-living land animal is the **Bowhead whale\\'s cousin, the Ocean quahog (Arctica islandica)**, nope, not quite, actually it\\'s the **Ocean quahog\\'s cousin, the Bowhead whale\\'s cousin, the Greenland shark\\'s cousin, nope, the actual answer is the **Ocean quahog\\'s cousin, the Greenland shark\\'s cousin, nope**... I\\'m just kidding about the cousins.\\n\\nSeriously, the longest-living land animal is actually the **Ocean quahog\\'s cousin, no, not really, it\\'s actually the **Turritopsis dohrnii\\'s** cousin, no... actually, I\\'m just kidding about the cousins again. \\n\\nSeriously, the longest-living land animal is actually the **Turritopsis dohrnii\\'s cousin, no, it\\'s actually the **Turritopsis dohrnii**\\'s land cousin, no... I\\'m kidding again.\\n\\nActually, the longest-living land animal is the **Turritopsis dohrnii\\'s... no, I\\'ll stop with the cousins. Seriously, the longest-living land animal is actually the **Bowhead whale\\'s cousin, no... I mean, not really, it\\'s actually the **Turritopsis dohrnii\\'s**... no, just kidding.\\n\\nSeriously, the longest-living land animal is actually the **Ocean quahog (Arctica islandica)** cousin\\'s cousin\\'s cousin, no... actually, I\\'m just kidding. The actual longest-living land animal is the **Ocean quahog (Arctica islandica)**\\'s... no, I mean, the actual answer is the **Ocean quahog (Arctica islandica)**\\'s... cousin... no, I mean, the actual answer is the **Ocean quahog (Arctica islandica)**, but not really.\\n\\nSeriously, the longest-living land animal is actually the **Ocean quahog (Arctica islandica)**, but actually it\\'s the **Turritopsis dohrnii**\\'s cousin... no, I mean, not really.\\n\\nActually, I think I got a bit carried away with the cousins. Seriously, the longest-living land animal is actually the **Ocean quahog (Arctica islandica)**, but actually it\\'s the **Bowhead whale\\'s** cousin, no... just kidding.\\n\\nSeriously, the longest-living land animal is actually the **Ocean quahog (Arctica islandica)**, which can live up to **562 years**.', additional_kwargs={}, response_metadata={}, id='run-5f1141d3-f8e1-4bd0-9860-60e86c4b9a3f-0')]}\n"
     ]
    }
   ],
   "source": [
    "pprint(current_state[0])"
   ]
  }
 ],
 "metadata": {
  "kernelspec": {
   "display_name": "Python 3 (ipykernel)",
   "language": "python",
   "name": "python3"
  },
  "language_info": {
   "codemirror_mode": {
    "name": "ipython",
    "version": 3
   },
   "file_extension": ".py",
   "mimetype": "text/x-python",
   "name": "python",
   "nbconvert_exporter": "python",
   "pygments_lexer": "ipython3",
   "version": "3.12.7"
  }
 },
 "nbformat": 4,
 "nbformat_minor": 5
}
